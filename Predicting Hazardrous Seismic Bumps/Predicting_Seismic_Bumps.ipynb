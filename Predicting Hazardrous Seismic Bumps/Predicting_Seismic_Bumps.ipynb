{
 "cells": [
  {
   "cell_type": "markdown",
   "metadata": {},
   "source": [
    "## Imports"
   ]
  },
  {
   "cell_type": "code",
   "execution_count": 190,
   "metadata": {},
   "outputs": [
    {
     "data": {
      "text/plain": [
       "<module 'scipy.optimize' from 'C:\\\\Users\\\\nroy0\\\\anaconda3\\\\lib\\\\site-packages\\\\scipy\\\\optimize\\\\__init__.py'>"
      ]
     },
     "execution_count": 190,
     "metadata": {},
     "output_type": "execute_result"
    }
   ],
   "source": [
    "import numpy as np\n",
    "import pandas as pd\n",
    "\n",
    "import scipy\n",
    "from scipy.io import arff\n",
    "from scipy import stats\n",
    "import joblib\n",
    "\n",
    "scipy.optimize"
   ]
  },
  {
   "cell_type": "code",
   "execution_count": 191,
   "metadata": {},
   "outputs": [],
   "source": [
    "pd.set_option('display.max_rows', 500)\n",
    "pd.set_option('display.max_columns', 500)"
   ]
  },
  {
   "cell_type": "code",
   "execution_count": 192,
   "metadata": {},
   "outputs": [],
   "source": [
    "import matplotlib.pyplot as plt\n",
    "import seaborn as sns"
   ]
  },
  {
   "cell_type": "code",
   "execution_count": 193,
   "metadata": {},
   "outputs": [],
   "source": [
    "from sklearn.preprocessing import OneHotEncoder, LabelEncoder\n",
    "from sklearn.model_selection import KFold, cross_val_score, GridSearchCV, train_test_split, StratifiedKFold, cross_validate, StratifiedShuffleSplit\n",
    "from sklearn.neighbors import KNeighborsClassifier\n",
    "from sklearn.metrics import confusion_matrix, precision_score, recall_score, f1_score, accuracy_score"
   ]
  },
  {
   "cell_type": "markdown",
   "metadata": {},
   "source": [
    "## Load Data"
   ]
  },
  {
   "cell_type": "code",
   "execution_count": 195,
   "metadata": {},
   "outputs": [],
   "source": [
    "data = arff.loadarff('seismic-bumps.arff')"
   ]
  },
  {
   "cell_type": "code",
   "execution_count": 7,
   "metadata": {},
   "outputs": [],
   "source": [
    "df = pd.DataFrame(data[0])"
   ]
  },
  {
   "cell_type": "code",
   "execution_count": 8,
   "metadata": {},
   "outputs": [
    {
     "data": {
      "text/plain": [
       "(2584, 19)"
      ]
     },
     "execution_count": 8,
     "metadata": {},
     "output_type": "execute_result"
    }
   ],
   "source": [
    "df.shape"
   ]
  },
  {
   "cell_type": "code",
   "execution_count": 9,
   "metadata": {},
   "outputs": [
    {
     "data": {
      "text/html": [
       "<div>\n",
       "<style scoped>\n",
       "    .dataframe tbody tr th:only-of-type {\n",
       "        vertical-align: middle;\n",
       "    }\n",
       "\n",
       "    .dataframe tbody tr th {\n",
       "        vertical-align: top;\n",
       "    }\n",
       "\n",
       "    .dataframe thead th {\n",
       "        text-align: right;\n",
       "    }\n",
       "</style>\n",
       "<table border=\"1\" class=\"dataframe\">\n",
       "  <thead>\n",
       "    <tr style=\"text-align: right;\">\n",
       "      <th></th>\n",
       "      <th>seismic</th>\n",
       "      <th>seismoacoustic</th>\n",
       "      <th>shift</th>\n",
       "      <th>genergy</th>\n",
       "      <th>gpuls</th>\n",
       "      <th>gdenergy</th>\n",
       "      <th>gdpuls</th>\n",
       "      <th>ghazard</th>\n",
       "      <th>nbumps</th>\n",
       "      <th>nbumps2</th>\n",
       "      <th>nbumps3</th>\n",
       "      <th>nbumps4</th>\n",
       "      <th>nbumps5</th>\n",
       "      <th>nbumps6</th>\n",
       "      <th>nbumps7</th>\n",
       "      <th>nbumps89</th>\n",
       "      <th>energy</th>\n",
       "      <th>maxenergy</th>\n",
       "      <th>class</th>\n",
       "    </tr>\n",
       "  </thead>\n",
       "  <tbody>\n",
       "    <tr>\n",
       "      <th>0</th>\n",
       "      <td>b'a'</td>\n",
       "      <td>b'a'</td>\n",
       "      <td>b'N'</td>\n",
       "      <td>15180.0</td>\n",
       "      <td>48.0</td>\n",
       "      <td>-72.0</td>\n",
       "      <td>-72.0</td>\n",
       "      <td>b'a'</td>\n",
       "      <td>0.0</td>\n",
       "      <td>0.0</td>\n",
       "      <td>0.0</td>\n",
       "      <td>0.0</td>\n",
       "      <td>0.0</td>\n",
       "      <td>0.0</td>\n",
       "      <td>0.0</td>\n",
       "      <td>0.0</td>\n",
       "      <td>0.0</td>\n",
       "      <td>0.0</td>\n",
       "      <td>b'0'</td>\n",
       "    </tr>\n",
       "    <tr>\n",
       "      <th>1</th>\n",
       "      <td>b'a'</td>\n",
       "      <td>b'a'</td>\n",
       "      <td>b'N'</td>\n",
       "      <td>14720.0</td>\n",
       "      <td>33.0</td>\n",
       "      <td>-70.0</td>\n",
       "      <td>-79.0</td>\n",
       "      <td>b'a'</td>\n",
       "      <td>1.0</td>\n",
       "      <td>0.0</td>\n",
       "      <td>1.0</td>\n",
       "      <td>0.0</td>\n",
       "      <td>0.0</td>\n",
       "      <td>0.0</td>\n",
       "      <td>0.0</td>\n",
       "      <td>0.0</td>\n",
       "      <td>2000.0</td>\n",
       "      <td>2000.0</td>\n",
       "      <td>b'0'</td>\n",
       "    </tr>\n",
       "    <tr>\n",
       "      <th>2</th>\n",
       "      <td>b'a'</td>\n",
       "      <td>b'a'</td>\n",
       "      <td>b'N'</td>\n",
       "      <td>8050.0</td>\n",
       "      <td>30.0</td>\n",
       "      <td>-81.0</td>\n",
       "      <td>-78.0</td>\n",
       "      <td>b'a'</td>\n",
       "      <td>0.0</td>\n",
       "      <td>0.0</td>\n",
       "      <td>0.0</td>\n",
       "      <td>0.0</td>\n",
       "      <td>0.0</td>\n",
       "      <td>0.0</td>\n",
       "      <td>0.0</td>\n",
       "      <td>0.0</td>\n",
       "      <td>0.0</td>\n",
       "      <td>0.0</td>\n",
       "      <td>b'0'</td>\n",
       "    </tr>\n",
       "    <tr>\n",
       "      <th>3</th>\n",
       "      <td>b'a'</td>\n",
       "      <td>b'a'</td>\n",
       "      <td>b'N'</td>\n",
       "      <td>28820.0</td>\n",
       "      <td>171.0</td>\n",
       "      <td>-23.0</td>\n",
       "      <td>40.0</td>\n",
       "      <td>b'a'</td>\n",
       "      <td>1.0</td>\n",
       "      <td>0.0</td>\n",
       "      <td>1.0</td>\n",
       "      <td>0.0</td>\n",
       "      <td>0.0</td>\n",
       "      <td>0.0</td>\n",
       "      <td>0.0</td>\n",
       "      <td>0.0</td>\n",
       "      <td>3000.0</td>\n",
       "      <td>3000.0</td>\n",
       "      <td>b'0'</td>\n",
       "    </tr>\n",
       "    <tr>\n",
       "      <th>4</th>\n",
       "      <td>b'a'</td>\n",
       "      <td>b'a'</td>\n",
       "      <td>b'N'</td>\n",
       "      <td>12640.0</td>\n",
       "      <td>57.0</td>\n",
       "      <td>-63.0</td>\n",
       "      <td>-52.0</td>\n",
       "      <td>b'a'</td>\n",
       "      <td>0.0</td>\n",
       "      <td>0.0</td>\n",
       "      <td>0.0</td>\n",
       "      <td>0.0</td>\n",
       "      <td>0.0</td>\n",
       "      <td>0.0</td>\n",
       "      <td>0.0</td>\n",
       "      <td>0.0</td>\n",
       "      <td>0.0</td>\n",
       "      <td>0.0</td>\n",
       "      <td>b'0'</td>\n",
       "    </tr>\n",
       "  </tbody>\n",
       "</table>\n",
       "</div>"
      ],
      "text/plain": [
       "  seismic seismoacoustic shift  genergy  gpuls  gdenergy  gdpuls ghazard  \\\n",
       "0    b'a'           b'a'  b'N'  15180.0   48.0     -72.0   -72.0    b'a'   \n",
       "1    b'a'           b'a'  b'N'  14720.0   33.0     -70.0   -79.0    b'a'   \n",
       "2    b'a'           b'a'  b'N'   8050.0   30.0     -81.0   -78.0    b'a'   \n",
       "3    b'a'           b'a'  b'N'  28820.0  171.0     -23.0    40.0    b'a'   \n",
       "4    b'a'           b'a'  b'N'  12640.0   57.0     -63.0   -52.0    b'a'   \n",
       "\n",
       "   nbumps  nbumps2  nbumps3  nbumps4  nbumps5  nbumps6  nbumps7  nbumps89  \\\n",
       "0     0.0      0.0      0.0      0.0      0.0      0.0      0.0       0.0   \n",
       "1     1.0      0.0      1.0      0.0      0.0      0.0      0.0       0.0   \n",
       "2     0.0      0.0      0.0      0.0      0.0      0.0      0.0       0.0   \n",
       "3     1.0      0.0      1.0      0.0      0.0      0.0      0.0       0.0   \n",
       "4     0.0      0.0      0.0      0.0      0.0      0.0      0.0       0.0   \n",
       "\n",
       "   energy  maxenergy class  \n",
       "0     0.0        0.0  b'0'  \n",
       "1  2000.0     2000.0  b'0'  \n",
       "2     0.0        0.0  b'0'  \n",
       "3  3000.0     3000.0  b'0'  \n",
       "4     0.0        0.0  b'0'  "
      ]
     },
     "execution_count": 9,
     "metadata": {},
     "output_type": "execute_result"
    }
   ],
   "source": [
    "df.head()"
   ]
  },
  {
   "cell_type": "code",
   "execution_count": 10,
   "metadata": {},
   "outputs": [
    {
     "data": {
      "text/plain": [
       "Index(['seismic', 'seismoacoustic', 'shift', 'genergy', 'gpuls', 'gdenergy',\n",
       "       'gdpuls', 'ghazard', 'nbumps', 'nbumps2', 'nbumps3', 'nbumps4',\n",
       "       'nbumps5', 'nbumps6', 'nbumps7', 'nbumps89', 'energy', 'maxenergy',\n",
       "       'class'],\n",
       "      dtype='object')"
      ]
     },
     "execution_count": 10,
     "metadata": {},
     "output_type": "execute_result"
    }
   ],
   "source": [
    "df.columns"
   ]
  },
  {
   "cell_type": "markdown",
   "metadata": {},
   "source": [
    "## Data Preprocessing"
   ]
  },
  {
   "cell_type": "markdown",
   "metadata": {},
   "source": [
    "### Categorizing columns in types of features and labels"
   ]
  },
  {
   "cell_type": "code",
   "execution_count": 1,
   "metadata": {},
   "outputs": [
    {
     "data": {
      "text/plain": [
       "19"
      ]
     },
     "execution_count": 1,
     "metadata": {},
     "output_type": "execute_result"
    }
   ],
   "source": [
    "label = 'class'\n",
    "col_list_categorical = ['seismic', 'seismoacoustic', 'shift', 'ghazard']\n",
    "col_list_numerical = ['genergy', 'gpuls', 'gdenergy', 'gdpuls', 'energy', 'maxenergy']\n",
    "col_list_discrete = ['nbumps', 'nbumps2', 'nbumps3', 'nbumps4', 'nbumps5', 'nbumps6', 'nbumps7', 'nbumps89']\n",
    "len([label]) + len(col_list_categorical) + len(col_list_discrete) + len(col_list_numerical)"
   ]
  },
  {
   "cell_type": "markdown",
   "metadata": {},
   "source": [
    "### Decoding bytes to utf-8"
   ]
  },
  {
   "cell_type": "code",
   "execution_count": 12,
   "metadata": {},
   "outputs": [
    {
     "name": "stdout",
     "output_type": "stream",
     "text": [
      "0    2414\n",
      "1     170\n",
      "Name: class, dtype: int64\n"
     ]
    }
   ],
   "source": [
    "for col in df.columns:\n",
    "    if col in col_list_categorical + [label]:\n",
    "        df[col] = df[col].str.decode(\"utf-8\")\n",
    "        if col == label:\n",
    "            print(df[col].value_counts())\n",
    "            df[col] = df[col].astype(int)"
   ]
  },
  {
   "cell_type": "code",
   "execution_count": 13,
   "metadata": {},
   "outputs": [
    {
     "data": {
      "text/plain": [
       "seismic            object\n",
       "seismoacoustic     object\n",
       "shift              object\n",
       "genergy           float64\n",
       "gpuls             float64\n",
       "gdenergy          float64\n",
       "gdpuls            float64\n",
       "ghazard            object\n",
       "nbumps            float64\n",
       "nbumps2           float64\n",
       "nbumps3           float64\n",
       "nbumps4           float64\n",
       "nbumps5           float64\n",
       "nbumps6           float64\n",
       "nbumps7           float64\n",
       "nbumps89          float64\n",
       "energy            float64\n",
       "maxenergy         float64\n",
       "class               int32\n",
       "dtype: object"
      ]
     },
     "execution_count": 13,
     "metadata": {},
     "output_type": "execute_result"
    }
   ],
   "source": [
    "df.dtypes"
   ]
  },
  {
   "cell_type": "code",
   "execution_count": 14,
   "metadata": {},
   "outputs": [
    {
     "data": {
      "text/html": [
       "<div>\n",
       "<style scoped>\n",
       "    .dataframe tbody tr th:only-of-type {\n",
       "        vertical-align: middle;\n",
       "    }\n",
       "\n",
       "    .dataframe tbody tr th {\n",
       "        vertical-align: top;\n",
       "    }\n",
       "\n",
       "    .dataframe thead th {\n",
       "        text-align: right;\n",
       "    }\n",
       "</style>\n",
       "<table border=\"1\" class=\"dataframe\">\n",
       "  <thead>\n",
       "    <tr style=\"text-align: right;\">\n",
       "      <th></th>\n",
       "      <th>seismic</th>\n",
       "      <th>seismoacoustic</th>\n",
       "      <th>shift</th>\n",
       "      <th>genergy</th>\n",
       "      <th>gpuls</th>\n",
       "      <th>gdenergy</th>\n",
       "      <th>gdpuls</th>\n",
       "      <th>ghazard</th>\n",
       "      <th>nbumps</th>\n",
       "      <th>nbumps2</th>\n",
       "      <th>nbumps3</th>\n",
       "      <th>nbumps4</th>\n",
       "      <th>nbumps5</th>\n",
       "      <th>nbumps6</th>\n",
       "      <th>nbumps7</th>\n",
       "      <th>nbumps89</th>\n",
       "      <th>energy</th>\n",
       "      <th>maxenergy</th>\n",
       "      <th>class</th>\n",
       "    </tr>\n",
       "  </thead>\n",
       "  <tbody>\n",
       "    <tr>\n",
       "      <th>0</th>\n",
       "      <td>a</td>\n",
       "      <td>a</td>\n",
       "      <td>N</td>\n",
       "      <td>15180.0</td>\n",
       "      <td>48.0</td>\n",
       "      <td>-72.0</td>\n",
       "      <td>-72.0</td>\n",
       "      <td>a</td>\n",
       "      <td>0.0</td>\n",
       "      <td>0.0</td>\n",
       "      <td>0.0</td>\n",
       "      <td>0.0</td>\n",
       "      <td>0.0</td>\n",
       "      <td>0.0</td>\n",
       "      <td>0.0</td>\n",
       "      <td>0.0</td>\n",
       "      <td>0.0</td>\n",
       "      <td>0.0</td>\n",
       "      <td>0</td>\n",
       "    </tr>\n",
       "    <tr>\n",
       "      <th>1</th>\n",
       "      <td>a</td>\n",
       "      <td>a</td>\n",
       "      <td>N</td>\n",
       "      <td>14720.0</td>\n",
       "      <td>33.0</td>\n",
       "      <td>-70.0</td>\n",
       "      <td>-79.0</td>\n",
       "      <td>a</td>\n",
       "      <td>1.0</td>\n",
       "      <td>0.0</td>\n",
       "      <td>1.0</td>\n",
       "      <td>0.0</td>\n",
       "      <td>0.0</td>\n",
       "      <td>0.0</td>\n",
       "      <td>0.0</td>\n",
       "      <td>0.0</td>\n",
       "      <td>2000.0</td>\n",
       "      <td>2000.0</td>\n",
       "      <td>0</td>\n",
       "    </tr>\n",
       "    <tr>\n",
       "      <th>2</th>\n",
       "      <td>a</td>\n",
       "      <td>a</td>\n",
       "      <td>N</td>\n",
       "      <td>8050.0</td>\n",
       "      <td>30.0</td>\n",
       "      <td>-81.0</td>\n",
       "      <td>-78.0</td>\n",
       "      <td>a</td>\n",
       "      <td>0.0</td>\n",
       "      <td>0.0</td>\n",
       "      <td>0.0</td>\n",
       "      <td>0.0</td>\n",
       "      <td>0.0</td>\n",
       "      <td>0.0</td>\n",
       "      <td>0.0</td>\n",
       "      <td>0.0</td>\n",
       "      <td>0.0</td>\n",
       "      <td>0.0</td>\n",
       "      <td>0</td>\n",
       "    </tr>\n",
       "    <tr>\n",
       "      <th>3</th>\n",
       "      <td>a</td>\n",
       "      <td>a</td>\n",
       "      <td>N</td>\n",
       "      <td>28820.0</td>\n",
       "      <td>171.0</td>\n",
       "      <td>-23.0</td>\n",
       "      <td>40.0</td>\n",
       "      <td>a</td>\n",
       "      <td>1.0</td>\n",
       "      <td>0.0</td>\n",
       "      <td>1.0</td>\n",
       "      <td>0.0</td>\n",
       "      <td>0.0</td>\n",
       "      <td>0.0</td>\n",
       "      <td>0.0</td>\n",
       "      <td>0.0</td>\n",
       "      <td>3000.0</td>\n",
       "      <td>3000.0</td>\n",
       "      <td>0</td>\n",
       "    </tr>\n",
       "    <tr>\n",
       "      <th>4</th>\n",
       "      <td>a</td>\n",
       "      <td>a</td>\n",
       "      <td>N</td>\n",
       "      <td>12640.0</td>\n",
       "      <td>57.0</td>\n",
       "      <td>-63.0</td>\n",
       "      <td>-52.0</td>\n",
       "      <td>a</td>\n",
       "      <td>0.0</td>\n",
       "      <td>0.0</td>\n",
       "      <td>0.0</td>\n",
       "      <td>0.0</td>\n",
       "      <td>0.0</td>\n",
       "      <td>0.0</td>\n",
       "      <td>0.0</td>\n",
       "      <td>0.0</td>\n",
       "      <td>0.0</td>\n",
       "      <td>0.0</td>\n",
       "      <td>0</td>\n",
       "    </tr>\n",
       "  </tbody>\n",
       "</table>\n",
       "</div>"
      ],
      "text/plain": [
       "  seismic seismoacoustic shift  genergy  gpuls  gdenergy  gdpuls ghazard  \\\n",
       "0       a              a     N  15180.0   48.0     -72.0   -72.0       a   \n",
       "1       a              a     N  14720.0   33.0     -70.0   -79.0       a   \n",
       "2       a              a     N   8050.0   30.0     -81.0   -78.0       a   \n",
       "3       a              a     N  28820.0  171.0     -23.0    40.0       a   \n",
       "4       a              a     N  12640.0   57.0     -63.0   -52.0       a   \n",
       "\n",
       "   nbumps  nbumps2  nbumps3  nbumps4  nbumps5  nbumps6  nbumps7  nbumps89  \\\n",
       "0     0.0      0.0      0.0      0.0      0.0      0.0      0.0       0.0   \n",
       "1     1.0      0.0      1.0      0.0      0.0      0.0      0.0       0.0   \n",
       "2     0.0      0.0      0.0      0.0      0.0      0.0      0.0       0.0   \n",
       "3     1.0      0.0      1.0      0.0      0.0      0.0      0.0       0.0   \n",
       "4     0.0      0.0      0.0      0.0      0.0      0.0      0.0       0.0   \n",
       "\n",
       "   energy  maxenergy  class  \n",
       "0     0.0        0.0      0  \n",
       "1  2000.0     2000.0      0  \n",
       "2     0.0        0.0      0  \n",
       "3  3000.0     3000.0      0  \n",
       "4     0.0        0.0      0  "
      ]
     },
     "execution_count": 14,
     "metadata": {},
     "output_type": "execute_result"
    }
   ],
   "source": [
    "df.head()"
   ]
  },
  {
   "cell_type": "code",
   "execution_count": 15,
   "metadata": {},
   "outputs": [
    {
     "name": "stdout",
     "output_type": "stream",
     "text": [
      "<class 'pandas.core.frame.DataFrame'>\n",
      "RangeIndex: 2584 entries, 0 to 2583\n",
      "Data columns (total 19 columns):\n",
      " #   Column          Non-Null Count  Dtype  \n",
      "---  ------          --------------  -----  \n",
      " 0   seismic         2584 non-null   object \n",
      " 1   seismoacoustic  2584 non-null   object \n",
      " 2   shift           2584 non-null   object \n",
      " 3   genergy         2584 non-null   float64\n",
      " 4   gpuls           2584 non-null   float64\n",
      " 5   gdenergy        2584 non-null   float64\n",
      " 6   gdpuls          2584 non-null   float64\n",
      " 7   ghazard         2584 non-null   object \n",
      " 8   nbumps          2584 non-null   float64\n",
      " 9   nbumps2         2584 non-null   float64\n",
      " 10  nbumps3         2584 non-null   float64\n",
      " 11  nbumps4         2584 non-null   float64\n",
      " 12  nbumps5         2584 non-null   float64\n",
      " 13  nbumps6         2584 non-null   float64\n",
      " 14  nbumps7         2584 non-null   float64\n",
      " 15  nbumps89        2584 non-null   float64\n",
      " 16  energy          2584 non-null   float64\n",
      " 17  maxenergy       2584 non-null   float64\n",
      " 18  class           2584 non-null   int32  \n",
      "dtypes: float64(14), int32(1), object(4)\n",
      "memory usage: 373.6+ KB\n"
     ]
    }
   ],
   "source": [
    "df.info(verbose=True, null_counts=True)"
   ]
  },
  {
   "cell_type": "code",
   "execution_count": 16,
   "metadata": {},
   "outputs": [
    {
     "data": {
      "text/html": [
       "<div>\n",
       "<style scoped>\n",
       "    .dataframe tbody tr th:only-of-type {\n",
       "        vertical-align: middle;\n",
       "    }\n",
       "\n",
       "    .dataframe tbody tr th {\n",
       "        vertical-align: top;\n",
       "    }\n",
       "\n",
       "    .dataframe thead th {\n",
       "        text-align: right;\n",
       "    }\n",
       "</style>\n",
       "<table border=\"1\" class=\"dataframe\">\n",
       "  <thead>\n",
       "    <tr style=\"text-align: right;\">\n",
       "      <th></th>\n",
       "      <th>genergy</th>\n",
       "      <th>gpuls</th>\n",
       "      <th>gdenergy</th>\n",
       "      <th>gdpuls</th>\n",
       "      <th>nbumps</th>\n",
       "      <th>nbumps2</th>\n",
       "      <th>nbumps3</th>\n",
       "      <th>nbumps4</th>\n",
       "      <th>nbumps5</th>\n",
       "      <th>nbumps6</th>\n",
       "      <th>nbumps7</th>\n",
       "      <th>nbumps89</th>\n",
       "      <th>energy</th>\n",
       "      <th>maxenergy</th>\n",
       "      <th>class</th>\n",
       "    </tr>\n",
       "  </thead>\n",
       "  <tbody>\n",
       "    <tr>\n",
       "      <th>count</th>\n",
       "      <td>2.584000e+03</td>\n",
       "      <td>2584.000000</td>\n",
       "      <td>2584.000000</td>\n",
       "      <td>2584.000000</td>\n",
       "      <td>2584.000000</td>\n",
       "      <td>2584.000000</td>\n",
       "      <td>2584.000000</td>\n",
       "      <td>2584.000000</td>\n",
       "      <td>2584.000000</td>\n",
       "      <td>2584.0</td>\n",
       "      <td>2584.0</td>\n",
       "      <td>2584.0</td>\n",
       "      <td>2584.000000</td>\n",
       "      <td>2584.000000</td>\n",
       "      <td>2584.000000</td>\n",
       "    </tr>\n",
       "    <tr>\n",
       "      <th>mean</th>\n",
       "      <td>9.024252e+04</td>\n",
       "      <td>538.579334</td>\n",
       "      <td>12.375774</td>\n",
       "      <td>4.508901</td>\n",
       "      <td>0.859520</td>\n",
       "      <td>0.393576</td>\n",
       "      <td>0.392802</td>\n",
       "      <td>0.067724</td>\n",
       "      <td>0.004644</td>\n",
       "      <td>0.0</td>\n",
       "      <td>0.0</td>\n",
       "      <td>0.0</td>\n",
       "      <td>4975.270898</td>\n",
       "      <td>4278.850619</td>\n",
       "      <td>0.065789</td>\n",
       "    </tr>\n",
       "    <tr>\n",
       "      <th>std</th>\n",
       "      <td>2.292005e+05</td>\n",
       "      <td>562.652536</td>\n",
       "      <td>80.319051</td>\n",
       "      <td>63.166556</td>\n",
       "      <td>1.364616</td>\n",
       "      <td>0.783772</td>\n",
       "      <td>0.769710</td>\n",
       "      <td>0.279059</td>\n",
       "      <td>0.068001</td>\n",
       "      <td>0.0</td>\n",
       "      <td>0.0</td>\n",
       "      <td>0.0</td>\n",
       "      <td>20450.833222</td>\n",
       "      <td>19357.454882</td>\n",
       "      <td>0.247962</td>\n",
       "    </tr>\n",
       "    <tr>\n",
       "      <th>min</th>\n",
       "      <td>1.000000e+02</td>\n",
       "      <td>2.000000</td>\n",
       "      <td>-96.000000</td>\n",
       "      <td>-96.000000</td>\n",
       "      <td>0.000000</td>\n",
       "      <td>0.000000</td>\n",
       "      <td>0.000000</td>\n",
       "      <td>0.000000</td>\n",
       "      <td>0.000000</td>\n",
       "      <td>0.0</td>\n",
       "      <td>0.0</td>\n",
       "      <td>0.0</td>\n",
       "      <td>0.000000</td>\n",
       "      <td>0.000000</td>\n",
       "      <td>0.000000</td>\n",
       "    </tr>\n",
       "    <tr>\n",
       "      <th>25%</th>\n",
       "      <td>1.166000e+04</td>\n",
       "      <td>190.000000</td>\n",
       "      <td>-37.000000</td>\n",
       "      <td>-36.000000</td>\n",
       "      <td>0.000000</td>\n",
       "      <td>0.000000</td>\n",
       "      <td>0.000000</td>\n",
       "      <td>0.000000</td>\n",
       "      <td>0.000000</td>\n",
       "      <td>0.0</td>\n",
       "      <td>0.0</td>\n",
       "      <td>0.0</td>\n",
       "      <td>0.000000</td>\n",
       "      <td>0.000000</td>\n",
       "      <td>0.000000</td>\n",
       "    </tr>\n",
       "    <tr>\n",
       "      <th>50%</th>\n",
       "      <td>2.548500e+04</td>\n",
       "      <td>379.000000</td>\n",
       "      <td>-6.000000</td>\n",
       "      <td>-6.000000</td>\n",
       "      <td>0.000000</td>\n",
       "      <td>0.000000</td>\n",
       "      <td>0.000000</td>\n",
       "      <td>0.000000</td>\n",
       "      <td>0.000000</td>\n",
       "      <td>0.0</td>\n",
       "      <td>0.0</td>\n",
       "      <td>0.0</td>\n",
       "      <td>0.000000</td>\n",
       "      <td>0.000000</td>\n",
       "      <td>0.000000</td>\n",
       "    </tr>\n",
       "    <tr>\n",
       "      <th>75%</th>\n",
       "      <td>5.283250e+04</td>\n",
       "      <td>669.000000</td>\n",
       "      <td>38.000000</td>\n",
       "      <td>30.250000</td>\n",
       "      <td>1.000000</td>\n",
       "      <td>1.000000</td>\n",
       "      <td>1.000000</td>\n",
       "      <td>0.000000</td>\n",
       "      <td>0.000000</td>\n",
       "      <td>0.0</td>\n",
       "      <td>0.0</td>\n",
       "      <td>0.0</td>\n",
       "      <td>2600.000000</td>\n",
       "      <td>2000.000000</td>\n",
       "      <td>0.000000</td>\n",
       "    </tr>\n",
       "    <tr>\n",
       "      <th>max</th>\n",
       "      <td>2.595650e+06</td>\n",
       "      <td>4518.000000</td>\n",
       "      <td>1245.000000</td>\n",
       "      <td>838.000000</td>\n",
       "      <td>9.000000</td>\n",
       "      <td>8.000000</td>\n",
       "      <td>7.000000</td>\n",
       "      <td>3.000000</td>\n",
       "      <td>1.000000</td>\n",
       "      <td>0.0</td>\n",
       "      <td>0.0</td>\n",
       "      <td>0.0</td>\n",
       "      <td>402000.000000</td>\n",
       "      <td>400000.000000</td>\n",
       "      <td>1.000000</td>\n",
       "    </tr>\n",
       "  </tbody>\n",
       "</table>\n",
       "</div>"
      ],
      "text/plain": [
       "            genergy        gpuls     gdenergy       gdpuls       nbumps  \\\n",
       "count  2.584000e+03  2584.000000  2584.000000  2584.000000  2584.000000   \n",
       "mean   9.024252e+04   538.579334    12.375774     4.508901     0.859520   \n",
       "std    2.292005e+05   562.652536    80.319051    63.166556     1.364616   \n",
       "min    1.000000e+02     2.000000   -96.000000   -96.000000     0.000000   \n",
       "25%    1.166000e+04   190.000000   -37.000000   -36.000000     0.000000   \n",
       "50%    2.548500e+04   379.000000    -6.000000    -6.000000     0.000000   \n",
       "75%    5.283250e+04   669.000000    38.000000    30.250000     1.000000   \n",
       "max    2.595650e+06  4518.000000  1245.000000   838.000000     9.000000   \n",
       "\n",
       "           nbumps2      nbumps3      nbumps4      nbumps5  nbumps6  nbumps7  \\\n",
       "count  2584.000000  2584.000000  2584.000000  2584.000000   2584.0   2584.0   \n",
       "mean      0.393576     0.392802     0.067724     0.004644      0.0      0.0   \n",
       "std       0.783772     0.769710     0.279059     0.068001      0.0      0.0   \n",
       "min       0.000000     0.000000     0.000000     0.000000      0.0      0.0   \n",
       "25%       0.000000     0.000000     0.000000     0.000000      0.0      0.0   \n",
       "50%       0.000000     0.000000     0.000000     0.000000      0.0      0.0   \n",
       "75%       1.000000     1.000000     0.000000     0.000000      0.0      0.0   \n",
       "max       8.000000     7.000000     3.000000     1.000000      0.0      0.0   \n",
       "\n",
       "       nbumps89         energy      maxenergy        class  \n",
       "count    2584.0    2584.000000    2584.000000  2584.000000  \n",
       "mean        0.0    4975.270898    4278.850619     0.065789  \n",
       "std         0.0   20450.833222   19357.454882     0.247962  \n",
       "min         0.0       0.000000       0.000000     0.000000  \n",
       "25%         0.0       0.000000       0.000000     0.000000  \n",
       "50%         0.0       0.000000       0.000000     0.000000  \n",
       "75%         0.0    2600.000000    2000.000000     0.000000  \n",
       "max         0.0  402000.000000  400000.000000     1.000000  "
      ]
     },
     "execution_count": 16,
     "metadata": {},
     "output_type": "execute_result"
    }
   ],
   "source": [
    "df.describe()"
   ]
  },
  {
   "cell_type": "markdown",
   "metadata": {},
   "source": [
    "### Target Distributions Check"
   ]
  },
  {
   "cell_type": "code",
   "execution_count": 17,
   "metadata": {},
   "outputs": [
    {
     "data": {
      "text/plain": [
       "0    93.421053\n",
       "1     6.578947\n",
       "Name: class, dtype: float64"
      ]
     },
     "execution_count": 17,
     "metadata": {},
     "output_type": "execute_result"
    }
   ],
   "source": [
    "df['class'].value_counts() * 100 /len(df['class']) "
   ]
  },
  {
   "cell_type": "code",
   "execution_count": 18,
   "metadata": {},
   "outputs": [
    {
     "name": "stdout",
     "output_type": "stream",
     "text": [
      "a    1682\n",
      "b     902\n",
      "Name: seismic, dtype: int64\n",
      "a    1580\n",
      "b     956\n",
      "c      48\n",
      "Name: seismoacoustic, dtype: int64\n",
      "W    1663\n",
      "N     921\n",
      "Name: shift, dtype: int64\n",
      "a    2342\n",
      "b     212\n",
      "c      30\n",
      "Name: ghazard, dtype: int64\n"
     ]
    }
   ],
   "source": [
    "for col in col_list_categorical:\n",
    "    print(df[col].value_counts())"
   ]
  },
  {
   "cell_type": "code",
   "execution_count": 19,
   "metadata": {},
   "outputs": [
    {
     "data": {
      "text/plain": [
       "Index(['seismic', 'seismoacoustic', 'shift', 'genergy', 'gpuls', 'gdenergy',\n",
       "       'gdpuls', 'ghazard', 'nbumps', 'nbumps2', 'nbumps3', 'nbumps4',\n",
       "       'nbumps5', 'nbumps6', 'nbumps7', 'nbumps89', 'energy', 'maxenergy',\n",
       "       'class'],\n",
       "      dtype='object')"
      ]
     },
     "execution_count": 19,
     "metadata": {},
     "output_type": "execute_result"
    }
   ],
   "source": [
    "df.columns"
   ]
  },
  {
   "cell_type": "code",
   "execution_count": 20,
   "metadata": {},
   "outputs": [],
   "source": [
    "# Dataframe Checkpoint\n",
    "df_raw = df.copy(deep=True)"
   ]
  },
  {
   "cell_type": "markdown",
   "metadata": {},
   "source": [
    "### Categorical Feature Encoding"
   ]
  },
  {
   "cell_type": "markdown",
   "metadata": {},
   "source": [
    "#### Contingency tables for categorical variables"
   ]
  },
  {
   "cell_type": "code",
   "execution_count": 21,
   "metadata": {},
   "outputs": [
    {
     "data": {
      "text/plain": [
       "a    1682\n",
       "b     902\n",
       "Name: seismic, dtype: int64"
      ]
     },
     "execution_count": 21,
     "metadata": {},
     "output_type": "execute_result"
    }
   ],
   "source": [
    "df.seismic.value_counts()"
   ]
  },
  {
   "cell_type": "code",
   "execution_count": 22,
   "metadata": {},
   "outputs": [
    {
     "data": {
      "text/html": [
       "<div>\n",
       "<style scoped>\n",
       "    .dataframe tbody tr th:only-of-type {\n",
       "        vertical-align: middle;\n",
       "    }\n",
       "\n",
       "    .dataframe tbody tr th {\n",
       "        vertical-align: top;\n",
       "    }\n",
       "\n",
       "    .dataframe thead th {\n",
       "        text-align: right;\n",
       "    }\n",
       "</style>\n",
       "<table border=\"1\" class=\"dataframe\">\n",
       "  <thead>\n",
       "    <tr style=\"text-align: right;\">\n",
       "      <th>class</th>\n",
       "      <th>0</th>\n",
       "      <th>1</th>\n",
       "    </tr>\n",
       "    <tr>\n",
       "      <th>seismic</th>\n",
       "      <th></th>\n",
       "      <th></th>\n",
       "    </tr>\n",
       "  </thead>\n",
       "  <tbody>\n",
       "    <tr>\n",
       "      <th>a</th>\n",
       "      <td>1599</td>\n",
       "      <td>83</td>\n",
       "    </tr>\n",
       "    <tr>\n",
       "      <th>b</th>\n",
       "      <td>815</td>\n",
       "      <td>87</td>\n",
       "    </tr>\n",
       "  </tbody>\n",
       "</table>\n",
       "</div>"
      ],
      "text/plain": [
       "class       0   1\n",
       "seismic          \n",
       "a        1599  83\n",
       "b         815  87"
      ]
     },
     "execution_count": 22,
     "metadata": {},
     "output_type": "execute_result"
    }
   ],
   "source": [
    "data_crosstab = pd.crosstab(df['seismic'], df[label], colnames=['class'])\n",
    "data_crosstab"
   ]
  },
  {
   "cell_type": "code",
   "execution_count": 23,
   "metadata": {},
   "outputs": [
    {
     "data": {
      "text/html": [
       "<div>\n",
       "<style scoped>\n",
       "    .dataframe tbody tr th:only-of-type {\n",
       "        vertical-align: middle;\n",
       "    }\n",
       "\n",
       "    .dataframe tbody tr th {\n",
       "        vertical-align: top;\n",
       "    }\n",
       "\n",
       "    .dataframe thead th {\n",
       "        text-align: right;\n",
       "    }\n",
       "</style>\n",
       "<table border=\"1\" class=\"dataframe\">\n",
       "  <thead>\n",
       "    <tr style=\"text-align: right;\">\n",
       "      <th>class</th>\n",
       "      <th>0</th>\n",
       "      <th>1</th>\n",
       "    </tr>\n",
       "    <tr>\n",
       "      <th>seismoacoustic</th>\n",
       "      <th></th>\n",
       "      <th></th>\n",
       "    </tr>\n",
       "  </thead>\n",
       "  <tbody>\n",
       "    <tr>\n",
       "      <th>a</th>\n",
       "      <td>1479</td>\n",
       "      <td>101</td>\n",
       "    </tr>\n",
       "    <tr>\n",
       "      <th>b</th>\n",
       "      <td>890</td>\n",
       "      <td>66</td>\n",
       "    </tr>\n",
       "    <tr>\n",
       "      <th>c</th>\n",
       "      <td>45</td>\n",
       "      <td>3</td>\n",
       "    </tr>\n",
       "  </tbody>\n",
       "</table>\n",
       "</div>"
      ],
      "text/plain": [
       "class              0    1\n",
       "seismoacoustic           \n",
       "a               1479  101\n",
       "b                890   66\n",
       "c                 45    3"
      ]
     },
     "execution_count": 23,
     "metadata": {},
     "output_type": "execute_result"
    }
   ],
   "source": [
    "data_crosstab = pd.crosstab(df['seismoacoustic'], df[label], colnames=['class'])\n",
    "data_crosstab"
   ]
  },
  {
   "cell_type": "code",
   "execution_count": 24,
   "metadata": {},
   "outputs": [
    {
     "data": {
      "text/plain": [
       "(0.068289384719405, 0.07415730337078652)"
      ]
     },
     "execution_count": 24,
     "metadata": {},
     "output_type": "execute_result"
    }
   ],
   "source": [
    "101/1479 , 66/890"
   ]
  },
  {
   "cell_type": "markdown",
   "metadata": {},
   "source": [
    "Not much bias"
   ]
  },
  {
   "cell_type": "code",
   "execution_count": 25,
   "metadata": {},
   "outputs": [
    {
     "data": {
      "text/html": [
       "<div>\n",
       "<style scoped>\n",
       "    .dataframe tbody tr th:only-of-type {\n",
       "        vertical-align: middle;\n",
       "    }\n",
       "\n",
       "    .dataframe tbody tr th {\n",
       "        vertical-align: top;\n",
       "    }\n",
       "\n",
       "    .dataframe thead th {\n",
       "        text-align: right;\n",
       "    }\n",
       "</style>\n",
       "<table border=\"1\" class=\"dataframe\">\n",
       "  <thead>\n",
       "    <tr style=\"text-align: right;\">\n",
       "      <th>seismic</th>\n",
       "      <th>a</th>\n",
       "      <th>b</th>\n",
       "    </tr>\n",
       "    <tr>\n",
       "      <th>class</th>\n",
       "      <th></th>\n",
       "      <th></th>\n",
       "    </tr>\n",
       "  </thead>\n",
       "  <tbody>\n",
       "    <tr>\n",
       "      <th>0</th>\n",
       "      <td>1599</td>\n",
       "      <td>815</td>\n",
       "    </tr>\n",
       "    <tr>\n",
       "      <th>1</th>\n",
       "      <td>83</td>\n",
       "      <td>87</td>\n",
       "    </tr>\n",
       "  </tbody>\n",
       "</table>\n",
       "</div>"
      ],
      "text/plain": [
       "seismic     a    b\n",
       "class             \n",
       "0        1599  815\n",
       "1          83   87"
      ]
     },
     "execution_count": 25,
     "metadata": {},
     "output_type": "execute_result"
    }
   ],
   "source": [
    "data_crosstab = pd.crosstab(df[label], df['seismic'])\n",
    "data_crosstab"
   ]
  },
  {
   "cell_type": "markdown",
   "metadata": {},
   "source": [
    "Larger fraction in (b | 1)"
   ]
  },
  {
   "cell_type": "code",
   "execution_count": 26,
   "metadata": {},
   "outputs": [
    {
     "data": {
      "text/html": [
       "<div>\n",
       "<style scoped>\n",
       "    .dataframe tbody tr th:only-of-type {\n",
       "        vertical-align: middle;\n",
       "    }\n",
       "\n",
       "    .dataframe tbody tr th {\n",
       "        vertical-align: top;\n",
       "    }\n",
       "\n",
       "    .dataframe thead th {\n",
       "        text-align: right;\n",
       "    }\n",
       "</style>\n",
       "<table border=\"1\" class=\"dataframe\">\n",
       "  <thead>\n",
       "    <tr style=\"text-align: right;\">\n",
       "      <th>shift</th>\n",
       "      <th>class</th>\n",
       "      <th>N</th>\n",
       "      <th>W</th>\n",
       "    </tr>\n",
       "  </thead>\n",
       "  <tbody>\n",
       "    <tr>\n",
       "      <th>0</th>\n",
       "      <td>0</td>\n",
       "      <td>904</td>\n",
       "      <td>1510</td>\n",
       "    </tr>\n",
       "    <tr>\n",
       "      <th>1</th>\n",
       "      <td>1</td>\n",
       "      <td>17</td>\n",
       "      <td>153</td>\n",
       "    </tr>\n",
       "  </tbody>\n",
       "</table>\n",
       "</div>"
      ],
      "text/plain": [
       "shift  class    N     W\n",
       "0          0  904  1510\n",
       "1          1   17   153"
      ]
     },
     "execution_count": 26,
     "metadata": {},
     "output_type": "execute_result"
    }
   ],
   "source": [
    "data_crosstab = pd.crosstab(df[label], df['shift'])\n",
    "data_crosstab.reset_index()"
   ]
  },
  {
   "cell_type": "code",
   "execution_count": 27,
   "metadata": {},
   "outputs": [
    {
     "data": {
      "text/plain": [
       "(0.018805309734513276, 0.10132450331125828)"
      ]
     },
     "execution_count": 27,
     "metadata": {},
     "output_type": "execute_result"
    }
   ],
   "source": [
    "17/904 , 153/1510"
   ]
  },
  {
   "cell_type": "markdown",
   "metadata": {},
   "source": [
    "10% of the (W | 0) is 1."
   ]
  },
  {
   "cell_type": "code",
   "execution_count": 28,
   "metadata": {},
   "outputs": [
    {
     "data": {
      "text/html": [
       "<div>\n",
       "<style scoped>\n",
       "    .dataframe tbody tr th:only-of-type {\n",
       "        vertical-align: middle;\n",
       "    }\n",
       "\n",
       "    .dataframe tbody tr th {\n",
       "        vertical-align: top;\n",
       "    }\n",
       "\n",
       "    .dataframe thead th {\n",
       "        text-align: right;\n",
       "    }\n",
       "</style>\n",
       "<table border=\"1\" class=\"dataframe\">\n",
       "  <thead>\n",
       "    <tr style=\"text-align: right;\">\n",
       "      <th>ghazard</th>\n",
       "      <th>a</th>\n",
       "      <th>b</th>\n",
       "      <th>c</th>\n",
       "    </tr>\n",
       "    <tr>\n",
       "      <th>class</th>\n",
       "      <th></th>\n",
       "      <th></th>\n",
       "      <th></th>\n",
       "    </tr>\n",
       "  </thead>\n",
       "  <tbody>\n",
       "    <tr>\n",
       "      <th>0</th>\n",
       "      <td>2186</td>\n",
       "      <td>198</td>\n",
       "      <td>30</td>\n",
       "    </tr>\n",
       "    <tr>\n",
       "      <th>1</th>\n",
       "      <td>156</td>\n",
       "      <td>14</td>\n",
       "      <td>0</td>\n",
       "    </tr>\n",
       "  </tbody>\n",
       "</table>\n",
       "</div>"
      ],
      "text/plain": [
       "ghazard     a    b   c\n",
       "class                 \n",
       "0        2186  198  30\n",
       "1         156   14   0"
      ]
     },
     "execution_count": 28,
     "metadata": {},
     "output_type": "execute_result"
    }
   ],
   "source": [
    "data_crosstab = pd.crosstab(df[label], df['ghazard'])\n",
    "data_crosstab"
   ]
  },
  {
   "cell_type": "code",
   "execution_count": 29,
   "metadata": {},
   "outputs": [
    {
     "data": {
      "text/plain": [
       "(14.012820512820513, 14.142857142857142)"
      ]
     },
     "execution_count": 29,
     "metadata": {},
     "output_type": "execute_result"
    }
   ],
   "source": [
    "2186/156, 198/14"
   ]
  },
  {
   "cell_type": "markdown",
   "metadata": {},
   "source": [
    "Similar ratios"
   ]
  },
  {
   "cell_type": "markdown",
   "metadata": {},
   "source": [
    "#### One-hot encoder"
   ]
  },
  {
   "cell_type": "code",
   "execution_count": 30,
   "metadata": {},
   "outputs": [],
   "source": [
    "def one_hot_encoder(col_name, df):\n",
    "    label_encoder = LabelEncoder()\n",
    "    onehot_encoder = OneHotEncoder(drop='if_binary', sparse=False)\n",
    "    try:\n",
    "        encoded_array = label_encoder.fit_transform(df[col_name])\n",
    "#         SKLEARN IMPLEMENTATION\n",
    "        encoded_array_reshaped = encoded_array.reshape(len(encoded_array), 1)\n",
    "        one_hot_encoded_array = onehot_encoder.fit_transform(encoded_array_reshaped)\n",
    "#         one_hot_encoded_array = to_categorical(encoded_array)\n",
    "        print(one_hot_encoded_array)\n",
    "        num_features = one_hot_encoded_array.shape[1]\n",
    "        print(\"Number of encoded columns to add: \", num_features)\n",
    "        new_enc_col_names = [col + '_enc_' + str(num) for num in range(0, num_features)] \n",
    "        df_enc = pd.DataFrame(one_hot_encoded_array)\n",
    "        print(\"Shape of encoded df: \", df_enc.shape)\n",
    "        df_enc.columns = new_enc_col_names\n",
    "        print(\"New column names: \", new_enc_col_names)\n",
    "        df = pd.concat([df, df_enc], axis=1)\n",
    "        df.drop(columns=col, inplace=True)\n",
    "        return df\n",
    "    except Exception as e:\n",
    "        print(e)\n",
    "        print(\"Error in encoding feature : \" + col_name)"
   ]
  },
  {
   "cell_type": "code",
   "execution_count": 31,
   "metadata": {},
   "outputs": [
    {
     "name": "stdout",
     "output_type": "stream",
     "text": [
      "[[0.]\n",
      " [0.]\n",
      " [0.]\n",
      " ...\n",
      " [1.]\n",
      " [0.]\n",
      " [0.]]\n",
      "Number of encoded columns to add:  1\n",
      "Shape of encoded df:  (2584, 1)\n",
      "New column names:  ['seismic_enc_0']\n",
      "[[1. 0. 0.]\n",
      " [1. 0. 0.]\n",
      " [1. 0. 0.]\n",
      " ...\n",
      " [1. 0. 0.]\n",
      " [1. 0. 0.]\n",
      " [1. 0. 0.]]\n",
      "Number of encoded columns to add:  3\n",
      "Shape of encoded df:  (2584, 3)\n",
      "New column names:  ['seismoacoustic_enc_0', 'seismoacoustic_enc_1', 'seismoacoustic_enc_2']\n",
      "[[0.]\n",
      " [0.]\n",
      " [0.]\n",
      " ...\n",
      " [1.]\n",
      " [1.]\n",
      " [1.]]\n",
      "Number of encoded columns to add:  1\n",
      "Shape of encoded df:  (2584, 1)\n",
      "New column names:  ['shift_enc_0']\n",
      "[[1. 0. 0.]\n",
      " [1. 0. 0.]\n",
      " [1. 0. 0.]\n",
      " ...\n",
      " [1. 0. 0.]\n",
      " [1. 0. 0.]\n",
      " [1. 0. 0.]]\n",
      "Number of encoded columns to add:  3\n",
      "Shape of encoded df:  (2584, 3)\n",
      "New column names:  ['ghazard_enc_0', 'ghazard_enc_1', 'ghazard_enc_2']\n"
     ]
    },
    {
     "data": {
      "text/plain": [
       "(2584, 23)"
      ]
     },
     "execution_count": 31,
     "metadata": {},
     "output_type": "execute_result"
    }
   ],
   "source": [
    "for col in col_list_categorical:\n",
    "    df = one_hot_encoder(col, df)\n",
    "df.shape"
   ]
  },
  {
   "cell_type": "code",
   "execution_count": 32,
   "metadata": {},
   "outputs": [
    {
     "data": {
      "text/html": [
       "<div>\n",
       "<style scoped>\n",
       "    .dataframe tbody tr th:only-of-type {\n",
       "        vertical-align: middle;\n",
       "    }\n",
       "\n",
       "    .dataframe tbody tr th {\n",
       "        vertical-align: top;\n",
       "    }\n",
       "\n",
       "    .dataframe thead th {\n",
       "        text-align: right;\n",
       "    }\n",
       "</style>\n",
       "<table border=\"1\" class=\"dataframe\">\n",
       "  <thead>\n",
       "    <tr style=\"text-align: right;\">\n",
       "      <th></th>\n",
       "      <th>genergy</th>\n",
       "      <th>gpuls</th>\n",
       "      <th>gdenergy</th>\n",
       "      <th>gdpuls</th>\n",
       "      <th>nbumps</th>\n",
       "      <th>nbumps2</th>\n",
       "      <th>nbumps3</th>\n",
       "      <th>nbumps4</th>\n",
       "      <th>nbumps5</th>\n",
       "      <th>nbumps6</th>\n",
       "      <th>nbumps7</th>\n",
       "      <th>nbumps89</th>\n",
       "      <th>energy</th>\n",
       "      <th>maxenergy</th>\n",
       "      <th>class</th>\n",
       "      <th>seismic_enc_0</th>\n",
       "      <th>seismoacoustic_enc_0</th>\n",
       "      <th>seismoacoustic_enc_1</th>\n",
       "      <th>seismoacoustic_enc_2</th>\n",
       "      <th>shift_enc_0</th>\n",
       "      <th>ghazard_enc_0</th>\n",
       "      <th>ghazard_enc_1</th>\n",
       "      <th>ghazard_enc_2</th>\n",
       "    </tr>\n",
       "  </thead>\n",
       "  <tbody>\n",
       "    <tr>\n",
       "      <th>0</th>\n",
       "      <td>15180.0</td>\n",
       "      <td>48.0</td>\n",
       "      <td>-72.0</td>\n",
       "      <td>-72.0</td>\n",
       "      <td>0.0</td>\n",
       "      <td>0.0</td>\n",
       "      <td>0.0</td>\n",
       "      <td>0.0</td>\n",
       "      <td>0.0</td>\n",
       "      <td>0.0</td>\n",
       "      <td>0.0</td>\n",
       "      <td>0.0</td>\n",
       "      <td>0.0</td>\n",
       "      <td>0.0</td>\n",
       "      <td>0</td>\n",
       "      <td>0.0</td>\n",
       "      <td>1.0</td>\n",
       "      <td>0.0</td>\n",
       "      <td>0.0</td>\n",
       "      <td>0.0</td>\n",
       "      <td>1.0</td>\n",
       "      <td>0.0</td>\n",
       "      <td>0.0</td>\n",
       "    </tr>\n",
       "    <tr>\n",
       "      <th>1</th>\n",
       "      <td>14720.0</td>\n",
       "      <td>33.0</td>\n",
       "      <td>-70.0</td>\n",
       "      <td>-79.0</td>\n",
       "      <td>1.0</td>\n",
       "      <td>0.0</td>\n",
       "      <td>1.0</td>\n",
       "      <td>0.0</td>\n",
       "      <td>0.0</td>\n",
       "      <td>0.0</td>\n",
       "      <td>0.0</td>\n",
       "      <td>0.0</td>\n",
       "      <td>2000.0</td>\n",
       "      <td>2000.0</td>\n",
       "      <td>0</td>\n",
       "      <td>0.0</td>\n",
       "      <td>1.0</td>\n",
       "      <td>0.0</td>\n",
       "      <td>0.0</td>\n",
       "      <td>0.0</td>\n",
       "      <td>1.0</td>\n",
       "      <td>0.0</td>\n",
       "      <td>0.0</td>\n",
       "    </tr>\n",
       "    <tr>\n",
       "      <th>2</th>\n",
       "      <td>8050.0</td>\n",
       "      <td>30.0</td>\n",
       "      <td>-81.0</td>\n",
       "      <td>-78.0</td>\n",
       "      <td>0.0</td>\n",
       "      <td>0.0</td>\n",
       "      <td>0.0</td>\n",
       "      <td>0.0</td>\n",
       "      <td>0.0</td>\n",
       "      <td>0.0</td>\n",
       "      <td>0.0</td>\n",
       "      <td>0.0</td>\n",
       "      <td>0.0</td>\n",
       "      <td>0.0</td>\n",
       "      <td>0</td>\n",
       "      <td>0.0</td>\n",
       "      <td>1.0</td>\n",
       "      <td>0.0</td>\n",
       "      <td>0.0</td>\n",
       "      <td>0.0</td>\n",
       "      <td>1.0</td>\n",
       "      <td>0.0</td>\n",
       "      <td>0.0</td>\n",
       "    </tr>\n",
       "    <tr>\n",
       "      <th>3</th>\n",
       "      <td>28820.0</td>\n",
       "      <td>171.0</td>\n",
       "      <td>-23.0</td>\n",
       "      <td>40.0</td>\n",
       "      <td>1.0</td>\n",
       "      <td>0.0</td>\n",
       "      <td>1.0</td>\n",
       "      <td>0.0</td>\n",
       "      <td>0.0</td>\n",
       "      <td>0.0</td>\n",
       "      <td>0.0</td>\n",
       "      <td>0.0</td>\n",
       "      <td>3000.0</td>\n",
       "      <td>3000.0</td>\n",
       "      <td>0</td>\n",
       "      <td>0.0</td>\n",
       "      <td>1.0</td>\n",
       "      <td>0.0</td>\n",
       "      <td>0.0</td>\n",
       "      <td>0.0</td>\n",
       "      <td>1.0</td>\n",
       "      <td>0.0</td>\n",
       "      <td>0.0</td>\n",
       "    </tr>\n",
       "    <tr>\n",
       "      <th>4</th>\n",
       "      <td>12640.0</td>\n",
       "      <td>57.0</td>\n",
       "      <td>-63.0</td>\n",
       "      <td>-52.0</td>\n",
       "      <td>0.0</td>\n",
       "      <td>0.0</td>\n",
       "      <td>0.0</td>\n",
       "      <td>0.0</td>\n",
       "      <td>0.0</td>\n",
       "      <td>0.0</td>\n",
       "      <td>0.0</td>\n",
       "      <td>0.0</td>\n",
       "      <td>0.0</td>\n",
       "      <td>0.0</td>\n",
       "      <td>0</td>\n",
       "      <td>0.0</td>\n",
       "      <td>1.0</td>\n",
       "      <td>0.0</td>\n",
       "      <td>0.0</td>\n",
       "      <td>0.0</td>\n",
       "      <td>1.0</td>\n",
       "      <td>0.0</td>\n",
       "      <td>0.0</td>\n",
       "    </tr>\n",
       "  </tbody>\n",
       "</table>\n",
       "</div>"
      ],
      "text/plain": [
       "   genergy  gpuls  gdenergy  gdpuls  nbumps  nbumps2  nbumps3  nbumps4  \\\n",
       "0  15180.0   48.0     -72.0   -72.0     0.0      0.0      0.0      0.0   \n",
       "1  14720.0   33.0     -70.0   -79.0     1.0      0.0      1.0      0.0   \n",
       "2   8050.0   30.0     -81.0   -78.0     0.0      0.0      0.0      0.0   \n",
       "3  28820.0  171.0     -23.0    40.0     1.0      0.0      1.0      0.0   \n",
       "4  12640.0   57.0     -63.0   -52.0     0.0      0.0      0.0      0.0   \n",
       "\n",
       "   nbumps5  nbumps6  nbumps7  nbumps89  energy  maxenergy  class  \\\n",
       "0      0.0      0.0      0.0       0.0     0.0        0.0      0   \n",
       "1      0.0      0.0      0.0       0.0  2000.0     2000.0      0   \n",
       "2      0.0      0.0      0.0       0.0     0.0        0.0      0   \n",
       "3      0.0      0.0      0.0       0.0  3000.0     3000.0      0   \n",
       "4      0.0      0.0      0.0       0.0     0.0        0.0      0   \n",
       "\n",
       "   seismic_enc_0  seismoacoustic_enc_0  seismoacoustic_enc_1  \\\n",
       "0            0.0                   1.0                   0.0   \n",
       "1            0.0                   1.0                   0.0   \n",
       "2            0.0                   1.0                   0.0   \n",
       "3            0.0                   1.0                   0.0   \n",
       "4            0.0                   1.0                   0.0   \n",
       "\n",
       "   seismoacoustic_enc_2  shift_enc_0  ghazard_enc_0  ghazard_enc_1  \\\n",
       "0                   0.0          0.0            1.0            0.0   \n",
       "1                   0.0          0.0            1.0            0.0   \n",
       "2                   0.0          0.0            1.0            0.0   \n",
       "3                   0.0          0.0            1.0            0.0   \n",
       "4                   0.0          0.0            1.0            0.0   \n",
       "\n",
       "   ghazard_enc_2  \n",
       "0            0.0  \n",
       "1            0.0  \n",
       "2            0.0  \n",
       "3            0.0  \n",
       "4            0.0  "
      ]
     },
     "execution_count": 32,
     "metadata": {},
     "output_type": "execute_result"
    }
   ],
   "source": [
    "df.head()"
   ]
  },
  {
   "cell_type": "code",
   "execution_count": 33,
   "metadata": {},
   "outputs": [
    {
     "name": "stdout",
     "output_type": "stream",
     "text": [
      "<class 'pandas.core.frame.DataFrame'>\n",
      "RangeIndex: 2584 entries, 0 to 2583\n",
      "Data columns (total 23 columns):\n",
      " #   Column                Non-Null Count  Dtype  \n",
      "---  ------                --------------  -----  \n",
      " 0   genergy               2584 non-null   float64\n",
      " 1   gpuls                 2584 non-null   float64\n",
      " 2   gdenergy              2584 non-null   float64\n",
      " 3   gdpuls                2584 non-null   float64\n",
      " 4   nbumps                2584 non-null   float64\n",
      " 5   nbumps2               2584 non-null   float64\n",
      " 6   nbumps3               2584 non-null   float64\n",
      " 7   nbumps4               2584 non-null   float64\n",
      " 8   nbumps5               2584 non-null   float64\n",
      " 9   nbumps6               2584 non-null   float64\n",
      " 10  nbumps7               2584 non-null   float64\n",
      " 11  nbumps89              2584 non-null   float64\n",
      " 12  energy                2584 non-null   float64\n",
      " 13  maxenergy             2584 non-null   float64\n",
      " 14  class                 2584 non-null   int32  \n",
      " 15  seismic_enc_0         2584 non-null   float64\n",
      " 16  seismoacoustic_enc_0  2584 non-null   float64\n",
      " 17  seismoacoustic_enc_1  2584 non-null   float64\n",
      " 18  seismoacoustic_enc_2  2584 non-null   float64\n",
      " 19  shift_enc_0           2584 non-null   float64\n",
      " 20  ghazard_enc_0         2584 non-null   float64\n",
      " 21  ghazard_enc_1         2584 non-null   float64\n",
      " 22  ghazard_enc_2         2584 non-null   float64\n",
      "dtypes: float64(22), int32(1)\n",
      "memory usage: 454.3 KB\n"
     ]
    }
   ],
   "source": [
    "df.info()"
   ]
  },
  {
   "cell_type": "markdown",
   "metadata": {},
   "source": [
    "Notice that after one hot encoding, thate object types changed to floats."
   ]
  },
  {
   "cell_type": "markdown",
   "metadata": {},
   "source": [
    "### Numeric Feature Scaling"
   ]
  },
  {
   "cell_type": "code",
   "execution_count": 34,
   "metadata": {},
   "outputs": [],
   "source": [
    "df_corr = df[col_list_numerical].corr()"
   ]
  },
  {
   "cell_type": "code",
   "execution_count": 35,
   "metadata": {},
   "outputs": [
    {
     "data": {
      "text/html": [
       "<div>\n",
       "<style scoped>\n",
       "    .dataframe tbody tr th:only-of-type {\n",
       "        vertical-align: middle;\n",
       "    }\n",
       "\n",
       "    .dataframe tbody tr th {\n",
       "        vertical-align: top;\n",
       "    }\n",
       "\n",
       "    .dataframe thead th {\n",
       "        text-align: right;\n",
       "    }\n",
       "</style>\n",
       "<table border=\"1\" class=\"dataframe\">\n",
       "  <thead>\n",
       "    <tr style=\"text-align: right;\">\n",
       "      <th></th>\n",
       "      <th>genergy</th>\n",
       "      <th>gpuls</th>\n",
       "      <th>gdenergy</th>\n",
       "      <th>gdpuls</th>\n",
       "      <th>energy</th>\n",
       "      <th>maxenergy</th>\n",
       "    </tr>\n",
       "  </thead>\n",
       "  <tbody>\n",
       "    <tr>\n",
       "      <th>genergy</th>\n",
       "      <td>1.000000</td>\n",
       "      <td>0.748020</td>\n",
       "      <td>0.048514</td>\n",
       "      <td>0.071554</td>\n",
       "      <td>0.080828</td>\n",
       "      <td>0.064405</td>\n",
       "    </tr>\n",
       "    <tr>\n",
       "      <th>gpuls</th>\n",
       "      <td>0.748020</td>\n",
       "      <td>1.000000</td>\n",
       "      <td>0.293036</td>\n",
       "      <td>0.382906</td>\n",
       "      <td>0.187350</td>\n",
       "      <td>0.164263</td>\n",
       "    </tr>\n",
       "    <tr>\n",
       "      <th>gdenergy</th>\n",
       "      <td>0.048514</td>\n",
       "      <td>0.293036</td>\n",
       "      <td>1.000000</td>\n",
       "      <td>0.811944</td>\n",
       "      <td>0.105971</td>\n",
       "      <td>0.108572</td>\n",
       "    </tr>\n",
       "    <tr>\n",
       "      <th>gdpuls</th>\n",
       "      <td>0.071554</td>\n",
       "      <td>0.382906</td>\n",
       "      <td>0.811944</td>\n",
       "      <td>1.000000</td>\n",
       "      <td>0.143277</td>\n",
       "      <td>0.143646</td>\n",
       "    </tr>\n",
       "    <tr>\n",
       "      <th>energy</th>\n",
       "      <td>0.080828</td>\n",
       "      <td>0.187350</td>\n",
       "      <td>0.105971</td>\n",
       "      <td>0.143277</td>\n",
       "      <td>1.000000</td>\n",
       "      <td>0.989547</td>\n",
       "    </tr>\n",
       "    <tr>\n",
       "      <th>maxenergy</th>\n",
       "      <td>0.064405</td>\n",
       "      <td>0.164263</td>\n",
       "      <td>0.108572</td>\n",
       "      <td>0.143646</td>\n",
       "      <td>0.989547</td>\n",
       "      <td>1.000000</td>\n",
       "    </tr>\n",
       "  </tbody>\n",
       "</table>\n",
       "</div>"
      ],
      "text/plain": [
       "            genergy     gpuls  gdenergy    gdpuls    energy  maxenergy\n",
       "genergy    1.000000  0.748020  0.048514  0.071554  0.080828   0.064405\n",
       "gpuls      0.748020  1.000000  0.293036  0.382906  0.187350   0.164263\n",
       "gdenergy   0.048514  0.293036  1.000000  0.811944  0.105971   0.108572\n",
       "gdpuls     0.071554  0.382906  0.811944  1.000000  0.143277   0.143646\n",
       "energy     0.080828  0.187350  0.105971  0.143277  1.000000   0.989547\n",
       "maxenergy  0.064405  0.164263  0.108572  0.143646  0.989547   1.000000"
      ]
     },
     "execution_count": 35,
     "metadata": {},
     "output_type": "execute_result"
    }
   ],
   "source": [
    "df_corr"
   ]
  },
  {
   "cell_type": "code",
   "execution_count": 36,
   "metadata": {},
   "outputs": [
    {
     "data": {
      "text/plain": [
       "(array([0.5, 1.5, 2.5, 3.5, 4.5, 5.5]), <a list of 6 Text yticklabel objects>)"
      ]
     },
     "execution_count": 36,
     "metadata": {},
     "output_type": "execute_result"
    },
    {
     "data": {
      "image/png": "[encoded data removed]",
      "text/plain": [
       "<Figure size 576x576 with 2 Axes>"
      ]
     },
     "metadata": {
      "needs_background": "light"
     },
     "output_type": "display_data"
    }
   ],
   "source": [
    "plt.figure(figsize=[8, 8])\n",
    "sns.heatmap(data=df_corr, vmin=-1, vmax=1, cmap='gist_earth_r', annot=True, square=True, linewidths=1)\n",
    "plt.xticks(rotation=90)\n",
    "plt.yticks(rotation=0)"
   ]
  },
  {
   "cell_type": "markdown",
   "metadata": {},
   "source": [
    "#### genergy and gpuls"
   ]
  },
  {
   "cell_type": "code",
   "execution_count": 37,
   "metadata": {},
   "outputs": [
    {
     "data": {
      "text/plain": [
       "<matplotlib.axes._subplots.AxesSubplot at 0x1e7e22a58c8>"
      ]
     },
     "execution_count": 37,
     "metadata": {},
     "output_type": "execute_result"
    },
    {
     "data": {
      "image/png": "[encoded data removed]",
      "text/plain": [
       "<Figure size 432x288 with 1 Axes>"
      ]
     },
     "metadata": {
      "needs_background": "light"
     },
     "output_type": "display_data"
    }
   ],
   "source": [
    "sns.distplot(df['genergy'], hist=True)"
   ]
  },
  {
   "cell_type": "code",
   "execution_count": 38,
   "metadata": {},
   "outputs": [
    {
     "data": {
      "text/plain": [
       "<matplotlib.axes._subplots.AxesSubplot at 0x1e7e220f388>"
      ]
     },
     "execution_count": 38,
     "metadata": {},
     "output_type": "execute_result"
    },
    {
     "data": {
      "image/png": "[encoded data removed]",
      "text/plain": [
       "<Figure size 432x288 with 1 Axes>"
      ]
     },
     "metadata": {
      "needs_background": "light"
     },
     "output_type": "display_data"
    }
   ],
   "source": [
    "sns.distplot(np.log(df['genergy']), hist=True)"
   ]
  },
  {
   "cell_type": "code",
   "execution_count": 39,
   "metadata": {},
   "outputs": [
    {
     "data": {
      "text/plain": [
       "<matplotlib.axes._subplots.AxesSubplot at 0x1e7e20ff408>"
      ]
     },
     "execution_count": 39,
     "metadata": {},
     "output_type": "execute_result"
    },
    {
     "data": {
      "image/png": "[encoded data removed]",
      "text/plain": [
       "<Figure size 432x288 with 1 Axes>"
      ]
     },
     "metadata": {
      "needs_background": "light"
     },
     "output_type": "display_data"
    }
   ],
   "source": [
    "sns.distplot(df['gpuls'], hist=True)"
   ]
  },
  {
   "cell_type": "code",
   "execution_count": 40,
   "metadata": {},
   "outputs": [
    {
     "data": {
      "text/plain": [
       "<matplotlib.axes._subplots.AxesSubplot at 0x1e7e2465bc8>"
      ]
     },
     "execution_count": 40,
     "metadata": {},
     "output_type": "execute_result"
    },
    {
     "data": {
      "image/png": "[encoded data removed]",
      "text/plain": [
       "<Figure size 432x288 with 1 Axes>"
      ]
     },
     "metadata": {
      "needs_background": "light"
     },
     "output_type": "display_data"
    }
   ],
   "source": [
    "sns.distplot(np.log(df['gpuls']), hist=True)"
   ]
  },
  {
   "cell_type": "code",
   "execution_count": 41,
   "metadata": {},
   "outputs": [
    {
     "data": {
      "text/plain": [
       "<matplotlib.axes._subplots.AxesSubplot at 0x1e7e253e1c8>"
      ]
     },
     "execution_count": 41,
     "metadata": {},
     "output_type": "execute_result"
    },
    {
     "data": {
      "image/png": "[encoded data removed]",
      "text/plain": [
       "<Figure size 720x576 with 1 Axes>"
      ]
     },
     "metadata": {
      "needs_background": "light"
     },
     "output_type": "display_data"
    }
   ],
   "source": [
    "plt.figure(figsize=[10, 8])\n",
    "sns.scatterplot(x='genergy', y='gpuls', hue='class', data=df)"
   ]
  },
  {
   "cell_type": "code",
   "execution_count": 42,
   "metadata": {},
   "outputs": [],
   "source": [
    "# Applying log transform\n",
    "\n",
    "df['log_t_genergy'] = np.log(df['genergy'])\n",
    "df['log_t_gpuls'] = np.log(df['gpuls'])"
   ]
  },
  {
   "cell_type": "code",
   "execution_count": 43,
   "metadata": {},
   "outputs": [
    {
     "data": {
      "text/plain": [
       "<matplotlib.axes._subplots.AxesSubplot at 0x1e7e25afb88>"
      ]
     },
     "execution_count": 43,
     "metadata": {},
     "output_type": "execute_result"
    },
    {
     "data": {
      "image/png": "[encoded data removed]",
      "text/plain": [
       "<Figure size 720x576 with 1 Axes>"
      ]
     },
     "metadata": {
      "needs_background": "light"
     },
     "output_type": "display_data"
    }
   ],
   "source": [
    "plt.figure(figsize=[10, 8])\n",
    "sns.scatterplot(x='log_t_genergy', y='log_t_gpuls', hue='class', data=df)"
   ]
  },
  {
   "cell_type": "code",
   "execution_count": 44,
   "metadata": {},
   "outputs": [],
   "source": [
    "df.drop(columns=['log_t_genergy', 'log_t_gpuls'], inplace=True)"
   ]
  },
  {
   "cell_type": "markdown",
   "metadata": {},
   "source": [
    "#### gdenergy and gdpuls"
   ]
  },
  {
   "cell_type": "code",
   "execution_count": 45,
   "metadata": {},
   "outputs": [
    {
     "data": {
      "text/plain": [
       "<matplotlib.axes._subplots.AxesSubplot at 0x1e7e25ee148>"
      ]
     },
     "execution_count": 45,
     "metadata": {},
     "output_type": "execute_result"
    },
    {
     "data": {
      "image/png": "[encoded data removed]",
      "text/plain": [
       "<Figure size 720x576 with 1 Axes>"
      ]
     },
     "metadata": {
      "needs_background": "light"
     },
     "output_type": "display_data"
    }
   ],
   "source": [
    "plt.figure(figsize=[10, 8])\n",
    "sns.scatterplot(x='gdenergy', y='gdpuls', hue='class', data=df)"
   ]
  },
  {
   "cell_type": "markdown",
   "metadata": {},
   "source": [
    "There are negative shifts in gdenergy and gdpuls because of which log transformation is not going to be the best choice. So, trying out square root transformation."
   ]
  },
  {
   "cell_type": "code",
   "execution_count": 46,
   "metadata": {},
   "outputs": [
    {
     "data": {
      "text/plain": [
       "<matplotlib.axes._subplots.AxesSubplot at 0x1e7e290ec08>"
      ]
     },
     "execution_count": 46,
     "metadata": {},
     "output_type": "execute_result"
    },
    {
     "data": {
      "image/png": "[encoded data removed]",
      "text/plain": [
       "<Figure size 432x288 with 1 Axes>"
      ]
     },
     "metadata": {
      "needs_background": "light"
     },
     "output_type": "display_data"
    }
   ],
   "source": [
    "sns.distplot(df['gdenergy'], hist=True)"
   ]
  },
  {
   "cell_type": "markdown",
   "metadata": {},
   "source": [
    "There are some negative shifts here."
   ]
  },
  {
   "cell_type": "code",
   "execution_count": 47,
   "metadata": {},
   "outputs": [
    {
     "name": "stderr",
     "output_type": "stream",
     "text": [
      "C:\\Users\\nroy0\\anaconda3\\lib\\site-packages\\pandas\\core\\series.py:679: RuntimeWarning: invalid value encountered in sqrt\n",
      "  result = getattr(ufunc, method)(*inputs, **kwargs)\n"
     ]
    },
    {
     "data": {
      "image/png": "[encoded data removed]",
      "text/plain": [
       "<Figure size 432x288 with 1 Axes>"
      ]
     },
     "metadata": {
      "needs_background": "light"
     },
     "output_type": "display_data"
    },
    {
     "name": "stderr",
     "output_type": "stream",
     "text": [
      "C:\\Users\\nroy0\\anaconda3\\lib\\site-packages\\pandas\\core\\series.py:679: RuntimeWarning: invalid value encountered in sqrt\n",
      "  result = getattr(ufunc, method)(*inputs, **kwargs)\n"
     ]
    },
    {
     "data": {
      "text/plain": [
       "<matplotlib.axes._subplots.AxesSubplot at 0x1e7e2a62f08>"
      ]
     },
     "execution_count": 47,
     "metadata": {},
     "output_type": "execute_result"
    },
    {
     "data": {
      "image/png": "[encoded data removed]",
      "text/plain": [
       "<Figure size 432x288 with 1 Axes>"
      ]
     },
     "metadata": {
      "needs_background": "light"
     },
     "output_type": "display_data"
    }
   ],
   "source": [
    "sns.distplot(np.sqrt(df['gdenergy']), hist=True)\n",
    "plt.show()\n",
    "sns.distplot(np.sqrt(df['gdpuls']), hist=True)"
   ]
  },
  {
   "cell_type": "markdown",
   "metadata": {},
   "source": [
    ".. and trying out standard transformation"
   ]
  },
  {
   "cell_type": "code",
   "execution_count": 48,
   "metadata": {},
   "outputs": [
    {
     "data": {
      "image/png": "[encoded data removed]",
      "text/plain": [
       "<Figure size 432x288 with 1 Axes>"
      ]
     },
     "metadata": {
      "needs_background": "light"
     },
     "output_type": "display_data"
    },
    {
     "data": {
      "text/plain": [
       "<matplotlib.axes._subplots.AxesSubplot at 0x1e7e2e18748>"
      ]
     },
     "execution_count": 48,
     "metadata": {},
     "output_type": "execute_result"
    },
    {
     "data": {
      "image/png": "[encoded data removed]",
      "text/plain": [
       "<Figure size 432x288 with 1 Axes>"
      ]
     },
     "metadata": {
      "needs_background": "light"
     },
     "output_type": "display_data"
    }
   ],
   "source": [
    "sns.distplot(stats.zscore(df['gdenergy']), hist=True)\n",
    "plt.show()\n",
    "sns.distplot(stats.zscore(df['gdpuls']), hist=True)"
   ]
  },
  {
   "cell_type": "markdown",
   "metadata": {},
   "source": [
    "#### energy and maxenergy"
   ]
  },
  {
   "cell_type": "code",
   "execution_count": 49,
   "metadata": {},
   "outputs": [
    {
     "data": {
      "text/plain": [
       "<matplotlib.axes._subplots.AxesSubplot at 0x1e7e2e38748>"
      ]
     },
     "execution_count": 49,
     "metadata": {},
     "output_type": "execute_result"
    },
    {
     "data": {
      "image/png": "[encoded data removed]",
      "text/plain": [
       "<Figure size 720x576 with 1 Axes>"
      ]
     },
     "metadata": {
      "needs_background": "light"
     },
     "output_type": "display_data"
    }
   ],
   "source": [
    "plt.figure(figsize=[10, 8])\n",
    "sns.scatterplot(x='energy', y='maxenergy', hue='class', data=df)"
   ]
  },
  {
   "cell_type": "markdown",
   "metadata": {},
   "source": [
    "A strong linear relationship is here betwen the two features."
   ]
  },
  {
   "cell_type": "code",
   "execution_count": 50,
   "metadata": {},
   "outputs": [
    {
     "data": {
      "image/png": "[encoded data removed]",
      "text/plain": [
       "<Figure size 432x288 with 1 Axes>"
      ]
     },
     "metadata": {
      "needs_background": "light"
     },
     "output_type": "display_data"
    },
    {
     "data": {
      "image/png": "[encoded data removed]",
      "text/plain": [
       "<Figure size 432x288 with 1 Axes>"
      ]
     },
     "metadata": {
      "needs_background": "light"
     },
     "output_type": "display_data"
    }
   ],
   "source": [
    "sns.distplot(df['energy'], hist=True)\n",
    "plt.show()\n",
    "sns.distplot(df['maxenergy'], hist=True)\n",
    "plt.show()"
   ]
  },
  {
   "cell_type": "markdown",
   "metadata": {},
   "source": [
    "There is a lot of zeroes in this feature. Therefore, using zscore again to check the distribution."
   ]
  },
  {
   "cell_type": "code",
   "execution_count": 51,
   "metadata": {},
   "outputs": [
    {
     "data": {
      "image/png": "[encoded data removed]",
      "text/plain": [
       "<Figure size 432x288 with 1 Axes>"
      ]
     },
     "metadata": {
      "needs_background": "light"
     },
     "output_type": "display_data"
    },
    {
     "data": {
      "image/png": "[encoded data removed]",
      "text/plain": [
       "<Figure size 432x288 with 1 Axes>"
      ]
     },
     "metadata": {
      "needs_background": "light"
     },
     "output_type": "display_data"
    }
   ],
   "source": [
    "sns.distplot(stats.zscore(df['energy']), hist=True)\n",
    "plt.show()\n",
    "sns.distplot(stats.zscore(df['maxenergy']), hist=True)\n",
    "plt.show()"
   ]
  },
  {
   "cell_type": "code",
   "execution_count": 52,
   "metadata": {},
   "outputs": [
    {
     "data": {
      "text/plain": [
       "(2.1998227113315797e-17, -1.0999113556657898e-17)"
      ]
     },
     "execution_count": 52,
     "metadata": {},
     "output_type": "execute_result"
    }
   ],
   "source": [
    "stats.zscore(df['energy']).mean(), stats.zscore(df['maxenergy']).mean()"
   ]
  },
  {
   "cell_type": "markdown",
   "metadata": {},
   "source": [
    "Trying log transformation after adding a constant 1"
   ]
  },
  {
   "cell_type": "code",
   "execution_count": 53,
   "metadata": {},
   "outputs": [
    {
     "data": {
      "image/png": "[encoded data removed]",
      "text/plain": [
       "<Figure size 432x288 with 1 Axes>"
      ]
     },
     "metadata": {
      "needs_background": "light"
     },
     "output_type": "display_data"
    },
    {
     "data": {
      "image/png": "[encoded data removed]",
      "text/plain": [
       "<Figure size 432x288 with 1 Axes>"
      ]
     },
     "metadata": {
      "needs_background": "light"
     },
     "output_type": "display_data"
    }
   ],
   "source": [
    "sns.distplot(np.log(df['energy']+1), hist=True)\n",
    "plt.show()\n",
    "sns.distplot(np.log(df['maxenergy']+1), hist=True)\n",
    "plt.show()"
   ]
  },
  {
   "cell_type": "markdown",
   "metadata": {},
   "source": [
    "For energy and maxenergy, there is little differences in the distributions as in the plots and there is almost 100% correlation in the data - so I would drop maxenergy and keep energy only. I would translate using a constant 1 and then use log transformation on energy."
   ]
  },
  {
   "cell_type": "markdown",
   "metadata": {},
   "source": [
    "**Summarizing the chosen transformation in a dictionary**"
   ]
  },
  {
   "cell_type": "code",
   "execution_count": 54,
   "metadata": {},
   "outputs": [],
   "source": [
    "def shifted_log_func(df_col):\n",
    "    return np.log(1 + df_col) "
   ]
  },
  {
   "cell_type": "code",
   "execution_count": 55,
   "metadata": {},
   "outputs": [],
   "source": [
    "dict_num_cols_trnsfm = {'genergy': np.log,\n",
    "                        'gpuls' : np.log,\n",
    "                        'gdenergy': stats.zscore,\n",
    "                        'gdenergy': stats.zscore, \n",
    "                        'energy': shifted_log_func}"
   ]
  },
  {
   "cell_type": "code",
   "execution_count": 56,
   "metadata": {},
   "outputs": [
    {
     "data": {
      "text/html": [
       "<div>\n",
       "<style scoped>\n",
       "    .dataframe tbody tr th:only-of-type {\n",
       "        vertical-align: middle;\n",
       "    }\n",
       "\n",
       "    .dataframe tbody tr th {\n",
       "        vertical-align: top;\n",
       "    }\n",
       "\n",
       "    .dataframe thead th {\n",
       "        text-align: right;\n",
       "    }\n",
       "</style>\n",
       "<table border=\"1\" class=\"dataframe\">\n",
       "  <thead>\n",
       "    <tr style=\"text-align: right;\">\n",
       "      <th></th>\n",
       "      <th>nbumps</th>\n",
       "      <th>nbumps2</th>\n",
       "      <th>nbumps3</th>\n",
       "      <th>nbumps4</th>\n",
       "      <th>nbumps5</th>\n",
       "      <th>nbumps6</th>\n",
       "      <th>nbumps7</th>\n",
       "      <th>nbumps89</th>\n",
       "      <th>class</th>\n",
       "      <th>seismic_enc_0</th>\n",
       "      <th>seismoacoustic_enc_0</th>\n",
       "      <th>seismoacoustic_enc_1</th>\n",
       "      <th>seismoacoustic_enc_2</th>\n",
       "      <th>shift_enc_0</th>\n",
       "      <th>ghazard_enc_0</th>\n",
       "      <th>ghazard_enc_1</th>\n",
       "      <th>ghazard_enc_2</th>\n",
       "      <th>scaled_genergy</th>\n",
       "      <th>scaled_gpuls</th>\n",
       "      <th>scaled_gdenergy</th>\n",
       "      <th>scaled_energy</th>\n",
       "    </tr>\n",
       "  </thead>\n",
       "  <tbody>\n",
       "    <tr>\n",
       "      <th>0</th>\n",
       "      <td>0.0</td>\n",
       "      <td>0.0</td>\n",
       "      <td>0.0</td>\n",
       "      <td>0.0</td>\n",
       "      <td>0.0</td>\n",
       "      <td>0.0</td>\n",
       "      <td>0.0</td>\n",
       "      <td>0.0</td>\n",
       "      <td>0</td>\n",
       "      <td>0.0</td>\n",
       "      <td>1.0</td>\n",
       "      <td>0.0</td>\n",
       "      <td>0.0</td>\n",
       "      <td>0.0</td>\n",
       "      <td>1.0</td>\n",
       "      <td>0.0</td>\n",
       "      <td>0.0</td>\n",
       "      <td>9.627734</td>\n",
       "      <td>3.871201</td>\n",
       "      <td>-1.050711</td>\n",
       "      <td>0.000000</td>\n",
       "    </tr>\n",
       "    <tr>\n",
       "      <th>1</th>\n",
       "      <td>1.0</td>\n",
       "      <td>0.0</td>\n",
       "      <td>1.0</td>\n",
       "      <td>0.0</td>\n",
       "      <td>0.0</td>\n",
       "      <td>0.0</td>\n",
       "      <td>0.0</td>\n",
       "      <td>0.0</td>\n",
       "      <td>0</td>\n",
       "      <td>0.0</td>\n",
       "      <td>1.0</td>\n",
       "      <td>0.0</td>\n",
       "      <td>0.0</td>\n",
       "      <td>0.0</td>\n",
       "      <td>1.0</td>\n",
       "      <td>0.0</td>\n",
       "      <td>0.0</td>\n",
       "      <td>9.596962</td>\n",
       "      <td>3.496508</td>\n",
       "      <td>-1.025805</td>\n",
       "      <td>7.601402</td>\n",
       "    </tr>\n",
       "    <tr>\n",
       "      <th>2</th>\n",
       "      <td>0.0</td>\n",
       "      <td>0.0</td>\n",
       "      <td>0.0</td>\n",
       "      <td>0.0</td>\n",
       "      <td>0.0</td>\n",
       "      <td>0.0</td>\n",
       "      <td>0.0</td>\n",
       "      <td>0.0</td>\n",
       "      <td>0</td>\n",
       "      <td>0.0</td>\n",
       "      <td>1.0</td>\n",
       "      <td>0.0</td>\n",
       "      <td>0.0</td>\n",
       "      <td>0.0</td>\n",
       "      <td>1.0</td>\n",
       "      <td>0.0</td>\n",
       "      <td>0.0</td>\n",
       "      <td>8.993427</td>\n",
       "      <td>3.401197</td>\n",
       "      <td>-1.162786</td>\n",
       "      <td>0.000000</td>\n",
       "    </tr>\n",
       "    <tr>\n",
       "      <th>3</th>\n",
       "      <td>1.0</td>\n",
       "      <td>0.0</td>\n",
       "      <td>1.0</td>\n",
       "      <td>0.0</td>\n",
       "      <td>0.0</td>\n",
       "      <td>0.0</td>\n",
       "      <td>0.0</td>\n",
       "      <td>0.0</td>\n",
       "      <td>0</td>\n",
       "      <td>0.0</td>\n",
       "      <td>1.0</td>\n",
       "      <td>0.0</td>\n",
       "      <td>0.0</td>\n",
       "      <td>0.0</td>\n",
       "      <td>1.0</td>\n",
       "      <td>0.0</td>\n",
       "      <td>0.0</td>\n",
       "      <td>10.268825</td>\n",
       "      <td>5.141664</td>\n",
       "      <td>-0.440526</td>\n",
       "      <td>8.006701</td>\n",
       "    </tr>\n",
       "    <tr>\n",
       "      <th>4</th>\n",
       "      <td>0.0</td>\n",
       "      <td>0.0</td>\n",
       "      <td>0.0</td>\n",
       "      <td>0.0</td>\n",
       "      <td>0.0</td>\n",
       "      <td>0.0</td>\n",
       "      <td>0.0</td>\n",
       "      <td>0.0</td>\n",
       "      <td>0</td>\n",
       "      <td>0.0</td>\n",
       "      <td>1.0</td>\n",
       "      <td>0.0</td>\n",
       "      <td>0.0</td>\n",
       "      <td>0.0</td>\n",
       "      <td>1.0</td>\n",
       "      <td>0.0</td>\n",
       "      <td>0.0</td>\n",
       "      <td>9.444622</td>\n",
       "      <td>4.043051</td>\n",
       "      <td>-0.938636</td>\n",
       "      <td>0.000000</td>\n",
       "    </tr>\n",
       "  </tbody>\n",
       "</table>\n",
       "</div>"
      ],
      "text/plain": [
       "   nbumps  nbumps2  nbumps3  nbumps4  nbumps5  nbumps6  nbumps7  nbumps89  \\\n",
       "0     0.0      0.0      0.0      0.0      0.0      0.0      0.0       0.0   \n",
       "1     1.0      0.0      1.0      0.0      0.0      0.0      0.0       0.0   \n",
       "2     0.0      0.0      0.0      0.0      0.0      0.0      0.0       0.0   \n",
       "3     1.0      0.0      1.0      0.0      0.0      0.0      0.0       0.0   \n",
       "4     0.0      0.0      0.0      0.0      0.0      0.0      0.0       0.0   \n",
       "\n",
       "   class  seismic_enc_0  seismoacoustic_enc_0  seismoacoustic_enc_1  \\\n",
       "0      0            0.0                   1.0                   0.0   \n",
       "1      0            0.0                   1.0                   0.0   \n",
       "2      0            0.0                   1.0                   0.0   \n",
       "3      0            0.0                   1.0                   0.0   \n",
       "4      0            0.0                   1.0                   0.0   \n",
       "\n",
       "   seismoacoustic_enc_2  shift_enc_0  ghazard_enc_0  ghazard_enc_1  \\\n",
       "0                   0.0          0.0            1.0            0.0   \n",
       "1                   0.0          0.0            1.0            0.0   \n",
       "2                   0.0          0.0            1.0            0.0   \n",
       "3                   0.0          0.0            1.0            0.0   \n",
       "4                   0.0          0.0            1.0            0.0   \n",
       "\n",
       "   ghazard_enc_2  scaled_genergy  scaled_gpuls  scaled_gdenergy  scaled_energy  \n",
       "0            0.0        9.627734      3.871201        -1.050711       0.000000  \n",
       "1            0.0        9.596962      3.496508        -1.025805       7.601402  \n",
       "2            0.0        8.993427      3.401197        -1.162786       0.000000  \n",
       "3            0.0       10.268825      5.141664        -0.440526       8.006701  \n",
       "4            0.0        9.444622      4.043051        -0.938636       0.000000  "
      ]
     },
     "execution_count": 56,
     "metadata": {},
     "output_type": "execute_result"
    }
   ],
   "source": [
    "for col_names, transfm_func in dict_num_cols_trnsfm.items():\n",
    "    df['scaled_' + col_names] = transfm_func(df[col_names])\n",
    "df.drop(columns=col_list_numerical, inplace=True)\n",
    "df.head()"
   ]
  },
  {
   "cell_type": "markdown",
   "metadata": {},
   "source": [
    "## Splitting Traning and Test data using Stratified Shuffle Split"
   ]
  },
  {
   "cell_type": "code",
   "execution_count": 57,
   "metadata": {},
   "outputs": [
    {
     "data": {
      "text/plain": [
       "(2584, 21)"
      ]
     },
     "execution_count": 57,
     "metadata": {},
     "output_type": "execute_result"
    }
   ],
   "source": [
    "df.shape"
   ]
  },
  {
   "cell_type": "code",
   "execution_count": 58,
   "metadata": {},
   "outputs": [
    {
     "data": {
      "text/plain": [
       "['ghazard_enc_0',\n",
       " 'shift_enc_0',\n",
       " 'nbumps5',\n",
       " 'scaled_genergy',\n",
       " 'scaled_gpuls',\n",
       " 'scaled_energy',\n",
       " 'nbumps6',\n",
       " 'seismoacoustic_enc_1',\n",
       " 'nbumps3',\n",
       " 'scaled_gdenergy',\n",
       " 'nbumps2',\n",
       " 'nbumps',\n",
       " 'nbumps89',\n",
       " 'seismic_enc_0',\n",
       " 'ghazard_enc_2',\n",
       " 'ghazard_enc_1',\n",
       " 'nbumps7',\n",
       " 'seismoacoustic_enc_2',\n",
       " 'nbumps4',\n",
       " 'seismoacoustic_enc_0']"
      ]
     },
     "execution_count": 58,
     "metadata": {},
     "output_type": "execute_result"
    }
   ],
   "source": [
    "list(set(df.columns) - set([label]))"
   ]
  },
  {
   "cell_type": "code",
   "execution_count": 60,
   "metadata": {},
   "outputs": [
    {
     "data": {
      "text/plain": [
       "((2584, 20), (2584,), (2584, 1))"
      ]
     },
     "execution_count": 60,
     "metadata": {},
     "output_type": "execute_result"
    }
   ],
   "source": [
    "# OLD CODE FOR DEMO\n",
    "X_demo = df[list(set(df.columns) - set([label]))]\n",
    "y_demo1 = df[label]\n",
    "y_demo2 = df[[label]]\n",
    "X_demo.shape, y_demo1.shape, y_demo2.shape"
   ]
  },
  {
   "cell_type": "code",
   "execution_count": 61,
   "metadata": {},
   "outputs": [
    {
     "data": {
      "text/plain": [
       "(pandas.core.frame.DataFrame,\n",
       " pandas.core.series.Series,\n",
       " pandas.core.frame.DataFrame)"
      ]
     },
     "execution_count": 61,
     "metadata": {},
     "output_type": "execute_result"
    }
   ],
   "source": [
    "type(X_demo), type(y_demo1), type(y_demo2)"
   ]
  },
  {
   "cell_type": "code",
   "execution_count": 62,
   "metadata": {},
   "outputs": [
    {
     "data": {
      "text/plain": [
       "((2584, 20), (2584,))"
      ]
     },
     "execution_count": 62,
     "metadata": {},
     "output_type": "execute_result"
    }
   ],
   "source": [
    "X = df[list(set(df.columns) - set([label]))].values\n",
    "y = df[label]\n",
    "X.shape, y.shape"
   ]
  },
  {
   "cell_type": "code",
   "execution_count": 63,
   "metadata": {},
   "outputs": [
    {
     "data": {
      "text/plain": [
       "(numpy.ndarray, pandas.core.series.Series)"
      ]
     },
     "execution_count": 63,
     "metadata": {},
     "output_type": "execute_result"
    }
   ],
   "source": [
    "type(X), type(y)"
   ]
  },
  {
   "cell_type": "code",
   "execution_count": 64,
   "metadata": {},
   "outputs": [],
   "source": [
    "stratified_split = StratifiedShuffleSplit(n_splits=1, test_size=0.20)"
   ]
  },
  {
   "cell_type": "code",
   "execution_count": 65,
   "metadata": {
    "scrolled": true
   },
   "outputs": [
    {
     "name": "stdout",
     "output_type": "stream",
     "text": [
      "2067\n",
      "517\n"
     ]
    },
    {
     "data": {
      "text/plain": [
       "(2067, 2067, 517, 517)"
      ]
     },
     "execution_count": 65,
     "metadata": {},
     "output_type": "execute_result"
    }
   ],
   "source": [
    "for train_idx, test_idx in stratified_split.split(X, y):\n",
    "    print(len(train_idx))\n",
    "    print(len(test_idx))\n",
    "    y_train= y[train_idx]\n",
    "    X_train = X[train_idx]\n",
    "    X_test, y_test = X[test_idx], y[test_idx]\n",
    "\n",
    "len(X_train), len(y_train), len(X_test), len(y_test)"
   ]
  },
  {
   "cell_type": "markdown",
   "metadata": {},
   "source": [
    "## Applying ML model to Predict Hazardrous Seismic Bump"
   ]
  },
  {
   "cell_type": "markdown",
   "metadata": {},
   "source": [
    "### K-Neighbors Classifier using Stratified KFold Cross Validation"
   ]
  },
  {
   "cell_type": "code",
   "execution_count": 66,
   "metadata": {},
   "outputs": [],
   "source": [
    "model = KNeighborsClassifier()\n",
    "skf = StratifiedKFold(n_splits=10)"
   ]
  },
  {
   "cell_type": "code",
   "execution_count": 67,
   "metadata": {},
   "outputs": [
    {
     "name": "stdout",
     "output_type": "stream",
     "text": [
      "2325\n",
      "0    0.934194\n",
      "1    0.065806\n",
      "Name: class, dtype: float64\n",
      "----\n",
      "259\n",
      "0    0.934363\n",
      "1    0.065637\n",
      "Name: class, dtype: float64\n",
      "----\n"
     ]
    }
   ],
   "source": [
    "'''\n",
    "Demo of split using original features and label columns\n",
    "split is 90-10\n",
    "'''\n",
    "\n",
    "for train, test in skf.split(X, y):\n",
    "    print(len(train))\n",
    "    print(y[train].value_counts()/len(train))\n",
    "    print('----')\n",
    "    print(len(test))\n",
    "    print(y[test].value_counts()/len(test))\n",
    "    print('----')\n",
    "    break"
   ]
  },
  {
   "cell_type": "markdown",
   "metadata": {},
   "source": [
    "#### Using cross_val_score for performance metrics"
   ]
  },
  {
   "cell_type": "code",
   "execution_count": 68,
   "metadata": {},
   "outputs": [
    {
     "data": {
      "text/plain": [
       "array([0.92753623, 0.91304348, 0.93719807, 0.92753623, 0.91304348,\n",
       "       0.92753623, 0.92753623, 0.9368932 , 0.93203883, 0.94174757])"
      ]
     },
     "execution_count": 68,
     "metadata": {},
     "output_type": "execute_result"
    }
   ],
   "source": [
    "scores = cross_val_score(model, X_train, y_train, scoring='accuracy', cv=skf, n_jobs=-1, error_score='raise')\n",
    "scores"
   ]
  },
  {
   "cell_type": "code",
   "execution_count": 69,
   "metadata": {},
   "outputs": [
    {
     "data": {
      "text/plain": [
       "(0.9284109563341307, 0.009030880505340656)"
      ]
     },
     "execution_count": 69,
     "metadata": {},
     "output_type": "execute_result"
    }
   ],
   "source": [
    "scores.mean(), scores.std()"
   ]
  },
  {
   "cell_type": "code",
   "execution_count": 70,
   "metadata": {},
   "outputs": [
    {
     "data": {
      "text/plain": [
       "(0.9284109563341307, 0.009030880505340656)"
      ]
     },
     "execution_count": 70,
     "metadata": {},
     "output_type": "execute_result"
    }
   ],
   "source": [
    "scores = cross_val_score(model, X_train, y_train, scoring='f1_micro', cv=skf, n_jobs=-1, error_score='raise')\n",
    "scores.mean(), scores.std()"
   ]
  },
  {
   "cell_type": "code",
   "execution_count": 71,
   "metadata": {},
   "outputs": [
    {
     "data": {
      "text/plain": [
       "(0.5128418876172458, 0.04277954556023717)"
      ]
     },
     "execution_count": 71,
     "metadata": {},
     "output_type": "execute_result"
    }
   ],
   "source": [
    "scores = cross_val_score(model, X_train, y_train, scoring='f1_macro', cv=skf, n_jobs=-1, error_score='raise')\n",
    "scores.mean(), scores.std()"
   ]
  },
  {
   "cell_type": "code",
   "execution_count": 72,
   "metadata": {},
   "outputs": [
    {
     "data": {
      "text/plain": [
       "(0.06291316526610644, 0.08234648119635388)"
      ]
     },
     "execution_count": 72,
     "metadata": {},
     "output_type": "execute_result"
    }
   ],
   "source": [
    "scores = cross_val_score(model, X_train, y_train, scoring='f1', cv=skf, n_jobs=-1, error_score='raise')\n",
    "scores.mean(), scores.std()"
   ]
  },
  {
   "cell_type": "markdown",
   "metadata": {},
   "source": [
    "I was getting an error \"pos_label=1 is not a valid label: array(['0', '1'], dtype='<U1')\" which I resolved by typecasting the labels into integers. This blocked me for 1 whole day sicne I had run the code before which successfully ran. This is when i noticed one-hot encoders transformed all the features I fed into it were transformed to float including my label column. So when I ran the code, it worked. But when I  excluded it, the object type of the label column caused this trouble."
   ]
  },
  {
   "cell_type": "code",
   "execution_count": 73,
   "metadata": {},
   "outputs": [
    {
     "data": {
      "text/plain": [
       "['accuracy',\n",
       " 'adjusted_mutual_info_score',\n",
       " 'adjusted_rand_score',\n",
       " 'average_precision',\n",
       " 'balanced_accuracy',\n",
       " 'completeness_score',\n",
       " 'explained_variance',\n",
       " 'f1',\n",
       " 'f1_macro',\n",
       " 'f1_micro',\n",
       " 'f1_samples',\n",
       " 'f1_weighted',\n",
       " 'fowlkes_mallows_score',\n",
       " 'homogeneity_score',\n",
       " 'jaccard',\n",
       " 'jaccard_macro',\n",
       " 'jaccard_micro',\n",
       " 'jaccard_samples',\n",
       " 'jaccard_weighted',\n",
       " 'max_error',\n",
       " 'mutual_info_score',\n",
       " 'neg_brier_score',\n",
       " 'neg_log_loss',\n",
       " 'neg_mean_absolute_error',\n",
       " 'neg_mean_gamma_deviance',\n",
       " 'neg_mean_poisson_deviance',\n",
       " 'neg_mean_squared_error',\n",
       " 'neg_mean_squared_log_error',\n",
       " 'neg_median_absolute_error',\n",
       " 'neg_root_mean_squared_error',\n",
       " 'normalized_mutual_info_score',\n",
       " 'precision',\n",
       " 'precision_macro',\n",
       " 'precision_micro',\n",
       " 'precision_samples',\n",
       " 'precision_weighted',\n",
       " 'r2',\n",
       " 'recall',\n",
       " 'recall_macro',\n",
       " 'recall_micro',\n",
       " 'recall_samples',\n",
       " 'recall_weighted',\n",
       " 'roc_auc',\n",
       " 'roc_auc_ovo',\n",
       " 'roc_auc_ovo_weighted',\n",
       " 'roc_auc_ovr',\n",
       " 'roc_auc_ovr_weighted',\n",
       " 'v_measure_score']"
      ]
     },
     "execution_count": 73,
     "metadata": {},
     "output_type": "execute_result"
    }
   ],
   "source": [
    "import sklearn\n",
    "sorted(sklearn.metrics.SCORERS.keys())"
   ]
  },
  {
   "cell_type": "markdown",
   "metadata": {},
   "source": [
    "#### Using cross_validate for performance metrics"
   ]
  },
  {
   "cell_type": "code",
   "execution_count": 74,
   "metadata": {
    "scrolled": true
   },
   "outputs": [
    {
     "data": {
      "text/plain": [
       "dict_keys(['fit_time', 'score_time', 'test_precision', 'test_recall', 'test_f1'])"
      ]
     },
     "execution_count": 74,
     "metadata": {},
     "output_type": "execute_result"
    }
   ],
   "source": [
    "scores = cross_validate(model, X_train, y_train, scoring=['precision', 'recall', 'f1'], cv=skf, n_jobs=-1, error_score='raise')\n",
    "scores.keys()"
   ]
  },
  {
   "cell_type": "code",
   "execution_count": 75,
   "metadata": {},
   "outputs": [
    {
     "data": {
      "text/plain": [
       "(0.2833333333333333, 0.03736263736263736, 0.06291316526610644)"
      ]
     },
     "execution_count": 75,
     "metadata": {},
     "output_type": "execute_result"
    }
   ],
   "source": [
    "scores['test_precision'].mean(), scores['test_recall'].mean(), scores['test_f1'].mean()"
   ]
  },
  {
   "cell_type": "code",
   "execution_count": 76,
   "metadata": {},
   "outputs": [],
   "source": [
    "scoring = {'precision': 'precision', \n",
    "           'recall': 'recall',\n",
    "           'roc_auc': 'roc_auc'}"
   ]
  },
  {
   "cell_type": "code",
   "execution_count": 77,
   "metadata": {},
   "outputs": [
    {
     "data": {
      "text/plain": [
       "['fit_time',\n",
       " 'score_time',\n",
       " 'test_precision',\n",
       " 'test_recall',\n",
       " 'test_roc_auc',\n",
       " 'train_precision',\n",
       " 'train_recall',\n",
       " 'train_roc_auc']"
      ]
     },
     "execution_count": 77,
     "metadata": {},
     "output_type": "execute_result"
    }
   ],
   "source": [
    "scores = cross_validate(model, X_train, y_train, scoring=scoring, cv=10, return_train_score=True)\n",
    "sorted(scores.keys())"
   ]
  },
  {
   "cell_type": "code",
   "execution_count": 78,
   "metadata": {},
   "outputs": [
    {
     "data": {
      "text/plain": [
       "(0.2833333333333333, 0.03736263736263736, 0.6129167397956458)"
      ]
     },
     "execution_count": 78,
     "metadata": {},
     "output_type": "execute_result"
    }
   ],
   "source": [
    "scores['test_precision'].mean(), scores['test_recall'].mean(), scores['test_roc_auc'].mean()"
   ]
  },
  {
   "cell_type": "markdown",
   "metadata": {},
   "source": [
    "#### Tuning model using Grid Search CV using 'Precision'"
   ]
  },
  {
   "cell_type": "code",
   "execution_count": 100,
   "metadata": {},
   "outputs": [],
   "source": [
    "n_neighbors = [1, 2, 3, 4, 5]\n",
    "weights = ['uniform', 'distance']\n",
    "algorithm = ['auto']\n",
    "\n",
    "param_grid = dict(n_neighbors=n_neighbors, weights=weights, algorithm=algorithm)"
   ]
  },
  {
   "cell_type": "code",
   "execution_count": 166,
   "metadata": {},
   "outputs": [],
   "source": [
    "grid = GridSearchCV(estimator=model, \n",
    "                    param_grid=param_grid, \n",
    "                    cv=StratifiedKFold(shuffle=True), \n",
    "                    scoring=['precision'],\n",
    "                    refit='precision',\n",
    "                    verbose=10)"
   ]
  },
  {
   "cell_type": "code",
   "execution_count": 167,
   "metadata": {},
   "outputs": [
    {
     "name": "stdout",
     "output_type": "stream",
     "text": [
      "Fitting 5 folds for each of 10 candidates, totalling 50 fits\n",
      "[CV] algorithm=auto, n_neighbors=1, weights=uniform ..................\n",
      "[CV]  algorithm=auto, n_neighbors=1, weights=uniform, precision=0.174, total=   0.0s\n",
      "[CV] algorithm=auto, n_neighbors=1, weights=uniform ..................\n",
      "[CV]  algorithm=auto, n_neighbors=1, weights=uniform, precision=0.192, total=   0.0s\n",
      "[CV] algorithm=auto, n_neighbors=1, weights=uniform ..................\n",
      "[CV]  algorithm=auto, n_neighbors=1, weights=uniform, precision=0.138, total=   0.0s\n",
      "[CV] algorithm=auto, n_neighbors=1, weights=uniform ..................\n",
      "[CV]  algorithm=auto, n_neighbors=1, weights=uniform, precision=0.115, total=   0.0s\n",
      "[CV] algorithm=auto, n_neighbors=1, weights=uniform ..................\n",
      "[CV]  algorithm=auto, n_neighbors=1, weights=uniform, precision=0.125, total=   0.0s\n",
      "[CV] algorithm=auto, n_neighbors=1, weights=distance .................\n",
      "[CV]  algorithm=auto, n_neighbors=1, weights=distance, precision=0.174, total=   0.0s\n",
      "[CV] algorithm=auto, n_neighbors=1, weights=distance .................\n",
      "[CV]  algorithm=auto, n_neighbors=1, weights=distance, precision=0.192, total=   0.0s\n",
      "[CV] algorithm=auto, n_neighbors=1, weights=distance .................\n",
      "[CV]  algorithm=auto, n_neighbors=1, weights=distance, precision=0.138, total=   0.0s\n",
      "[CV] algorithm=auto, n_neighbors=1, weights=distance .................\n",
      "[CV]  algorithm=auto, n_neighbors=1, weights=distance, precision=0.115, total=   0.0s\n",
      "[CV] algorithm=auto, n_neighbors=1, weights=distance .................\n",
      "[CV]  algorithm=auto, n_neighbors=1, weights=distance, precision=0.125, total=   0.0s\n",
      "[CV] algorithm=auto, n_neighbors=2, weights=uniform ..................\n"
     ]
    },
    {
     "name": "stderr",
     "output_type": "stream",
     "text": [
      "[Parallel(n_jobs=1)]: Using backend SequentialBackend with 1 concurrent workers.\n",
      "[Parallel(n_jobs=1)]: Done   1 out of   1 | elapsed:    0.0s remaining:    0.0s\n",
      "[Parallel(n_jobs=1)]: Done   2 out of   2 | elapsed:    0.0s remaining:    0.0s\n",
      "[Parallel(n_jobs=1)]: Done   3 out of   3 | elapsed:    0.0s remaining:    0.0s\n",
      "[Parallel(n_jobs=1)]: Done   4 out of   4 | elapsed:    0.0s remaining:    0.0s\n",
      "[Parallel(n_jobs=1)]: Done   5 out of   5 | elapsed:    0.0s remaining:    0.0s\n",
      "[Parallel(n_jobs=1)]: Done   6 out of   6 | elapsed:    0.0s remaining:    0.0s\n",
      "[Parallel(n_jobs=1)]: Done   7 out of   7 | elapsed:    0.0s remaining:    0.0s\n",
      "[Parallel(n_jobs=1)]: Done   8 out of   8 | elapsed:    0.1s remaining:    0.0s\n",
      "[Parallel(n_jobs=1)]: Done   9 out of   9 | elapsed:    0.1s remaining:    0.0s\n"
     ]
    },
    {
     "name": "stdout",
     "output_type": "stream",
     "text": [
      "[CV]  algorithm=auto, n_neighbors=2, weights=uniform, precision=1.000, total=   0.0s\n",
      "[CV] algorithm=auto, n_neighbors=2, weights=uniform ..................\n",
      "[CV]  algorithm=auto, n_neighbors=2, weights=uniform, precision=0.000, total=   0.0s\n",
      "[CV] algorithm=auto, n_neighbors=2, weights=uniform ..................\n",
      "[CV]  algorithm=auto, n_neighbors=2, weights=uniform, precision=0.000, total=   0.0s\n",
      "[CV] algorithm=auto, n_neighbors=2, weights=uniform ..................\n",
      "[CV]  algorithm=auto, n_neighbors=2, weights=uniform, precision=0.500, total=   0.0s\n",
      "[CV] algorithm=auto, n_neighbors=2, weights=uniform ..................\n",
      "[CV]  algorithm=auto, n_neighbors=2, weights=uniform, precision=0.000, total=   0.0s\n",
      "[CV] algorithm=auto, n_neighbors=2, weights=distance .................\n",
      "[CV]  algorithm=auto, n_neighbors=2, weights=distance, precision=0.174, total=   0.0s\n",
      "[CV] algorithm=auto, n_neighbors=2, weights=distance .................\n",
      "[CV]  algorithm=auto, n_neighbors=2, weights=distance, precision=0.192, total=   0.0s\n",
      "[CV] algorithm=auto, n_neighbors=2, weights=distance .................\n",
      "[CV]  algorithm=auto, n_neighbors=2, weights=distance, precision=0.138, total=   0.0s\n",
      "[CV] algorithm=auto, n_neighbors=2, weights=distance .................\n",
      "[CV]  algorithm=auto, n_neighbors=2, weights=distance, precision=0.115, total=   0.0s\n",
      "[CV] algorithm=auto, n_neighbors=2, weights=distance .................\n",
      "[CV]  algorithm=auto, n_neighbors=2, weights=distance, precision=0.125, total=   0.0s\n",
      "[CV] algorithm=auto, n_neighbors=3, weights=uniform ..................\n",
      "[CV]  algorithm=auto, n_neighbors=3, weights=uniform, precision=0.250, total=   0.0s\n",
      "[CV] algorithm=auto, n_neighbors=3, weights=uniform ..................\n",
      "[CV]  algorithm=auto, n_neighbors=3, weights=uniform, precision=0.100, total=   0.0s\n",
      "[CV] algorithm=auto, n_neighbors=3, weights=uniform ..................\n",
      "[CV]  algorithm=auto, n_neighbors=3, weights=uniform, precision=0.200, total=   0.0s\n",
      "[CV] algorithm=auto, n_neighbors=3, weights=uniform ..................\n",
      "[CV]  algorithm=auto, n_neighbors=3, weights=uniform, precision=0.273, total=   0.0s\n",
      "[CV] algorithm=auto, n_neighbors=3, weights=uniform ..................\n",
      "[CV]  algorithm=auto, n_neighbors=3, weights=uniform, precision=0.000, total=   0.0s\n",
      "[CV] algorithm=auto, n_neighbors=3, weights=distance .................\n",
      "[CV]  algorithm=auto, n_neighbors=3, weights=distance, precision=0.333, total=   0.0s\n",
      "[CV] algorithm=auto, n_neighbors=3, weights=distance .................\n",
      "[CV]  algorithm=auto, n_neighbors=3, weights=distance, precision=0.062, total=   0.0s\n",
      "[CV] algorithm=auto, n_neighbors=3, weights=distance .................\n",
      "[CV]  algorithm=auto, n_neighbors=3, weights=distance, precision=0.111, total=   0.0s\n",
      "[CV] algorithm=auto, n_neighbors=3, weights=distance .................\n",
      "[CV]  algorithm=auto, n_neighbors=3, weights=distance, precision=0.250, total=   0.0s\n",
      "[CV] algorithm=auto, n_neighbors=3, weights=distance .................\n",
      "[CV]  algorithm=auto, n_neighbors=3, weights=distance, precision=0.000, total=   0.0s\n",
      "[CV] algorithm=auto, n_neighbors=4, weights=uniform ..................\n",
      "[CV]  algorithm=auto, n_neighbors=4, weights=uniform, precision=0.500, total=   0.0s\n",
      "[CV] algorithm=auto, n_neighbors=4, weights=uniform ..................\n",
      "[CV]  algorithm=auto, n_neighbors=4, weights=uniform, precision=0.000, total=   0.0s\n",
      "[CV] algorithm=auto, n_neighbors=4, weights=uniform ..................\n",
      "[CV]  algorithm=auto, n_neighbors=4, weights=uniform, precision=0.500, total=   0.0s\n",
      "[CV] algorithm=auto, n_neighbors=4, weights=uniform ..................\n",
      "[CV]  algorithm=auto, n_neighbors=4, weights=uniform, precision=0.333, total=   0.0s\n",
      "[CV] algorithm=auto, n_neighbors=4, weights=uniform ..................\n",
      "[CV]  algorithm=auto, n_neighbors=4, weights=uniform, precision=0.000, total=   0.0s\n",
      "[CV] algorithm=auto, n_neighbors=4, weights=distance .................\n",
      "[CV]  algorithm=auto, n_neighbors=4, weights=distance, precision=0.250, total=   0.0s\n",
      "[CV] algorithm=auto, n_neighbors=4, weights=distance .................\n",
      "[CV]  algorithm=auto, n_neighbors=4, weights=distance, precision=0.091, total=   0.0s\n",
      "[CV] algorithm=auto, n_neighbors=4, weights=distance .................\n",
      "[CV]  algorithm=auto, n_neighbors=4, weights=distance, precision=0.143, total=   0.0s\n",
      "[CV] algorithm=auto, n_neighbors=4, weights=distance .................\n",
      "[CV]  algorithm=auto, n_neighbors=4, weights=distance, precision=0.214, total=   0.0s\n",
      "[CV] algorithm=auto, n_neighbors=4, weights=distance .................\n",
      "[CV]  algorithm=auto, n_neighbors=4, weights=distance, precision=0.000, total=   0.0s\n",
      "[CV] algorithm=auto, n_neighbors=5, weights=uniform ..................\n",
      "[CV]  algorithm=auto, n_neighbors=5, weights=uniform, precision=0.333, total=   0.0s\n",
      "[CV] algorithm=auto, n_neighbors=5, weights=uniform ..................\n",
      "[CV]  algorithm=auto, n_neighbors=5, weights=uniform, precision=0.000, total=   0.0s\n",
      "[CV] algorithm=auto, n_neighbors=5, weights=uniform ..................\n",
      "[CV]  algorithm=auto, n_neighbors=5, weights=uniform, precision=0.200, total=   0.0s\n",
      "[CV] algorithm=auto, n_neighbors=5, weights=uniform ..................\n",
      "[CV]  algorithm=auto, n_neighbors=5, weights=uniform, precision=0.167, total=   0.0s\n",
      "[CV] algorithm=auto, n_neighbors=5, weights=uniform ..................\n",
      "[CV]  algorithm=auto, n_neighbors=5, weights=uniform, precision=0.200, total=   0.0s\n",
      "[CV] algorithm=auto, n_neighbors=5, weights=distance .................\n",
      "[CV]  algorithm=auto, n_neighbors=5, weights=distance, precision=0.167, total=   0.0s\n",
      "[CV] algorithm=auto, n_neighbors=5, weights=distance .................\n",
      "[CV]  algorithm=auto, n_neighbors=5, weights=distance, precision=0.000, total=   0.0s\n",
      "[CV] algorithm=auto, n_neighbors=5, weights=distance .................\n",
      "[CV]  algorithm=auto, n_neighbors=5, weights=distance, precision=0.200, total=   0.0s\n",
      "[CV] algorithm=auto, n_neighbors=5, weights=distance .................\n",
      "[CV]  algorithm=auto, n_neighbors=5, weights=distance, precision=0.286, total=   0.0s\n",
      "[CV] algorithm=auto, n_neighbors=5, weights=distance .................\n",
      "[CV]  algorithm=auto, n_neighbors=5, weights=distance, precision=0.182, total=   0.0s\n"
     ]
    },
    {
     "name": "stderr",
     "output_type": "stream",
     "text": [
      "[Parallel(n_jobs=1)]: Done  50 out of  50 | elapsed:    0.8s finished\n"
     ]
    }
   ],
   "source": [
    "grid_result = grid.fit(X_train, y_train)"
   ]
  },
  {
   "cell_type": "code",
   "execution_count": 169,
   "metadata": {},
   "outputs": [
    {
     "data": {
      "text/plain": [
       "{'mean_fit_time': array([0.00749898, 0.00709791, 0.00720897, 0.00661278, 0.00680313,\n",
       "        0.00660892, 0.00739679, 0.0068336 , 0.00702534, 0.00680685]),\n",
       " 'std_fit_time': array([0.00168221, 0.00101227, 0.00040144, 0.00079562, 0.00038804,\n",
       "        0.00049401, 0.00046959, 0.00075472, 0.00108296, 0.00077235]),\n",
       " 'mean_score_time': array([0.0144012 , 0.00500631, 0.01520929, 0.0060009 , 0.01560407,\n",
       "        0.00659871, 0.01461163, 0.00779266, 0.01619816, 0.00700345]),\n",
       " 'std_score_time': array([1.35609420e-03, 2.72261073e-05, 9.74807972e-04, 6.40086522e-04,\n",
       "        1.38335503e-03, 4.89420790e-04, 5.08285566e-04, 7.46846546e-04,\n",
       "        2.63806333e-03, 6.02892658e-06]),\n",
       " 'param_algorithm': masked_array(data=['auto', 'auto', 'auto', 'auto', 'auto', 'auto', 'auto',\n",
       "                    'auto', 'auto', 'auto'],\n",
       "              mask=[False, False, False, False, False, False, False, False,\n",
       "                    False, False],\n",
       "        fill_value='?',\n",
       "             dtype=object),\n",
       " 'param_n_neighbors': masked_array(data=[1, 1, 2, 2, 3, 3, 4, 4, 5, 5],\n",
       "              mask=[False, False, False, False, False, False, False, False,\n",
       "                    False, False],\n",
       "        fill_value='?',\n",
       "             dtype=object),\n",
       " 'param_weights': masked_array(data=['uniform', 'distance', 'uniform', 'distance',\n",
       "                    'uniform', 'distance', 'uniform', 'distance',\n",
       "                    'uniform', 'distance'],\n",
       "              mask=[False, False, False, False, False, False, False, False,\n",
       "                    False, False],\n",
       "        fill_value='?',\n",
       "             dtype=object),\n",
       " 'params': [{'algorithm': 'auto', 'n_neighbors': 1, 'weights': 'uniform'},\n",
       "  {'algorithm': 'auto', 'n_neighbors': 1, 'weights': 'distance'},\n",
       "  {'algorithm': 'auto', 'n_neighbors': 2, 'weights': 'uniform'},\n",
       "  {'algorithm': 'auto', 'n_neighbors': 2, 'weights': 'distance'},\n",
       "  {'algorithm': 'auto', 'n_neighbors': 3, 'weights': 'uniform'},\n",
       "  {'algorithm': 'auto', 'n_neighbors': 3, 'weights': 'distance'},\n",
       "  {'algorithm': 'auto', 'n_neighbors': 4, 'weights': 'uniform'},\n",
       "  {'algorithm': 'auto', 'n_neighbors': 4, 'weights': 'distance'},\n",
       "  {'algorithm': 'auto', 'n_neighbors': 5, 'weights': 'uniform'},\n",
       "  {'algorithm': 'auto', 'n_neighbors': 5, 'weights': 'distance'}],\n",
       " 'split0_test_precision': array([0.17391304, 0.17391304, 1.        , 0.17391304, 0.25      ,\n",
       "        0.33333333, 0.5       , 0.25      , 0.33333333, 0.16666667]),\n",
       " 'split1_test_precision': array([0.19230769, 0.19230769, 0.        , 0.19230769, 0.1       ,\n",
       "        0.0625    , 0.        , 0.09090909, 0.        , 0.        ]),\n",
       " 'split2_test_precision': array([0.13793103, 0.13793103, 0.        , 0.13793103, 0.2       ,\n",
       "        0.11111111, 0.5       , 0.14285714, 0.2       , 0.2       ]),\n",
       " 'split3_test_precision': array([0.11538462, 0.11538462, 0.5       , 0.11538462, 0.27272727,\n",
       "        0.25      , 0.33333333, 0.21428571, 0.16666667, 0.28571429]),\n",
       " 'split4_test_precision': array([0.125     , 0.125     , 0.        , 0.125     , 0.        ,\n",
       "        0.        , 0.        , 0.        , 0.2       , 0.18181818]),\n",
       " 'mean_test_precision': array([0.14890728, 0.14890728, 0.3       , 0.14890728, 0.16454545,\n",
       "        0.15138889, 0.26666667, 0.13961039, 0.18      , 0.16683983]),\n",
       " 'std_test_precision': array([0.02940983, 0.02940983, 0.4       , 0.02940983, 0.10149299,\n",
       "        0.12269479, 0.22607767, 0.08903448, 0.10666667, 0.09304907]),\n",
       " 'rank_test_precision': array([ 7,  7,  1,  7,  5,  6,  2, 10,  3,  4])}"
      ]
     },
     "execution_count": 169,
     "metadata": {},
     "output_type": "execute_result"
    }
   ],
   "source": [
    "grid_result.cv_results_"
   ]
  },
  {
   "cell_type": "code",
   "execution_count": 170,
   "metadata": {},
   "outputs": [
    {
     "data": {
      "text/plain": [
       "KNeighborsClassifier(n_neighbors=2)"
      ]
     },
     "execution_count": 170,
     "metadata": {},
     "output_type": "execute_result"
    }
   ],
   "source": [
    "grid_result.best_estimator_"
   ]
  },
  {
   "cell_type": "code",
   "execution_count": 171,
   "metadata": {},
   "outputs": [
    {
     "data": {
      "text/plain": [
       "0.3"
      ]
     },
     "execution_count": 171,
     "metadata": {},
     "output_type": "execute_result"
    }
   ],
   "source": [
    "grid_result.best_score_"
   ]
  },
  {
   "cell_type": "code",
   "execution_count": 172,
   "metadata": {},
   "outputs": [],
   "source": [
    "n_neighbors, weights = grid_result.best_estimator_.n_neighbors , grid_result.best_estimator_.weights"
   ]
  },
  {
   "cell_type": "code",
   "execution_count": 173,
   "metadata": {},
   "outputs": [
    {
     "data": {
      "text/plain": [
       "(2, 'uniform')"
      ]
     },
     "execution_count": 173,
     "metadata": {},
     "output_type": "execute_result"
    }
   ],
   "source": [
    "n_neighbors, weights"
   ]
  },
  {
   "cell_type": "code",
   "execution_count": 174,
   "metadata": {},
   "outputs": [
    {
     "data": {
      "text/plain": [
       "{'precision': make_scorer(precision_score, average=binary)}"
      ]
     },
     "execution_count": 174,
     "metadata": {},
     "output_type": "execute_result"
    }
   ],
   "source": [
    "grid_result.scorer_"
   ]
  },
  {
   "cell_type": "code",
   "execution_count": 175,
   "metadata": {},
   "outputs": [
    {
     "data": {
      "text/plain": [
       "5"
      ]
     },
     "execution_count": 175,
     "metadata": {},
     "output_type": "execute_result"
    }
   ],
   "source": [
    "grid_result.n_splits_"
   ]
  },
  {
   "cell_type": "code",
   "execution_count": 176,
   "metadata": {},
   "outputs": [],
   "source": [
    "model = grid_result.best_estimator_"
   ]
  },
  {
   "cell_type": "code",
   "execution_count": 177,
   "metadata": {},
   "outputs": [
    {
     "data": {
      "text/plain": [
       "KNeighborsClassifier(n_neighbors=2)"
      ]
     },
     "execution_count": 177,
     "metadata": {},
     "output_type": "execute_result"
    }
   ],
   "source": [
    "model"
   ]
  },
  {
   "cell_type": "code",
   "execution_count": 189,
   "metadata": {},
   "outputs": [
    {
     "data": {
      "text/plain": [
       "['seismic_bump_k_neighbors_2_uniform_precision.sav']"
      ]
     },
     "execution_count": 189,
     "metadata": {},
     "output_type": "execute_result"
    }
   ],
   "source": [
    "file_name = 'seismic_bump_k_neighbors_'+ str(n_neighbors) + '_' + weights + '_' + list(grid_result.scorer_.keys())[0]+'.sav'\n",
    "joblib.dump(model, file_name)"
   ]
  },
  {
   "cell_type": "code",
   "execution_count": 179,
   "metadata": {},
   "outputs": [],
   "source": [
    "y_pred = model.predict(X_test)"
   ]
  },
  {
   "cell_type": "code",
   "execution_count": 180,
   "metadata": {},
   "outputs": [
    {
     "data": {
      "text/plain": [
       "(517,)"
      ]
     },
     "execution_count": 180,
     "metadata": {},
     "output_type": "execute_result"
    }
   ],
   "source": [
    "y_pred.shape"
   ]
  },
  {
   "cell_type": "code",
   "execution_count": 181,
   "metadata": {},
   "outputs": [
    {
     "data": {
      "text/plain": [
       "array([[478,   5],\n",
       "       [ 33,   1]], dtype=int64)"
      ]
     },
     "execution_count": 181,
     "metadata": {},
     "output_type": "execute_result"
    }
   ],
   "source": [
    "confusion_matrix(y_test, y_pred)"
   ]
  },
  {
   "cell_type": "code",
   "execution_count": 182,
   "metadata": {},
   "outputs": [
    {
     "data": {
      "text/plain": [
       "(478, 5, 33, 1)"
      ]
     },
     "execution_count": 182,
     "metadata": {},
     "output_type": "execute_result"
    }
   ],
   "source": [
    "tn, fp, fn, tp = confusion_matrix(y_test, y_pred).ravel()\n",
    "(tn, fp, fn, tp)"
   ]
  },
  {
   "cell_type": "code",
   "execution_count": 183,
   "metadata": {},
   "outputs": [
    {
     "data": {
      "text/plain": [
       "(0.9264990328820116, 0.029411764705882353, 0.16666666666666666, 0.05)"
      ]
     },
     "execution_count": 183,
     "metadata": {},
     "output_type": "execute_result"
    }
   ],
   "source": [
    "from sklearn.metrics import precision_score, recall_score, f1_score, accuracy_score\n",
    "accuracy_score(y_test, y_pred), recall_score(y_test, y_pred), precision_score(y_test, y_pred), f1_score(y_test, y_pred)"
   ]
  },
  {
   "cell_type": "markdown",
   "metadata": {},
   "source": [
    "That is the model could only identify ~2% of hazardrous seismic bumps out of all actual hazardrous seismic bumps while only ~16% of the predicted hazardrous seismic bumps were actually hazardrous. Needless to say, the model ain't too good.\n",
    "\n",
    "However, you can clearly see what is classically called as \"Accuracy Paradox\" that rises due to an unabalanced dataset and this is a demonstartion of how most of the negatives were deetcted correctly, which shot up the accuracy to 92%.\n",
    "\n",
    "In the next few cells I have retrained using different performance metrics to measure the model fit."
   ]
  },
  {
   "cell_type": "markdown",
   "metadata": {},
   "source": [
    "#### Tuning model using Grid Search CV using 'Precision'  again"
   ]
  },
  {
   "cell_type": "code",
   "execution_count": 196,
   "metadata": {},
   "outputs": [
    {
     "name": "stdout",
     "output_type": "stream",
     "text": [
      "Fitting 5 folds for each of 10 candidates, totalling 50 fits\n",
      "[CV] algorithm=auto, n_neighbors=1, weights=uniform ..................\n",
      "[CV]  algorithm=auto, n_neighbors=1, weights=uniform, precision=0.273, total=   0.0s\n",
      "[CV] algorithm=auto, n_neighbors=1, weights=uniform ..................\n",
      "[CV]  algorithm=auto, n_neighbors=1, weights=uniform, precision=0.143, total=   0.0s\n",
      "[CV] algorithm=auto, n_neighbors=1, weights=uniform ..................\n",
      "[CV]  algorithm=auto, n_neighbors=1, weights=uniform, precision=0.138, total=   0.0s\n",
      "[CV] algorithm=auto, n_neighbors=1, weights=uniform ..................\n",
      "[CV]  algorithm=auto, n_neighbors=1, weights=uniform, precision=0.182, total=   0.0s\n",
      "[CV] algorithm=auto, n_neighbors=1, weights=uniform ..................\n",
      "[CV]  algorithm=auto, n_neighbors=1, weights=uniform, precision=0.190, total=   0.0s\n",
      "[CV] algorithm=auto, n_neighbors=1, weights=distance .................\n",
      "[CV]  algorithm=auto, n_neighbors=1, weights=distance, precision=0.273, total=   0.0s\n",
      "[CV] algorithm=auto, n_neighbors=1, weights=distance .................\n",
      "[CV]  algorithm=auto, n_neighbors=1, weights=distance, precision=0.143, total=   0.0s\n",
      "[CV] algorithm=auto, n_neighbors=1, weights=distance .................\n",
      "[CV]  algorithm=auto, n_neighbors=1, weights=distance, precision=0.138, total=   0.0s\n",
      "[CV] algorithm=auto, n_neighbors=1, weights=distance .................\n",
      "[CV]  algorithm=auto, n_neighbors=1, weights=distance, precision=0.182, total=   0.0s\n",
      "[CV] algorithm=auto, n_neighbors=1, weights=distance .................\n"
     ]
    },
    {
     "name": "stderr",
     "output_type": "stream",
     "text": [
      "[Parallel(n_jobs=1)]: Using backend SequentialBackend with 1 concurrent workers.\n",
      "[Parallel(n_jobs=1)]: Done   1 out of   1 | elapsed:    0.0s remaining:    0.0s\n",
      "[Parallel(n_jobs=1)]: Done   2 out of   2 | elapsed:    0.0s remaining:    0.0s\n",
      "[Parallel(n_jobs=1)]: Done   3 out of   3 | elapsed:    0.0s remaining:    0.0s\n",
      "[Parallel(n_jobs=1)]: Done   4 out of   4 | elapsed:    0.0s remaining:    0.0s\n",
      "[Parallel(n_jobs=1)]: Done   5 out of   5 | elapsed:    0.0s remaining:    0.0s\n",
      "[Parallel(n_jobs=1)]: Done   6 out of   6 | elapsed:    0.0s remaining:    0.0s\n",
      "[Parallel(n_jobs=1)]: Done   7 out of   7 | elapsed:    0.1s remaining:    0.0s\n",
      "[Parallel(n_jobs=1)]: Done   8 out of   8 | elapsed:    0.1s remaining:    0.0s\n",
      "[Parallel(n_jobs=1)]: Done   9 out of   9 | elapsed:    0.1s remaining:    0.0s\n"
     ]
    },
    {
     "name": "stdout",
     "output_type": "stream",
     "text": [
      "[CV]  algorithm=auto, n_neighbors=1, weights=distance, precision=0.190, total=   0.0s\n",
      "[CV] algorithm=auto, n_neighbors=2, weights=uniform ..................\n",
      "[CV]  algorithm=auto, n_neighbors=2, weights=uniform, precision=0.250, total=   0.0s\n",
      "[CV] algorithm=auto, n_neighbors=2, weights=uniform ..................\n",
      "[CV]  algorithm=auto, n_neighbors=2, weights=uniform, precision=0.250, total=   0.0s\n",
      "[CV] algorithm=auto, n_neighbors=2, weights=uniform ..................\n",
      "[CV]  algorithm=auto, n_neighbors=2, weights=uniform, precision=0.667, total=   0.0s\n",
      "[CV] algorithm=auto, n_neighbors=2, weights=uniform ..................\n",
      "[CV]  algorithm=auto, n_neighbors=2, weights=uniform, precision=0.000, total=   0.0s\n",
      "[CV] algorithm=auto, n_neighbors=2, weights=uniform ..................\n",
      "[CV]  algorithm=auto, n_neighbors=2, weights=uniform, precision=0.500, total=   0.0s\n",
      "[CV] algorithm=auto, n_neighbors=2, weights=distance .................\n",
      "[CV]  algorithm=auto, n_neighbors=2, weights=distance, precision=0.273, total=   0.0s\n",
      "[CV] algorithm=auto, n_neighbors=2, weights=distance .................\n",
      "[CV]  algorithm=auto, n_neighbors=2, weights=distance, precision=0.143, total=   0.0s\n",
      "[CV] algorithm=auto, n_neighbors=2, weights=distance .................\n",
      "[CV]  algorithm=auto, n_neighbors=2, weights=distance, precision=0.138, total=   0.0s\n",
      "[CV] algorithm=auto, n_neighbors=2, weights=distance .................\n",
      "[CV]  algorithm=auto, n_neighbors=2, weights=distance, precision=0.182, total=   0.0s\n",
      "[CV] algorithm=auto, n_neighbors=2, weights=distance .................\n",
      "[CV]  algorithm=auto, n_neighbors=2, weights=distance, precision=0.190, total=   0.0s\n",
      "[CV] algorithm=auto, n_neighbors=3, weights=uniform ..................\n",
      "[CV]  algorithm=auto, n_neighbors=3, weights=uniform, precision=0.286, total=   0.0s\n",
      "[CV] algorithm=auto, n_neighbors=3, weights=uniform ..................\n",
      "[CV]  algorithm=auto, n_neighbors=3, weights=uniform, precision=0.214, total=   0.0s\n",
      "[CV] algorithm=auto, n_neighbors=3, weights=uniform ..................\n",
      "[CV]  algorithm=auto, n_neighbors=3, weights=uniform, precision=0.250, total=   0.0s\n",
      "[CV] algorithm=auto, n_neighbors=3, weights=uniform ..................\n",
      "[CV]  algorithm=auto, n_neighbors=3, weights=uniform, precision=0.375, total=   0.0s\n",
      "[CV] algorithm=auto, n_neighbors=3, weights=uniform ..................\n",
      "[CV]  algorithm=auto, n_neighbors=3, weights=uniform, precision=0.500, total=   0.0s\n",
      "[CV] algorithm=auto, n_neighbors=3, weights=distance .................\n",
      "[CV]  algorithm=auto, n_neighbors=3, weights=distance, precision=0.182, total=   0.0s\n",
      "[CV] algorithm=auto, n_neighbors=3, weights=distance .................\n",
      "[CV]  algorithm=auto, n_neighbors=3, weights=distance, precision=0.211, total=   0.0s\n",
      "[CV] algorithm=auto, n_neighbors=3, weights=distance .................\n",
      "[CV]  algorithm=auto, n_neighbors=3, weights=distance, precision=0.154, total=   0.0s\n",
      "[CV] algorithm=auto, n_neighbors=3, weights=distance .................\n",
      "[CV]  algorithm=auto, n_neighbors=3, weights=distance, precision=0.364, total=   0.0s\n",
      "[CV] algorithm=auto, n_neighbors=3, weights=distance .................\n",
      "[CV]  algorithm=auto, n_neighbors=3, weights=distance, precision=0.500, total=   0.0s\n",
      "[CV] algorithm=auto, n_neighbors=4, weights=uniform ..................\n",
      "[CV]  algorithm=auto, n_neighbors=4, weights=uniform, precision=0.000, total=   0.0s\n",
      "[CV] algorithm=auto, n_neighbors=4, weights=uniform ..................\n",
      "[CV]  algorithm=auto, n_neighbors=4, weights=uniform, precision=0.333, total=   0.0s\n",
      "[CV] algorithm=auto, n_neighbors=4, weights=uniform ..................\n",
      "[CV]  algorithm=auto, n_neighbors=4, weights=uniform, precision=0.500, total=   0.0s\n",
      "[CV] algorithm=auto, n_neighbors=4, weights=uniform ..................\n",
      "[CV]  algorithm=auto, n_neighbors=4, weights=uniform, precision=1.000, total=   0.0s\n",
      "[CV] algorithm=auto, n_neighbors=4, weights=uniform ..................\n",
      "[CV]  algorithm=auto, n_neighbors=4, weights=uniform, precision=0.500, total=   0.0s\n",
      "[CV] algorithm=auto, n_neighbors=4, weights=distance .................\n",
      "[CV]  algorithm=auto, n_neighbors=4, weights=distance, precision=0.182, total=   0.0s\n",
      "[CV] algorithm=auto, n_neighbors=4, weights=distance .................\n",
      "[CV]  algorithm=auto, n_neighbors=4, weights=distance, precision=0.188, total=   0.0s\n",
      "[CV] algorithm=auto, n_neighbors=4, weights=distance .................\n",
      "[CV]  algorithm=auto, n_neighbors=4, weights=distance, precision=0.250, total=   0.0s\n",
      "[CV] algorithm=auto, n_neighbors=4, weights=distance .................\n",
      "[CV]  algorithm=auto, n_neighbors=4, weights=distance, precision=0.333, total=   0.0s\n",
      "[CV] algorithm=auto, n_neighbors=4, weights=distance .................\n",
      "[CV]  algorithm=auto, n_neighbors=4, weights=distance, precision=0.500, total=   0.0s\n",
      "[CV] algorithm=auto, n_neighbors=5, weights=uniform ..................\n",
      "[CV]  algorithm=auto, n_neighbors=5, weights=uniform, precision=0.000, total=   0.0s\n",
      "[CV] algorithm=auto, n_neighbors=5, weights=uniform ..................\n",
      "[CV]  algorithm=auto, n_neighbors=5, weights=uniform, precision=0.200, total=   0.0s\n",
      "[CV] algorithm=auto, n_neighbors=5, weights=uniform ..................\n",
      "[CV]  algorithm=auto, n_neighbors=5, weights=uniform, precision=0.167, total=   0.0s\n",
      "[CV] algorithm=auto, n_neighbors=5, weights=uniform ..................\n",
      "[CV]  algorithm=auto, n_neighbors=5, weights=uniform, precision=0.400, total=   0.0s\n",
      "[CV] algorithm=auto, n_neighbors=5, weights=uniform ..................\n",
      "[CV]  algorithm=auto, n_neighbors=5, weights=uniform, precision=0.500, total=   0.0s\n",
      "[CV] algorithm=auto, n_neighbors=5, weights=distance .................\n",
      "[CV]  algorithm=auto, n_neighbors=5, weights=distance, precision=0.167, total=   0.0s\n",
      "[CV] algorithm=auto, n_neighbors=5, weights=distance .................\n",
      "[CV]  algorithm=auto, n_neighbors=5, weights=distance, precision=0.250, total=   0.0s\n",
      "[CV] algorithm=auto, n_neighbors=5, weights=distance .................\n",
      "[CV]  algorithm=auto, n_neighbors=5, weights=distance, precision=0.286, total=   0.0s\n",
      "[CV] algorithm=auto, n_neighbors=5, weights=distance .................\n",
      "[CV]  algorithm=auto, n_neighbors=5, weights=distance, precision=0.333, total=   0.0s\n",
      "[CV] algorithm=auto, n_neighbors=5, weights=distance .................\n",
      "[CV]  algorithm=auto, n_neighbors=5, weights=distance, precision=0.500, total=   0.0s\n",
      "0.4666666666666666\n",
      "KNeighborsClassifier(n_neighbors=4)\n"
     ]
    },
    {
     "name": "stderr",
     "output_type": "stream",
     "text": [
      "[Parallel(n_jobs=1)]: Done  50 out of  50 | elapsed:    0.9s finished\n"
     ]
    },
    {
     "data": {
      "text/plain": [
       "(0.9323017408123792,\n",
       " 0.029411764705882353,\n",
       " 0.3333333333333333,\n",
       " 0.05405405405405406)"
      ]
     },
     "execution_count": 196,
     "metadata": {},
     "output_type": "execute_result"
    }
   ],
   "source": [
    "grid = GridSearchCV(estimator=model, \n",
    "                    param_grid=param_grid, \n",
    "                    cv=StratifiedKFold(shuffle=True), \n",
    "                    scoring=['precision'],\n",
    "                    refit='precision',\n",
    "                    verbose=10)\n",
    "grid_result = grid.fit(X_train, y_train)\n",
    "n_neighbors, weights = grid_result.best_estimator_.n_neighbors , grid_result.best_estimator_.weights\n",
    "file_name = 'seismic_bump_k_neighbors_'+ str(n_neighbors) + '_' + weights + '_' + list(grid_result.scorer_.keys())[0]+'.sav'\n",
    "joblib.dump(model, file_name)\n",
    "print(grid_result.best_score_)\n",
    "print(grid_result.best_estimator_)\n",
    "y_pred = grid_result.best_estimator_.predict(X_test)\n",
    "\n",
    "accuracy_score(y_test, y_pred), recall_score(y_test, y_pred), precision_score(y_test, y_pred), f1_score(y_test, y_pred)"
   ]
  },
  {
   "cell_type": "markdown",
   "metadata": {},
   "source": [
    "Slight improvement in the precision of the model while in recall there is no improvement. This time the model predicted ~33% of all there predicted hazardrous seismic bumps correctly."
   ]
  },
  {
   "cell_type": "markdown",
   "metadata": {},
   "source": [
    "#### Tuning model using Grid Search CV using 'Recall' "
   ]
  },
  {
   "cell_type": "code",
   "execution_count": 198,
   "metadata": {
    "scrolled": false
   },
   "outputs": [
    {
     "name": "stdout",
     "output_type": "stream",
     "text": [
      "Fitting 5 folds for each of 10 candidates, totalling 50 fits\n",
      "[CV] algorithm=auto, n_neighbors=1, weights=uniform ..................\n",
      "[CV]  algorithm=auto, n_neighbors=1, weights=uniform, recall=0.222, total=   0.0s\n",
      "[CV] algorithm=auto, n_neighbors=1, weights=uniform ..................\n",
      "[CV]  algorithm=auto, n_neighbors=1, weights=uniform, recall=0.071, total=   0.0s\n",
      "[CV] algorithm=auto, n_neighbors=1, weights=uniform ..................\n",
      "[CV]  algorithm=auto, n_neighbors=1, weights=uniform, recall=0.111, total=   0.0s\n",
      "[CV] algorithm=auto, n_neighbors=1, weights=uniform ..................\n",
      "[CV]  algorithm=auto, n_neighbors=1, weights=uniform, recall=0.111, total=   0.0s\n",
      "[CV] algorithm=auto, n_neighbors=1, weights=uniform ..................\n",
      "[CV]  algorithm=auto, n_neighbors=1, weights=uniform, recall=0.148, total=   0.0s\n",
      "[CV] algorithm=auto, n_neighbors=1, weights=distance .................\n",
      "[CV]  algorithm=auto, n_neighbors=1, weights=distance, recall=0.222, total=   0.0s\n",
      "[CV] algorithm=auto, n_neighbors=1, weights=distance .................\n",
      "[CV]  algorithm=auto, n_neighbors=1, weights=distance, recall=0.071, total=   0.0s\n",
      "[CV] algorithm=auto, n_neighbors=1, weights=distance .................\n",
      "[CV]  algorithm=auto, n_neighbors=1, weights=distance, recall=0.111, total=   0.0s\n",
      "[CV] algorithm=auto, n_neighbors=1, weights=distance .................\n",
      "[CV]  algorithm=auto, n_neighbors=1, weights=distance, recall=0.111, total=   0.0s\n",
      "[CV] algorithm=auto, n_neighbors=1, weights=distance .................\n",
      "[CV]  algorithm=auto, n_neighbors=1, weights=distance, recall=0.148, total=   0.0s\n",
      "[CV] algorithm=auto, n_neighbors=2, weights=uniform ..................\n",
      "[CV]  algorithm=auto, n_neighbors=2, weights=uniform, recall=0.000, total=   0.0s\n",
      "[CV] algorithm=auto, n_neighbors=2, weights=uniform ..................\n"
     ]
    },
    {
     "name": "stderr",
     "output_type": "stream",
     "text": [
      "[Parallel(n_jobs=1)]: Using backend SequentialBackend with 1 concurrent workers.\n",
      "[Parallel(n_jobs=1)]: Done   1 out of   1 | elapsed:    0.0s remaining:    0.0s\n",
      "[Parallel(n_jobs=1)]: Done   2 out of   2 | elapsed:    0.0s remaining:    0.0s\n",
      "[Parallel(n_jobs=1)]: Done   3 out of   3 | elapsed:    0.0s remaining:    0.0s\n",
      "[Parallel(n_jobs=1)]: Done   4 out of   4 | elapsed:    0.0s remaining:    0.0s\n",
      "[Parallel(n_jobs=1)]: Done   5 out of   5 | elapsed:    0.0s remaining:    0.0s\n",
      "[Parallel(n_jobs=1)]: Done   6 out of   6 | elapsed:    0.0s remaining:    0.0s\n",
      "[Parallel(n_jobs=1)]: Done   7 out of   7 | elapsed:    0.0s remaining:    0.0s\n",
      "[Parallel(n_jobs=1)]: Done   8 out of   8 | elapsed:    0.0s remaining:    0.0s\n",
      "[Parallel(n_jobs=1)]: Done   9 out of   9 | elapsed:    0.1s remaining:    0.0s\n"
     ]
    },
    {
     "name": "stdout",
     "output_type": "stream",
     "text": [
      "[CV]  algorithm=auto, n_neighbors=2, weights=uniform, recall=0.000, total=   0.0s\n",
      "[CV] algorithm=auto, n_neighbors=2, weights=uniform ..................\n",
      "[CV]  algorithm=auto, n_neighbors=2, weights=uniform, recall=0.037, total=   0.0s\n",
      "[CV] algorithm=auto, n_neighbors=2, weights=uniform ..................\n",
      "[CV]  algorithm=auto, n_neighbors=2, weights=uniform, recall=0.037, total=   0.0s\n",
      "[CV] algorithm=auto, n_neighbors=2, weights=uniform ..................\n",
      "[CV]  algorithm=auto, n_neighbors=2, weights=uniform, recall=0.000, total=   0.0s\n",
      "[CV] algorithm=auto, n_neighbors=2, weights=distance .................\n",
      "[CV]  algorithm=auto, n_neighbors=2, weights=distance, recall=0.222, total=   0.0s\n",
      "[CV] algorithm=auto, n_neighbors=2, weights=distance .................\n",
      "[CV]  algorithm=auto, n_neighbors=2, weights=distance, recall=0.071, total=   0.0s\n",
      "[CV] algorithm=auto, n_neighbors=2, weights=distance .................\n",
      "[CV]  algorithm=auto, n_neighbors=2, weights=distance, recall=0.111, total=   0.0s\n",
      "[CV] algorithm=auto, n_neighbors=2, weights=distance .................\n",
      "[CV]  algorithm=auto, n_neighbors=2, weights=distance, recall=0.111, total=   0.0s\n",
      "[CV] algorithm=auto, n_neighbors=2, weights=distance .................\n",
      "[CV]  algorithm=auto, n_neighbors=2, weights=distance, recall=0.148, total=   0.0s\n",
      "[CV] algorithm=auto, n_neighbors=3, weights=uniform ..................\n",
      "[CV]  algorithm=auto, n_neighbors=3, weights=uniform, recall=0.000, total=   0.0s\n",
      "[CV] algorithm=auto, n_neighbors=3, weights=uniform ..................\n",
      "[CV]  algorithm=auto, n_neighbors=3, weights=uniform, recall=0.036, total=   0.0s\n",
      "[CV] algorithm=auto, n_neighbors=3, weights=uniform ..................\n",
      "[CV]  algorithm=auto, n_neighbors=3, weights=uniform, recall=0.074, total=   0.0s\n",
      "[CV] algorithm=auto, n_neighbors=3, weights=uniform ..................\n",
      "[CV]  algorithm=auto, n_neighbors=3, weights=uniform, recall=0.074, total=   0.0s\n",
      "[CV] algorithm=auto, n_neighbors=3, weights=uniform ..................\n",
      "[CV]  algorithm=auto, n_neighbors=3, weights=uniform, recall=0.074, total=   0.0s\n",
      "[CV] algorithm=auto, n_neighbors=3, weights=distance .................\n",
      "[CV]  algorithm=auto, n_neighbors=3, weights=distance, recall=0.037, total=   0.0s\n",
      "[CV] algorithm=auto, n_neighbors=3, weights=distance .................\n",
      "[CV]  algorithm=auto, n_neighbors=3, weights=distance, recall=0.071, total=   0.0s\n",
      "[CV] algorithm=auto, n_neighbors=3, weights=distance .................\n",
      "[CV]  algorithm=auto, n_neighbors=3, weights=distance, recall=0.074, total=   0.0s\n",
      "[CV] algorithm=auto, n_neighbors=3, weights=distance .................\n",
      "[CV]  algorithm=auto, n_neighbors=3, weights=distance, recall=0.074, total=   0.0s\n",
      "[CV] algorithm=auto, n_neighbors=3, weights=distance .................\n",
      "[CV]  algorithm=auto, n_neighbors=3, weights=distance, recall=0.074, total=   0.0s\n",
      "[CV] algorithm=auto, n_neighbors=4, weights=uniform ..................\n",
      "[CV]  algorithm=auto, n_neighbors=4, weights=uniform, recall=0.000, total=   0.0s\n",
      "[CV] algorithm=auto, n_neighbors=4, weights=uniform ..................\n",
      "[CV]  algorithm=auto, n_neighbors=4, weights=uniform, recall=0.000, total=   0.0s\n",
      "[CV] algorithm=auto, n_neighbors=4, weights=uniform ..................\n",
      "[CV]  algorithm=auto, n_neighbors=4, weights=uniform, recall=0.037, total=   0.0s\n",
      "[CV] algorithm=auto, n_neighbors=4, weights=uniform ..................\n",
      "[CV]  algorithm=auto, n_neighbors=4, weights=uniform, recall=0.000, total=   0.0s\n",
      "[CV] algorithm=auto, n_neighbors=4, weights=uniform ..................\n",
      "[CV]  algorithm=auto, n_neighbors=4, weights=uniform, recall=0.037, total=   0.0s\n",
      "[CV] algorithm=auto, n_neighbors=4, weights=distance .................\n",
      "[CV]  algorithm=auto, n_neighbors=4, weights=distance, recall=0.037, total=   0.0s\n",
      "[CV] algorithm=auto, n_neighbors=4, weights=distance .................\n",
      "[CV]  algorithm=auto, n_neighbors=4, weights=distance, recall=0.036, total=   0.0s\n",
      "[CV] algorithm=auto, n_neighbors=4, weights=distance .................\n",
      "[CV]  algorithm=auto, n_neighbors=4, weights=distance, recall=0.074, total=   0.0s\n",
      "[CV] algorithm=auto, n_neighbors=4, weights=distance .................\n",
      "[CV]  algorithm=auto, n_neighbors=4, weights=distance, recall=0.074, total=   0.0s\n",
      "[CV] algorithm=auto, n_neighbors=4, weights=distance .................\n",
      "[CV]  algorithm=auto, n_neighbors=4, weights=distance, recall=0.037, total=   0.0s\n",
      "[CV] algorithm=auto, n_neighbors=5, weights=uniform ..................\n",
      "[CV]  algorithm=auto, n_neighbors=5, weights=uniform, recall=0.000, total=   0.0s\n",
      "[CV] algorithm=auto, n_neighbors=5, weights=uniform ..................\n",
      "[CV]  algorithm=auto, n_neighbors=5, weights=uniform, recall=0.036, total=   0.0s\n",
      "[CV] algorithm=auto, n_neighbors=5, weights=uniform ..................\n",
      "[CV]  algorithm=auto, n_neighbors=5, weights=uniform, recall=0.074, total=   0.0s\n",
      "[CV] algorithm=auto, n_neighbors=5, weights=uniform ..................\n",
      "[CV]  algorithm=auto, n_neighbors=5, weights=uniform, recall=0.037, total=   0.0s\n",
      "[CV] algorithm=auto, n_neighbors=5, weights=uniform ..................\n",
      "[CV]  algorithm=auto, n_neighbors=5, weights=uniform, recall=0.037, total=   0.0s\n",
      "[CV] algorithm=auto, n_neighbors=5, weights=distance .................\n",
      "[CV]  algorithm=auto, n_neighbors=5, weights=distance, recall=0.000, total=   0.0s\n",
      "[CV] algorithm=auto, n_neighbors=5, weights=distance .................\n",
      "[CV]  algorithm=auto, n_neighbors=5, weights=distance, recall=0.036, total=   0.0s\n",
      "[CV] algorithm=auto, n_neighbors=5, weights=distance .................\n",
      "[CV]  algorithm=auto, n_neighbors=5, weights=distance, recall=0.074, total=   0.0s\n",
      "[CV] algorithm=auto, n_neighbors=5, weights=distance .................\n",
      "[CV]  algorithm=auto, n_neighbors=5, weights=distance, recall=0.074, total=   0.0s\n",
      "[CV] algorithm=auto, n_neighbors=5, weights=distance .................\n",
      "[CV]  algorithm=auto, n_neighbors=5, weights=distance, recall=0.037, total=   0.0s\n",
      "0.13280423280423279\n",
      "KNeighborsClassifier(n_neighbors=1)\n"
     ]
    },
    {
     "name": "stderr",
     "output_type": "stream",
     "text": [
      "[Parallel(n_jobs=1)]: Done  50 out of  50 | elapsed:    0.8s finished\n"
     ]
    },
    {
     "data": {
      "text/plain": [
       "(0.9052224371373307, 0.14705882352941177, 0.2, 0.16949152542372883)"
      ]
     },
     "execution_count": 198,
     "metadata": {},
     "output_type": "execute_result"
    }
   ],
   "source": [
    "grid = GridSearchCV(estimator=model, \n",
    "                    param_grid=param_grid, \n",
    "                    cv=StratifiedKFold(shuffle=True), \n",
    "                    scoring=['recall'],\n",
    "                    refit='recall',\n",
    "                    verbose=10)\n",
    "grid_result = grid.fit(X_train, y_train)\n",
    "n_neighbors, weights = grid_result.best_estimator_.n_neighbors , grid_result.best_estimator_.weights\n",
    "file_name = 'seismic_bump_k_neighbors_'+ str(n_neighbors) + '_' + weights + '_' + list(grid_result.scorer_.keys())[0]+'.sav'\n",
    "joblib.dump(model, file_name)\n",
    "print(grid_result.best_score_)\n",
    "print(grid_result.best_estimator_)\n",
    "y_pred = grid_result.best_estimator_.predict(X_test)\n",
    "\n",
    "accuracy_score(y_test, y_pred), recall_score(y_test, y_pred), precision_score(y_test, y_pred), f1_score(y_test, y_pred)"
   ]
  },
  {
   "cell_type": "markdown",
   "metadata": {},
   "source": [
    "With recall as the performance metric, the overall performance has improved where 14% of of the actual hazardrous seismic bumps were correctly predicted while 20% out of all those predicted as hazardrous were correct. f1 score also jumped up twice from 0.054 to 0.16 but the model far from being actually good."
   ]
  },
  {
   "cell_type": "markdown",
   "metadata": {},
   "source": [
    "#### Tuning model using Grid Search CV using 'f1' "
   ]
  },
  {
   "cell_type": "code",
   "execution_count": 199,
   "metadata": {},
   "outputs": [
    {
     "name": "stdout",
     "output_type": "stream",
     "text": [
      "Fitting 5 folds for each of 10 candidates, totalling 50 fits\n",
      "[CV] algorithm=auto, n_neighbors=1, weights=uniform ..................\n",
      "[CV]  algorithm=auto, n_neighbors=1, weights=uniform, f1=0.160, total=   0.0s\n",
      "[CV] algorithm=auto, n_neighbors=1, weights=uniform ..................\n",
      "[CV]  algorithm=auto, n_neighbors=1, weights=uniform, f1=0.080, total=   0.0s\n",
      "[CV] algorithm=auto, n_neighbors=1, weights=uniform ..................\n",
      "[CV]  algorithm=auto, n_neighbors=1, weights=uniform, f1=0.160, total=   0.0s\n",
      "[CV] algorithm=auto, n_neighbors=1, weights=uniform ..................\n",
      "[CV]  algorithm=auto, n_neighbors=1, weights=uniform, f1=0.196, total=   0.0s\n",
      "[CV] algorithm=auto, n_neighbors=1, weights=uniform ..................\n",
      "[CV]  algorithm=auto, n_neighbors=1, weights=uniform, f1=0.194, total=   0.0s\n",
      "[CV] algorithm=auto, n_neighbors=1, weights=distance .................\n",
      "[CV]  algorithm=auto, n_neighbors=1, weights=distance, f1=0.160, total=   0.0s\n",
      "[CV] algorithm=auto, n_neighbors=1, weights=distance .................\n",
      "[CV]  algorithm=auto, n_neighbors=1, weights=distance, f1=0.080, total=   0.0s\n",
      "[CV] algorithm=auto, n_neighbors=1, weights=distance .................\n",
      "[CV]  algorithm=auto, n_neighbors=1, weights=distance, f1=0.160, total=   0.0s\n",
      "[CV] algorithm=auto, n_neighbors=1, weights=distance .................\n",
      "[CV]  algorithm=auto, n_neighbors=1, weights=distance, f1=0.196, total=   0.0s\n",
      "[CV] algorithm=auto, n_neighbors=1, weights=distance .................\n"
     ]
    },
    {
     "name": "stderr",
     "output_type": "stream",
     "text": [
      "[Parallel(n_jobs=1)]: Using backend SequentialBackend with 1 concurrent workers.\n",
      "[Parallel(n_jobs=1)]: Done   1 out of   1 | elapsed:    0.0s remaining:    0.0s\n",
      "[Parallel(n_jobs=1)]: Done   2 out of   2 | elapsed:    0.0s remaining:    0.0s\n",
      "[Parallel(n_jobs=1)]: Done   3 out of   3 | elapsed:    0.0s remaining:    0.0s\n",
      "[Parallel(n_jobs=1)]: Done   4 out of   4 | elapsed:    0.0s remaining:    0.0s\n",
      "[Parallel(n_jobs=1)]: Done   5 out of   5 | elapsed:    0.0s remaining:    0.0s\n",
      "[Parallel(n_jobs=1)]: Done   6 out of   6 | elapsed:    0.0s remaining:    0.0s\n",
      "[Parallel(n_jobs=1)]: Done   7 out of   7 | elapsed:    0.1s remaining:    0.0s\n",
      "[Parallel(n_jobs=1)]: Done   8 out of   8 | elapsed:    0.1s remaining:    0.0s\n",
      "[Parallel(n_jobs=1)]: Done   9 out of   9 | elapsed:    0.1s remaining:    0.0s\n"
     ]
    },
    {
     "name": "stdout",
     "output_type": "stream",
     "text": [
      "[CV]  algorithm=auto, n_neighbors=1, weights=distance, f1=0.194, total=   0.0s\n",
      "[CV] algorithm=auto, n_neighbors=2, weights=uniform ..................\n",
      "[CV]  algorithm=auto, n_neighbors=2, weights=uniform, f1=0.071, total=   0.0s\n",
      "[CV] algorithm=auto, n_neighbors=2, weights=uniform ..................\n",
      "[CV]  algorithm=auto, n_neighbors=2, weights=uniform, f1=0.062, total=   0.0s\n",
      "[CV] algorithm=auto, n_neighbors=2, weights=uniform ..................\n",
      "[CV]  algorithm=auto, n_neighbors=2, weights=uniform, f1=0.000, total=   0.0s\n",
      "[CV] algorithm=auto, n_neighbors=2, weights=uniform ..................\n",
      "[CV]  algorithm=auto, n_neighbors=2, weights=uniform, f1=0.000, total=   0.0s\n",
      "[CV] algorithm=auto, n_neighbors=2, weights=uniform ..................\n",
      "[CV]  algorithm=auto, n_neighbors=2, weights=uniform, f1=0.062, total=   0.0s\n",
      "[CV] algorithm=auto, n_neighbors=2, weights=distance .................\n",
      "[CV]  algorithm=auto, n_neighbors=2, weights=distance, f1=0.160, total=   0.0s\n",
      "[CV] algorithm=auto, n_neighbors=2, weights=distance .................\n",
      "[CV]  algorithm=auto, n_neighbors=2, weights=distance, f1=0.080, total=   0.0s\n",
      "[CV] algorithm=auto, n_neighbors=2, weights=distance .................\n",
      "[CV]  algorithm=auto, n_neighbors=2, weights=distance, f1=0.160, total=   0.0s\n",
      "[CV] algorithm=auto, n_neighbors=2, weights=distance .................\n",
      "[CV]  algorithm=auto, n_neighbors=2, weights=distance, f1=0.196, total=   0.0s\n",
      "[CV] algorithm=auto, n_neighbors=2, weights=distance .................\n",
      "[CV]  algorithm=auto, n_neighbors=2, weights=distance, f1=0.194, total=   0.0s\n",
      "[CV] algorithm=auto, n_neighbors=3, weights=uniform ..................\n",
      "[CV]  algorithm=auto, n_neighbors=3, weights=uniform, f1=0.069, total=   0.0s\n",
      "[CV] algorithm=auto, n_neighbors=3, weights=uniform ..................\n",
      "[CV]  algorithm=auto, n_neighbors=3, weights=uniform, f1=0.062, total=   0.0s\n",
      "[CV] algorithm=auto, n_neighbors=3, weights=uniform ..................\n",
      "[CV]  algorithm=auto, n_neighbors=3, weights=uniform, f1=0.114, total=   0.0s\n",
      "[CV] algorithm=auto, n_neighbors=3, weights=uniform ..................\n",
      "[CV]  algorithm=auto, n_neighbors=3, weights=uniform, f1=0.000, total=   0.0s\n",
      "[CV] algorithm=auto, n_neighbors=3, weights=uniform ..................\n",
      "[CV]  algorithm=auto, n_neighbors=3, weights=uniform, f1=0.150, total=   0.0s\n",
      "[CV] algorithm=auto, n_neighbors=3, weights=distance .................\n",
      "[CV]  algorithm=auto, n_neighbors=3, weights=distance, f1=0.125, total=   0.0s\n",
      "[CV] algorithm=auto, n_neighbors=3, weights=distance .................\n",
      "[CV]  algorithm=auto, n_neighbors=3, weights=distance, f1=0.061, total=   0.0s\n",
      "[CV] algorithm=auto, n_neighbors=3, weights=distance .................\n",
      "[CV]  algorithm=auto, n_neighbors=3, weights=distance, f1=0.111, total=   0.0s\n",
      "[CV] algorithm=auto, n_neighbors=3, weights=distance .................\n",
      "[CV]  algorithm=auto, n_neighbors=3, weights=distance, f1=0.000, total=   0.0s\n",
      "[CV] algorithm=auto, n_neighbors=3, weights=distance .................\n",
      "[CV]  algorithm=auto, n_neighbors=3, weights=distance, f1=0.136, total=   0.0s\n",
      "[CV] algorithm=auto, n_neighbors=4, weights=uniform ..................\n",
      "[CV]  algorithm=auto, n_neighbors=4, weights=uniform, f1=0.071, total=   0.0s\n",
      "[CV] algorithm=auto, n_neighbors=4, weights=uniform ..................\n",
      "[CV]  algorithm=auto, n_neighbors=4, weights=uniform, f1=0.069, total=   0.0s\n",
      "[CV] algorithm=auto, n_neighbors=4, weights=uniform ..................\n",
      "[CV]  algorithm=auto, n_neighbors=4, weights=uniform, f1=0.067, total=   0.0s\n",
      "[CV] algorithm=auto, n_neighbors=4, weights=uniform ..................\n",
      "[CV]  algorithm=auto, n_neighbors=4, weights=uniform, f1=0.000, total=   0.0s\n",
      "[CV] algorithm=auto, n_neighbors=4, weights=uniform ..................\n",
      "[CV]  algorithm=auto, n_neighbors=4, weights=uniform, f1=0.065, total=   0.0s\n",
      "[CV] algorithm=auto, n_neighbors=4, weights=distance .................\n",
      "[CV]  algorithm=auto, n_neighbors=4, weights=distance, f1=0.118, total=   0.0s\n",
      "[CV] algorithm=auto, n_neighbors=4, weights=distance .................\n",
      "[CV]  algorithm=auto, n_neighbors=4, weights=distance, f1=0.062, total=   0.0s\n",
      "[CV] algorithm=auto, n_neighbors=4, weights=distance .................\n",
      "[CV]  algorithm=auto, n_neighbors=4, weights=distance, f1=0.150, total=   0.0s\n",
      "[CV] algorithm=auto, n_neighbors=4, weights=distance .................\n",
      "[CV]  algorithm=auto, n_neighbors=4, weights=distance, f1=0.000, total=   0.0s\n",
      "[CV] algorithm=auto, n_neighbors=4, weights=distance .................\n",
      "[CV]  algorithm=auto, n_neighbors=4, weights=distance, f1=0.095, total=   0.0s\n",
      "[CV] algorithm=auto, n_neighbors=5, weights=uniform ..................\n",
      "[CV]  algorithm=auto, n_neighbors=5, weights=uniform, f1=0.121, total=   0.0s\n",
      "[CV] algorithm=auto, n_neighbors=5, weights=uniform ..................\n",
      "[CV]  algorithm=auto, n_neighbors=5, weights=uniform, f1=0.067, total=   0.0s\n",
      "[CV] algorithm=auto, n_neighbors=5, weights=uniform ..................\n",
      "[CV]  algorithm=auto, n_neighbors=5, weights=uniform, f1=0.108, total=   0.0s\n",
      "[CV] algorithm=auto, n_neighbors=5, weights=uniform ..................\n",
      "[CV]  algorithm=auto, n_neighbors=5, weights=uniform, f1=0.062, total=   0.0s\n",
      "[CV] algorithm=auto, n_neighbors=5, weights=uniform ..................\n",
      "[CV]  algorithm=auto, n_neighbors=5, weights=uniform, f1=0.114, total=   0.0s\n",
      "[CV] algorithm=auto, n_neighbors=5, weights=distance .................\n",
      "[CV]  algorithm=auto, n_neighbors=5, weights=distance, f1=0.121, total=   0.0s\n",
      "[CV] algorithm=auto, n_neighbors=5, weights=distance .................\n",
      "[CV]  algorithm=auto, n_neighbors=5, weights=distance, f1=0.065, total=   0.0s\n",
      "[CV] algorithm=auto, n_neighbors=5, weights=distance .................\n",
      "[CV]  algorithm=auto, n_neighbors=5, weights=distance, f1=0.154, total=   0.0s\n",
      "[CV] algorithm=auto, n_neighbors=5, weights=distance .................\n",
      "[CV]  algorithm=auto, n_neighbors=5, weights=distance, f1=0.059, total=   0.0s\n",
      "[CV] algorithm=auto, n_neighbors=5, weights=distance .................\n",
      "[CV]  algorithm=auto, n_neighbors=5, weights=distance, f1=0.146, total=   0.0s\n",
      "0.15792536369386462\n",
      "KNeighborsClassifier(n_neighbors=1)\n"
     ]
    },
    {
     "name": "stderr",
     "output_type": "stream",
     "text": [
      "[Parallel(n_jobs=1)]: Done  50 out of  50 | elapsed:    0.9s finished\n"
     ]
    },
    {
     "data": {
      "text/plain": [
       "(0.9052224371373307, 0.14705882352941177, 0.2, 0.16949152542372883)"
      ]
     },
     "execution_count": 199,
     "metadata": {},
     "output_type": "execute_result"
    }
   ],
   "source": [
    "grid = GridSearchCV(estimator=model, \n",
    "                    param_grid=param_grid, \n",
    "                    cv=StratifiedKFold(shuffle=True), \n",
    "                    scoring=['f1'],\n",
    "                    refit='f1',\n",
    "                    verbose=10)\n",
    "grid_result = grid.fit(X_train, y_train)\n",
    "n_neighbors, weights = grid_result.best_estimator_.n_neighbors , grid_result.best_estimator_.weights\n",
    "file_name = 'seismic_bump_k_neighbors_'+ str(n_neighbors) + '_' + weights + '_' + list(grid_result.scorer_.keys())[0]+'.sav'\n",
    "joblib.dump(model, file_name)\n",
    "print(grid_result.best_score_)\n",
    "print(grid_result.best_estimator_)\n",
    "y_pred = grid_result.best_estimator_.predict(X_test)\n",
    "\n",
    "accuracy_score(y_test, y_pred), recall_score(y_test, y_pred), precision_score(y_test, y_pred), f1_score(y_test, y_pred)"
   ]
  },
  {
   "cell_type": "markdown",
   "metadata": {},
   "source": [
    "Same results as that of f1 for recall."
   ]
  },
  {
   "cell_type": "markdown",
   "metadata": {},
   "source": [
    "#### Tuning model using Grid Search CV using 'Precision' again"
   ]
  },
  {
   "cell_type": "code",
   "execution_count": 207,
   "metadata": {},
   "outputs": [
    {
     "name": "stdout",
     "output_type": "stream",
     "text": [
      "Fitting 5 folds for each of 10 candidates, totalling 50 fits\n",
      "[CV] algorithm=auto, n_neighbors=1, weights=uniform ..................\n",
      "[CV]  algorithm=auto, n_neighbors=1, weights=uniform, precision=0.100, total=   0.0s\n",
      "[CV] algorithm=auto, n_neighbors=1, weights=uniform ..................\n",
      "[CV]  algorithm=auto, n_neighbors=1, weights=uniform, precision=0.200, total=   0.0s\n",
      "[CV] algorithm=auto, n_neighbors=1, weights=uniform ..................\n",
      "[CV]  algorithm=auto, n_neighbors=1, weights=uniform, precision=0.208, total=   0.0s\n",
      "[CV] algorithm=auto, n_neighbors=1, weights=uniform ..................\n",
      "[CV]  algorithm=auto, n_neighbors=1, weights=uniform, precision=0.080, total=   0.0s\n",
      "[CV] algorithm=auto, n_neighbors=1, weights=uniform ..................\n",
      "[CV]  algorithm=auto, n_neighbors=1, weights=uniform, precision=0.150, total=   0.0s\n",
      "[CV] algorithm=auto, n_neighbors=1, weights=distance .................\n",
      "[CV]  algorithm=auto, n_neighbors=1, weights=distance, precision=0.100, total=   0.0s\n",
      "[CV] algorithm=auto, n_neighbors=1, weights=distance .................\n",
      "[CV]  algorithm=auto, n_neighbors=1, weights=distance, precision=0.200, total=   0.0s\n",
      "[CV] algorithm=auto, n_neighbors=1, weights=distance .................\n",
      "[CV]  algorithm=auto, n_neighbors=1, weights=distance, precision=0.208, total=   0.0s\n",
      "[CV] algorithm=auto, n_neighbors=1, weights=distance .................\n",
      "[CV]  algorithm=auto, n_neighbors=1, weights=distance, precision=0.080, total=   0.0s\n",
      "[CV] algorithm=auto, n_neighbors=1, weights=distance .................\n"
     ]
    },
    {
     "name": "stderr",
     "output_type": "stream",
     "text": [
      "[Parallel(n_jobs=1)]: Using backend SequentialBackend with 1 concurrent workers.\n",
      "[Parallel(n_jobs=1)]: Done   1 out of   1 | elapsed:    0.0s remaining:    0.0s\n",
      "[Parallel(n_jobs=1)]: Done   2 out of   2 | elapsed:    0.0s remaining:    0.0s\n",
      "[Parallel(n_jobs=1)]: Done   3 out of   3 | elapsed:    0.0s remaining:    0.0s\n",
      "[Parallel(n_jobs=1)]: Done   4 out of   4 | elapsed:    0.0s remaining:    0.0s\n",
      "[Parallel(n_jobs=1)]: Done   5 out of   5 | elapsed:    0.0s remaining:    0.0s\n",
      "[Parallel(n_jobs=1)]: Done   6 out of   6 | elapsed:    0.0s remaining:    0.0s\n",
      "[Parallel(n_jobs=1)]: Done   7 out of   7 | elapsed:    0.1s remaining:    0.0s\n",
      "[Parallel(n_jobs=1)]: Done   8 out of   8 | elapsed:    0.1s remaining:    0.0s\n",
      "[Parallel(n_jobs=1)]: Done   9 out of   9 | elapsed:    0.1s remaining:    0.0s\n"
     ]
    },
    {
     "name": "stdout",
     "output_type": "stream",
     "text": [
      "[CV]  algorithm=auto, n_neighbors=1, weights=distance, precision=0.150, total=   0.0s\n",
      "[CV] algorithm=auto, n_neighbors=2, weights=uniform ..................\n",
      "[CV]  algorithm=auto, n_neighbors=2, weights=uniform, precision=0.000, total=   0.0s\n",
      "[CV] algorithm=auto, n_neighbors=2, weights=uniform ..................\n",
      "[CV]  algorithm=auto, n_neighbors=2, weights=uniform, precision=0.250, total=   0.0s\n",
      "[CV] algorithm=auto, n_neighbors=2, weights=uniform ..................\n",
      "[CV]  algorithm=auto, n_neighbors=2, weights=uniform, precision=0.333, total=   0.0s\n",
      "[CV] algorithm=auto, n_neighbors=2, weights=uniform ..................\n",
      "[CV]  algorithm=auto, n_neighbors=2, weights=uniform, precision=0.250, total=   0.0s\n",
      "[CV] algorithm=auto, n_neighbors=2, weights=uniform ..................\n",
      "[CV]  algorithm=auto, n_neighbors=2, weights=uniform, precision=0.000, total=   0.0s\n",
      "[CV] algorithm=auto, n_neighbors=2, weights=distance .................\n",
      "[CV]  algorithm=auto, n_neighbors=2, weights=distance, precision=0.100, total=   0.0s\n",
      "[CV] algorithm=auto, n_neighbors=2, weights=distance .................\n",
      "[CV]  algorithm=auto, n_neighbors=2, weights=distance, precision=0.200, total=   0.0s\n",
      "[CV] algorithm=auto, n_neighbors=2, weights=distance .................\n",
      "[CV]  algorithm=auto, n_neighbors=2, weights=distance, precision=0.208, total=   0.0s\n",
      "[CV] algorithm=auto, n_neighbors=2, weights=distance .................\n",
      "[CV]  algorithm=auto, n_neighbors=2, weights=distance, precision=0.080, total=   0.0s\n",
      "[CV] algorithm=auto, n_neighbors=2, weights=distance .................\n"
     ]
    },
    {
     "name": "stderr",
     "output_type": "stream",
     "text": [
      "C:\\Users\\nroy0\\anaconda3\\lib\\site-packages\\sklearn\\metrics\\_classification.py:1221: UndefinedMetricWarning: Precision is ill-defined and being set to 0.0 due to no predicted samples. Use `zero_division` parameter to control this behavior.\n",
      "  _warn_prf(average, modifier, msg_start, len(result))\n"
     ]
    },
    {
     "name": "stdout",
     "output_type": "stream",
     "text": [
      "[CV]  algorithm=auto, n_neighbors=2, weights=distance, precision=0.150, total=   0.0s\n",
      "[CV] algorithm=auto, n_neighbors=3, weights=uniform ..................\n",
      "[CV]  algorithm=auto, n_neighbors=3, weights=uniform, precision=0.167, total=   0.0s\n",
      "[CV] algorithm=auto, n_neighbors=3, weights=uniform ..................\n",
      "[CV]  algorithm=auto, n_neighbors=3, weights=uniform, precision=0.286, total=   0.0s\n",
      "[CV] algorithm=auto, n_neighbors=3, weights=uniform ..................\n",
      "[CV]  algorithm=auto, n_neighbors=3, weights=uniform, precision=0.222, total=   0.0s\n",
      "[CV] algorithm=auto, n_neighbors=3, weights=uniform ..................\n",
      "[CV]  algorithm=auto, n_neighbors=3, weights=uniform, precision=0.100, total=   0.0s\n",
      "[CV] algorithm=auto, n_neighbors=3, weights=uniform ..................\n",
      "[CV]  algorithm=auto, n_neighbors=3, weights=uniform, precision=0.222, total=   0.0s\n",
      "[CV] algorithm=auto, n_neighbors=3, weights=distance .................\n",
      "[CV]  algorithm=auto, n_neighbors=3, weights=distance, precision=0.111, total=   0.0s\n",
      "[CV] algorithm=auto, n_neighbors=3, weights=distance .................\n",
      "[CV]  algorithm=auto, n_neighbors=3, weights=distance, precision=0.250, total=   0.0s\n",
      "[CV] algorithm=auto, n_neighbors=3, weights=distance .................\n",
      "[CV]  algorithm=auto, n_neighbors=3, weights=distance, precision=0.222, total=   0.0s\n",
      "[CV] algorithm=auto, n_neighbors=3, weights=distance .................\n",
      "[CV]  algorithm=auto, n_neighbors=3, weights=distance, precision=0.067, total=   0.0s\n",
      "[CV] algorithm=auto, n_neighbors=3, weights=distance .................\n",
      "[CV]  algorithm=auto, n_neighbors=3, weights=distance, precision=0.200, total=   0.0s\n",
      "[CV] algorithm=auto, n_neighbors=4, weights=uniform ..................\n",
      "[CV]  algorithm=auto, n_neighbors=4, weights=uniform, precision=0.000, total=   0.0s\n",
      "[CV] algorithm=auto, n_neighbors=4, weights=uniform ..................\n",
      "[CV]  algorithm=auto, n_neighbors=4, weights=uniform, precision=0.000, total=   0.0s\n",
      "[CV] algorithm=auto, n_neighbors=4, weights=uniform ..................\n",
      "[CV]  algorithm=auto, n_neighbors=4, weights=uniform, precision=0.667, total=   0.0s\n",
      "[CV] algorithm=auto, n_neighbors=4, weights=uniform ..................\n",
      "[CV]  algorithm=auto, n_neighbors=4, weights=uniform, precision=0.333, total=   0.0s\n",
      "[CV] algorithm=auto, n_neighbors=4, weights=uniform ..................\n",
      "[CV]  algorithm=auto, n_neighbors=4, weights=uniform, precision=1.000, total=   0.0s\n",
      "[CV] algorithm=auto, n_neighbors=4, weights=distance .................\n",
      "[CV]  algorithm=auto, n_neighbors=4, weights=distance, precision=0.000, total=   0.0s\n",
      "[CV] algorithm=auto, n_neighbors=4, weights=distance .................\n",
      "[CV]  algorithm=auto, n_neighbors=4, weights=distance, precision=0.300, total=   0.0s\n",
      "[CV] algorithm=auto, n_neighbors=4, weights=distance .................\n",
      "[CV]  algorithm=auto, n_neighbors=4, weights=distance, precision=0.200, total=   0.0s\n",
      "[CV] algorithm=auto, n_neighbors=4, weights=distance .................\n",
      "[CV]  algorithm=auto, n_neighbors=4, weights=distance, precision=0.071, total=   0.0s\n",
      "[CV] algorithm=auto, n_neighbors=4, weights=distance .................\n",
      "[CV]  algorithm=auto, n_neighbors=4, weights=distance, precision=0.182, total=   0.0s\n",
      "[CV] algorithm=auto, n_neighbors=5, weights=uniform ..................\n",
      "[CV]  algorithm=auto, n_neighbors=5, weights=uniform, precision=0.167, total=   0.0s\n",
      "[CV] algorithm=auto, n_neighbors=5, weights=uniform ..................\n",
      "[CV]  algorithm=auto, n_neighbors=5, weights=uniform, precision=0.250, total=   0.0s\n",
      "[CV] algorithm=auto, n_neighbors=5, weights=uniform ..................\n",
      "[CV]  algorithm=auto, n_neighbors=5, weights=uniform, precision=0.333, total=   0.0s\n",
      "[CV] algorithm=auto, n_neighbors=5, weights=uniform ..................\n",
      "[CV]  algorithm=auto, n_neighbors=5, weights=uniform, precision=0.250, total=   0.0s\n",
      "[CV] algorithm=auto, n_neighbors=5, weights=uniform ..................\n",
      "[CV]  algorithm=auto, n_neighbors=5, weights=uniform, precision=0.500, total=   0.0s\n",
      "[CV] algorithm=auto, n_neighbors=5, weights=distance .................\n",
      "[CV]  algorithm=auto, n_neighbors=5, weights=distance, precision=0.143, total=   0.0s\n",
      "[CV] algorithm=auto, n_neighbors=5, weights=distance .................\n",
      "[CV]  algorithm=auto, n_neighbors=5, weights=distance, precision=0.286, total=   0.0s\n",
      "[CV] algorithm=auto, n_neighbors=5, weights=distance .................\n",
      "[CV]  algorithm=auto, n_neighbors=5, weights=distance, precision=0.286, total=   0.0s\n",
      "[CV] algorithm=auto, n_neighbors=5, weights=distance .................\n",
      "[CV]  algorithm=auto, n_neighbors=5, weights=distance, precision=0.222, total=   0.0s\n",
      "[CV] algorithm=auto, n_neighbors=5, weights=distance .................\n",
      "[CV]  algorithm=auto, n_neighbors=5, weights=distance, precision=0.333, total=   0.0s\n",
      "seismic_bump_k_neighbors_4_uniform_precision.sav\n",
      "0.4\n",
      "KNeighborsClassifier(n_neighbors=4)\n"
     ]
    },
    {
     "name": "stderr",
     "output_type": "stream",
     "text": [
      "[Parallel(n_jobs=1)]: Done  50 out of  50 | elapsed:    0.9s finished\n"
     ]
    },
    {
     "data": {
      "text/plain": [
       "(0.9323017408123792,\n",
       " 0.029411764705882353,\n",
       " 0.3333333333333333,\n",
       " 0.05405405405405406)"
      ]
     },
     "execution_count": 207,
     "metadata": {},
     "output_type": "execute_result"
    }
   ],
   "source": [
    "grid = GridSearchCV(estimator=model, \n",
    "                    param_grid=param_grid, \n",
    "                    cv=StratifiedKFold(shuffle=True), \n",
    "                    scoring=['precision'],\n",
    "                    refit='precision',\n",
    "                    verbose=10)\n",
    "grid_result = grid.fit(X_train, y_train)\n",
    "n_neighbors, weights = grid_result.best_estimator_.n_neighbors , grid_result.best_estimator_.weights\n",
    "file_name = 'seismic_bump_k_neighbors_'+ str(n_neighbors) + '_' + weights + '_' + list(grid_result.scorer_.keys())[0]+'.sav'\n",
    "print(file_name)\n",
    "joblib.dump(model, file_name)\n",
    "print(grid_result.best_score_)\n",
    "print(grid_result.best_estimator_)\n",
    "y_pred = grid_result.best_estimator_.predict(X_test)\n",
    "\n",
    "accuracy_score(y_test, y_pred), recall_score(y_test, y_pred), precision_score(y_test, y_pred), f1_score(y_test, y_pred)"
   ]
  },
  {
   "cell_type": "markdown",
   "metadata": {},
   "source": [
    "A third iteration yielded the same results here with n_neighbors=4."
   ]
  },
  {
   "cell_type": "code",
   "execution_count": null,
   "metadata": {},
   "outputs": [],
   "source": []
  },
  {
   "cell_type": "code",
   "execution_count": null,
   "metadata": {},
   "outputs": [],
   "source": []
  },
  {
   "cell_type": "code",
   "execution_count": null,
   "metadata": {},
   "outputs": [],
   "source": []
  },
  {
   "cell_type": "code",
   "execution_count": null,
   "metadata": {},
   "outputs": [],
   "source": []
  }
 ],
 "metadata": {
  "kernelspec": {
   "display_name": "Python 3",
   "language": "python",
   "name": "python3"
  },
  "language_info": {
   "codemirror_mode": {
    "name": "ipython",
    "version": 3
   },
   "file_extension": ".py",
   "mimetype": "text/x-python",
   "name": "python",
   "nbconvert_exporter": "python",
   "pygments_lexer": "ipython3",
   "version": "3.7.6"
  },
  "toc": {
   "base_numbering": 1,
   "nav_menu": {},
   "number_sections": true,
   "sideBar": true,
   "skip_h1_title": false,
   "title_cell": "Table of Contents",
   "title_sidebar": "Contents",
   "toc_cell": false,
   "toc_position": {
    "height": "calc(100% - 180px)",
    "left": "10px",
    "top": "150px",
    "width": "165px"
   },
   "toc_section_display": true,
   "toc_window_display": true
  }
 },
 "nbformat": 4,
 "nbformat_minor": 4
}
