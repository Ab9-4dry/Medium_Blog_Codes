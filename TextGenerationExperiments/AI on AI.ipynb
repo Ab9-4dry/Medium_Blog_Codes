{
 "cells": [
  {
   "cell_type": "code",
   "execution_count": 3,
   "metadata": {
    "ExecuteTime": {
     "end_time": "2022-04-02T17:14:44.017694Z",
     "start_time": "2022-04-02T17:14:35.684380Z"
    }
   },
   "outputs": [],
   "source": [
    "from transformers import pipeline\n",
    "\n",
    "generator_gpt_neo = pipeline('text-generation', model='EleutherAI/gpt-neo-125M')"
   ]
  },
  {
   "cell_type": "code",
   "execution_count": 7,
   "metadata": {
    "ExecuteTime": {
     "end_time": "2022-04-02T17:16:16.738151Z",
     "start_time": "2022-04-02T17:16:11.556003Z"
    }
   },
   "outputs": [
    {
     "name": "stderr",
     "output_type": "stream",
     "text": [
      "Setting `pad_token_id` to `eos_token_id`:50256 for open-end generation.\n"
     ]
    },
    {
     "name": "stdout",
     "output_type": "stream",
     "text": [
      "What is artificial intelligence? Artificial intelligence is a term we use to refer to the capability to automate tasks, often called the human brain. The vast majority of computer science and artificial intelligence algorithms are designed and implemented by humans but a large proportion of the most common tasks (e.g. image, coding tools and a variety of visual and audio stimuli) can be modeled as well. For example, we are likely to model the human brain, if it is to use its human-driven capability to automate\n"
     ]
    }
   ],
   "source": [
    "prompt = \"What is artificial intelligence? Artificial intelligence is a\"\n",
    "outputs = generator_gpt_neo(prompt, do_sample=True, max_length=100)\n",
    "print(outputs[0]['generated_text'])"
   ]
  },
  {
   "cell_type": "code",
   "execution_count": 9,
   "metadata": {
    "ExecuteTime": {
     "end_time": "2022-04-02T17:17:37.592313Z",
     "start_time": "2022-04-02T17:16:52.249306Z"
    }
   },
   "outputs": [
    {
     "name": "stderr",
     "output_type": "stream",
     "text": [
      "Setting `pad_token_id` to `eos_token_id`:50256 for open-end generation.\n"
     ]
    },
    {
     "name": "stdout",
     "output_type": "stream",
     "text": [
      "What is artificial intelligence? Artificial intelligence is a term we use to refer to the capability to automate tasks, often called the human brain. The vast majority of computer science and artificial intelligence algorithms are designed and implemented by humans but a large proportion of the most common tasks (e.g. image, coding tools and a variety of visual and audio stimuli) can be modeled as well. For example, we are likely to model the human brain, if it is to use its human-driven capability to automate tasks like image coding and color perception and so forth, and the computer would typically be trained to recognize such tasks by human. In both cases, the AI tool would have to be designed specifically to solve these tasks by human, and in a similar manner to the computational capacity of the computer. The term Artificial Intelligence is used to refer to the ability to think and reason, to reason and to reason about.\n",
      "\n",
      "But there’s another term for Artificial Intelligence that is a little closer to “human intelligence” than the term. The term Human Intelligence is often referred to as a language, but it has become so famous (or at least highly regarded) since the dawn of the internet, and if we’ve ever spent any time reading and discussing other language terms they used in our day, we’ll soon find them, and many a time.\n",
      "\n",
      "A word commonly used by the ‘language’ is that of the human brain. Many people refer to ‘the human brain’ in the context of scientific research and technology, and the term Human is often used to refer to both the human brain and human inanimate objects, and to the ‘machine in flight’, in the phrase ‘Aeroboy.’\n",
      "\n",
      "In our time this terminology has become somewhat prevalent and, as it has, it would seem a useful word to describe our human brain. What we say in the context of our daily life means that it is important to understand that our brain is quite different from another human brain. To be clear, our humans are extremely complex, and their brains often contain more than one type of information, and the information we find in machines is extremely complex.\n",
      "\n",
      "As described in this article on Artificial Intelligence (see ‘The Machine in Flight’), our human brain is essentially an engine, and the human brain is capable of generating such a machine. Artificial-intelligence systems rely on the human brain to\n"
     ]
    }
   ],
   "source": [
    "prompt = \"What is artificial intelligence? Artificial intelligence is a term we use to refer to the capability to automate tasks, often called the human brain. The vast majority of computer science and artificial intelligence algorithms are designed and implemented by humans but a large proportion of the most common tasks (e.g. image, coding tools and a variety of visual and audio stimuli) can be modeled as well. For example, we are likely to model the human brain, if it is to use its human-driven capability to automate\"\n",
    "outputs = generator_gpt_neo(prompt, do_sample=True, max_length=500)\n",
    "print(outputs[0]['generated_text'])"
   ]
  },
  {
   "cell_type": "code",
   "execution_count": 12,
   "metadata": {
    "ExecuteTime": {
     "end_time": "2022-04-02T17:33:00.420460Z",
     "start_time": "2022-04-02T17:32:47.217460Z"
    }
   },
   "outputs": [
    {
     "name": "stderr",
     "output_type": "stream",
     "text": [
      "Setting `pad_token_id` to `eos_token_id`:50256 for open-end generation.\n"
     ]
    },
    {
     "name": "stdout",
     "output_type": "stream",
     "text": [
      "What are some applications of artificial intelligence? Artificial intelligence can be applied to many industries like medicine, medicine, pharmaceutical/diabetes etc. It can also be applied to many technology fields such as education, information technology (IT), telecommunication and telecommunications.\n",
      "Of course, the applications of artificial intelligence are not unique, but they can be useful in many real-world application domains like finance, medicine, marketing, IT, engineering, software, etc.\n",
      "\n",
      "Why is it so important that there be a distinction between real-world applications that rely on Artificial Intelligence that relies on Artificial Intelligence and Artificial Intelligence that rely on Artificial Intelligence that does not rely on Artificial Intelligence?\n",
      "\n",
      "First of all, they focus on how to use Artificial Intelligence in some technologies and the rest.\n",
      "\n",
      "Second, they provide guidelines for developers, designers and testers.\n",
      "\n",
      "Third, they outline some applications of Artificial Intelligence to the industry and then provide detailed guidelines that can help you to optimize your application. Some of these applications\n"
     ]
    }
   ],
   "source": [
    "prompt = \"What are some applications of artificial intelligence? Artificial intelligence can be applied to many industries like\"\n",
    "outputs = generator_gpt_neo(prompt, do_sample=True, max_length=200)\n",
    "print(outputs[0]['generated_text'])"
   ]
  },
  {
   "cell_type": "code",
   "execution_count": 22,
   "metadata": {
    "ExecuteTime": {
     "end_time": "2022-04-02T17:41:17.572525Z",
     "start_time": "2022-04-02T17:41:03.889376Z"
    }
   },
   "outputs": [
    {
     "name": "stderr",
     "output_type": "stream",
     "text": [
      "Setting `pad_token_id` to `eos_token_id`:50256 for open-end generation.\n"
     ]
    },
    {
     "name": "stdout",
     "output_type": "stream",
     "text": [
      "Is artificial intelligence better than human intelligence?\n",
      "\n",
      "That’s the question at 2nd place: human intelligence is still in its infancy, as it is now at the height of its development.\n",
      "\n",
      "But AI has the power to create something like intelligence that makes computers smart.\n",
      "\n",
      "The most famous AI company in the world, IBM has just announced that they now have it on their platform, where computers can have their computers running AI.\n",
      "\n",
      "AI has played a powerful role, however, in our day-to-day lives. Now it is the top-tier machine-learning company that has the ability to transform our lives, and is making artificial intelligence a reality.\n",
      "\n",
      "Now imagine you were programmed to produce the latest computer software, and have it running a software platform built to do all the things people always wanted to do, every day. You could get an AI that transforms a human-computer interface into an AI that processes information from the point of view of a computer\n"
     ]
    }
   ],
   "source": [
    "prompt = \"Is artificial intelligence better than human intelligence?\"\n",
    "outputs = generator_gpt_neo(prompt, do_sample=True, max_length=200)\n",
    "print(outputs[0]['generated_text'])"
   ]
  },
  {
   "cell_type": "code",
   "execution_count": 29,
   "metadata": {
    "ExecuteTime": {
     "end_time": "2022-04-02T17:47:03.772187Z",
     "start_time": "2022-04-02T17:46:58.459310Z"
    }
   },
   "outputs": [
    {
     "name": "stderr",
     "output_type": "stream",
     "text": [
      "Setting `pad_token_id` to `eos_token_id`:50256 for open-end generation.\n"
     ]
    },
    {
     "name": "stdout",
     "output_type": "stream",
     "text": [
      "Are AI powered robots going to rule the world?\n",
      "\n",
      "The reality remains that robots have no place in life, even if they can push humans to a higher level than that of any other species ever imagined.\n",
      "\n",
      "But at what point do we really have to ask ourselves whether or not we can actually afford to take steps to push humans to this higher level of intelligence, which may or may not be in competition with our brains?\n",
      "\n",
      "That question has never been answered, nor would we dare\n"
     ]
    }
   ],
   "source": [
    "prompt = \"Are AI powered robots going to rule the world?\"\n",
    "outputs = generator_gpt_neo(prompt, do_sample=True, max_length=100)\n",
    "print(outputs[0]['generated_text'])"
   ]
  },
  {
   "cell_type": "code",
   "execution_count": 40,
   "metadata": {
    "ExecuteTime": {
     "end_time": "2022-04-02T17:57:16.499123Z",
     "start_time": "2022-04-02T17:57:03.874317Z"
    }
   },
   "outputs": [
    {
     "name": "stderr",
     "output_type": "stream",
     "text": [
      "Setting `pad_token_id` to `eos_token_id`:50256 for open-end generation.\n"
     ]
    },
    {
     "name": "stdout",
     "output_type": "stream",
     "text": [
      "Waymo says fully driverless cars are coming to San Francisco. Is it safe? The answer is yes - as long as the car doesn't break down.\n",
      "\n",
      "While at Disneyland on Nov. 31, the San Francisco Times (in San Francisco's Long Island neighborhood) reported a \"significant development and major engineering flaw\": the first car had a 3.3 liter capacity. The second car, that had only 2 liter, had 1.75 more capacity a year.\n",
      "\n",
      "The San Francisco Chronicle (in San Francisco's Valley neighborhood) also reports a \"potential problem.\"\n",
      "\n",
      "As the article notes, San Francisco has not had a major development test since last summer. The first car used by the city was a 3-liter Van Horn. The van, a version that was in the works, was a new 0-liter Van with lower power. The 0-liter was built to comply with the city standards and was less powerful than an older model.\n",
      "\n",
      "The paper describes\n"
     ]
    }
   ],
   "source": [
    "prompt = \"Waymo says fully driverless cars are coming to San Francisco. Is it safe?\"\n",
    "outputs = generator_gpt_neo(prompt, do_sample=True, max_length=200)\n",
    "print(outputs[0]['generated_text'])"
   ]
  },
  {
   "cell_type": "code",
   "execution_count": 44,
   "metadata": {
    "ExecuteTime": {
     "end_time": "2022-04-02T18:02:31.351079Z",
     "start_time": "2022-04-02T18:02:17.257750Z"
    }
   },
   "outputs": [
    {
     "name": "stderr",
     "output_type": "stream",
     "text": [
      "Setting `pad_token_id` to `eos_token_id`:50256 for open-end generation.\n"
     ]
    },
    {
     "name": "stdout",
     "output_type": "stream",
     "text": [
      "Can artificial intelligence replace humans? Can that be possible? The next generation of AI will use artificial intelligence to replace human interaction for things that human interaction uses for things, such as information retrieval, speech recognition and computer-based reasoning.\n",
      "\n",
      "You have no idea what you are dealing with in the article. It's a good one. But there may be some real confusion here. The question is: \"Why Artificial Intelligence Needs to Replace Humans?\" That would be good news for scientists, politicians and the press. In his book, _Machine Intelligence_ , MIT's John Brimelow describes artificial intelligence's application in education (and human-computer interaction), and we could argue a lot on why it does and does not. And there is a problem: there is no clear and convincing answer to that question.\n",
      "\n",
      "#    2. Artificial Intelligence Is Already Making Products More Interesting\n",
      "\n",
      "When I started working on this book, I asked people to try to figure out why an artificial\n"
     ]
    }
   ],
   "source": [
    "prompt = \"Can artificial intelligence replace humans?\"\n",
    "outputs = generator_gpt_neo(prompt, do_sample=True, max_length=200)\n",
    "print(outputs[0]['generated_text'])"
   ]
  },
  {
   "cell_type": "code",
   "execution_count": 55,
   "metadata": {
    "ExecuteTime": {
     "end_time": "2022-04-02T18:11:50.600391Z",
     "start_time": "2022-04-02T18:11:38.841222Z"
    }
   },
   "outputs": [
    {
     "name": "stderr",
     "output_type": "stream",
     "text": [
      "Setting `pad_token_id` to `eos_token_id`:50256 for open-end generation.\n"
     ]
    },
    {
     "name": "stdout",
     "output_type": "stream",
     "text": [
      "You just said Artificial intelligence is a term we use to refer to the capability to automate tasks, often called the human brain. How does Artificial Intelligence even work? Read on to find out.\n",
      "\n",
      "For several years, researchers have been trying to understand how our brains can become more efficient in tasks. The ability to run simulations and learn skills is what makes artificial intelligence (AI) work, as it runs on simulations in the brain. When you train simulations, you’re given an automated, real-world environment and perform the tasks it takes to perform that environment. These environments have many different ways to achieve their intended outcomes, from more mundane task requirements to more complex tasks, and there are multiple ways that tasks can be performed in a simulation environment.\n",
      "\n",
      "It’s in our power to provide accurate representations of tasks to help our people understand how best to accomplish tasks. If you do research on how best to execute tasks, or how to automate tasks, you can get a better\n"
     ]
    }
   ],
   "source": [
    "prompt = \"You just said Artificial intelligence is a term we use to refer to the capability to automate tasks, often called the human brain. How does Artificial Intelligence even work?\"\n",
    "outputs = generator_gpt_neo(prompt, do_sample=True, max_length=200)\n",
    "print(outputs[0]['generated_text'])"
   ]
  }
 ],
 "metadata": {
  "kernelspec": {
   "display_name": "Python 3",
   "language": "python",
   "name": "python3"
  },
  "language_info": {
   "codemirror_mode": {
    "name": "ipython",
    "version": 3
   },
   "file_extension": ".py",
   "mimetype": "text/x-python",
   "name": "python",
   "nbconvert_exporter": "python",
   "pygments_lexer": "ipython3",
   "version": "3.8.5"
  },
  "toc": {
   "base_numbering": 1,
   "nav_menu": {},
   "number_sections": true,
   "sideBar": true,
   "skip_h1_title": false,
   "title_cell": "Table of Contents",
   "title_sidebar": "Contents",
   "toc_cell": false,
   "toc_position": {},
   "toc_section_display": true,
   "toc_window_display": false
  },
  "varInspector": {
   "cols": {
    "lenName": 16,
    "lenType": 16,
    "lenVar": 40
   },
   "kernels_config": {
    "python": {
     "delete_cmd_postfix": "",
     "delete_cmd_prefix": "del ",
     "library": "var_list.py",
     "varRefreshCmd": "print(var_dic_list())"
    },
    "r": {
     "delete_cmd_postfix": ") ",
     "delete_cmd_prefix": "rm(",
     "library": "var_list.r",
     "varRefreshCmd": "cat(var_dic_list()) "
    }
   },
   "types_to_exclude": [
    "module",
    "function",
    "builtin_function_or_method",
    "instance",
    "_Feature"
   ],
   "window_display": false
  }
 },
 "nbformat": 4,
 "nbformat_minor": 4
}
