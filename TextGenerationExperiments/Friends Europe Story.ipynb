{
 "cells": [
  {
   "cell_type": "code",
   "execution_count": 1,
   "metadata": {
    "ExecuteTime": {
     "end_time": "2022-04-14T21:06:35.312480Z",
     "start_time": "2022-04-14T21:06:03.055351Z"
    }
   },
   "outputs": [
    {
     "name": "stderr",
     "output_type": "stream",
     "text": [
      "C:\\Users\\nroy0\\anaconda3\\lib\\site-packages\\torchaudio\\extension\\extension.py:13: UserWarning: torchaudio C++ extension is not available.\n",
      "  warnings.warn('torchaudio C++ extension is not available.')\n"
     ]
    }
   ],
   "source": [
    "from transformers import pipeline\n",
    "\n",
    "# generator_openAI = pipeline('text-generation', model='openai-gpt')\n",
    "generator_gpt_neo = pipeline('text-generation', model='EleutherAI/gpt-neo-125M')"
   ]
  },
  {
   "cell_type": "code",
   "execution_count": 228,
   "metadata": {
    "ExecuteTime": {
     "end_time": "2022-04-15T09:50:29.869716Z",
     "start_time": "2022-04-15T09:50:29.851164Z"
    }
   },
   "outputs": [],
   "source": [
    "europe_story = \"Years ago when I was backpacking through western Europe I was just outside Barcelona hiking in the foothills of Mount Tibidabo, I was at the end of this path and I came to a clearing, there was a very secluded lake and there were tall trees all around, it was dead silent and across the lake I saw a beautiful woman bathing herself but she was crying \""
   ]
  },
  {
   "cell_type": "code",
   "execution_count": 229,
   "metadata": {
    "ExecuteTime": {
     "end_time": "2022-04-15T09:50:50.692017Z",
     "start_time": "2022-04-15T09:50:30.066617Z"
    }
   },
   "outputs": [
    {
     "name": "stderr",
     "output_type": "stream",
     "text": [
      "Setting `pad_token_id` to `eos_token_id`:50256 for open-end generation.\n"
     ]
    },
    {
     "name": "stdout",
     "output_type": "stream",
     "text": [
      "Years ago when I was backpacking through western Europe I was just outside Barcelona hiking in the foothills of Mount Tibidabo, I was at the end of this path and I came to a clearing, there was a very secluded lake and there were tall trees all around, it was dead silent and across the lake I saw a beautiful woman bathing herself but she was crying  as she was being carried by the boat, and when I asked her for water but she told me that she couldn't even carry the boat, but she had no idea where she was going, but I tried to help her and the canoe was there. I said to her that I'm the one who could do anything for her that she didn't understand and she said \"well then why do you have to do something for me?\" I said how much I would love to help her if she could help herself. She said \"But if you can take care of all these problems, you can do anything for me\" which made me cry \"what's wrong?\" When I went back to my boat on the other side of the lake we went under the bridge and then we got down and we spent a little time in the cabin that we used to have as a small cabin and I had to tell my wife that I would like to be part of this place for a while but it was not as much because, even in this place, I knew I had no friends.\n",
      "But back then if there was anybody\n"
     ]
    }
   ],
   "source": [
    "generator_gpt_neo = pipeline('text-generation')\n",
    "outputs = generator_gpt_neo(europe_story, do_sample=True, max_length=300)\n",
    "print(outputs[0]['generated_text'])"
   ]
  },
  {
   "cell_type": "code",
   "execution_count": 224,
   "metadata": {
    "ExecuteTime": {
     "end_time": "2022-04-14T22:24:42.221621Z",
     "start_time": "2022-04-14T22:24:42.201613Z"
    }
   },
   "outputs": [],
   "source": [
    "monica1 = \"I know of two surefire ways to shut a man up. And one of them is\"\n",
    "monica2 = \"\"\n",
    "joey1 = \"If he doesn't like you, then this is all just a moo point... it's like a cow's opinion, you know, it just doesn't \"\n",
    "joey2 = \"What’s not to like? Custard: good. Jam: good. Meat:\"\n",
    "chandler1 = \"Hi, I’m Chandler. I make jokes when I’m\"\n",
    "chandler2 = \"I’m not so good with the advice. Can I interest you in a \"\n",
    "rachel1 = \"Hello, Ross. This Is Dr. McNulty From The Fake Accent University. We'd Like You To Work With Us\"\n",
    "rachel2 = \"It’s Like All My Life Everyone’s Told Me, ‘You’re A Shoe! You’re A Shoe! You’re A Shoe!Well, what if I don’t want to be a shoe? What if I wanna be a \"\n",
    "ross1 = \"\"\n",
    "ross2 = \"\""
   ]
  },
  {
   "cell_type": "code",
   "execution_count": 216,
   "metadata": {
    "ExecuteTime": {
     "end_time": "2022-04-14T22:01:12.056467Z",
     "start_time": "2022-04-14T22:01:10.719868Z"
    }
   },
   "outputs": [
    {
     "name": "stderr",
     "output_type": "stream",
     "text": [
      "Setting `pad_token_id` to `eos_token_id`:50256 for open-end generation.\n"
     ]
    },
    {
     "name": "stdout",
     "output_type": "stream",
     "text": [
      "I know of two surefire ways to shut a man up. And one of them is to get out there and go for a swim as soon as possible. It is such\n"
     ]
    }
   ],
   "source": [
    "outputs = generator_gpt_neo(monica1, do_sample=True, max_length=35)\n",
    "print(outputs[0]['generated_text'])"
   ]
  },
  {
   "cell_type": "code",
   "execution_count": 219,
   "metadata": {
    "ExecuteTime": {
     "end_time": "2022-04-14T22:01:31.902046Z",
     "start_time": "2022-04-14T22:01:31.229844Z"
    }
   },
   "outputs": [
    {
     "name": "stderr",
     "output_type": "stream",
     "text": [
      "Setting `pad_token_id` to `eos_token_id`:50256 for open-end generation.\n"
     ]
    },
    {
     "name": "stdout",
     "output_type": "stream",
     "text": [
      "If he doesn't like you, then this is all just a moo point... it's like a cow's opinion, you know, it just doesn't \n",
      "get in your way. I\n"
     ]
    }
   ],
   "source": [
    "outputs = generator_gpt_neo(joey1, do_sample=True, max_length=40)\n",
    "print(outputs[0]['generated_text'])"
   ]
  },
  {
   "cell_type": "code",
   "execution_count": 163,
   "metadata": {
    "ExecuteTime": {
     "end_time": "2022-04-14T21:49:32.235465Z",
     "start_time": "2022-04-14T21:49:31.289703Z"
    }
   },
   "outputs": [
    {
     "name": "stderr",
     "output_type": "stream",
     "text": [
      "Setting `pad_token_id` to `eos_token_id`:50256 for open-end generation.\n"
     ]
    },
    {
     "name": "stdout",
     "output_type": "stream",
     "text": [
      "What’s not to like? Custard: good. Jam: good. Meat: good. The other: good. I’m\n"
     ]
    }
   ],
   "source": [
    "outputs = generator_gpt_neo(joey2, do_sample=True, max_length=30)\n",
    "print(outputs[0]['generated_text'])"
   ]
  },
  {
   "cell_type": "code",
   "execution_count": 76,
   "metadata": {
    "ExecuteTime": {
     "end_time": "2022-04-14T21:40:29.288453Z",
     "start_time": "2022-04-14T21:40:27.600635Z"
    }
   },
   "outputs": [
    {
     "name": "stderr",
     "output_type": "stream",
     "text": [
      "Setting `pad_token_id` to `eos_token_id`:50256 for open-end generation.\n"
     ]
    },
    {
     "name": "stdout",
     "output_type": "stream",
     "text": [
      "Hi, I’m Chandler. I make jokes when I’m mad (hilariously), but when I’m funny I\n"
     ]
    }
   ],
   "source": [
    "outputs = generator_gpt_neo(chandler1, do_sample=True, max_length=30)\n",
    "print(outputs[0]['generated_text'])"
   ]
  },
  {
   "cell_type": "code",
   "execution_count": 145,
   "metadata": {
    "ExecuteTime": {
     "end_time": "2022-04-14T21:46:27.758181Z",
     "start_time": "2022-04-14T21:46:26.754922Z"
    }
   },
   "outputs": [
    {
     "name": "stderr",
     "output_type": "stream",
     "text": [
      "Setting `pad_token_id` to `eos_token_id`:50256 for open-end generation.\n"
     ]
    },
    {
     "name": "stdout",
     "output_type": "stream",
     "text": [
      "I’m not so good with the advice. Can I interest you in a iced tea to go with rice on it? I’\n"
     ]
    }
   ],
   "source": [
    "outputs = generator_gpt_neo(chandler2, do_sample=True, max_length=30)\n",
    "print(outputs[0]['generated_text'])"
   ]
  },
  {
   "cell_type": "code",
   "execution_count": 68,
   "metadata": {
    "ExecuteTime": {
     "end_time": "2022-04-14T21:38:56.555124Z",
     "start_time": "2022-04-14T21:38:51.949488Z"
    }
   },
   "outputs": [
    {
     "name": "stderr",
     "output_type": "stream",
     "text": [
      "Setting `pad_token_id` to `eos_token_id`:50256 for open-end generation.\n"
     ]
    },
    {
     "name": "stdout",
     "output_type": "stream",
     "text": [
      "Hello, Ross. This Is Dr. McNulty From The Fake Accent University. We'd Like You To Work With Us For a Limited Time. Thank You.\n",
      "\n",
      "“He is a doctor … a physician that is good at his job\n"
     ]
    }
   ],
   "source": [
    "outputs = generator_gpt_neo(rachel1, do_sample=True, max_length=50)\n",
    "print(outputs[0]['generated_text'])"
   ]
  },
  {
   "cell_type": "code",
   "execution_count": 70,
   "metadata": {
    "ExecuteTime": {
     "end_time": "2022-04-14T21:39:16.914467Z",
     "start_time": "2022-04-14T21:39:14.650751Z"
    }
   },
   "outputs": [
    {
     "name": "stderr",
     "output_type": "stream",
     "text": [
      "Setting `pad_token_id` to `eos_token_id`:50256 for open-end generation.\n"
     ]
    },
    {
     "name": "stdout",
     "output_type": "stream",
     "text": [
      "It’s Like All My Life Everyone’s Told Me, ‘You’re A Shoe! You’re A Shoe! You’re A Shoe!Well, what if I don’t want to be a shoe? What if I wanna be a urchin, too, too? And who says I really don’t\n"
     ]
    }
   ],
   "source": [
    "outputs = generator_gpt_neo(rachel2, do_sample=True, max_length=80)\n",
    "print(outputs[0]['generated_text'])"
   ]
  },
  {
   "cell_type": "code",
   "execution_count": null,
   "metadata": {},
   "outputs": [],
   "source": []
  }
 ],
 "metadata": {
  "kernelspec": {
   "display_name": "Python 3",
   "language": "python",
   "name": "python3"
  },
  "language_info": {
   "codemirror_mode": {
    "name": "ipython",
    "version": 3
   },
   "file_extension": ".py",
   "mimetype": "text/x-python",
   "name": "python",
   "nbconvert_exporter": "python",
   "pygments_lexer": "ipython3",
   "version": "3.8.5"
  },
  "toc": {
   "base_numbering": 1,
   "nav_menu": {},
   "number_sections": true,
   "sideBar": true,
   "skip_h1_title": false,
   "title_cell": "Table of Contents",
   "title_sidebar": "Contents",
   "toc_cell": false,
   "toc_position": {},
   "toc_section_display": true,
   "toc_window_display": false
  },
  "varInspector": {
   "cols": {
    "lenName": 16,
    "lenType": 16,
    "lenVar": 40
   },
   "kernels_config": {
    "python": {
     "delete_cmd_postfix": "",
     "delete_cmd_prefix": "del ",
     "library": "var_list.py",
     "varRefreshCmd": "print(var_dic_list())"
    },
    "r": {
     "delete_cmd_postfix": ") ",
     "delete_cmd_prefix": "rm(",
     "library": "var_list.r",
     "varRefreshCmd": "cat(var_dic_list()) "
    }
   },
   "types_to_exclude": [
    "module",
    "function",
    "builtin_function_or_method",
    "instance",
    "_Feature"
   ],
   "window_display": false
  }
 },
 "nbformat": 4,
 "nbformat_minor": 4
}
