{
 "cells": [
  {
   "cell_type": "code",
   "execution_count": 74,
   "metadata": {
    "ExecuteTime": {
     "end_time": "2022-04-22T16:58:36.470125Z",
     "start_time": "2022-04-22T16:58:36.439486Z"
    }
   },
   "outputs": [],
   "source": [
    "import pandas as pd\n",
    "import contractions\n",
    "import re\n",
    "import emoji\n",
    "from nltk.corpus import stopwords\n",
    "STOPWORDS = set(stopwords.words('english'))\n",
    "import glob\n",
    "from nltk.stem import WordNetLemmatizer\n",
    "wnl = WordNetLemmatizer()"
   ]
  },
  {
   "cell_type": "code",
   "execution_count": 75,
   "metadata": {
    "ExecuteTime": {
     "end_time": "2022-04-22T16:58:36.861521Z",
     "start_time": "2022-04-22T16:58:36.837948Z"
    }
   },
   "outputs": [],
   "source": [
    "df = pd.read_pickle('sample.pkl')"
   ]
  },
  {
   "cell_type": "code",
   "execution_count": 77,
   "metadata": {
    "ExecuteTime": {
     "end_time": "2022-04-22T16:58:49.126658Z",
     "start_time": "2022-04-22T16:58:49.113262Z"
    }
   },
   "outputs": [],
   "source": [
    "df.columns = ['text', 'date']"
   ]
  },
  {
   "cell_type": "code",
   "execution_count": 79,
   "metadata": {
    "ExecuteTime": {
     "end_time": "2022-04-22T16:58:52.098090Z",
     "start_time": "2022-04-22T16:58:52.072278Z"
    }
   },
   "outputs": [
    {
     "data": {
      "text/plain": [
       "array(['RT @olivier_patti: #EarthDay \\nToday ....\\nOur youth all over the world,  are learning  to become good  stewards of Mother Earth 🌎 \\nWe all must do our part to help them...Mother is not happy \\nEvery  Day should  be EarthDay\\n#TheFutureIsNow\\n#NoPlanetB \\n#ClimateActionNow https://t.co/wP6D9OazqJ',\n",
       "       \"RT @tamannaahspeaks: Animals source their food from soil but our soil is dying and because of this these beautiful birds / animals will get impacted. On this Earth Day let's pledge to Save soil from dying.  #MyconnectwithSoil @SadhguruJV @cpsavesoil https://t.co/hS2mFfdBGi\",\n",
       "       'RT @andresricardo85: #22Abr Hoy Día de la Tierra, comparto con ustedes este hermoso paisaje de #Caripito. \\n\\n#EarthDay https://t.co/PhvQwrHIcx',\n",
       "       'RT @vanessa_vash: We cannot drink oil #Earthday #Riseupmovement #EarthDayRiseupmovement https://t.co/avQtdF1eNk',\n",
       "       '#EarthDay #DiaDeLaTierra #DiaDeLaTierra2022 #EarthDay22 \\n\\n¡@Hedera es la red DLT más VERDE!\\n\\nLo concluyó en un estudio el Centro para la Tecnología Blockchain de la @ucl \\n(https://t.co/q0dGjVD1j1)\\n\\n¡Es CARBON NEGATIVE! (tiene un impacto negativo de carbono en general)\\n\\n🌎🌲🍁🌊 https://t.co/qQuhaiW9M4 https://t.co/t1UJHlr2wt',\n",
       "       \"RT @KillingtonMtn: Today and everyday is #EarthDay when we're on a mission to #PlayForever. A few ways this comes to life at Killington and Pico is through Cow Power, solar energy and our recycled water program. Learn more at https://t.co/0eqfKLaqAK \\n\\n#Killington #WoodwardKillington #MyPicoMtn https://t.co/vSbIWpty8R\",\n",
       "       '@unidentifedbird EARTH day this time!',\n",
       "       'RT @savesoiluk: Soil is our common mother. Let’s be in touch on this beautiful day!\\n\\n #EarthDay What is your way to connect with soil? #MyConnectWithSoil https://t.co/dMsRP5wppp',\n",
       "       'RT @NWWSD: 🌍Happy #earthday!  Today &amp; every day we invest our efforts into promoting a safe, clean environment by protecting our number one natural resource, water!.  Thank you to all of our #waterwarriors for their commitment to clean water. 💧 https://t.co/ZVR37PC15f',\n",
       "       '#EarthDay2022 #earthday #nameste https://t.co/BsPFA7Kj2s'],\n",
       "      dtype=object)"
      ]
     },
     "execution_count": 79,
     "metadata": {},
     "output_type": "execute_result"
    }
   ],
   "source": [
    "df.text.values"
   ]
  },
  {
   "cell_type": "code",
   "execution_count": 80,
   "metadata": {
    "ExecuteTime": {
     "end_time": "2022-04-22T16:58:52.326494Z",
     "start_time": "2022-04-22T16:58:52.308299Z"
    }
   },
   "outputs": [],
   "source": [
    "def remove_urls(text):\n",
    "    ''' This method takes in text to remove urls and website links, if any'''\n",
    "    url_pattern = r'(www.|http[s]?://)(?:[a-zA-Z]|[0-9]|[$-_@.&+]|[!*\\(\\),]|(?:%[0-9a-fA-F][0-9a-fA-F]))+'\n",
    "    text = re.sub(url_pattern, '', text)\n",
    "    return text"
   ]
  },
  {
   "cell_type": "code",
   "execution_count": 81,
   "metadata": {
    "ExecuteTime": {
     "end_time": "2022-04-22T16:58:52.576537Z",
     "start_time": "2022-04-22T16:58:52.538973Z"
    }
   },
   "outputs": [
    {
     "data": {
      "text/plain": [
       "array(['RT @olivier_patti: #EarthDay \\nToday ....\\nOur youth all over the world,  are learning  to become good  stewards of Mother Earth 🌎 \\nWe all must do our part to help them...Mother is not happy \\nEvery  Day should  be EarthDay\\n#TheFutureIsNow\\n#NoPlanetB \\n#ClimateActionNow ',\n",
       "       \"RT @tamannaahspeaks: Animals source their food from soil but our soil is dying and because of this these beautiful birds / animals will get impacted. On this Earth Day let's pledge to Save soil from dying.  #MyconnectwithSoil @SadhguruJV @cpsavesoil \",\n",
       "       'RT @andresricardo85: #22Abr Hoy Día de la Tierra, comparto con ustedes este hermoso paisaje de #Caripito. \\n\\n#EarthDay ',\n",
       "       'RT @vanessa_vash: We cannot drink oil #Earthday #Riseupmovement #EarthDayRiseupmovement ',\n",
       "       '#EarthDay #DiaDeLaTierra #DiaDeLaTierra2022 #EarthDay22 \\n\\n¡@Hedera es la red DLT más VERDE!\\n\\nLo concluyó en un estudio el Centro para la Tecnología Blockchain de la @ucl \\n(\\n\\n¡Es CARBON NEGATIVE! (tiene un impacto negativo de carbono en general)\\n\\n🌎🌲🍁🌊  ',\n",
       "       \"RT @KillingtonMtn: Today and everyday is #EarthDay when we're on a mission to #PlayForever. A few ways this comes to life at Killington and Pico is through Cow Power, solar energy and our recycled water program. Learn more at  \\n\\n#Killington #WoodwardKillington #MyPicoMtn \",\n",
       "       '@unidentifedbird EARTH day this time!',\n",
       "       'RT @savesoiluk: Soil is our common mother. Let’s be in touch on this beautiful day!\\n\\n #EarthDay What is your way to connect with soil? #MyConnectWithSoil ',\n",
       "       'RT @NWWSD: 🌍Happy #earthday!  Today &amp; every day we invest our efforts into promoting a safe, clean environment by protecting our number one natural resource, water!.  Thank you to all of our #waterwarriors for their commitment to clean water. 💧 ',\n",
       "       '#EarthDay2022 #earthday #nameste '], dtype=object)"
      ]
     },
     "execution_count": 81,
     "metadata": {},
     "output_type": "execute_result"
    }
   ],
   "source": [
    "df['text_cleaned'] = df.text.apply(remove_urls)\n",
    "df.text_cleaned.values"
   ]
  },
  {
   "cell_type": "code",
   "execution_count": 82,
   "metadata": {
    "ExecuteTime": {
     "end_time": "2022-04-22T16:58:52.814194Z",
     "start_time": "2022-04-22T16:58:52.793495Z"
    }
   },
   "outputs": [],
   "source": [
    "def get_account_tags(text):\n",
    "    ''' This method account tags'''\n",
    "    tag_pattern = r'@([A-Za-z0-9_]+)'\n",
    "    text = re.findall(tag_pattern, text)\n",
    "    return text"
   ]
  },
  {
   "cell_type": "code",
   "execution_count": 83,
   "metadata": {
    "ExecuteTime": {
     "end_time": "2022-04-22T16:58:53.083817Z",
     "start_time": "2022-04-22T16:58:53.024016Z"
    }
   },
   "outputs": [
    {
     "data": {
      "text/html": [
       "<div>\n",
       "<style scoped>\n",
       "    .dataframe tbody tr th:only-of-type {\n",
       "        vertical-align: middle;\n",
       "    }\n",
       "\n",
       "    .dataframe tbody tr th {\n",
       "        vertical-align: top;\n",
       "    }\n",
       "\n",
       "    .dataframe thead th {\n",
       "        text-align: right;\n",
       "    }\n",
       "</style>\n",
       "<table border=\"1\" class=\"dataframe\">\n",
       "  <thead>\n",
       "    <tr style=\"text-align: right;\">\n",
       "      <th></th>\n",
       "      <th>text</th>\n",
       "      <th>account_tags</th>\n",
       "    </tr>\n",
       "  </thead>\n",
       "  <tbody>\n",
       "    <tr>\n",
       "      <th>0</th>\n",
       "      <td>RT @olivier_patti: #EarthDay \\nToday ....\\nOur...</td>\n",
       "      <td>[olivier_patti]</td>\n",
       "    </tr>\n",
       "    <tr>\n",
       "      <th>1</th>\n",
       "      <td>RT @tamannaahspeaks: Animals source their food...</td>\n",
       "      <td>[tamannaahspeaks, SadhguruJV, cpsavesoil]</td>\n",
       "    </tr>\n",
       "    <tr>\n",
       "      <th>2</th>\n",
       "      <td>RT @andresricardo85: #22Abr Hoy Día de la Tier...</td>\n",
       "      <td>[andresricardo85]</td>\n",
       "    </tr>\n",
       "    <tr>\n",
       "      <th>3</th>\n",
       "      <td>RT @vanessa_vash: We cannot drink oil #Earthda...</td>\n",
       "      <td>[vanessa_vash]</td>\n",
       "    </tr>\n",
       "    <tr>\n",
       "      <th>4</th>\n",
       "      <td>#EarthDay #DiaDeLaTierra #DiaDeLaTierra2022 #E...</td>\n",
       "      <td>[Hedera, ucl]</td>\n",
       "    </tr>\n",
       "    <tr>\n",
       "      <th>5</th>\n",
       "      <td>RT @KillingtonMtn: Today and everyday is #Eart...</td>\n",
       "      <td>[KillingtonMtn]</td>\n",
       "    </tr>\n",
       "    <tr>\n",
       "      <th>6</th>\n",
       "      <td>@unidentifedbird EARTH day this time!</td>\n",
       "      <td>[unidentifedbird]</td>\n",
       "    </tr>\n",
       "    <tr>\n",
       "      <th>7</th>\n",
       "      <td>RT @savesoiluk: Soil is our common mother. Let...</td>\n",
       "      <td>[savesoiluk]</td>\n",
       "    </tr>\n",
       "    <tr>\n",
       "      <th>8</th>\n",
       "      <td>RT @NWWSD: 🌍Happy #earthday!  Today &amp;amp; ever...</td>\n",
       "      <td>[NWWSD]</td>\n",
       "    </tr>\n",
       "    <tr>\n",
       "      <th>9</th>\n",
       "      <td>#EarthDay2022 #earthday #nameste https://t.co/...</td>\n",
       "      <td>[]</td>\n",
       "    </tr>\n",
       "  </tbody>\n",
       "</table>\n",
       "</div>"
      ],
      "text/plain": [
       "                                                text  \\\n",
       "0  RT @olivier_patti: #EarthDay \\nToday ....\\nOur...   \n",
       "1  RT @tamannaahspeaks: Animals source their food...   \n",
       "2  RT @andresricardo85: #22Abr Hoy Día de la Tier...   \n",
       "3  RT @vanessa_vash: We cannot drink oil #Earthda...   \n",
       "4  #EarthDay #DiaDeLaTierra #DiaDeLaTierra2022 #E...   \n",
       "5  RT @KillingtonMtn: Today and everyday is #Eart...   \n",
       "6              @unidentifedbird EARTH day this time!   \n",
       "7  RT @savesoiluk: Soil is our common mother. Let...   \n",
       "8  RT @NWWSD: 🌍Happy #earthday!  Today &amp; ever...   \n",
       "9  #EarthDay2022 #earthday #nameste https://t.co/...   \n",
       "\n",
       "                                account_tags  \n",
       "0                            [olivier_patti]  \n",
       "1  [tamannaahspeaks, SadhguruJV, cpsavesoil]  \n",
       "2                          [andresricardo85]  \n",
       "3                             [vanessa_vash]  \n",
       "4                              [Hedera, ucl]  \n",
       "5                            [KillingtonMtn]  \n",
       "6                          [unidentifedbird]  \n",
       "7                               [savesoiluk]  \n",
       "8                                    [NWWSD]  \n",
       "9                                         []  "
      ]
     },
     "execution_count": 83,
     "metadata": {},
     "output_type": "execute_result"
    }
   ],
   "source": [
    "df['account_tags'] = df.text_cleaned.apply(get_account_tags)\n",
    "df[['text', 'account_tags']]"
   ]
  },
  {
   "cell_type": "code",
   "execution_count": 84,
   "metadata": {
    "ExecuteTime": {
     "end_time": "2022-04-22T16:58:53.348702Z",
     "start_time": "2022-04-22T16:58:53.329275Z"
    }
   },
   "outputs": [],
   "source": [
    "def get_hash_tags(text):\n",
    "    ''' This method gets hashtags'''\n",
    "    tag_pattern = r'#([A-Za-z0-9]+)'\n",
    "    text = re.findall(tag_pattern, text)\n",
    "    return text"
   ]
  },
  {
   "cell_type": "code",
   "execution_count": 85,
   "metadata": {
    "ExecuteTime": {
     "end_time": "2022-04-22T16:58:53.645540Z",
     "start_time": "2022-04-22T16:58:53.591122Z"
    }
   },
   "outputs": [
    {
     "data": {
      "text/html": [
       "<div>\n",
       "<style scoped>\n",
       "    .dataframe tbody tr th:only-of-type {\n",
       "        vertical-align: middle;\n",
       "    }\n",
       "\n",
       "    .dataframe tbody tr th {\n",
       "        vertical-align: top;\n",
       "    }\n",
       "\n",
       "    .dataframe thead th {\n",
       "        text-align: right;\n",
       "    }\n",
       "</style>\n",
       "<table border=\"1\" class=\"dataframe\">\n",
       "  <thead>\n",
       "    <tr style=\"text-align: right;\">\n",
       "      <th></th>\n",
       "      <th>text</th>\n",
       "      <th>hash_tags</th>\n",
       "    </tr>\n",
       "  </thead>\n",
       "  <tbody>\n",
       "    <tr>\n",
       "      <th>0</th>\n",
       "      <td>RT @olivier_patti: #EarthDay \\nToday ....\\nOur...</td>\n",
       "      <td>[EarthDay, TheFutureIsNow, NoPlanetB, ClimateA...</td>\n",
       "    </tr>\n",
       "    <tr>\n",
       "      <th>1</th>\n",
       "      <td>RT @tamannaahspeaks: Animals source their food...</td>\n",
       "      <td>[MyconnectwithSoil]</td>\n",
       "    </tr>\n",
       "    <tr>\n",
       "      <th>2</th>\n",
       "      <td>RT @andresricardo85: #22Abr Hoy Día de la Tier...</td>\n",
       "      <td>[22Abr, Caripito, EarthDay]</td>\n",
       "    </tr>\n",
       "    <tr>\n",
       "      <th>3</th>\n",
       "      <td>RT @vanessa_vash: We cannot drink oil #Earthda...</td>\n",
       "      <td>[Earthday, Riseupmovement, EarthDayRiseupmovem...</td>\n",
       "    </tr>\n",
       "    <tr>\n",
       "      <th>4</th>\n",
       "      <td>#EarthDay #DiaDeLaTierra #DiaDeLaTierra2022 #E...</td>\n",
       "      <td>[EarthDay, DiaDeLaTierra, DiaDeLaTierra2022, E...</td>\n",
       "    </tr>\n",
       "    <tr>\n",
       "      <th>5</th>\n",
       "      <td>RT @KillingtonMtn: Today and everyday is #Eart...</td>\n",
       "      <td>[EarthDay, PlayForever, Killington, WoodwardKi...</td>\n",
       "    </tr>\n",
       "    <tr>\n",
       "      <th>6</th>\n",
       "      <td>@unidentifedbird EARTH day this time!</td>\n",
       "      <td>[]</td>\n",
       "    </tr>\n",
       "    <tr>\n",
       "      <th>7</th>\n",
       "      <td>RT @savesoiluk: Soil is our common mother. Let...</td>\n",
       "      <td>[EarthDay, MyConnectWithSoil]</td>\n",
       "    </tr>\n",
       "    <tr>\n",
       "      <th>8</th>\n",
       "      <td>RT @NWWSD: 🌍Happy #earthday!  Today &amp;amp; ever...</td>\n",
       "      <td>[earthday, waterwarriors]</td>\n",
       "    </tr>\n",
       "    <tr>\n",
       "      <th>9</th>\n",
       "      <td>#EarthDay2022 #earthday #nameste https://t.co/...</td>\n",
       "      <td>[EarthDay2022, earthday, nameste]</td>\n",
       "    </tr>\n",
       "  </tbody>\n",
       "</table>\n",
       "</div>"
      ],
      "text/plain": [
       "                                                text  \\\n",
       "0  RT @olivier_patti: #EarthDay \\nToday ....\\nOur...   \n",
       "1  RT @tamannaahspeaks: Animals source their food...   \n",
       "2  RT @andresricardo85: #22Abr Hoy Día de la Tier...   \n",
       "3  RT @vanessa_vash: We cannot drink oil #Earthda...   \n",
       "4  #EarthDay #DiaDeLaTierra #DiaDeLaTierra2022 #E...   \n",
       "5  RT @KillingtonMtn: Today and everyday is #Eart...   \n",
       "6              @unidentifedbird EARTH day this time!   \n",
       "7  RT @savesoiluk: Soil is our common mother. Let...   \n",
       "8  RT @NWWSD: 🌍Happy #earthday!  Today &amp; ever...   \n",
       "9  #EarthDay2022 #earthday #nameste https://t.co/...   \n",
       "\n",
       "                                           hash_tags  \n",
       "0  [EarthDay, TheFutureIsNow, NoPlanetB, ClimateA...  \n",
       "1                                [MyconnectwithSoil]  \n",
       "2                        [22Abr, Caripito, EarthDay]  \n",
       "3  [Earthday, Riseupmovement, EarthDayRiseupmovem...  \n",
       "4  [EarthDay, DiaDeLaTierra, DiaDeLaTierra2022, E...  \n",
       "5  [EarthDay, PlayForever, Killington, WoodwardKi...  \n",
       "6                                                 []  \n",
       "7                      [EarthDay, MyConnectWithSoil]  \n",
       "8                          [earthday, waterwarriors]  \n",
       "9                  [EarthDay2022, earthday, nameste]  "
      ]
     },
     "execution_count": 85,
     "metadata": {},
     "output_type": "execute_result"
    }
   ],
   "source": [
    "df['hash_tags'] = df.text_cleaned.apply(get_hash_tags)\n",
    "df[['text', 'hash_tags']]"
   ]
  },
  {
   "cell_type": "code",
   "execution_count": 86,
   "metadata": {
    "ExecuteTime": {
     "end_time": "2022-04-22T16:58:53.925017Z",
     "start_time": "2022-04-22T16:58:53.908018Z"
    }
   },
   "outputs": [],
   "source": [
    "def preprocess_text(text):\n",
    "    # remove accounts and hash tags\n",
    "    cleaned_text = re.sub(r'(@|#)([A-Za-z0-9_]+)', '', text)\n",
    "    # Keep only English alphabetts, digits and spaces\n",
    "    cleaned_text = re.sub(r'[^a-zA-Z\\d\\s]+', '', cleaned_text)\n",
    "    word_list = []\n",
    "    for each_word in cleaned_text.split(' '):\n",
    "        word_list.append(contractions.fix(each_word).lower())\n",
    "    word_list = [\n",
    "        wnl.lemmatize(each_word.strip()) for each_word in word_list\n",
    "        if each_word not in STOPWORDS and each_word.strip() != ''\n",
    "    ]\n",
    "    return \" \".join(word_list)"
   ]
  },
  {
   "cell_type": "code",
   "execution_count": 87,
   "metadata": {
    "ExecuteTime": {
     "end_time": "2022-04-22T16:58:54.228182Z",
     "start_time": "2022-04-22T16:58:54.174752Z"
    }
   },
   "outputs": [
    {
     "data": {
      "text/html": [
       "<div>\n",
       "<style scoped>\n",
       "    .dataframe tbody tr th:only-of-type {\n",
       "        vertical-align: middle;\n",
       "    }\n",
       "\n",
       "    .dataframe tbody tr th {\n",
       "        vertical-align: top;\n",
       "    }\n",
       "\n",
       "    .dataframe thead th {\n",
       "        text-align: right;\n",
       "    }\n",
       "</style>\n",
       "<table border=\"1\" class=\"dataframe\">\n",
       "  <thead>\n",
       "    <tr style=\"text-align: right;\">\n",
       "      <th></th>\n",
       "      <th>text</th>\n",
       "      <th>text_preprocessed</th>\n",
       "    </tr>\n",
       "  </thead>\n",
       "  <tbody>\n",
       "    <tr>\n",
       "      <th>0</th>\n",
       "      <td>RT @olivier_patti: #EarthDay \\nToday ....\\nOur...</td>\n",
       "      <td>rt today our youth world learning become good ...</td>\n",
       "    </tr>\n",
       "    <tr>\n",
       "      <th>1</th>\n",
       "      <td>RT @tamannaahspeaks: Animals source their food...</td>\n",
       "      <td>rt animal source food soil soil dying beautifu...</td>\n",
       "    </tr>\n",
       "    <tr>\n",
       "      <th>2</th>\n",
       "      <td>RT @andresricardo85: #22Abr Hoy Día de la Tier...</td>\n",
       "      <td>rt hoy da de la tierra comparto con ustedes es...</td>\n",
       "    </tr>\n",
       "    <tr>\n",
       "      <th>3</th>\n",
       "      <td>RT @vanessa_vash: We cannot drink oil #Earthda...</td>\n",
       "      <td>rt cannot drink oil</td>\n",
       "    </tr>\n",
       "    <tr>\n",
       "      <th>4</th>\n",
       "      <td>#EarthDay #DiaDeLaTierra #DiaDeLaTierra2022 #E...</td>\n",
       "      <td>e la red dlt m verde\\n\\nlo concluy en un estud...</td>\n",
       "    </tr>\n",
       "    <tr>\n",
       "      <th>5</th>\n",
       "      <td>RT @KillingtonMtn: Today and everyday is #Eart...</td>\n",
       "      <td>rt today everyday mission way come life killin...</td>\n",
       "    </tr>\n",
       "    <tr>\n",
       "      <th>6</th>\n",
       "      <td>@unidentifedbird EARTH day this time!</td>\n",
       "      <td>earth day time</td>\n",
       "    </tr>\n",
       "    <tr>\n",
       "      <th>7</th>\n",
       "      <td>RT @savesoiluk: Soil is our common mother. Let...</td>\n",
       "      <td>rt soil common mother let us touch beautiful d...</td>\n",
       "    </tr>\n",
       "    <tr>\n",
       "      <th>8</th>\n",
       "      <td>RT @NWWSD: 🌍Happy #earthday!  Today &amp;amp; ever...</td>\n",
       "      <td>rt happy today amp every day invest effort pro...</td>\n",
       "    </tr>\n",
       "    <tr>\n",
       "      <th>9</th>\n",
       "      <td>#EarthDay2022 #earthday #nameste https://t.co/...</td>\n",
       "      <td></td>\n",
       "    </tr>\n",
       "  </tbody>\n",
       "</table>\n",
       "</div>"
      ],
      "text/plain": [
       "                                                text  \\\n",
       "0  RT @olivier_patti: #EarthDay \\nToday ....\\nOur...   \n",
       "1  RT @tamannaahspeaks: Animals source their food...   \n",
       "2  RT @andresricardo85: #22Abr Hoy Día de la Tier...   \n",
       "3  RT @vanessa_vash: We cannot drink oil #Earthda...   \n",
       "4  #EarthDay #DiaDeLaTierra #DiaDeLaTierra2022 #E...   \n",
       "5  RT @KillingtonMtn: Today and everyday is #Eart...   \n",
       "6              @unidentifedbird EARTH day this time!   \n",
       "7  RT @savesoiluk: Soil is our common mother. Let...   \n",
       "8  RT @NWWSD: 🌍Happy #earthday!  Today &amp; ever...   \n",
       "9  #EarthDay2022 #earthday #nameste https://t.co/...   \n",
       "\n",
       "                                   text_preprocessed  \n",
       "0  rt today our youth world learning become good ...  \n",
       "1  rt animal source food soil soil dying beautifu...  \n",
       "2  rt hoy da de la tierra comparto con ustedes es...  \n",
       "3                                rt cannot drink oil  \n",
       "4  e la red dlt m verde\\n\\nlo concluy en un estud...  \n",
       "5  rt today everyday mission way come life killin...  \n",
       "6                                     earth day time  \n",
       "7  rt soil common mother let us touch beautiful d...  \n",
       "8  rt happy today amp every day invest effort pro...  \n",
       "9                                                     "
      ]
     },
     "execution_count": 87,
     "metadata": {},
     "output_type": "execute_result"
    }
   ],
   "source": [
    "df['text_preprocessed'] = df.text_cleaned.apply(preprocess_text)\n",
    "df[['text', 'text_preprocessed']]"
   ]
  },
  {
   "cell_type": "code",
   "execution_count": 88,
   "metadata": {
    "ExecuteTime": {
     "end_time": "2022-04-22T16:58:54.470393Z",
     "start_time": "2022-04-22T16:58:54.455873Z"
    }
   },
   "outputs": [],
   "source": [
    "sample = \"general)\\n\\n🌎🌲🍁\""
   ]
  },
  {
   "cell_type": "code",
   "execution_count": 89,
   "metadata": {
    "ExecuteTime": {
     "end_time": "2022-04-22T16:58:54.764314Z",
     "start_time": "2022-04-22T16:58:54.744299Z"
    }
   },
   "outputs": [
    {
     "data": {
      "text/plain": [
       "[{'location': 10, 'emoji': '🌎'},\n",
       " {'location': 11, 'emoji': '🌲'},\n",
       " {'location': 12, 'emoji': '🍁'}]"
      ]
     },
     "execution_count": 89,
     "metadata": {},
     "output_type": "execute_result"
    }
   ],
   "source": [
    "emoji.emoji_lis(sample) # Did not use distinct_emoji_lis because I wanted all counts"
   ]
  },
  {
   "cell_type": "code",
   "execution_count": 90,
   "metadata": {
    "ExecuteTime": {
     "end_time": "2022-04-22T16:58:55.056857Z",
     "start_time": "2022-04-22T16:58:55.043746Z"
    }
   },
   "outputs": [],
   "source": [
    "def get_emoji_list(text):\n",
    "    dict_loc_emoji = emoji.emoji_lis(text)\n",
    "    if dict_loc_emoji:\n",
    "        list_emojis = [each['emoji'] for each in dict_loc_emoji]\n",
    "        return list_emojis\n",
    "    return None"
   ]
  },
  {
   "cell_type": "code",
   "execution_count": 91,
   "metadata": {
    "ExecuteTime": {
     "end_time": "2022-04-22T16:58:55.401580Z",
     "start_time": "2022-04-22T16:58:55.330548Z"
    }
   },
   "outputs": [
    {
     "data": {
      "text/html": [
       "<div>\n",
       "<style scoped>\n",
       "    .dataframe tbody tr th:only-of-type {\n",
       "        vertical-align: middle;\n",
       "    }\n",
       "\n",
       "    .dataframe tbody tr th {\n",
       "        vertical-align: top;\n",
       "    }\n",
       "\n",
       "    .dataframe thead th {\n",
       "        text-align: right;\n",
       "    }\n",
       "</style>\n",
       "<table border=\"1\" class=\"dataframe\">\n",
       "  <thead>\n",
       "    <tr style=\"text-align: right;\">\n",
       "      <th></th>\n",
       "      <th>text</th>\n",
       "      <th>emoji_lists</th>\n",
       "    </tr>\n",
       "  </thead>\n",
       "  <tbody>\n",
       "    <tr>\n",
       "      <th>0</th>\n",
       "      <td>RT @olivier_patti: #EarthDay \\nToday ....\\nOur...</td>\n",
       "      <td>[🌎]</td>\n",
       "    </tr>\n",
       "    <tr>\n",
       "      <th>1</th>\n",
       "      <td>RT @tamannaahspeaks: Animals source their food...</td>\n",
       "      <td>None</td>\n",
       "    </tr>\n",
       "    <tr>\n",
       "      <th>2</th>\n",
       "      <td>RT @andresricardo85: #22Abr Hoy Día de la Tier...</td>\n",
       "      <td>None</td>\n",
       "    </tr>\n",
       "    <tr>\n",
       "      <th>3</th>\n",
       "      <td>RT @vanessa_vash: We cannot drink oil #Earthda...</td>\n",
       "      <td>None</td>\n",
       "    </tr>\n",
       "    <tr>\n",
       "      <th>4</th>\n",
       "      <td>#EarthDay #DiaDeLaTierra #DiaDeLaTierra2022 #E...</td>\n",
       "      <td>[🌎, 🌲, 🍁, 🌊]</td>\n",
       "    </tr>\n",
       "    <tr>\n",
       "      <th>5</th>\n",
       "      <td>RT @KillingtonMtn: Today and everyday is #Eart...</td>\n",
       "      <td>None</td>\n",
       "    </tr>\n",
       "    <tr>\n",
       "      <th>6</th>\n",
       "      <td>@unidentifedbird EARTH day this time!</td>\n",
       "      <td>None</td>\n",
       "    </tr>\n",
       "    <tr>\n",
       "      <th>7</th>\n",
       "      <td>RT @savesoiluk: Soil is our common mother. Let...</td>\n",
       "      <td>None</td>\n",
       "    </tr>\n",
       "    <tr>\n",
       "      <th>8</th>\n",
       "      <td>RT @NWWSD: 🌍Happy #earthday!  Today &amp;amp; ever...</td>\n",
       "      <td>[🌍, 💧]</td>\n",
       "    </tr>\n",
       "    <tr>\n",
       "      <th>9</th>\n",
       "      <td>#EarthDay2022 #earthday #nameste https://t.co/...</td>\n",
       "      <td>None</td>\n",
       "    </tr>\n",
       "  </tbody>\n",
       "</table>\n",
       "</div>"
      ],
      "text/plain": [
       "                                                text   emoji_lists\n",
       "0  RT @olivier_patti: #EarthDay \\nToday ....\\nOur...           [🌎]\n",
       "1  RT @tamannaahspeaks: Animals source their food...          None\n",
       "2  RT @andresricardo85: #22Abr Hoy Día de la Tier...          None\n",
       "3  RT @vanessa_vash: We cannot drink oil #Earthda...          None\n",
       "4  #EarthDay #DiaDeLaTierra #DiaDeLaTierra2022 #E...  [🌎, 🌲, 🍁, 🌊]\n",
       "5  RT @KillingtonMtn: Today and everyday is #Eart...          None\n",
       "6              @unidentifedbird EARTH day this time!          None\n",
       "7  RT @savesoiluk: Soil is our common mother. Let...          None\n",
       "8  RT @NWWSD: 🌍Happy #earthday!  Today &amp; ever...        [🌍, 💧]\n",
       "9  #EarthDay2022 #earthday #nameste https://t.co/...          None"
      ]
     },
     "execution_count": 91,
     "metadata": {},
     "output_type": "execute_result"
    }
   ],
   "source": [
    "df['emoji_lists'] = df.text_cleaned.apply(get_emoji_list)\n",
    "df[['text', 'emoji_lists']]"
   ]
  },
  {
   "cell_type": "code",
   "execution_count": 97,
   "metadata": {
    "ExecuteTime": {
     "end_time": "2022-04-22T17:49:03.478727Z",
     "start_time": "2022-04-22T17:49:00.702195Z"
    }
   },
   "outputs": [
    {
     "name": "stdout",
     "output_type": "stream",
     "text": [
      "rt today our youth world learning become good steward mother earth we must part help themmother happy every day earthday rt animal source food soil soil dying beautiful bird animal get impacted earth day let us pledge save soil dying rt hoy da de la tierra comparto con ustedes este hermoso paisaje de rt cannot drink oil e la red dlt m verde\n",
      "\n",
      "lo concluy en un estudio el centro para la tecnologa blockchain de la e carbon negative tiene un impacto negativo de carbono en general rt today everyday mission way come life killington pico cow power solar energy recycled water program learn earth day time rt soil common mother let us touch beautiful day way connect soil rt happy today amp every day invest effort promoting safe clean environment protecting number one natural resource water thank commitment clean water \n"
     ]
    },
    {
     "data": {
      "image/png": "[encoded data removed]",
      "text/plain": [
       "<Figure size 432x288 with 1 Axes>"
      ]
     },
     "metadata": {
      "needs_background": "light"
     },
     "output_type": "display_data"
    }
   ],
   "source": [
    "from os import path\n",
    "from PIL import Image\n",
    "import numpy as np\n",
    "import matplotlib.pyplot as plt\n",
    "import os\n",
    "\n",
    "from wordcloud import WordCloud, STOPWORDS, ImageColorGenerator\n",
    "\n",
    "# get data directory (using getcwd() is needed to support running example in generated IPython notebook)\n",
    "d = path.dirname(__file__) if \"__file__\" in locals() else os.getcwd()\n",
    "\n",
    "# Read the whole text.\n",
    "text = ' '.join(list(df.text_preprocessed))\n",
    "print(text)\n",
    "# read the mask / color image taken from\n",
    "# http://jirkavinse.deviantart.com/art/quot-Real-Life-quot-Alice-282261010\n",
    "alice_coloring = np.array(Image.open(path.join(d, \"earth_image.jpg\")))\n",
    "stopwords = set(STOPWORDS)\n",
    "stopwords.add(\"said\")\n",
    "\n",
    "wc = WordCloud(background_color=\"white\", max_words=2000, mask=alice_coloring,\n",
    "               stopwords=stopwords, max_font_size=40, random_state=42)\n",
    "# generate word cloud\n",
    "wc.generate(text)\n",
    "\n",
    "# create coloring from image\n",
    "image_colors = ImageColorGenerator(alice_coloring)\n",
    "\n",
    "plt.axis(\"off\")\n",
    "plt.imshow(wc.recolor(color_func=image_colors), interpolation=\"bilinear\")\n",
    "plt.show()"
   ]
  },
  {
   "cell_type": "code",
   "execution_count": null,
   "metadata": {},
   "outputs": [],
   "source": []
  }
 ],
 "metadata": {
  "kernelspec": {
   "display_name": "Python 3",
   "language": "python",
   "name": "python3"
  },
  "language_info": {
   "codemirror_mode": {
    "name": "ipython",
    "version": 3
   },
   "file_extension": ".py",
   "mimetype": "text/x-python",
   "name": "python",
   "nbconvert_exporter": "python",
   "pygments_lexer": "ipython3",
   "version": "3.8.5"
  },
  "toc": {
   "base_numbering": 1,
   "nav_menu": {},
   "number_sections": true,
   "sideBar": true,
   "skip_h1_title": false,
   "title_cell": "Table of Contents",
   "title_sidebar": "Contents",
   "toc_cell": false,
   "toc_position": {},
   "toc_section_display": true,
   "toc_window_display": false
  },
  "varInspector": {
   "cols": {
    "lenName": 16,
    "lenType": 16,
    "lenVar": 40
   },
   "kernels_config": {
    "python": {
     "delete_cmd_postfix": "",
     "delete_cmd_prefix": "del ",
     "library": "var_list.py",
     "varRefreshCmd": "print(var_dic_list())"
    },
    "r": {
     "delete_cmd_postfix": ") ",
     "delete_cmd_prefix": "rm(",
     "library": "var_list.r",
     "varRefreshCmd": "cat(var_dic_list()) "
    }
   },
   "types_to_exclude": [
    "module",
    "function",
    "builtin_function_or_method",
    "instance",
    "_Feature"
   ],
   "window_display": false
  }
 },
 "nbformat": 4,
 "nbformat_minor": 4
}
