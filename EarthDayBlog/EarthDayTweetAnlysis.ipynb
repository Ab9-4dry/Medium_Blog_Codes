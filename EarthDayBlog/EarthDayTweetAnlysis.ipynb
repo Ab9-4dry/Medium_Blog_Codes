{
 "cells": [
  {
   "cell_type": "code",
   "execution_count": 1,
   "metadata": {
    "ExecuteTime": {
     "end_time": "2022-04-22T17:00:25.005235Z",
     "start_time": "2022-04-22T17:00:19.548056Z"
    }
   },
   "outputs": [],
   "source": [
    "import pandas as pd\n",
    "import contractions\n",
    "import re\n",
    "import emoji\n",
    "from nltk.corpus import stopwords\n",
    "STOPWORDS = set(stopwords.words('english'))\n",
    "import glob\n",
    "from nltk.stem import WordNetLemmatizer\n",
    "wnl = WordNetLemmatizer()"
   ]
  },
  {
   "cell_type": "code",
   "execution_count": 4,
   "metadata": {
    "ExecuteTime": {
     "end_time": "2022-04-22T17:06:53.139439Z",
     "start_time": "2022-04-22T17:06:53.116056Z"
    }
   },
   "outputs": [],
   "source": [
    "FOLDER_NAME = \"data_*/*.pkl\"   "
   ]
  },
  {
   "cell_type": "code",
   "execution_count": 5,
   "metadata": {
    "ExecuteTime": {
     "end_time": "2022-04-22T17:06:55.752947Z",
     "start_time": "2022-04-22T17:06:54.210657Z"
    }
   },
   "outputs": [
    {
     "name": "stdout",
     "output_type": "stream",
     "text": [
      "                                                    0  \\\n",
      "0   RT @POTUS: As we celebrate the progress we’ve ...   \n",
      "1   This #EarthDay, I'm happy to be meeting with P...   \n",
      "2   RT @Khan__sir_patna: All of people wishes and ...   \n",
      "3   RT @CapsCoalition: Biden Signs Executive Order...   \n",
      "4   RT @tamannaahspeaks: Animals source their food...   \n",
      "..                                                ...   \n",
      "95  RT @SpeakerPelosi: For more than half a centur...   \n",
      "96  RT @PearlJam: “Station this is Eddie Vedder of...   \n",
      "97  RT @FDACS: In honor of National Gardening Mont...   \n",
      "98             #earthday recycling doesn’t even exist   \n",
      "99  RT @ShekyIhs: 😁 Happy Earth day :)) #SaveSoil ...   \n",
      "\n",
      "                                 1  \n",
      "0   Fri Apr 22 15:41:33 +0000 2022  \n",
      "1   Fri Apr 22 15:41:33 +0000 2022  \n",
      "2   Fri Apr 22 15:41:33 +0000 2022  \n",
      "3   Fri Apr 22 15:41:33 +0000 2022  \n",
      "4   Fri Apr 22 15:41:33 +0000 2022  \n",
      "..                             ...  \n",
      "95  Fri Apr 22 17:06:11 +0000 2022  \n",
      "96  Fri Apr 22 17:06:11 +0000 2022  \n",
      "97  Fri Apr 22 17:06:11 +0000 2022  \n",
      "98  Fri Apr 22 17:06:11 +0000 2022  \n",
      "99  Fri Apr 22 17:06:11 +0000 2022  \n",
      "\n",
      "[30199 rows x 2 columns]\n"
     ]
    }
   ],
   "source": [
    "full_dataframe = pd.DataFrame()\n",
    "for each_file in glob.glob(FOLDER_NAME):\n",
    "    df = pd.read_pickle(each_file)\n",
    "    full_dataframe = pd.concat([full_dataframe, df])\n",
    "print(full_dataframe)"
   ]
  },
  {
   "cell_type": "code",
   "execution_count": 6,
   "metadata": {
    "ExecuteTime": {
     "end_time": "2022-04-22T17:07:49.711400Z",
     "start_time": "2022-04-22T17:07:49.695632Z"
    }
   },
   "outputs": [],
   "source": [
    "full_dataframe.columns = ['text', 'date']"
   ]
  },
  {
   "cell_type": "code",
   "execution_count": 18,
   "metadata": {
    "ExecuteTime": {
     "end_time": "2022-04-22T17:09:42.285103Z",
     "start_time": "2022-04-22T17:09:42.255259Z"
    }
   },
   "outputs": [],
   "source": [
    "full_dataframe.reset_index(inplace=True)\n",
    "full_dataframe.drop(columns=['index', 'date'], inplace=True)"
   ]
  },
  {
   "cell_type": "code",
   "execution_count": 19,
   "metadata": {
    "ExecuteTime": {
     "end_time": "2022-04-22T17:09:42.539745Z",
     "start_time": "2022-04-22T17:09:42.509346Z"
    }
   },
   "outputs": [
    {
     "data": {
      "text/html": [
       "<div>\n",
       "<style scoped>\n",
       "    .dataframe tbody tr th:only-of-type {\n",
       "        vertical-align: middle;\n",
       "    }\n",
       "\n",
       "    .dataframe tbody tr th {\n",
       "        vertical-align: top;\n",
       "    }\n",
       "\n",
       "    .dataframe thead th {\n",
       "        text-align: right;\n",
       "    }\n",
       "</style>\n",
       "<table border=\"1\" class=\"dataframe\">\n",
       "  <thead>\n",
       "    <tr style=\"text-align: right;\">\n",
       "      <th></th>\n",
       "      <th>level_0</th>\n",
       "      <th>text</th>\n",
       "    </tr>\n",
       "  </thead>\n",
       "  <tbody>\n",
       "    <tr>\n",
       "      <th>0</th>\n",
       "      <td>0</td>\n",
       "      <td>RT @POTUS: As we celebrate the progress we’ve ...</td>\n",
       "    </tr>\n",
       "    <tr>\n",
       "      <th>1</th>\n",
       "      <td>1</td>\n",
       "      <td>This #EarthDay, I'm happy to be meeting with P...</td>\n",
       "    </tr>\n",
       "    <tr>\n",
       "      <th>2</th>\n",
       "      <td>2</td>\n",
       "      <td>RT @Khan__sir_patna: All of people wishes and ...</td>\n",
       "    </tr>\n",
       "    <tr>\n",
       "      <th>3</th>\n",
       "      <td>3</td>\n",
       "      <td>RT @CapsCoalition: Biden Signs Executive Order...</td>\n",
       "    </tr>\n",
       "    <tr>\n",
       "      <th>4</th>\n",
       "      <td>4</td>\n",
       "      <td>RT @tamannaahspeaks: Animals source their food...</td>\n",
       "    </tr>\n",
       "  </tbody>\n",
       "</table>\n",
       "</div>"
      ],
      "text/plain": [
       "   level_0                                               text\n",
       "0        0  RT @POTUS: As we celebrate the progress we’ve ...\n",
       "1        1  This #EarthDay, I'm happy to be meeting with P...\n",
       "2        2  RT @Khan__sir_patna: All of people wishes and ...\n",
       "3        3  RT @CapsCoalition: Biden Signs Executive Order...\n",
       "4        4  RT @tamannaahspeaks: Animals source their food..."
      ]
     },
     "execution_count": 19,
     "metadata": {},
     "output_type": "execute_result"
    }
   ],
   "source": [
    "full_dataframe.head()"
   ]
  },
  {
   "cell_type": "code",
   "execution_count": 20,
   "metadata": {
    "ExecuteTime": {
     "end_time": "2022-04-22T17:09:42.802011Z",
     "start_time": "2022-04-22T17:09:42.767472Z"
    }
   },
   "outputs": [
    {
     "data": {
      "text/html": [
       "<div>\n",
       "<style scoped>\n",
       "    .dataframe tbody tr th:only-of-type {\n",
       "        vertical-align: middle;\n",
       "    }\n",
       "\n",
       "    .dataframe tbody tr th {\n",
       "        vertical-align: top;\n",
       "    }\n",
       "\n",
       "    .dataframe thead th {\n",
       "        text-align: right;\n",
       "    }\n",
       "</style>\n",
       "<table border=\"1\" class=\"dataframe\">\n",
       "  <thead>\n",
       "    <tr style=\"text-align: right;\">\n",
       "      <th></th>\n",
       "      <th>level_0</th>\n",
       "      <th>text</th>\n",
       "    </tr>\n",
       "  </thead>\n",
       "  <tbody>\n",
       "    <tr>\n",
       "      <th>30194</th>\n",
       "      <td>30194</td>\n",
       "      <td>RT @SpeakerPelosi: For more than half a centur...</td>\n",
       "    </tr>\n",
       "    <tr>\n",
       "      <th>30195</th>\n",
       "      <td>30195</td>\n",
       "      <td>RT @PearlJam: “Station this is Eddie Vedder of...</td>\n",
       "    </tr>\n",
       "    <tr>\n",
       "      <th>30196</th>\n",
       "      <td>30196</td>\n",
       "      <td>RT @FDACS: In honor of National Gardening Mont...</td>\n",
       "    </tr>\n",
       "    <tr>\n",
       "      <th>30197</th>\n",
       "      <td>30197</td>\n",
       "      <td>#earthday recycling doesn’t even exist</td>\n",
       "    </tr>\n",
       "    <tr>\n",
       "      <th>30198</th>\n",
       "      <td>30198</td>\n",
       "      <td>RT @ShekyIhs: 😁 Happy Earth day :)) #SaveSoil ...</td>\n",
       "    </tr>\n",
       "  </tbody>\n",
       "</table>\n",
       "</div>"
      ],
      "text/plain": [
       "       level_0                                               text\n",
       "30194    30194  RT @SpeakerPelosi: For more than half a centur...\n",
       "30195    30195  RT @PearlJam: “Station this is Eddie Vedder of...\n",
       "30196    30196  RT @FDACS: In honor of National Gardening Mont...\n",
       "30197    30197             #earthday recycling doesn’t even exist\n",
       "30198    30198  RT @ShekyIhs: 😁 Happy Earth day :)) #SaveSoil ..."
      ]
     },
     "execution_count": 20,
     "metadata": {},
     "output_type": "execute_result"
    }
   ],
   "source": [
    "full_dataframe.tail()"
   ]
  },
  {
   "cell_type": "code",
   "execution_count": 22,
   "metadata": {
    "ExecuteTime": {
     "end_time": "2022-04-22T17:11:59.990113Z",
     "start_time": "2022-04-22T17:11:59.971492Z"
    }
   },
   "outputs": [],
   "source": [
    "df = full_dataframe.copy()"
   ]
  },
  {
   "cell_type": "code",
   "execution_count": 23,
   "metadata": {
    "ExecuteTime": {
     "end_time": "2022-04-22T17:12:02.878574Z",
     "start_time": "2022-04-22T17:12:02.854223Z"
    }
   },
   "outputs": [],
   "source": [
    "def remove_urls(text):\n",
    "    ''' This method takes in text to remove urls and website links, if any'''\n",
    "    url_pattern = r'(www.|http[s]?://)(?:[a-zA-Z]|[0-9]|[$-_@.&+]|[!*\\(\\),]|(?:%[0-9a-fA-F][0-9a-fA-F]))+'\n",
    "    text = re.sub(url_pattern, '', text)\n",
    "    return text\n",
    "\n",
    "def get_account_tags(text):\n",
    "    ''' This method account tags'''\n",
    "    tag_pattern = r'@([A-Za-z0-9_]+)'\n",
    "    text = re.findall(tag_pattern, text)\n",
    "    return text\n",
    "\n",
    "def get_hash_tags(text):\n",
    "    ''' This method gets hashtags'''\n",
    "    tag_pattern = r'#([A-Za-z0-9]+)'\n",
    "    text = re.findall(tag_pattern, text)\n",
    "    return text\n",
    "\n",
    "def get_emoji_list(text):\n",
    "    dict_loc_emoji = emoji.emoji_lis(text)\n",
    "    if dict_loc_emoji:\n",
    "        list_emojis = [each['emoji'] for each in dict_loc_emoji]\n",
    "        return list_emojis\n",
    "    return None\n",
    "\n",
    "def preprocess_text(text):\n",
    "    # remove accounts and hash tags\n",
    "    cleaned_text = re.sub(r'(@|#)([A-Za-z0-9_]+)', '', text)\n",
    "    # Keep only English alphabetts, digits and spaces\n",
    "    cleaned_text = re.sub(r'[^a-zA-Z\\d\\s]+', '', cleaned_text)\n",
    "    word_list = []\n",
    "    for each_word in cleaned_text.split(' '):\n",
    "        word_list.append(contractions.fix(each_word).lower())\n",
    "    word_list = [\n",
    "        wnl.lemmatize(each_word.strip()) for each_word in word_list\n",
    "        if each_word not in STOPWORDS and each_word.strip() != ''\n",
    "    ]\n",
    "    return \" \".join(word_list)"
   ]
  },
  {
   "cell_type": "code",
   "execution_count": 24,
   "metadata": {
    "ExecuteTime": {
     "end_time": "2022-04-22T17:13:31.152719Z",
     "start_time": "2022-04-22T17:12:04.188589Z"
    }
   },
   "outputs": [],
   "source": [
    "df['text_cleaned'] = df.text.apply(remove_urls)\n",
    "df['account_tags'] = df.text_cleaned.apply(get_account_tags)\n",
    "df['hash_tags'] = df.text_cleaned.apply(get_hash_tags)\n",
    "df['text_preprocessed'] = df.text_cleaned.apply(preprocess_text)\n",
    "df['emoji_lists'] = df.text_cleaned.apply(get_emoji_list)"
   ]
  },
  {
   "cell_type": "code",
   "execution_count": 25,
   "metadata": {
    "ExecuteTime": {
     "end_time": "2022-04-22T17:41:54.600245Z",
     "start_time": "2022-04-22T17:41:54.540672Z"
    }
   },
   "outputs": [
    {
     "data": {
      "text/html": [
       "<div>\n",
       "<style scoped>\n",
       "    .dataframe tbody tr th:only-of-type {\n",
       "        vertical-align: middle;\n",
       "    }\n",
       "\n",
       "    .dataframe tbody tr th {\n",
       "        vertical-align: top;\n",
       "    }\n",
       "\n",
       "    .dataframe thead th {\n",
       "        text-align: right;\n",
       "    }\n",
       "</style>\n",
       "<table border=\"1\" class=\"dataframe\">\n",
       "  <thead>\n",
       "    <tr style=\"text-align: right;\">\n",
       "      <th></th>\n",
       "      <th>level_0</th>\n",
       "      <th>text</th>\n",
       "      <th>text_cleaned</th>\n",
       "      <th>account_tags</th>\n",
       "      <th>hash_tags</th>\n",
       "      <th>text_preprocessed</th>\n",
       "      <th>emoji_lists</th>\n",
       "    </tr>\n",
       "  </thead>\n",
       "  <tbody>\n",
       "    <tr>\n",
       "      <th>0</th>\n",
       "      <td>0</td>\n",
       "      <td>RT @POTUS: As we celebrate the progress we’ve ...</td>\n",
       "      <td>RT @POTUS: As we celebrate the progress we’ve ...</td>\n",
       "      <td>[POTUS]</td>\n",
       "      <td>[]</td>\n",
       "      <td>rt celebrate progress we have made earth day m...</td>\n",
       "      <td>None</td>\n",
       "    </tr>\n",
       "    <tr>\n",
       "      <th>1</th>\n",
       "      <td>1</td>\n",
       "      <td>This #EarthDay, I'm happy to be meeting with P...</td>\n",
       "      <td>This #EarthDay, I'm happy to be meeting with P...</td>\n",
       "      <td>[PennEnvironment]</td>\n",
       "      <td>[EarthDay, GetTheLeadOut]</td>\n",
       "      <td>i am happy meeting philly city council behalf ...</td>\n",
       "      <td>None</td>\n",
       "    </tr>\n",
       "    <tr>\n",
       "      <th>2</th>\n",
       "      <td>2</td>\n",
       "      <td>RT @Khan__sir_patna: All of people wishes and ...</td>\n",
       "      <td>RT @Khan__sir_patna: All of people wishes and ...</td>\n",
       "      <td>[Khan__sir_patna]</td>\n",
       "      <td>[EarthDay]</td>\n",
       "      <td>rt people wish happy earth day</td>\n",
       "      <td>None</td>\n",
       "    </tr>\n",
       "    <tr>\n",
       "      <th>3</th>\n",
       "      <td>3</td>\n",
       "      <td>RT @CapsCoalition: Biden Signs Executive Order...</td>\n",
       "      <td>RT @CapsCoalition: Biden Signs Executive Order...</td>\n",
       "      <td>[CapsCoalition]</td>\n",
       "      <td>[EarthDay]</td>\n",
       "      <td>rt biden sign executive order natural capital ...</td>\n",
       "      <td>None</td>\n",
       "    </tr>\n",
       "    <tr>\n",
       "      <th>4</th>\n",
       "      <td>4</td>\n",
       "      <td>RT @tamannaahspeaks: Animals source their food...</td>\n",
       "      <td>RT @tamannaahspeaks: Animals source their food...</td>\n",
       "      <td>[tamannaahspeaks, SadhguruJV, cpsavesoil]</td>\n",
       "      <td>[MyconnectwithSoil]</td>\n",
       "      <td>rt animal source food soil soil dying beautifu...</td>\n",
       "      <td>None</td>\n",
       "    </tr>\n",
       "  </tbody>\n",
       "</table>\n",
       "</div>"
      ],
      "text/plain": [
       "   level_0                                               text  \\\n",
       "0        0  RT @POTUS: As we celebrate the progress we’ve ...   \n",
       "1        1  This #EarthDay, I'm happy to be meeting with P...   \n",
       "2        2  RT @Khan__sir_patna: All of people wishes and ...   \n",
       "3        3  RT @CapsCoalition: Biden Signs Executive Order...   \n",
       "4        4  RT @tamannaahspeaks: Animals source their food...   \n",
       "\n",
       "                                        text_cleaned  \\\n",
       "0  RT @POTUS: As we celebrate the progress we’ve ...   \n",
       "1  This #EarthDay, I'm happy to be meeting with P...   \n",
       "2  RT @Khan__sir_patna: All of people wishes and ...   \n",
       "3  RT @CapsCoalition: Biden Signs Executive Order...   \n",
       "4  RT @tamannaahspeaks: Animals source their food...   \n",
       "\n",
       "                                account_tags                  hash_tags  \\\n",
       "0                                    [POTUS]                         []   \n",
       "1                          [PennEnvironment]  [EarthDay, GetTheLeadOut]   \n",
       "2                          [Khan__sir_patna]                 [EarthDay]   \n",
       "3                            [CapsCoalition]                 [EarthDay]   \n",
       "4  [tamannaahspeaks, SadhguruJV, cpsavesoil]        [MyconnectwithSoil]   \n",
       "\n",
       "                                   text_preprocessed emoji_lists  \n",
       "0  rt celebrate progress we have made earth day m...        None  \n",
       "1  i am happy meeting philly city council behalf ...        None  \n",
       "2                     rt people wish happy earth day        None  \n",
       "3  rt biden sign executive order natural capital ...        None  \n",
       "4  rt animal source food soil soil dying beautifu...        None  "
      ]
     },
     "execution_count": 25,
     "metadata": {},
     "output_type": "execute_result"
    }
   ],
   "source": [
    "df.head()"
   ]
  },
  {
   "cell_type": "code",
   "execution_count": null,
   "metadata": {
    "ExecuteTime": {
     "start_time": "2022-04-22T18:09:31.458Z"
    }
   },
   "outputs": [],
   "source": [
    "from os import path\n",
    "from PIL import Image\n",
    "import numpy as np\n",
    "import matplotlib.pyplot as plt\n",
    "import os\n",
    "\n",
    "from wordcloud import WordCloud, STOPWORDS, ImageColorGenerator\n",
    "\n",
    "# get data directory (using getcwd() is needed to support running example in generated IPython notebook)\n",
    "d = path.dirname(__file__) if \"__file__\" in locals() else os.getcwd()\n",
    "\n",
    "# Read the whole text.\n",
    "text = ' '.join(list(df.text_preprocessed))\n",
    "# print(text)\n",
    "# read the mask / color image taken from\n",
    "# http://jirkavinse.deviantart.com/art/quot-Real-Life-quot-Alice-282261010\n",
    "alice_coloring = np.array(Image.open(path.join(d, \"earth_image.jpg\")))\n",
    "stopwords = set(STOPWORDS)\n",
    "stopwords.add(\"rt\")\n",
    "stopwords.add(\"day\")\n",
    "stopwords.add(\"earth\")\n",
    "\n",
    "wc = WordCloud(background_color=\"white\",\n",
    "               max_words=1000,\n",
    "               mask=alice_coloring,\n",
    "               stopwords=stopwords,\n",
    "               max_font_size=40,\n",
    "               repeat=False,\n",
    "               include_numbers=True,\n",
    "               random_state=42)\n",
    "# generate word cloud\n",
    "wc.generate(text)\n",
    "\n",
    "# create coloring from image\n",
    "image_colors = ImageColorGenerator(alice_coloring)\n",
    "\n",
    "plt.figure(figsize=(80, 50), facecolor=None)\n",
    "plt.axis(\"off\")\n",
    "plt.imshow(wc.recolor(color_func=image_colors), interpolation=\"bilinear\")\n",
    "plt.show()"
   ]
  },
  {
   "cell_type": "code",
   "execution_count": null,
   "metadata": {},
   "outputs": [],
   "source": []
  }
 ],
 "metadata": {
  "kernelspec": {
   "display_name": "Python 3",
   "language": "python",
   "name": "python3"
  },
  "language_info": {
   "codemirror_mode": {
    "name": "ipython",
    "version": 3
   },
   "file_extension": ".py",
   "mimetype": "text/x-python",
   "name": "python",
   "nbconvert_exporter": "python",
   "pygments_lexer": "ipython3",
   "version": "3.8.5"
  },
  "toc": {
   "base_numbering": 1,
   "nav_menu": {},
   "number_sections": true,
   "sideBar": true,
   "skip_h1_title": false,
   "title_cell": "Table of Contents",
   "title_sidebar": "Contents",
   "toc_cell": false,
   "toc_position": {},
   "toc_section_display": true,
   "toc_window_display": false
  },
  "varInspector": {
   "cols": {
    "lenName": 16,
    "lenType": 16,
    "lenVar": 40
   },
   "kernels_config": {
    "python": {
     "delete_cmd_postfix": "",
     "delete_cmd_prefix": "del ",
     "library": "var_list.py",
     "varRefreshCmd": "print(var_dic_list())"
    },
    "r": {
     "delete_cmd_postfix": ") ",
     "delete_cmd_prefix": "rm(",
     "library": "var_list.r",
     "varRefreshCmd": "cat(var_dic_list()) "
    }
   },
   "types_to_exclude": [
    "module",
    "function",
    "builtin_function_or_method",
    "instance",
    "_Feature"
   ],
   "window_display": false
  }
 },
 "nbformat": 4,
 "nbformat_minor": 4
}
