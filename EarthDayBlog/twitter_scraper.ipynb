{
 "cells": [
  {
   "cell_type": "code",
   "execution_count": null,
   "metadata": {
    "ExecuteTime": {
     "end_time": "2022-04-22T21:01:21.726201Z",
     "start_time": "2022-04-22T21:01:21.720452Z"
    }
   },
   "outputs": [],
   "source": [
    "from pattern.web import Twitter\n",
    "import pandas as pd\n",
    "import json\n",
    "import time\n",
    "import os\n",
    "import datetime"
   ]
  },
  {
   "cell_type": "code",
   "execution_count": null,
   "metadata": {
    "ExecuteTime": {
     "end_time": "2022-04-22T21:01:21.883889Z",
     "start_time": "2022-04-22T21:01:21.869524Z"
    }
   },
   "outputs": [],
   "source": [
    "TWITTER = Twitter(language='en')"
   ]
  },
  {
   "cell_type": "code",
   "execution_count": null,
   "metadata": {
    "ExecuteTime": {
     "end_time": "2022-04-22T21:01:22.101804Z",
     "start_time": "2022-04-22T21:01:22.091980Z"
    }
   },
   "outputs": [],
   "source": [
    "RANGE_X = 1\n",
    "RANGE_Y = 4\n",
    "COUNT = 100\n",
    "DATA_FOLDER_NAME = 'data_' + datetime.datetime.now().strftime(\"%d_%m_%Y_%H_%M_%S\")\n",
    "DATA_FOLDER_NAME"
   ]
  },
  {
   "cell_type": "code",
   "execution_count": null,
   "metadata": {
    "ExecuteTime": {
     "end_time": "2022-04-22T21:01:23.107989Z",
     "start_time": "2022-04-22T21:01:23.099301Z"
    }
   },
   "outputs": [],
   "source": [
    "os.makedirs(DATA_FOLDER_NAME, exist_ok=True) "
   ]
  },
  {
   "cell_type": "code",
   "execution_count": null,
   "metadata": {
    "ExecuteTime": {
     "end_time": "2022-04-22T21:01:56.419139Z",
     "start_time": "2022-04-22T21:01:23.259903Z"
    },
    "code_folding": [],
    "scrolled": false
   },
   "outputs": [],
   "source": [
    "for i in range(RANGE_X, RANGE_Y):\n",
    "    print(\"Scraping {}-th data\".format(i))\n",
    "    list_tweets = [tweet for tweet in TWITTER.search('\"earthday\" OR \"earth day\"', start=i, count=COUNT)]\n",
    "    print(\"Number of Tweets Scraped: {}\".format(len(list_tweets)))\n",
    "    list_text = [(each_tweet.text, each_tweet.date) for each_tweet in list_tweets]\n",
    "    df = pd.DataFrame(list_text)\n",
    "    df.to_pickle(DATA_FOLDER_NAME + '/data_twitter_' + str(i) + '.pkl')\n",
    "    time.sleep(10)\n",
    "    print(\"Finished Scraping {}-th Data\".format(i))"
   ]
  },
  {
   "cell_type": "code",
   "execution_count": null,
   "metadata": {},
   "outputs": [],
   "source": []
  },
  {
   "cell_type": "code",
   "execution_count": null,
   "metadata": {},
   "outputs": [],
   "source": []
  },
  {
   "cell_type": "code",
   "execution_count": null,
   "metadata": {},
   "outputs": [],
   "source": []
  }
 ],
 "metadata": {
  "kernelspec": {
   "display_name": "Python 3",
   "language": "python",
   "name": "python3"
  },
  "language_info": {
   "codemirror_mode": {
    "name": "ipython",
    "version": 3
   },
   "file_extension": ".py",
   "mimetype": "text/x-python",
   "name": "python",
   "nbconvert_exporter": "python",
   "pygments_lexer": "ipython3",
   "version": "3.8.5"
  },
  "toc": {
   "base_numbering": 1,
   "nav_menu": {},
   "number_sections": true,
   "sideBar": true,
   "skip_h1_title": false,
   "title_cell": "Table of Contents",
   "title_sidebar": "Contents",
   "toc_cell": false,
   "toc_position": {},
   "toc_section_display": true,
   "toc_window_display": false
  },
  "varInspector": {
   "cols": {
    "lenName": 16,
    "lenType": 16,
    "lenVar": 40
   },
   "kernels_config": {
    "python": {
     "delete_cmd_postfix": "",
     "delete_cmd_prefix": "del ",
     "library": "var_list.py",
     "varRefreshCmd": "print(var_dic_list())"
    },
    "r": {
     "delete_cmd_postfix": ") ",
     "delete_cmd_prefix": "rm(",
     "library": "var_list.r",
     "varRefreshCmd": "cat(var_dic_list()) "
    }
   },
   "types_to_exclude": [
    "module",
    "function",
    "builtin_function_or_method",
    "instance",
    "_Feature"
   ],
   "window_display": false
  }
 },
 "nbformat": 4,
 "nbformat_minor": 4
}
