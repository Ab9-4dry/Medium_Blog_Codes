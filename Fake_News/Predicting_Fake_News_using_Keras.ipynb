{
 "cells": [
  {
   "cell_type": "markdown",
   "metadata": {
    "id": "qrdloi0tf-UV"
   },
   "source": [
    "# Getting Started"
   ]
  },
  {
   "cell_type": "code",
   "execution_count": 1,
   "metadata": {
    "id": "vgKBIqAWNc8u"
   },
   "outputs": [
    {
     "data": {
      "text/plain": [
       "' Required for Google Colab'"
      ]
     },
     "execution_count": 1,
     "metadata": {},
     "output_type": "execute_result"
    }
   ],
   "source": [
    "''' Required for Google Colab'''\n",
    "\n",
    "# Mount GDrive\n",
    "# from google.colab import drive\n",
    "# drive.mount('/content/drive')\n",
    "\n",
    "# # Upload Kaggle json\n",
    "\n",
    "# !pip install -q kaggle\n",
    "# !pip install -q kaggle-cli\n",
    "# !mkdir -p ~/.kaggle\n",
    "# !cp \"/content/drive/My Drive/Kaggle/kaggle.json\" ~/.kaggle/\n",
    "# !cat ~/.kaggle/kaggle.json \n",
    "# !chmod 600 ~/.kaggle/kaggle.json\n",
    "# !kaggle competitions download -c fake-news -p dataset\n",
    "# !unzip /content/dataset/train.csv.zip\n",
    "# !unzip /content/dataset/test.csv.zip"
   ]
  },
  {
   "cell_type": "code",
   "execution_count": 2,
   "metadata": {
    "id": "ZqDCvVgZuMLc"
   },
   "outputs": [
    {
     "data": {
      "text/plain": [
       "' Required for Google Colab'"
      ]
     },
     "execution_count": 2,
     "metadata": {},
     "output_type": "execute_result"
    }
   ],
   "source": [
    "''' Required for Google Colab'''\n",
    "# !pip install contractions"
   ]
  },
  {
   "cell_type": "code",
   "execution_count": 3,
   "metadata": {
    "colab": {
     "base_uri": "https://localhost:8080/"
    },
    "id": "CYBAcN3JOmkI",
    "outputId": "7e48fca8-0304-4818-f512-0b52148212de"
   },
   "outputs": [],
   "source": [
    "import pandas as pd\n",
    "import numpy as np\n",
    "\n",
    "import matplotlib.pyplot as plt\n",
    "from matplotlib import rcParams\n",
    "plt.rcParams['figure.figsize'] = [10,10]\n",
    "import seaborn as sns\n",
    "sns.set_theme(style=\"darkgrid\")\n",
    "from wordcloud import WordCloud\n",
    "\n",
    "import nltk\n",
    "from nltk import sent_tokenize\n",
    "''' Required for Google Colab'''\n",
    "# nltk.download('punkt')\n",
    "# nltk.download('averaged_perceptron_tagger')\n",
    "# nltk.download('stopwords')\n",
    "''' Required for Google Colab'''\n",
    "from nltk.corpus import stopwords\n",
    "stopwords = nltk.corpus.stopwords.words('english')\n",
    "from nltk.tokenize import word_tokenize\n",
    "\n",
    "import contractions\n",
    "import string\n",
    "import re\n",
    "\n",
    "from sklearn.model_selection import train_test_split\n",
    "from sklearn.metrics import precision_score, recall_score, f1_score, accuracy_score\n",
    "\n",
    "import tensorflow as tf\n",
    "import tensorflow.keras as keras\n",
    "from tensorflow.keras.preprocessing.text import Tokenizer\n",
    "from tensorflow.keras.preprocessing.sequence import pad_sequences\n",
    "from tensorflow.keras.models import Sequential\n",
    "from tensorflow.keras.layers import LSTM\n",
    "from tensorflow.keras.layers import Dense\n",
    "from tensorflow.keras.layers import Dropout\n",
    "from tensorflow.keras.layers import Embedding\n",
    "from keras.layers import Flatten\n",
    "\n",
    "import warnings\n",
    "warnings.filterwarnings('ignore')"
   ]
  },
  {
   "cell_type": "code",
   "execution_count": 4,
   "metadata": {},
   "outputs": [
    {
     "data": {
      "text/plain": [
       "' Required for Google Colab'"
      ]
     },
     "execution_count": 4,
     "metadata": {},
     "output_type": "execute_result"
    }
   ],
   "source": [
    "''' Required for Google Colab'''\n",
    "# train_df = pd.read_csv('/content/train.csv', header=0)\n",
    "# test_df = pd.read_csv('/content/test.csv', header=0)"
   ]
  },
  {
   "cell_type": "code",
   "execution_count": 5,
   "metadata": {
    "id": "Thtim9SaOmpW"
   },
   "outputs": [],
   "source": [
    "train_df = pd.read_csv('fake-news/train.csv', header=0)\n",
    "test_df = pd.read_csv('fake-news/test.csv', header=0)"
   ]
  },
  {
   "cell_type": "code",
   "execution_count": 6,
   "metadata": {
    "id": "9-wSpZSatk0k"
   },
   "outputs": [],
   "source": [
    "train_df = train_df.fillna(' ')\n",
    "test_df = test_df.fillna(' ')"
   ]
  },
  {
   "cell_type": "code",
   "execution_count": 7,
   "metadata": {
    "id": "MkULkM-dtk0l"
   },
   "outputs": [],
   "source": [
    "train_df['all_info'] = train_df['text'] + train_df['title'] + train_df['author']\n",
    "test_df['all_info'] = test_df['text'] + test_df['title'] + test_df['author']"
   ]
  },
  {
   "cell_type": "markdown",
   "metadata": {
    "id": "S8kIYBO64Qjj"
   },
   "source": [
    "# Tokenize and Prep Text Data"
   ]
  },
  {
   "cell_type": "markdown",
   "metadata": {},
   "source": [
    "Here, I have used Keras API's Tokenizer class to tokenize the texts, where I have set the Out of Vocabulary (OOV) token and the number of words which is the maximum number of words to retain, based on word frequency. Next, I fit the Tokenizer on text to map the tokens to integers. Finally, I encoded the training set with the integer representations using texts_to_sequences() and split the data to use 20% for validation."
   ]
  },
  {
   "cell_type": "code",
   "execution_count": 8,
   "metadata": {
    "id": "ObfhlBQEtk0l"
   },
   "outputs": [],
   "source": [
    "tokenizer = Tokenizer(oov_token = \"<OOV>\", num_words=6000)\n",
    "tokenizer.fit_on_texts(train_df['all_info'])"
   ]
  },
  {
   "cell_type": "code",
   "execution_count": 9,
   "metadata": {
    "id": "IhIV-uCvCeBJ"
   },
   "outputs": [],
   "source": [
    "target = train_df['label'].values"
   ]
  },
  {
   "cell_type": "code",
   "execution_count": 10,
   "metadata": {
    "id": "wPrbUDumiSS6"
   },
   "outputs": [],
   "source": [
    "max_length = 40\n",
    "vocab_size = 6000\n",
    "\n",
    "sequences_train = tokenizer.texts_to_sequences(train_df['all_info'])\n",
    "sequences_test = tokenizer.texts_to_sequences(test_df['all_info'])\n",
    "\n",
    "padded_train = pad_sequences(sequences_train, padding = 'post', maxlen=max_length)\n",
    "padded_test = pad_sequences(sequences_test, padding = 'post', maxlen=max_length)"
   ]
  },
  {
   "cell_type": "code",
   "execution_count": 11,
   "metadata": {
    "id": "LLVj2M4B4ZS1"
   },
   "outputs": [],
   "source": [
    "X_train, X_test, y_train, y_test = train_test_split(padded_train, target, test_size=0.2)"
   ]
  },
  {
   "cell_type": "code",
   "execution_count": 12,
   "metadata": {
    "colab": {
     "base_uri": "https://localhost:8080/"
    },
    "id": "jFWSZaJhOdUZ",
    "outputId": "ebd094d0-5391-4e71-db15-20a083256f3c"
   },
   "outputs": [
    {
     "data": {
      "text/plain": [
       "((16640, 40), (16640,))"
      ]
     },
     "execution_count": 12,
     "metadata": {},
     "output_type": "execute_result"
    }
   ],
   "source": [
    "X_train.shape, y_train.shape"
   ]
  },
  {
   "cell_type": "markdown",
   "metadata": {
    "id": "Y5lbJHH04UX8"
   },
   "source": [
    "# Simple Binary Classification Model"
   ]
  },
  {
   "cell_type": "markdown",
   "metadata": {},
   "source": [
    "To create a model for text classification, I started with the simplest form of DL binary classification model structure. I also used early stopping to save time with patience=15 which indictes to stop if in the last 15 epochs there were no improvement in the model, and model checkpoint to store the best model with save_best_only=True. Added mode=min since we monitoring loss here."
   ]
  },
  {
   "cell_type": "code",
   "execution_count": 13,
   "metadata": {
    "id": "cC2TatACQX6T"
   },
   "outputs": [],
   "source": [
    "best_model_file_name = \"models/best_model_simple.hdf5\""
   ]
  },
  {
   "cell_type": "code",
   "execution_count": 14,
   "metadata": {
    "id": "lS6RnrrkiSXZ"
   },
   "outputs": [],
   "source": [
    "def get_simple_model():\n",
    "    model = Sequential()\n",
    "    model.add(Embedding(vocab_size, 10, input_length=max_length))\n",
    "    model.add(Flatten())\n",
    "    model.add(Dense(1, activation='sigmoid'))\n",
    "    return model"
   ]
  },
  {
   "cell_type": "code",
   "execution_count": 15,
   "metadata": {
    "id": "M_rBhLiwiSRy"
   },
   "outputs": [],
   "source": [
    "callbacks=[\n",
    "    keras.callbacks.EarlyStopping(monitor=\"val_loss\", patience=15, \n",
    "                                  verbose=1, mode=\"min\", restore_best_weights=True),\n",
    "    keras.callbacks.ModelCheckpoint(filepath=best_model_file_name, verbose=1, save_best_only=True)\n",
    "]"
   ]
  },
  {
   "cell_type": "code",
   "execution_count": 16,
   "metadata": {
    "colab": {
     "base_uri": "https://localhost:8080/"
    },
    "id": "31ofUO6biSO4",
    "outputId": "b3beb995-0180-459e-8f53-4b9fab3874af"
   },
   "outputs": [
    {
     "name": "stdout",
     "output_type": "stream",
     "text": [
      "Model: \"sequential\"\n",
      "_________________________________________________________________\n",
      "Layer (type)                 Output Shape              Param #   \n",
      "=================================================================\n",
      "embedding (Embedding)        (None, 40, 10)            60000     \n",
      "_________________________________________________________________\n",
      "flatten (Flatten)            (None, 400)               0         \n",
      "_________________________________________________________________\n",
      "dense (Dense)                (None, 1)                 401       \n",
      "=================================================================\n",
      "Total params: 60,401\n",
      "Trainable params: 60,401\n",
      "Non-trainable params: 0\n",
      "_________________________________________________________________\n"
     ]
    }
   ],
   "source": [
    "model = get_simple_model()\n",
    "model.summary()"
   ]
  },
  {
   "cell_type": "code",
   "execution_count": 17,
   "metadata": {
    "id": "QMw2BrAzykdQ"
   },
   "outputs": [],
   "source": [
    "model.compile(loss='binary_crossentropy',\n",
    "              optimizer='adam', \n",
    "              metrics=[tf.keras.metrics.Precision(), tf.keras.metrics.Recall()])"
   ]
  },
  {
   "cell_type": "code",
   "execution_count": 18,
   "metadata": {
    "colab": {
     "base_uri": "https://localhost:8080/"
    },
    "id": "AggtZp00soXb",
    "outputId": "c1688ddc-29a1-407d-c42d-ee66abf9a2d8"
   },
   "outputs": [
    {
     "name": "stdout",
     "output_type": "stream",
     "text": [
      "Epoch 1/20\n",
      "513/520 [============================>.] - ETA: 0s - loss: 0.4207 - precision: 0.8677 - recall: 0.8182\n",
      "Epoch 00001: val_loss improved from inf to 0.19457, saving model to models\\best_model_simple.hdf5\n",
      "520/520 [==============================] - 1s 2ms/step - loss: 0.4175 - precision: 0.8680 - recall: 0.8206 - val_loss: 0.1946 - val_precision: 0.8957 - val_recall: 0.9778\n",
      "Epoch 2/20\n",
      "468/520 [==========================>...] - ETA: 0s - loss: 0.1291 - precision: 0.9407 - recall: 0.9808\n",
      "Epoch 00002: val_loss improved from 0.19457 to 0.12503, saving model to models\\best_model_simple.hdf5\n",
      "520/520 [==============================] - 1s 1ms/step - loss: 0.1263 - precision: 0.9422 - recall: 0.9807 - val_loss: 0.1250 - val_precision: 0.9396 - val_recall: 0.9670\n",
      "Epoch 3/20\n",
      "480/520 [==========================>...] - ETA: 0s - loss: 0.0729 - precision: 0.9723 - recall: 0.9873\n",
      "Epoch 00003: val_loss improved from 0.12503 to 0.10718, saving model to models\\best_model_simple.hdf5\n",
      "520/520 [==============================] - 1s 1ms/step - loss: 0.0728 - precision: 0.9721 - recall: 0.9874 - val_loss: 0.1072 - val_precision: 0.9459 - val_recall: 0.9655\n",
      "Epoch 4/20\n",
      "469/520 [==========================>...] - ETA: 0s - loss: 0.0479 - precision: 0.9843 - recall: 0.9922\n",
      "Epoch 00004: val_loss improved from 0.10718 to 0.10016, saving model to models\\best_model_simple.hdf5\n",
      "520/520 [==============================] - 1s 1ms/step - loss: 0.0472 - precision: 0.9843 - recall: 0.9924 - val_loss: 0.1002 - val_precision: 0.9491 - val_recall: 0.9660\n",
      "Epoch 5/20\n",
      "483/520 [==========================>...] - ETA: 0s - loss: 0.0313 - precision: 0.9928 - recall: 0.9969\n",
      "Epoch 00005: val_loss improved from 0.10016 to 0.09856, saving model to models\\best_model_simple.hdf5\n",
      "520/520 [==============================] - 1s 986us/step - loss: 0.0312 - precision: 0.9928 - recall: 0.9968 - val_loss: 0.0986 - val_precision: 0.9475 - val_recall: 0.9704\n",
      "Epoch 6/20\n",
      "491/520 [===========================>..] - ETA: 0s - loss: 0.0207 - precision: 0.9969 - recall: 0.9985\n",
      "Epoch 00006: val_loss improved from 0.09856 to 0.09804, saving model to models\\best_model_simple.hdf5\n",
      "520/520 [==============================] - 1s 982us/step - loss: 0.0205 - precision: 0.9970 - recall: 0.9986 - val_loss: 0.0980 - val_precision: 0.9542 - val_recall: 0.9650\n",
      "Epoch 7/20\n",
      "480/520 [==========================>...] - ETA: 0s - loss: 0.0135 - precision: 0.9987 - recall: 0.9990\n",
      "Epoch 00007: val_loss did not improve from 0.09804\n",
      "520/520 [==============================] - 1s 962us/step - loss: 0.0136 - precision: 0.9987 - recall: 0.9990 - val_loss: 0.0996 - val_precision: 0.9537 - val_recall: 0.9660\n",
      "Epoch 8/20\n",
      "485/520 [==========================>...] - ETA: 0s - loss: 0.0087 - precision: 0.9996 - recall: 0.9996\n",
      "Epoch 00008: val_loss did not improve from 0.09804\n",
      "520/520 [==============================] - 1s 964us/step - loss: 0.0089 - precision: 0.9995 - recall: 0.9996 - val_loss: 0.1038 - val_precision: 0.9502 - val_recall: 0.9689\n",
      "Epoch 9/20\n",
      "487/520 [===========================>..] - ETA: 0s - loss: 0.0061 - precision: 0.9997 - recall: 1.0000\n",
      "Epoch 00009: val_loss did not improve from 0.09804\n",
      "520/520 [==============================] - 0s 951us/step - loss: 0.0060 - precision: 0.9998 - recall: 1.0000 - val_loss: 0.1059 - val_precision: 0.9524 - val_recall: 0.9670\n",
      "Epoch 10/20\n",
      "483/520 [==========================>...] - ETA: 0s - loss: 0.0041 - precision: 0.9999 - recall: 1.0000\n",
      "Epoch 00010: val_loss did not improve from 0.09804\n",
      "520/520 [==============================] - 0s 960us/step - loss: 0.0041 - precision: 0.9999 - recall: 1.0000 - val_loss: 0.1088 - val_precision: 0.9538 - val_recall: 0.9665\n",
      "Epoch 11/20\n",
      "482/520 [==========================>...] - ETA: 0s - loss: 0.0030 - precision: 0.9997 - recall: 1.0000\n",
      "Epoch 00011: val_loss did not improve from 0.09804\n",
      "520/520 [==============================] - 1s 972us/step - loss: 0.0030 - precision: 0.9998 - recall: 1.0000 - val_loss: 0.1125 - val_precision: 0.9524 - val_recall: 0.9670\n",
      "Epoch 12/20\n",
      "471/520 [==========================>...] - ETA: 0s - loss: 0.0020 - precision: 1.0000 - recall: 1.0000\n",
      "Epoch 00012: val_loss did not improve from 0.09804\n",
      "520/520 [==============================] - 1s 969us/step - loss: 0.0021 - precision: 0.9999 - recall: 1.0000 - val_loss: 0.1157 - val_precision: 0.9537 - val_recall: 0.9655\n",
      "Epoch 13/20\n",
      "492/520 [===========================>..] - ETA: 0s - loss: 0.0015 - precision: 1.0000 - recall: 1.0000\n",
      "Epoch 00013: val_loss did not improve from 0.09804\n",
      "520/520 [==============================] - 0s 944us/step - loss: 0.0015 - precision: 1.0000 - recall: 1.0000 - val_loss: 0.1215 - val_precision: 0.9494 - val_recall: 0.9709\n",
      "Epoch 14/20\n",
      "483/520 [==========================>...] - ETA: 0s - loss: 0.0011 - precision: 0.9999 - recall: 1.0000    \n",
      "Epoch 00014: val_loss did not improve from 0.09804\n",
      "520/520 [==============================] - 0s 959us/step - loss: 0.0011 - precision: 0.9999 - recall: 1.0000 - val_loss: 0.1248 - val_precision: 0.9502 - val_recall: 0.9699\n",
      "Epoch 15/20\n",
      "488/520 [===========================>..] - ETA: 0s - loss: 7.8195e-04 - precision: 0.9999 - recall: 1.0000\n",
      "Epoch 00015: val_loss did not improve from 0.09804\n",
      "520/520 [==============================] - 0s 948us/step - loss: 7.7371e-04 - precision: 0.9999 - recall: 1.0000 - val_loss: 0.1288 - val_precision: 0.9498 - val_recall: 0.9704\n",
      "Epoch 16/20\n",
      "478/520 [==========================>...] - ETA: 0s - loss: 5.6095e-04 - precision: 1.0000 - recall: 1.0000\n",
      "Epoch 00016: val_loss did not improve from 0.09804\n",
      "520/520 [==============================] - 1s 966us/step - loss: 5.5793e-04 - precision: 1.0000 - recall: 1.0000 - val_loss: 0.1333 - val_precision: 0.9480 - val_recall: 0.9704\n",
      "Epoch 17/20\n",
      "481/520 [==========================>...] - ETA: 0s - loss: 4.0472e-04 - precision: 1.0000 - recall: 1.0000\n",
      "Epoch 00017: val_loss did not improve from 0.09804\n",
      "520/520 [==============================] - 0s 958us/step - loss: 4.0048e-04 - precision: 1.0000 - recall: 1.0000 - val_loss: 0.1363 - val_precision: 0.9493 - val_recall: 0.9694\n",
      "Epoch 18/20\n",
      "519/520 [============================>.] - ETA: 0s - loss: 3.1182e-04 - precision: 1.0000 - recall: 1.0000\n",
      "Epoch 00018: val_loss did not improve from 0.09804\n",
      "520/520 [==============================] - 1s 994us/step - loss: 3.1185e-04 - precision: 1.0000 - recall: 1.0000 - val_loss: 0.1397 - val_precision: 0.9507 - val_recall: 0.9689\n",
      "Epoch 19/20\n",
      "483/520 [==========================>...] - ETA: 0s - loss: 2.1981e-04 - precision: 1.0000 - recall: 1.0000\n",
      "Epoch 00019: val_loss did not improve from 0.09804\n",
      "520/520 [==============================] - 1s 962us/step - loss: 2.2046e-04 - precision: 1.0000 - recall: 1.0000 - val_loss: 0.1451 - val_precision: 0.9485 - val_recall: 0.9709\n",
      "Epoch 20/20\n",
      "474/520 [==========================>...] - ETA: 0s - loss: 1.6065e-04 - precision: 1.0000 - recall: 1.0000\n",
      "Epoch 00020: val_loss did not improve from 0.09804\n",
      "520/520 [==============================] - 1s 974us/step - loss: 1.6067e-04 - precision: 1.0000 - recall: 1.0000 - val_loss: 0.1488 - val_precision: 0.9489 - val_recall: 0.9699\n",
      "Wall time: 11.6 s\n"
     ]
    }
   ],
   "source": [
    "%%time\n",
    "history = model.fit(X_train, \n",
    "                    y_train, \n",
    "                    epochs=20,\n",
    "                    validation_data=(X_test, y_test), \n",
    "                    callbacks=callbacks)"
   ]
  },
  {
   "cell_type": "code",
   "execution_count": 19,
   "metadata": {
    "colab": {
     "base_uri": "https://localhost:8080/",
     "height": 594
    },
    "id": "m0R_WwTSiSHX",
    "outputId": "5c39f829-64c8-4d9b-932a-4b2019b7cab0"
   },
   "outputs": [
    {
     "data": {
      "image/png": "[encoded data removed]",
      "text/plain": [
       "<Figure size 720x720 with 1 Axes>"
      ]
     },
     "metadata": {},
     "output_type": "display_data"
    }
   ],
   "source": [
    "metric_to_plot = \"loss\"\n",
    "plt.plot(history.epoch, history.history[metric_to_plot], \".:\", label=\"Training loss\")\n",
    "plt.plot(history.epoch, history.history[\"val_\" + metric_to_plot], \".:\", label=\"Validation loss\")\n",
    "plt.title('Training and Validation Loss')\n",
    "plt.legend()\n",
    "plt.show()"
   ]
  },
  {
   "cell_type": "code",
   "execution_count": 22,
   "metadata": {},
   "outputs": [
    {
     "data": {
      "text/plain": [
       "dict_keys(['loss', 'precision', 'recall', 'val_loss', 'val_precision', 'val_recall'])"
      ]
     },
     "execution_count": 22,
     "metadata": {},
     "output_type": "execute_result"
    }
   ],
   "source": [
    "history.history.keys()"
   ]
  },
  {
   "cell_type": "code",
   "execution_count": 23,
   "metadata": {},
   "outputs": [
    {
     "data": {
      "image/png": "[encoded data removed]",
      "text/plain": [
       "<Figure size 720x720 with 1 Axes>"
      ]
     },
     "metadata": {},
     "output_type": "display_data"
    }
   ],
   "source": [
    "metric_to_plot = \"precision\"\n",
    "plt.plot(history.epoch, history.history[metric_to_plot], \".:\", label=\"Training Precision\")\n",
    "plt.plot(history.epoch, history.history[\"val_\" + metric_to_plot], \".:\", label=\"Validation Precision\")\n",
    "plt.title('Training and Validation Loss')\n",
    "plt.legend()\n",
    "plt.show()"
   ]
  },
  {
   "cell_type": "code",
   "execution_count": 24,
   "metadata": {},
   "outputs": [
    {
     "data": {
      "image/png": "[encoded data removed]",
      "text/plain": [
       "<Figure size 720x720 with 1 Axes>"
      ]
     },
     "metadata": {},
     "output_type": "display_data"
    }
   ],
   "source": [
    "metric_to_plot = \"recall\"\n",
    "plt.plot(history.epoch, history.history[metric_to_plot], \".:\", label=\"Training Precision\")\n",
    "plt.plot(history.epoch, history.history[\"val_\" + metric_to_plot], \".:\", label=\"Validation Precision\")\n",
    "plt.title('Training and Validation Recall')\n",
    "plt.legend()\n",
    "plt.show()"
   ]
  },
  {
   "cell_type": "code",
   "execution_count": 25,
   "metadata": {
    "colab": {
     "base_uri": "https://localhost:8080/"
    },
    "id": "2_2Us8-DsoDt",
    "outputId": "db7a1021-ee57-4fb1-9474-22eaaaafee85"
   },
   "outputs": [
    {
     "name": "stdout",
     "output_type": "stream",
     "text": [
      "Accuracy:  0.9603365384615384\n",
      "Precision:  0.9541686981960019\n",
      "Recall:  0.9649901380670611\n",
      "F1 Score:  0.9595489090463348\n"
     ]
    }
   ],
   "source": [
    "model = keras.models.load_model(best_model_file_name)\n",
    "y_pred = (model.predict(X_test) > 0.5).astype(\"int32\")\n",
    "print('Accuracy: ', accuracy_score(y_test, y_pred))\n",
    "print('Precision: ', precision_score(y_test, y_pred))\n",
    "print('Recall: ', recall_score(y_test, y_pred))\n",
    "print('F1 Score: ', f1_score(y_test, y_pred))"
   ]
  },
  {
   "cell_type": "markdown",
   "metadata": {
    "id": "4gtMjKcn8-25"
   },
   "source": [
    "# Using LSTM Model for Text Classification"
   ]
  },
  {
   "cell_type": "code",
   "execution_count": 26,
   "metadata": {
    "colab": {
     "base_uri": "https://localhost:8080/"
    },
    "id": "1tLNSlbp8-Yt",
    "outputId": "d1283eb8-3c52-4a47-c156-17cf063d7098",
    "scrolled": false
   },
   "outputs": [
    {
     "name": "stdout",
     "output_type": "stream",
     "text": [
      "Model: \"sequential_1\"\n",
      "_________________________________________________________________\n",
      "Layer (type)                 Output Shape              Param #   \n",
      "=================================================================\n",
      "embedding_1 (Embedding)      (None, 40, 10)            60000     \n",
      "_________________________________________________________________\n",
      "dropout (Dropout)            (None, 40, 10)            0         \n",
      "_________________________________________________________________\n",
      "lstm (LSTM)                  (None, 100)               44400     \n",
      "_________________________________________________________________\n",
      "dropout_1 (Dropout)          (None, 100)               0         \n",
      "_________________________________________________________________\n",
      "dense_1 (Dense)              (None, 64)                6464      \n",
      "_________________________________________________________________\n",
      "dropout_2 (Dropout)          (None, 64)                0         \n",
      "_________________________________________________________________\n",
      "dense_2 (Dense)              (None, 1)                 65        \n",
      "=================================================================\n",
      "Total params: 110,929\n",
      "Trainable params: 110,929\n",
      "Non-trainable params: 0\n",
      "_________________________________________________________________\n",
      "None\n",
      "Epoch 1/20\n",
      "520/520 [==============================] - ETA: 0s - loss: 0.2476 - precision_1: 0.8863 - recall_1: 0.9029\n",
      "Epoch 00001: val_loss improved from inf to 0.11223, saving model to models\\best_model_simple_LSTM.hdf5\n",
      "520/520 [==============================] - 7s 13ms/step - loss: 0.2476 - precision_1: 0.8863 - recall_1: 0.9029 - val_loss: 0.1122 - val_precision_1: 0.9384 - val_recall_1: 0.9773\n",
      "Epoch 2/20\n",
      "519/520 [============================>.] - ETA: 0s - loss: 0.0838 - precision_1: 0.9666 - recall_1: 0.9756\n",
      "Epoch 00002: val_loss improved from 0.11223 to 0.10639, saving model to models\\best_model_simple_LSTM.hdf5\n",
      "520/520 [==============================] - 6s 12ms/step - loss: 0.0837 - precision_1: 0.9667 - recall_1: 0.9757 - val_loss: 0.1064 - val_precision_1: 0.9518 - val_recall_1: 0.9630\n",
      "Epoch 3/20\n",
      "520/520 [==============================] - ETA: 0s - loss: 0.0541 - precision_1: 0.9800 - recall_1: 0.9835\n",
      "Epoch 00003: val_loss did not improve from 0.10639\n",
      "520/520 [==============================] - 6s 12ms/step - loss: 0.0541 - precision_1: 0.9800 - recall_1: 0.9835 - val_loss: 0.1197 - val_precision_1: 0.9577 - val_recall_1: 0.9487\n",
      "Epoch 4/20\n",
      "519/520 [============================>.] - ETA: 0s - loss: 0.0370 - precision_1: 0.9872 - recall_1: 0.9878\n",
      "Epoch 00004: val_loss did not improve from 0.10639\n",
      "520/520 [==============================] - 6s 11ms/step - loss: 0.0369 - precision_1: 0.9872 - recall_1: 0.9878 - val_loss: 0.1343 - val_precision_1: 0.9514 - val_recall_1: 0.9650\n",
      "Epoch 5/20\n",
      "519/520 [============================>.] - ETA: 0s - loss: 0.0339 - precision_1: 0.9894 - recall_1: 0.9896\n",
      "Epoch 00005: val_loss did not improve from 0.10639\n",
      "520/520 [==============================] - 6s 11ms/step - loss: 0.0338 - precision_1: 0.9894 - recall_1: 0.9896 - val_loss: 0.1591 - val_precision_1: 0.9432 - val_recall_1: 0.9739\n",
      "Epoch 6/20\n",
      "517/520 [============================>.] - ETA: 0s - loss: 0.0239 - precision_1: 0.9930 - recall_1: 0.9922\n",
      "Epoch 00006: val_loss did not improve from 0.10639\n",
      "520/520 [==============================] - 6s 11ms/step - loss: 0.0240 - precision_1: 0.9930 - recall_1: 0.9921 - val_loss: 0.2184 - val_precision_1: 0.9299 - val_recall_1: 0.9808\n",
      "Epoch 7/20\n",
      "516/520 [============================>.] - ETA: 0s - loss: 0.0226 - precision_1: 0.9926 - recall_1: 0.9928\n",
      "Epoch 00007: val_loss did not improve from 0.10639\n",
      "520/520 [==============================] - 6s 11ms/step - loss: 0.0225 - precision_1: 0.9926 - recall_1: 0.9928 - val_loss: 0.1497 - val_precision_1: 0.9479 - val_recall_1: 0.9606\n",
      "Epoch 8/20\n",
      "517/520 [============================>.] - ETA: 0s - loss: 0.0202 - precision_1: 0.9935 - recall_1: 0.9935\n",
      "Epoch 00008: val_loss did not improve from 0.10639\n",
      "520/520 [==============================] - 8s 14ms/step - loss: 0.0203 - precision_1: 0.9936 - recall_1: 0.9934 - val_loss: 0.1659 - val_precision_1: 0.9546 - val_recall_1: 0.9541\n",
      "Epoch 9/20\n",
      "518/520 [============================>.] - ETA: 0s - loss: 0.0152 - precision_1: 0.9952 - recall_1: 0.9952\n",
      "Epoch 00009: val_loss did not improve from 0.10639\n",
      "520/520 [==============================] - 8s 16ms/step - loss: 0.0151 - precision_1: 0.9952 - recall_1: 0.9952 - val_loss: 0.1500 - val_precision_1: 0.9559 - val_recall_1: 0.9522\n",
      "Epoch 10/20\n",
      "519/520 [============================>.] - ETA: 0s - loss: 0.0129 - precision_1: 0.9959 - recall_1: 0.9962\n",
      "Epoch 00010: val_loss did not improve from 0.10639\n",
      "520/520 [==============================] - 10s 18ms/step - loss: 0.0129 - precision_1: 0.9959 - recall_1: 0.9962 - val_loss: 0.2058 - val_precision_1: 0.9568 - val_recall_1: 0.9492\n",
      "Epoch 11/20\n",
      "519/520 [============================>.] - ETA: 0s - loss: 0.0157 - precision_1: 0.9946 - recall_1: 0.9949\n",
      "Epoch 00011: val_loss did not improve from 0.10639\n",
      "520/520 [==============================] - 9s 18ms/step - loss: 0.0157 - precision_1: 0.9946 - recall_1: 0.9949 - val_loss: 0.1903 - val_precision_1: 0.9540 - val_recall_1: 0.9408\n",
      "Epoch 12/20\n",
      "520/520 [==============================] - ETA: 0s - loss: 0.0126 - precision_1: 0.9962 - recall_1: 0.9963\n",
      "Epoch 00012: val_loss did not improve from 0.10639\n",
      "520/520 [==============================] - 10s 19ms/step - loss: 0.0126 - precision_1: 0.9962 - recall_1: 0.9963 - val_loss: 0.1970 - val_precision_1: 0.9511 - val_recall_1: 0.9502\n",
      "Epoch 13/20\n",
      "519/520 [============================>.] - ETA: 0s - loss: 0.0133 - precision_1: 0.9952 - recall_1: 0.9953\n",
      "Epoch 00013: val_loss did not improve from 0.10639\n",
      "520/520 [==============================] - 10s 20ms/step - loss: 0.0133 - precision_1: 0.9952 - recall_1: 0.9953 - val_loss: 0.2148 - val_precision_1: 0.9408 - val_recall_1: 0.9630\n",
      "Epoch 14/20\n",
      "520/520 [==============================] - ETA: 0s - loss: 0.0141 - precision_1: 0.9948 - recall_1: 0.9951\n",
      "Epoch 00014: val_loss did not improve from 0.10639\n",
      "520/520 [==============================] - 10s 19ms/step - loss: 0.0141 - precision_1: 0.9948 - recall_1: 0.9951 - val_loss: 0.2119 - val_precision_1: 0.9612 - val_recall_1: 0.9285\n",
      "Epoch 15/20\n",
      "520/520 [==============================] - ETA: 0s - loss: 0.0076 - precision_1: 0.9980 - recall_1: 0.9974\n",
      "Epoch 00015: val_loss did not improve from 0.10639\n",
      "520/520 [==============================] - 10s 19ms/step - loss: 0.0076 - precision_1: 0.9980 - recall_1: 0.9974 - val_loss: 0.2598 - val_precision_1: 0.9635 - val_recall_1: 0.9359\n",
      "Epoch 16/20\n",
      "518/520 [============================>.] - ETA: 0s - loss: 0.0101 - precision_1: 0.9971 - recall_1: 0.9970\n",
      "Epoch 00016: val_loss did not improve from 0.10639\n",
      "520/520 [==============================] - 10s 18ms/step - loss: 0.0100 - precision_1: 0.9971 - recall_1: 0.9970 - val_loss: 0.2729 - val_precision_1: 0.9622 - val_recall_1: 0.9152\n",
      "Epoch 17/20\n",
      "520/520 [==============================] - ETA: 0s - loss: 0.0114 - precision_1: 0.9961 - recall_1: 0.9968Restoring model weights from the end of the best epoch.\n",
      "\n",
      "Epoch 00017: val_loss did not improve from 0.10639\n",
      "520/520 [==============================] - 9s 18ms/step - loss: 0.0114 - precision_1: 0.9961 - recall_1: 0.9968 - val_loss: 0.1928 - val_precision_1: 0.9548 - val_recall_1: 0.9384\n",
      "Epoch 00017: early stopping\n",
      "Wall time: 2min 19s\n"
     ]
    }
   ],
   "source": [
    "%%time\n",
    "\n",
    "best_model_file_name = \"models/best_model_simple_LSTM.hdf5\"\n",
    "def get_simple_LSTM_model():\n",
    "    model = Sequential()\n",
    "    model.add(Embedding(vocab_size, 10, input_length=max_length))\n",
    "    model.add(Dropout(0.3))\n",
    "    model.add(LSTM(100))\n",
    "    model.add(Dropout(0.3))\n",
    "    model.add(Dense(64, activation='relu'))\n",
    "    model.add(Dropout(0.3))\n",
    "    model.add(Dense(1, activation='sigmoid'))\n",
    "    return model\n",
    "\n",
    "callbacks=[\n",
    "    keras.callbacks.EarlyStopping(monitor=\"val_loss\", \n",
    "                                  patience=15, \n",
    "                                  verbose=1, \n",
    "                                  mode=\"min\", \n",
    "                                  restore_best_weights=True),\n",
    "    keras.callbacks.ModelCheckpoint(filepath=best_model_file_name, \n",
    "                                    verbose=1, \n",
    "                                    save_best_only=True)\n",
    "]\n",
    "\n",
    "model = get_simple_LSTM_model()\n",
    "print(model.summary())\n",
    "\n",
    "model.compile(loss='binary_crossentropy',optimizer='adam', metrics=[tf.keras.metrics.Precision(), tf.keras.metrics.Recall()])\n",
    "\n",
    "history = model.fit(X_train, \n",
    "                    y_train, \n",
    "                    epochs=20, \n",
    "                    validation_data=(X_test, y_test), \n",
    "                    callbacks=callbacks)"
   ]
  },
  {
   "cell_type": "code",
   "execution_count": 27,
   "metadata": {
    "colab": {
     "base_uri": "https://localhost:8080/",
     "height": 594
    },
    "id": "oJnPNvV09XqT",
    "outputId": "6a3f9ac7-a8a3-43df-c52d-0250399ceb4e"
   },
   "outputs": [
    {
     "data": {
      "image/png": "[encoded data removed]",
      "text/plain": [
       "<Figure size 720x720 with 1 Axes>"
      ]
     },
     "metadata": {},
     "output_type": "display_data"
    }
   ],
   "source": [
    "metric_to_plot = \"loss\"\n",
    "plt.plot(history.epoch, history.history[metric_to_plot], \".:\", label=\"Training loss\")\n",
    "plt.plot(history.epoch, history.history[\"val_\" + metric_to_plot], \".:\", label=\"Validation loss\")\n",
    "plt.title('Training and Validation Loss')\n",
    "plt.legend()\n",
    "plt.show()"
   ]
  },
  {
   "cell_type": "code",
   "execution_count": 29,
   "metadata": {
    "colab": {
     "base_uri": "https://localhost:8080/"
    },
    "id": "2_2Us8-DsoDt",
    "outputId": "db7a1021-ee57-4fb1-9474-22eaaaafee85"
   },
   "outputs": [
    {
     "name": "stdout",
     "output_type": "stream",
     "text": [
      "Accuracy:  0.958173076923077\n",
      "Precision:  0.9517543859649122\n",
      "Recall:  0.9630177514792899\n",
      "F1 Score:  0.9573529411764705\n"
     ]
    }
   ],
   "source": [
    "model = keras.models.load_model(best_model_file_name)\n",
    "y_pred = (model.predict(X_test) > 0.5).astype(\"int32\")\n",
    "print('Accuracy: ', accuracy_score(y_test, y_pred))\n",
    "print('Precision: ', precision_score(y_test, y_pred))\n",
    "print('Recall: ', recall_score(y_test, y_pred))\n",
    "print('F1 Score: ', f1_score(y_test, y_pred))"
   ]
  },
  {
   "cell_type": "markdown",
   "metadata": {
    "id": "munDz1s2ABiW"
   },
   "source": [
    "# Using Pre-trained GloVe Embedding\n",
    "\n",
    "https://machinelearningmastery.com/use-word-embedding-layers-deep-learning-keras/"
   ]
  },
  {
   "cell_type": "code",
   "execution_count": 30,
   "metadata": {
    "colab": {
     "base_uri": "https://localhost:8080/"
    },
    "id": "qkbufc7-Uwj9",
    "outputId": "86fe0332-395f-42fd-ddfb-38a208f119d2"
   },
   "outputs": [],
   "source": [
    "# !wget http://nlp.stanford.edu/data/glove.6B.zip\n",
    "# !unzip glove*.zip"
   ]
  },
  {
   "cell_type": "code",
   "execution_count": 31,
   "metadata": {
    "colab": {
     "base_uri": "https://localhost:8080/"
    },
    "id": "VRWS44ahRseW",
    "outputId": "3b3af6d0-1774-4ebf-cdb8-cb8cfdf6f1a5"
   },
   "outputs": [
    {
     "name": "stdout",
     "output_type": "stream",
     "text": [
      "Loaded 400000 word vectors.\n"
     ]
    }
   ],
   "source": [
    "embeddings_index = dict()\n",
    "# f = open('/content/glove.6B.300d.txt')\n",
    "f = open('C:/Users/nroy0/Documents/MyGitHub/Resources/glove.6B/glove.6B.300d.txt', encoding='utf-8')\n",
    "for line in f:\n",
    "    values = line.split()\n",
    "    word = values[0]\n",
    "    coefs = np.asarray(values[1:], dtype='float32')\n",
    "    embeddings_index[word] = coefs\n",
    "f.close()\n",
    "print('Loaded %s word vectors.' % len(embeddings_index))"
   ]
  },
  {
   "cell_type": "code",
   "execution_count": null,
   "metadata": {
    "id": "x_wZZ90zWikW"
   },
   "outputs": [],
   "source": [
    "%%time\n",
    "# create a weight matrix for words in training docs\n",
    "print('Get vocab_size')\n",
    "vocab_size = len(tokenizer.word_index) + 1\n",
    "\n",
    "print('Create the embedding matrix')\n",
    "embedding_matrix = np.zeros((vocab_size, 300))\n",
    "for word, i in tokenizer.word_index.items():\n",
    "    embedding_vector = embeddings_index.get(word)\n",
    "    if embedding_vector is not None:\n",
    "        embedding_matrix[i] = embedding_vector"
   ]
  },
  {
   "cell_type": "markdown",
   "metadata": {
    "id": "6c8cjbTkaO6B"
   },
   "source": [
    "## Simple Classification Model"
   ]
  },
  {
   "cell_type": "code",
   "execution_count": null,
   "metadata": {
    "colab": {
     "base_uri": "https://localhost:8080/"
    },
    "id": "kZzsGiQ_AK20",
    "outputId": "a744e863-8c36-45a8-9873-d45b21075110"
   },
   "outputs": [],
   "source": [
    "best_model_file_name = \"models/best_model_simple_with_GloVe.hdf5\"\n",
    "\n",
    "def get_simple_GloVe_model():\n",
    "    model = Sequential()\n",
    "    model.add(Embedding(vocab_size, \n",
    "                        300, \n",
    "                        weights=[embedding_matrix], \n",
    "                        input_length=max_length,\n",
    "                        trainable=False))\n",
    "    model.add(Flatten())\n",
    "    model.add(Dense(1, activation='sigmoid'))\n",
    "    return model\n",
    "\n",
    "callbacks=[\n",
    "    keras.callbacks.EarlyStopping(monitor=\"val_loss\", \n",
    "                                  patience=15, \n",
    "                                  verbose=1, \n",
    "                                  mode=\"min\", \n",
    "                                  restore_best_weights=True),\n",
    "    keras.callbacks.ModelCheckpoint(filepath=best_model_file_name, \n",
    "                                    verbose=1, \n",
    "                                    save_best_only=True)\n",
    "]\n",
    "\n",
    "model = get_simple_GloVe_model()\n",
    "print(model.summary())\n",
    "\n",
    "model.compile(loss='binary_crossentropy',\n",
    "              optimizer='adam', \n",
    "              metrics=[tf.keras.metrics.Precision(), tf.keras.metrics.Recall()])\n",
    "\n",
    "history = model.fit(X_train, \n",
    "                    y_train, \n",
    "                    epochs=50, \n",
    "                    validation_data=(X_test, y_test), \n",
    "                    callbacks=callbacks)"
   ]
  },
  {
   "cell_type": "code",
   "execution_count": null,
   "metadata": {
    "colab": {
     "base_uri": "https://localhost:8080/",
     "height": 594
    },
    "id": "oJnPNvV09XqT",
    "outputId": "6a3f9ac7-a8a3-43df-c52d-0250399ceb4e"
   },
   "outputs": [],
   "source": [
    "metric_to_plot = \"loss\"\n",
    "plt.plot(history.epoch, history.history[metric_to_plot], \".:\", label=\"Training loss\")\n",
    "plt.plot(history.epoch, history.history[\"val_\" + metric_to_plot], \".:\", label=\"Validation loss\")\n",
    "plt.title('Training and Validation Loss')\n",
    "plt.legend()\n",
    "plt.show()"
   ]
  },
  {
   "cell_type": "code",
   "execution_count": null,
   "metadata": {
    "colab": {
     "base_uri": "https://localhost:8080/"
    },
    "id": "2_2Us8-DsoDt",
    "outputId": "db7a1021-ee57-4fb1-9474-22eaaaafee85"
   },
   "outputs": [],
   "source": [
    "model = keras.models.load_model(best_model_file_name)\n",
    "y_pred = (model.predict(X_test) > 0.5).astype(\"int32\")\n",
    "print('Accuracy: ', accuracy_score(y_test, y_pred))\n",
    "print('Precision: ', precision_score(y_test, y_pred))\n",
    "print('Recall: ', recall_score(y_test, y_pred))\n",
    "print('F1 Score: ', f1_score(y_test, y_pred))"
   ]
  },
  {
   "cell_type": "markdown",
   "metadata": {
    "id": "qCcTIjSRaUle"
   },
   "source": [
    "## LSTM model"
   ]
  },
  {
   "cell_type": "code",
   "execution_count": null,
   "metadata": {
    "colab": {
     "base_uri": "https://localhost:8080/"
    },
    "id": "WDQsLxifaTaf",
    "outputId": "1c0ec49d-0722-442d-bc50-b5797673a34a",
    "scrolled": false
   },
   "outputs": [],
   "source": [
    "best_model_file_name = \"models/best_model_LSTM_with_GloVe.hdf5\"\n",
    "\n",
    "def get_simple_GloVe_model():\n",
    "    model = Sequential()\n",
    "    model.add(Embedding(vocab_size, \n",
    "                        300, \n",
    "                        weights=[embedding_matrix], \n",
    "                        input_length=max_length,\n",
    "                        trainable=False))\n",
    "    model.add(LSTM(100))\n",
    "    model.add(Dropout(0.3))\n",
    "    model.add(Dense(64, activation='relu'))\n",
    "    model.add(Dropout(0.3))\n",
    "    model.add(Flatten())\n",
    "    model.add(Dense(1, activation='sigmoid'))\n",
    "    return model\n",
    "\n",
    "callbacks=[\n",
    "    keras.callbacks.EarlyStopping(monitor=\"val_loss\", \n",
    "                                  patience=15, \n",
    "                                  verbose=1, \n",
    "                                  mode=\"min\", \n",
    "                                  restore_best_weights=True),\n",
    "    keras.callbacks.ModelCheckpoint(filepath=best_model_file_name, \n",
    "                                    verbose=1, \n",
    "                                    save_best_only=True)\n",
    "]\n",
    "\n",
    "model = get_simple_GloVe_model()\n",
    "print(model.summary())\n",
    "\n",
    "model.compile(loss='binary_crossentropy',\n",
    "              optimizer='adam', \n",
    "              metrics=[tf.keras.metrics.Precision(), tf.keras.metrics.Recall()])\n",
    "\n",
    "history = model.fit(X_train, \n",
    "                    y_train, \n",
    "                    epochs=50, \n",
    "                    validation_data=(X_test, y_test), \n",
    "                    callbacks=callbacks)"
   ]
  },
  {
   "cell_type": "code",
   "execution_count": null,
   "metadata": {
    "colab": {
     "base_uri": "https://localhost:8080/",
     "height": 594
    },
    "id": "oJnPNvV09XqT",
    "outputId": "6a3f9ac7-a8a3-43df-c52d-0250399ceb4e"
   },
   "outputs": [],
   "source": [
    "metric_to_plot = \"loss\"\n",
    "plt.plot(history.epoch, history.history[metric_to_plot], \".:\", label=\"Training loss\")\n",
    "plt.plot(history.epoch, history.history[\"val_\" + metric_to_plot], \".:\", label=\"Validation loss\")\n",
    "plt.title('Training and Validation Loss')\n",
    "plt.legend()\n",
    "plt.show()"
   ]
  },
  {
   "cell_type": "code",
   "execution_count": null,
   "metadata": {
    "colab": {
     "base_uri": "https://localhost:8080/"
    },
    "id": "2_2Us8-DsoDt",
    "outputId": "db7a1021-ee57-4fb1-9474-22eaaaafee85"
   },
   "outputs": [],
   "source": [
    "model = keras.models.load_model(best_model_file_name)\n",
    "y_pred = (model.predict(X_test) > 0.5).astype(\"int32\")\n",
    "print('Accuracy: ', accuracy_score(y_test, y_pred))\n",
    "print('Precision: ', precision_score(y_test, y_pred))\n",
    "print('Recall: ', recall_score(y_test, y_pred))\n",
    "print('F1 Score: ', f1_score(y_test, y_pred))"
   ]
  },
  {
   "cell_type": "markdown",
   "metadata": {
    "id": "QHuT2qw49p5I"
   },
   "source": [
    "# Make Final Kaggle Submission"
   ]
  },
  {
   "cell_type": "code",
   "execution_count": null,
   "metadata": {
    "id": "cH_EGgmPbYbh"
   },
   "outputs": [],
   "source": [
    "y_pred_test = model.predict_classes(padded_test)"
   ]
  },
  {
   "cell_type": "code",
   "execution_count": null,
   "metadata": {
    "id": "4Y5KG-GzadOb"
   },
   "outputs": [],
   "source": [
    "submit_predictions_df = pd.DataFrame()\n",
    "submit_predictions_df['id'] = test_df['id']\n",
    "submit_predictions_df['label'] = y_pred_test.astype(int)"
   ]
  },
  {
   "cell_type": "code",
   "execution_count": null,
   "metadata": {
    "colab": {
     "base_uri": "https://localhost:8080/",
     "height": 627
    },
    "id": "mr7Q4WgHsnxi",
    "outputId": "7437201b-3388-4edb-9f37-3c5d593a3fbe"
   },
   "outputs": [],
   "source": [
    "sns.countplot(submit_predictions_df['label'])\n",
    "plt.title(\"Count of Genuine and Fake News of the Test Data\")\n",
    "plt.show()"
   ]
  },
  {
   "cell_type": "code",
   "execution_count": null,
   "metadata": {
    "id": "uBBySUC1bEJ1"
   },
   "outputs": [],
   "source": [
    "submit_predictions_df.to_csv('kaggle_submissions/submit_glove_lstm.csv',index=False)"
   ]
  },
  {
   "cell_type": "markdown",
   "metadata": {},
   "source": [
    "Finally, uploaded my submission on Kaggle and checked the result."
   ]
  },
  {
   "attachments": {
    "Kaggle%20Submission_2_DL.PNG": {
     "image/png": "[encoded data removed]"
    }
   },
   "cell_type": "markdown",
   "metadata": {
    "id": "M528nyP-4LDK"
   },
   "source": [
    "![Kaggle%20Submission_2_DL.PNG](attachment:Kaggle%20Submission_2_DL.PNG)"
   ]
  },
  {
   "cell_type": "markdown",
   "metadata": {},
   "source": [
    "Thanks for visiting!"
   ]
  }
 ],
 "metadata": {
  "accelerator": "GPU",
  "colab": {
   "collapsed_sections": [],
   "name": "Predicting_Fake_News_using_Keras.ipynb",
   "provenance": [],
   "toc_visible": true
  },
  "kernelspec": {
   "display_name": "Python 3",
   "language": "python",
   "name": "python3"
  },
  "language_info": {
   "codemirror_mode": {
    "name": "ipython",
    "version": 3
   },
   "file_extension": ".py",
   "mimetype": "text/x-python",
   "name": "python",
   "nbconvert_exporter": "python",
   "pygments_lexer": "ipython3",
   "version": "3.8.3"
  },
  "toc": {
   "base_numbering": 1,
   "nav_menu": {},
   "number_sections": true,
   "sideBar": true,
   "skip_h1_title": false,
   "title_cell": "Table of Contents",
   "title_sidebar": "Contents",
   "toc_cell": false,
   "toc_position": {},
   "toc_section_display": true,
   "toc_window_display": true
  },
  "varInspector": {
   "cols": {
    "lenName": 16,
    "lenType": 16,
    "lenVar": 40
   },
   "kernels_config": {
    "python": {
     "delete_cmd_postfix": "",
     "delete_cmd_prefix": "del ",
     "library": "var_list.py",
     "varRefreshCmd": "print(var_dic_list())"
    },
    "r": {
     "delete_cmd_postfix": ") ",
     "delete_cmd_prefix": "rm(",
     "library": "var_list.r",
     "varRefreshCmd": "cat(var_dic_list()) "
    }
   },
   "types_to_exclude": [
    "module",
    "function",
    "builtin_function_or_method",
    "instance",
    "_Feature"
   ],
   "window_display": false
  }
 },
 "nbformat": 4,
 "nbformat_minor": 1
}
