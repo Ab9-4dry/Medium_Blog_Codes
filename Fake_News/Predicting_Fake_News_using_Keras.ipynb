{
 "cells": [
  {
   "cell_type": "markdown",
   "metadata": {
    "id": "qrdloi0tf-UV"
   },
   "source": [
    "# Getting Started"
   ]
  },
  {
   "cell_type": "code",
   "execution_count": 1,
   "metadata": {
    "id": "vgKBIqAWNc8u"
   },
   "outputs": [],
   "source": [
    "''' Required for Google Colab'''\n",
    "\n",
    "# Mount GDrive\n",
    "# from google.colab import drive\n",
    "# drive.mount('/content/drive')\n",
    "\n",
    "# # Upload Kaggle json\n",
    "\n",
    "# !pip install -q kaggle\n",
    "# !pip install -q kaggle-cli\n",
    "# !mkdir -p ~/.kaggle\n",
    "# !cp \"/content/drive/My Drive/Kaggle/kaggle.json\" ~/.kaggle/\n",
    "# !cat ~/.kaggle/kaggle.json \n",
    "# !chmod 600 ~/.kaggle/kaggle.json\n",
    "# !kaggle competitions download -c fake-news -p dataset\n",
    "# !unzip /content/dataset/train.csv.zip\n",
    "# !unzip /content/dataset/test.csv.zip"
   ]
  },
  {
   "cell_type": "code",
   "execution_count": 2,
   "metadata": {
    "id": "ZqDCvVgZuMLc"
   },
   "outputs": [],
   "source": [
    "''' Required for Google Colab'''\n",
    "# !pip install contractions"
   ]
  },
  {
   "cell_type": "code",
   "execution_count": 3,
   "metadata": {
    "colab": {
     "base_uri": "https://localhost:8080/"
    },
    "id": "CYBAcN3JOmkI",
    "outputId": "7e48fca8-0304-4818-f512-0b52148212de"
   },
   "outputs": [
    {
     "name": "stderr",
     "output_type": "stream",
     "text": [
      "[nltk_data] Downloading package punkt to\n",
      "[nltk_data]     C:\\Users\\nroy0\\AppData\\Roaming\\nltk_data...\n",
      "[nltk_data]   Package punkt is already up-to-date!\n",
      "[nltk_data] Downloading package averaged_perceptron_tagger to\n",
      "[nltk_data]     C:\\Users\\nroy0\\AppData\\Roaming\\nltk_data...\n",
      "[nltk_data]   Package averaged_perceptron_tagger is already up-to-\n",
      "[nltk_data]       date!\n",
      "[nltk_data] Downloading package stopwords to\n",
      "[nltk_data]     C:\\Users\\nroy0\\AppData\\Roaming\\nltk_data...\n",
      "[nltk_data]   Package stopwords is already up-to-date!\n"
     ]
    }
   ],
   "source": [
    "import pandas as pd\n",
    "import numpy as np\n",
    "import re\n",
    "\n",
    "import matplotlib.pyplot as plt\n",
    "from matplotlib import rcParams\n",
    "plt.rcParams['figure.figsize'] = [10,10]\n",
    "import seaborn as sns\n",
    "sns.set_theme(style=\"darkgrid\")\n",
    "from wordcloud import WordCloud\n",
    "\n",
    "import nltk\n",
    "from nltk import sent_tokenize\n",
    "''' Required for Google Colab'''\n",
    "# nltk.download('punkt')\n",
    "# nltk.download('averaged_perceptron_tagger')\n",
    "# nltk.download('stopwords')\n",
    "''' Required for Google Colab'''\n",
    "from nltk.corpus import stopwords\n",
    "stopwords = nltk.corpus.stopwords.words('english')\n",
    "from nltk.tokenize import word_tokenize\n",
    "\n",
    "import contractions\n",
    "import string\n",
    "\n",
    "import warnings\n",
    "warnings.filterwarnings('ignore')\n",
    "\n",
    "from sklearn.model_selection import train_test_split\n",
    "from sklearn.metrics import precision_score, recall_score, f1_score, accuracy_score\n",
    "\n",
    "import tensorflow as tf\n",
    "import tensorflow.keras as keras\n",
    "from tensorflow.keras.preprocessing.text import Tokenizer\n",
    "from tensorflow.keras.preprocessing.sequence import pad_sequences\n",
    "from tensorflow.keras.models import Sequential\n",
    "from tensorflow.keras.layers import LSTM\n",
    "from tensorflow.keras.layers import Dense\n",
    "from tensorflow.keras.layers import Dropout\n",
    "from tensorflow.keras.layers import Embedding\n",
    "from keras.layers import Flatten"
   ]
  },
  {
   "cell_type": "code",
   "execution_count": null,
   "metadata": {},
   "outputs": [],
   "source": [
    "''' Required for Google Colab'''\n",
    "# train_df = pd.read_csv('/content/train.csv', header=0)\n",
    "# test_df = pd.read_csv('/content/test.csv', header=0)"
   ]
  },
  {
   "cell_type": "code",
   "execution_count": 4,
   "metadata": {
    "id": "Thtim9SaOmpW"
   },
   "outputs": [],
   "source": [
    "train_df = pd.read_csv('fake-news/train.csv', header=0)\n",
    "test_df = pd.read_csv('fake-news/test.csv', header=0)"
   ]
  },
  {
   "cell_type": "code",
   "execution_count": 5,
   "metadata": {
    "id": "9-wSpZSatk0k"
   },
   "outputs": [],
   "source": [
    "train_df = train_df.fillna(' ')\n",
    "test_df = test_df.fillna(' ')"
   ]
  },
  {
   "cell_type": "code",
   "execution_count": 6,
   "metadata": {
    "id": "MkULkM-dtk0l"
   },
   "outputs": [],
   "source": [
    "train_df['all_info'] = train_df['text'] + train_df['title'] + train_df['author']\n",
    "test_df['all_info'] = test_df['text'] + test_df['title'] + test_df['author']"
   ]
  },
  {
   "cell_type": "markdown",
   "metadata": {
    "id": "S8kIYBO64Qjj"
   },
   "source": [
    "# Tokenize and Prep Text Data"
   ]
  },
  {
   "cell_type": "code",
   "execution_count": 7,
   "metadata": {
    "id": "ObfhlBQEtk0l"
   },
   "outputs": [],
   "source": [
    "tokenizer = Tokenizer(oov_token = \"<OOV>\", num_words=6000)\n",
    "tokenizer.fit_on_texts(train_df['all_info'])"
   ]
  },
  {
   "cell_type": "code",
   "execution_count": 8,
   "metadata": {
    "id": "CzO-8qLutk0m"
   },
   "outputs": [],
   "source": [
    "word_index = tokenizer.word_index"
   ]
  },
  {
   "cell_type": "code",
   "execution_count": 9,
   "metadata": {
    "id": "IhIV-uCvCeBJ"
   },
   "outputs": [],
   "source": [
    "target = train_df['label'].values"
   ]
  },
  {
   "cell_type": "code",
   "execution_count": 10,
   "metadata": {
    "id": "wPrbUDumiSS6"
   },
   "outputs": [],
   "source": [
    "max_length = 40\n",
    "vocab_size = 6000\n",
    "\n",
    "sequences_train = tokenizer.texts_to_sequences(train_df['all_info'])\n",
    "sequences_test = tokenizer.texts_to_sequences(test_df['all_info'])\n",
    "\n",
    "padded_train = pad_sequences(sequences_train, padding = 'post', maxlen=max_length)\n",
    "padded_test = pad_sequences(sequences_test, padding = 'post', maxlen=max_length)"
   ]
  },
  {
   "cell_type": "code",
   "execution_count": 11,
   "metadata": {
    "id": "LLVj2M4B4ZS1"
   },
   "outputs": [],
   "source": [
    "X_train, X_test, y_train, y_test = train_test_split(padded_train, target, test_size=0.2)"
   ]
  },
  {
   "cell_type": "code",
   "execution_count": 12,
   "metadata": {
    "colab": {
     "base_uri": "https://localhost:8080/"
    },
    "id": "jFWSZaJhOdUZ",
    "outputId": "ebd094d0-5391-4e71-db15-20a083256f3c"
   },
   "outputs": [
    {
     "data": {
      "text/plain": [
       "((16640, 40), (16640,))"
      ]
     },
     "execution_count": 12,
     "metadata": {},
     "output_type": "execute_result"
    }
   ],
   "source": [
    "X_train.shape, y_train.shape"
   ]
  },
  {
   "cell_type": "markdown",
   "metadata": {
    "id": "Y5lbJHH04UX8"
   },
   "source": [
    "# Define Model"
   ]
  },
  {
   "cell_type": "code",
   "execution_count": 13,
   "metadata": {
    "id": "cC2TatACQX6T"
   },
   "outputs": [],
   "source": [
    "best_model_file_name = \"models/best_model_simple.hdf5\""
   ]
  },
  {
   "cell_type": "code",
   "execution_count": 14,
   "metadata": {
    "id": "lS6RnrrkiSXZ"
   },
   "outputs": [],
   "source": [
    "def get_simple_model():\n",
    "    model = Sequential()\n",
    "    model.add(Embedding(vocab_size, 8, input_length=max_length))\n",
    "    model.add(Flatten())\n",
    "    model.add(Dense(1, activation='sigmoid'))\n",
    "    return model"
   ]
  },
  {
   "cell_type": "code",
   "execution_count": 15,
   "metadata": {
    "id": "M_rBhLiwiSRy"
   },
   "outputs": [],
   "source": [
    "callbacks=[\n",
    "    keras.callbacks.EarlyStopping(monitor=\"val_loss\", patience=15, \n",
    "                                  verbose=1, mode=\"min\", restore_best_weights=True),\n",
    "    keras.callbacks.ModelCheckpoint(filepath=best_model_file_name, verbose=1, save_best_only=True)\n",
    "]"
   ]
  },
  {
   "cell_type": "code",
   "execution_count": 16,
   "metadata": {
    "colab": {
     "base_uri": "https://localhost:8080/"
    },
    "id": "31ofUO6biSO4",
    "outputId": "b3beb995-0180-459e-8f53-4b9fab3874af"
   },
   "outputs": [
    {
     "name": "stdout",
     "output_type": "stream",
     "text": [
      "Model: \"sequential\"\n",
      "_________________________________________________________________\n",
      "Layer (type)                 Output Shape              Param #   \n",
      "=================================================================\n",
      "embedding (Embedding)        (None, 40, 8)             48000     \n",
      "_________________________________________________________________\n",
      "flatten (Flatten)            (None, 320)               0         \n",
      "_________________________________________________________________\n",
      "dense (Dense)                (None, 1)                 321       \n",
      "=================================================================\n",
      "Total params: 48,321\n",
      "Trainable params: 48,321\n",
      "Non-trainable params: 0\n",
      "_________________________________________________________________\n"
     ]
    }
   ],
   "source": [
    "model = get_simple_model()\n",
    "model.summary()"
   ]
  },
  {
   "cell_type": "code",
   "execution_count": 17,
   "metadata": {
    "id": "QMw2BrAzykdQ"
   },
   "outputs": [],
   "source": [
    "model.compile(loss='binary_crossentropy',\n",
    "              optimizer='adam', \n",
    "              metrics=[tf.keras.metrics.Precision(), tf.keras.metrics.Recall()])"
   ]
  },
  {
   "cell_type": "code",
   "execution_count": 18,
   "metadata": {
    "colab": {
     "base_uri": "https://localhost:8080/"
    },
    "id": "AggtZp00soXb",
    "outputId": "c1688ddc-29a1-407d-c42d-ee66abf9a2d8"
   },
   "outputs": [
    {
     "name": "stdout",
     "output_type": "stream",
     "text": [
      "Epoch 1/10\n",
      "508/520 [============================>.] - ETA: 0s - loss: 0.4677 - precision: 0.8091 - recall: 0.8546\n",
      "Epoch 00001: val_loss improved from inf to 0.24062, saving model to best_model_simple.hdf5\n",
      "520/520 [==============================] - 3s 5ms/step - loss: 0.4627 - precision: 0.8099 - recall: 0.8574 - val_loss: 0.2406 - val_precision: 0.8958 - val_recall: 0.9616\n",
      "Epoch 2/10\n",
      "520/520 [==============================] - ETA: 0s - loss: 0.1570 - precision: 0.9284 - recall: 0.9800\n",
      "Epoch 00002: val_loss improved from 0.24062 to 0.13960, saving model to best_model_simple.hdf5\n",
      "520/520 [==============================] - 2s 3ms/step - loss: 0.1570 - precision: 0.9284 - recall: 0.9800 - val_loss: 0.1396 - val_precision: 0.9335 - val_recall: 0.9712\n",
      "Epoch 3/10\n",
      "517/520 [============================>.] - ETA: 0s - loss: 0.0862 - precision: 0.9637 - recall: 0.9882\n",
      "Epoch 00003: val_loss improved from 0.13960 to 0.11267, saving model to best_model_simple.hdf5\n",
      "520/520 [==============================] - 2s 3ms/step - loss: 0.0863 - precision: 0.9635 - recall: 0.9882 - val_loss: 0.1127 - val_precision: 0.9455 - val_recall: 0.9741\n",
      "Epoch 4/10\n",
      "504/520 [============================>.] - ETA: 0s - loss: 0.0555 - precision: 0.9791 - recall: 0.9918\n",
      "Epoch 00004: val_loss improved from 0.11267 to 0.10219, saving model to best_model_simple.hdf5\n",
      "520/520 [==============================] - 2s 3ms/step - loss: 0.0553 - precision: 0.9789 - recall: 0.9920 - val_loss: 0.1022 - val_precision: 0.9495 - val_recall: 0.9741\n",
      "Epoch 5/10\n",
      "518/520 [============================>.] - ETA: 0s - loss: 0.0366 - precision: 0.9895 - recall: 0.9965\n",
      "Epoch 00005: val_loss improved from 0.10219 to 0.09779, saving model to best_model_simple.hdf5\n",
      "520/520 [==============================] - 2s 3ms/step - loss: 0.0366 - precision: 0.9895 - recall: 0.9965 - val_loss: 0.0978 - val_precision: 0.9542 - val_recall: 0.9698\n",
      "Epoch 6/10\n",
      "502/520 [===========================>..] - ETA: 0s - loss: 0.0244 - precision: 0.9958 - recall: 0.9988\n",
      "Epoch 00006: val_loss improved from 0.09779 to 0.09680, saving model to best_model_simple.hdf5\n",
      "520/520 [==============================] - 2s 3ms/step - loss: 0.0242 - precision: 0.9959 - recall: 0.9988 - val_loss: 0.0968 - val_precision: 0.9543 - val_recall: 0.9731\n",
      "Epoch 7/10\n",
      "516/520 [============================>.] - ETA: 0s - loss: 0.0161 - precision: 0.9984 - recall: 0.9993\n",
      "Epoch 00007: val_loss did not improve from 0.09680\n",
      "520/520 [==============================] - 2s 4ms/step - loss: 0.0160 - precision: 0.9984 - recall: 0.9993 - val_loss: 0.0978 - val_precision: 0.9539 - val_recall: 0.9731\n",
      "Epoch 8/10\n",
      "502/520 [===========================>..] - ETA: 0s - loss: 0.0107 - precision: 0.9996 - recall: 0.9998\n",
      "Epoch 00008: val_loss did not improve from 0.09680\n",
      "520/520 [==============================] - 2s 4ms/step - loss: 0.0107 - precision: 0.9996 - recall: 0.9998 - val_loss: 0.0998 - val_precision: 0.9534 - val_recall: 0.9726\n",
      "Epoch 9/10\n",
      "517/520 [============================>.] - ETA: 0s - loss: 0.0071 - precision: 0.9999 - recall: 1.0000\n",
      "Epoch 00009: val_loss did not improve from 0.09680\n",
      "520/520 [==============================] - 2s 4ms/step - loss: 0.0071 - precision: 0.9999 - recall: 1.0000 - val_loss: 0.1034 - val_precision: 0.9517 - val_recall: 0.9746\n",
      "Epoch 10/10\n",
      "513/520 [============================>.] - ETA: 0s - loss: 0.0049 - precision: 1.0000 - recall: 1.0000\n",
      "Epoch 00010: val_loss did not improve from 0.09680\n",
      "520/520 [==============================] - 2s 3ms/step - loss: 0.0049 - precision: 1.0000 - recall: 1.0000 - val_loss: 0.1054 - val_precision: 0.9539 - val_recall: 0.9731\n",
      "Wall time: 21.7 s\n"
     ]
    }
   ],
   "source": [
    "%%time\n",
    "history = model.fit(X_train, \n",
    "                    y_train, \n",
    "                    epochs=10,\n",
    "                    validation_data=(X_test, y_test), \n",
    "                    callbacks=callbacks)"
   ]
  },
  {
   "cell_type": "code",
   "execution_count": 19,
   "metadata": {
    "colab": {
     "base_uri": "https://localhost:8080/",
     "height": 594
    },
    "id": "m0R_WwTSiSHX",
    "outputId": "5c39f829-64c8-4d9b-932a-4b2019b7cab0"
   },
   "outputs": [
    {
     "data": {
      "image/png": "[encoded data removed]",
      "text/plain": [
       "<Figure size 720x720 with 1 Axes>"
      ]
     },
     "metadata": {},
     "output_type": "display_data"
    }
   ],
   "source": [
    "metric_to_plot = \"loss\"\n",
    "plt.plot(history.epoch, history.history[metric_to_plot], \".:\", label=\"loss\")\n",
    "plt.plot(history.epoch, history.history[\"val_\" + metric_to_plot], \".:\", label=\"val_loss\")\n",
    "plt.legend()\n",
    "plt.show()"
   ]
  },
  {
   "cell_type": "code",
   "execution_count": 20,
   "metadata": {
    "colab": {
     "base_uri": "https://localhost:8080/"
    },
    "id": "2_2Us8-DsoDt",
    "outputId": "db7a1021-ee57-4fb1-9474-22eaaaafee85"
   },
   "outputs": [
    {
     "name": "stdout",
     "output_type": "stream",
     "text": [
      "WARNING:tensorflow:From <ipython-input-20-ba49be37a107>:2: Sequential.predict_classes (from tensorflow.python.keras.engine.sequential) is deprecated and will be removed after 2021-01-01.\n",
      "Instructions for updating:\n",
      "Please use instead:* `np.argmax(model.predict(x), axis=-1)`,   if your model does multi-class classification   (e.g. if it uses a `softmax` last-layer activation).* `(model.predict(x) > 0.5).astype(\"int32\")`,   if your model does binary classification   (e.g. if it uses a `sigmoid` last-layer activation).\n",
      "Accuracy:  0.9632211538461538\n",
      "Precision:  0.954331450094162\n",
      "Recall:  0.9731156985117618\n",
      "F1 Score:  0.9636320418350368\n"
     ]
    }
   ],
   "source": [
    "model = keras.models.load_model(best_model_file_name)\n",
    "y_pred = model.predict_classes(X_test)\n",
    "print('Accuracy: ', accuracy_score(y_test, y_pred))\n",
    "print('Precision: ', precision_score(y_test, y_pred))\n",
    "print('Recall: ', recall_score(y_test, y_pred))\n",
    "print('F1 Score: ', f1_score(y_test, y_pred))"
   ]
  },
  {
   "cell_type": "markdown",
   "metadata": {
    "id": "4gtMjKcn8-25"
   },
   "source": [
    "# Using LSTM Model for Text Classification"
   ]
  },
  {
   "cell_type": "code",
   "execution_count": 21,
   "metadata": {
    "colab": {
     "base_uri": "https://localhost:8080/"
    },
    "id": "1tLNSlbp8-Yt",
    "outputId": "d1283eb8-3c52-4a47-c156-17cf063d7098"
   },
   "outputs": [
    {
     "name": "stdout",
     "output_type": "stream",
     "text": [
      "Model: \"sequential_1\"\n",
      "_________________________________________________________________\n",
      "Layer (type)                 Output Shape              Param #   \n",
      "=================================================================\n",
      "embedding_1 (Embedding)      (None, 40, 8)             48000     \n",
      "_________________________________________________________________\n",
      "dropout (Dropout)            (None, 40, 8)             0         \n",
      "_________________________________________________________________\n",
      "lstm (LSTM)                  (None, 100)               43600     \n",
      "_________________________________________________________________\n",
      "dropout_1 (Dropout)          (None, 100)               0         \n",
      "_________________________________________________________________\n",
      "dense_1 (Dense)              (None, 64)                6464      \n",
      "_________________________________________________________________\n",
      "dropout_2 (Dropout)          (None, 64)                0         \n",
      "_________________________________________________________________\n",
      "dense_2 (Dense)              (None, 1)                 65        \n",
      "=================================================================\n",
      "Total params: 98,129\n",
      "Trainable params: 98,129\n",
      "Non-trainable params: 0\n",
      "_________________________________________________________________\n",
      "None\n",
      "Epoch 1/20\n",
      "520/520 [==============================] - ETA: 0s - loss: 0.2629 - precision_1: 0.8554 - recall_1: 0.9092\n",
      "Epoch 00001: val_loss improved from inf to 0.11381, saving model to best_model_simple_LSTM.hdf5\n",
      "520/520 [==============================] - 25s 48ms/step - loss: 0.2629 - precision_1: 0.8554 - recall_1: 0.9092 - val_loss: 0.1138 - val_precision_1: 0.9595 - val_recall_1: 0.9549\n",
      "Epoch 2/20\n",
      "519/520 [============================>.] - ETA: 0s - loss: 0.0821 - precision_1: 0.9666 - recall_1: 0.9759\n",
      "Epoch 00002: val_loss did not improve from 0.11381\n",
      "520/520 [==============================] - 25s 48ms/step - loss: 0.0823 - precision_1: 0.9666 - recall_1: 0.9759 - val_loss: 0.1183 - val_precision_1: 0.9674 - val_recall_1: 0.9400\n",
      "Epoch 3/20\n",
      "519/520 [============================>.] - ETA: 0s - loss: 0.0485 - precision_1: 0.9819 - recall_1: 0.9842\n",
      "Epoch 00003: val_loss did not improve from 0.11381\n",
      "520/520 [==============================] - 25s 47ms/step - loss: 0.0484 - precision_1: 0.9819 - recall_1: 0.9843 - val_loss: 0.1193 - val_precision_1: 0.9631 - val_recall_1: 0.9525\n",
      "Epoch 4/20\n",
      "519/520 [============================>.] - ETA: 0s - loss: 0.0346 - precision_1: 0.9882 - recall_1: 0.9883\n",
      "Epoch 00004: val_loss did not improve from 0.11381\n",
      "520/520 [==============================] - 24s 46ms/step - loss: 0.0345 - precision_1: 0.9882 - recall_1: 0.9884 - val_loss: 0.1348 - val_precision_1: 0.9720 - val_recall_1: 0.9323\n",
      "Epoch 5/20\n",
      "520/520 [==============================] - ETA: 0s - loss: 0.0283 - precision_1: 0.9897 - recall_1: 0.9905\n",
      "Epoch 00005: val_loss did not improve from 0.11381\n",
      "520/520 [==============================] - 24s 47ms/step - loss: 0.0283 - precision_1: 0.9897 - recall_1: 0.9905 - val_loss: 0.1462 - val_precision_1: 0.9610 - val_recall_1: 0.9357\n",
      "Epoch 6/20\n",
      "520/520 [==============================] - ETA: 0s - loss: 0.0219 - precision_1: 0.9926 - recall_1: 0.9934\n",
      "Epoch 00006: val_loss did not improve from 0.11381\n",
      "520/520 [==============================] - 24s 47ms/step - loss: 0.0219 - precision_1: 0.9926 - recall_1: 0.9934 - val_loss: 0.1515 - val_precision_1: 0.9476 - val_recall_1: 0.9726\n",
      "Epoch 7/20\n",
      "519/520 [============================>.] - ETA: 0s - loss: 0.0161 - precision_1: 0.9939 - recall_1: 0.9940\n",
      "Epoch 00007: val_loss did not improve from 0.11381\n",
      "520/520 [==============================] - 24s 46ms/step - loss: 0.0161 - precision_1: 0.9939 - recall_1: 0.9940 - val_loss: 0.1602 - val_precision_1: 0.9500 - val_recall_1: 0.9678\n",
      "Epoch 8/20\n",
      "519/520 [============================>.] - ETA: 0s - loss: 0.0188 - precision_1: 0.9933 - recall_1: 0.9936\n",
      "Epoch 00008: val_loss did not improve from 0.11381\n",
      "520/520 [==============================] - 23s 45ms/step - loss: 0.0188 - precision_1: 0.9933 - recall_1: 0.9936 - val_loss: 0.1834 - val_precision_1: 0.9502 - val_recall_1: 0.9712\n",
      "Epoch 9/20\n",
      "519/520 [============================>.] - ETA: 0s - loss: 0.0142 - precision_1: 0.9951 - recall_1: 0.9948\n",
      "Epoch 00009: val_loss did not improve from 0.11381\n",
      "520/520 [==============================] - 23s 44ms/step - loss: 0.0142 - precision_1: 0.9951 - recall_1: 0.9948 - val_loss: 0.1744 - val_precision_1: 0.9498 - val_recall_1: 0.9635\n",
      "Epoch 10/20\n",
      "519/520 [============================>.] - ETA: 0s - loss: 0.0114 - precision_1: 0.9963 - recall_1: 0.9965\n",
      "Epoch 00010: val_loss did not improve from 0.11381\n",
      "520/520 [==============================] - 23s 45ms/step - loss: 0.0114 - precision_1: 0.9963 - recall_1: 0.9965 - val_loss: 0.1905 - val_precision_1: 0.9535 - val_recall_1: 0.9645\n",
      "Epoch 11/20\n",
      "519/520 [============================>.] - ETA: 0s - loss: 0.0121 - precision_1: 0.9958 - recall_1: 0.9964\n",
      "Epoch 00011: val_loss did not improve from 0.11381\n",
      "520/520 [==============================] - 23s 45ms/step - loss: 0.0121 - precision_1: 0.9958 - recall_1: 0.9964 - val_loss: 0.1884 - val_precision_1: 0.9565 - val_recall_1: 0.9597\n",
      "Epoch 12/20\n",
      "520/520 [==============================] - ETA: 0s - loss: 0.0120 - precision_1: 0.9954 - recall_1: 0.9956\n",
      "Epoch 00012: val_loss did not improve from 0.11381\n",
      "520/520 [==============================] - 23s 45ms/step - loss: 0.0120 - precision_1: 0.9954 - recall_1: 0.9956 - val_loss: 0.2049 - val_precision_1: 0.9607 - val_recall_1: 0.9390\n",
      "Epoch 13/20\n",
      "520/520 [==============================] - ETA: 0s - loss: 0.0115 - precision_1: 0.9960 - recall_1: 0.9963\n",
      "Epoch 00013: val_loss did not improve from 0.11381\n",
      "520/520 [==============================] - 23s 44ms/step - loss: 0.0115 - precision_1: 0.9960 - recall_1: 0.9963 - val_loss: 0.2034 - val_precision_1: 0.9567 - val_recall_1: 0.9438\n",
      "Epoch 14/20\n",
      "519/520 [============================>.] - ETA: 0s - loss: 0.0100 - precision_1: 0.9958 - recall_1: 0.9965\n",
      "Epoch 00014: val_loss did not improve from 0.11381\n",
      "520/520 [==============================] - 23s 44ms/step - loss: 0.0099 - precision_1: 0.9958 - recall_1: 0.9965 - val_loss: 0.2739 - val_precision_1: 0.9637 - val_recall_1: 0.9299\n",
      "Epoch 15/20\n",
      "519/520 [============================>.] - ETA: 0s - loss: 0.0075 - precision_1: 0.9975 - recall_1: 0.9976\n",
      "Epoch 00015: val_loss did not improve from 0.11381\n",
      "520/520 [==============================] - 24s 47ms/step - loss: 0.0075 - precision_1: 0.9975 - recall_1: 0.9975 - val_loss: 0.2528 - val_precision_1: 0.9623 - val_recall_1: 0.9434\n",
      "Epoch 16/20\n",
      "520/520 [==============================] - ETA: 0s - loss: 0.0108 - precision_1: 0.9966 - recall_1: 0.9970Restoring model weights from the end of the best epoch.\n",
      "\n",
      "Epoch 00016: val_loss did not improve from 0.11381\n",
      "520/520 [==============================] - 24s 46ms/step - loss: 0.0108 - precision_1: 0.9966 - recall_1: 0.9970 - val_loss: 0.1938 - val_precision_1: 0.9510 - val_recall_1: 0.9510\n",
      "Epoch 00016: early stopping\n",
      "Wall time: 6min 30s\n"
     ]
    }
   ],
   "source": [
    "%%time\n",
    "\n",
    "best_model_file_name = \"models/best_model_simple_LSTM.hdf5\"\n",
    "def get_simple_LSTM_model():\n",
    "    model = Sequential()\n",
    "    model.add(Embedding(vocab_size, 8, input_length=max_length))\n",
    "    model.add(Dropout(0.3))\n",
    "    model.add(LSTM(100))\n",
    "    model.add(Dropout(0.3))\n",
    "    model.add(Dense(64, activation='relu'))\n",
    "    model.add(Dropout(0.3))\n",
    "    model.add(Dense(1, activation='sigmoid'))\n",
    "    return model\n",
    "\n",
    "callbacks=[\n",
    "    keras.callbacks.EarlyStopping(monitor=\"val_loss\", \n",
    "                                  patience=15, \n",
    "                                  verbose=1, \n",
    "                                  mode=\"min\", \n",
    "                                  restore_best_weights=True),\n",
    "    keras.callbacks.ModelCheckpoint(filepath=best_model_file_name, \n",
    "                                    verbose=1, \n",
    "                                    save_best_only=True)\n",
    "]\n",
    "\n",
    "model = get_simple_LSTM_model()\n",
    "print(model.summary())\n",
    "\n",
    "model.compile(loss='binary_crossentropy',optimizer='adam', metrics=[tf.keras.metrics.Precision(), tf.keras.metrics.Recall()])\n",
    "\n",
    "history = model.fit(X_train, \n",
    "                    y_train, \n",
    "                    epochs=20, \n",
    "                    validation_data=(X_test, y_test), \n",
    "                    callbacks=callbacks)"
   ]
  },
  {
   "cell_type": "code",
   "execution_count": 22,
   "metadata": {
    "colab": {
     "base_uri": "https://localhost:8080/",
     "height": 594
    },
    "id": "oJnPNvV09XqT",
    "outputId": "6a3f9ac7-a8a3-43df-c52d-0250399ceb4e"
   },
   "outputs": [
    {
     "data": {
      "image/png": "[encoded data removed]",
      "text/plain": [
       "<Figure size 720x720 with 1 Axes>"
      ]
     },
     "metadata": {},
     "output_type": "display_data"
    }
   ],
   "source": [
    "metric_to_plot = \"loss\"\n",
    "plt.plot(history.epoch, history.history[metric_to_plot], \".:\", label=\"loss\")\n",
    "plt.plot(history.epoch, history.history[\"val_\" + metric_to_plot], \".:\", label=\"val_loss\")\n",
    "plt.legend()\n",
    "plt.show()"
   ]
  },
  {
   "cell_type": "code",
   "execution_count": 23,
   "metadata": {
    "colab": {
     "base_uri": "https://localhost:8080/"
    },
    "id": "XCZw-pm2_5tT",
    "outputId": "b0e6af26-2406-4f2c-b09e-6b0e7fd04af3"
   },
   "outputs": [
    {
     "name": "stdout",
     "output_type": "stream",
     "text": [
      "Accuracy:  0.9572115384615385\n",
      "Precision:  0.959479015918958\n",
      "Recall:  0.9548727796447432\n",
      "F1 Score:  0.9571703561116458\n"
     ]
    }
   ],
   "source": [
    "model = keras.models.load_model(best_model_file_name)\n",
    "y_pred = model.predict_classes(X_test)\n",
    "print('Accuracy: ', accuracy_score(y_test, y_pred))\n",
    "print('Precision: ', precision_score(y_test, y_pred))\n",
    "print('Recall: ', recall_score(y_test, y_pred))\n",
    "print('F1 Score: ', f1_score(y_test, y_pred))"
   ]
  },
  {
   "cell_type": "markdown",
   "metadata": {
    "id": "munDz1s2ABiW"
   },
   "source": [
    "# Using Pre-trained GloVe Embedding\n",
    "\n",
    "https://machinelearningmastery.com/use-word-embedding-layers-deep-learning-keras/"
   ]
  },
  {
   "cell_type": "code",
   "execution_count": 24,
   "metadata": {
    "colab": {
     "base_uri": "https://localhost:8080/"
    },
    "id": "qkbufc7-Uwj9",
    "outputId": "86fe0332-395f-42fd-ddfb-38a208f119d2"
   },
   "outputs": [],
   "source": [
    "# !wget http://nlp.stanford.edu/data/glove.6B.zip\n",
    "# !unzip glove*.zip"
   ]
  },
  {
   "cell_type": "code",
   "execution_count": 25,
   "metadata": {
    "colab": {
     "base_uri": "https://localhost:8080/"
    },
    "id": "VRWS44ahRseW",
    "outputId": "3b3af6d0-1774-4ebf-cdb8-cb8cfdf6f1a5"
   },
   "outputs": [
    {
     "name": "stdout",
     "output_type": "stream",
     "text": [
      "Loaded 400000 word vectors.\n"
     ]
    }
   ],
   "source": [
    "embeddings_index = dict()\n",
    "# f = open('/content/glove.6B.300d.txt')\n",
    "f = open('C:/Users/nroy0/Documents/MyGitHub/Resources/glove.6B/glove.6B.300d.txt', encoding='utf-8')\n",
    "for line in f:\n",
    "    values = line.split()\n",
    "    word = values[0]\n",
    "    coefs = np.asarray(values[1:], dtype='float32')\n",
    "    embeddings_index[word] = coefs\n",
    "f.close()\n",
    "print('Loaded %s word vectors.' % len(embeddings_index))"
   ]
  },
  {
   "cell_type": "code",
   "execution_count": 26,
   "metadata": {
    "id": "x_wZZ90zWikW"
   },
   "outputs": [
    {
     "name": "stdout",
     "output_type": "stream",
     "text": [
      "Get vocab_size\n",
      "Create the embedding matrix\n",
      "Wall time: 917 ms\n"
     ]
    }
   ],
   "source": [
    "%%time\n",
    "# create a weight matrix for words in training docs\n",
    "print('Get vocab_size')\n",
    "vocab_size = len(tokenizer.word_index) + 1\n",
    "\n",
    "print('Create the embedding matrix')\n",
    "embedding_matrix = np.zeros((vocab_size, 300))\n",
    "for word, i in tokenizer.word_index.items():\n",
    "    embedding_vector = embeddings_index.get(word)\n",
    "    if embedding_vector is not None:\n",
    "        embedding_matrix[i] = embedding_vector"
   ]
  },
  {
   "cell_type": "markdown",
   "metadata": {
    "id": "6c8cjbTkaO6B"
   },
   "source": [
    "## Simple Classification Model"
   ]
  },
  {
   "cell_type": "code",
   "execution_count": 27,
   "metadata": {
    "colab": {
     "base_uri": "https://localhost:8080/"
    },
    "id": "kZzsGiQ_AK20",
    "outputId": "a744e863-8c36-45a8-9873-d45b21075110"
   },
   "outputs": [
    {
     "name": "stdout",
     "output_type": "stream",
     "text": [
      "Model: \"sequential_2\"\n",
      "_________________________________________________________________\n",
      "Layer (type)                 Output Shape              Param #   \n",
      "=================================================================\n",
      "embedding_2 (Embedding)      (None, 40, 300)           76332600  \n",
      "_________________________________________________________________\n",
      "flatten_1 (Flatten)          (None, 12000)             0         \n",
      "_________________________________________________________________\n",
      "dense_3 (Dense)              (None, 1)                 12001     \n",
      "=================================================================\n",
      "Total params: 76,344,601\n",
      "Trainable params: 12,001\n",
      "Non-trainable params: 76,332,600\n",
      "_________________________________________________________________\n",
      "None\n",
      "Epoch 1/50\n",
      "512/520 [============================>.] - ETA: 0s - loss: 0.2595 - precision_2: 0.8765 - recall_2: 0.9267\n",
      "Epoch 00001: val_loss improved from inf to 0.18661, saving model to best_model_simple_with_GloVe.hdf5\n",
      "520/520 [==============================] - 7s 13ms/step - loss: 0.2584 - precision_2: 0.8768 - recall_2: 0.9273 - val_loss: 0.1866 - val_precision_2: 0.9300 - val_recall_2: 0.9246\n",
      "Epoch 2/50\n",
      "517/520 [============================>.] - ETA: 0s - loss: 0.1306 - precision_2: 0.9432 - recall_2: 0.9706\n",
      "Epoch 00002: val_loss improved from 0.18661 to 0.16354, saving model to best_model_simple_with_GloVe.hdf5\n",
      "520/520 [==============================] - 6s 12ms/step - loss: 0.1306 - precision_2: 0.9434 - recall_2: 0.9705 - val_loss: 0.1635 - val_precision_2: 0.9229 - val_recall_2: 0.9539\n",
      "Epoch 3/50\n",
      "511/520 [============================>.] - ETA: 0s - loss: 0.0933 - precision_2: 0.9646 - recall_2: 0.9828\n",
      "Epoch 00003: val_loss did not improve from 0.16354\n",
      "520/520 [==============================] - 3s 6ms/step - loss: 0.0936 - precision_2: 0.9645 - recall_2: 0.9825 - val_loss: 0.1674 - val_precision_2: 0.9412 - val_recall_2: 0.9299\n",
      "Epoch 4/50\n",
      "515/520 [============================>.] - ETA: 0s - loss: 0.0692 - precision_2: 0.9776 - recall_2: 0.9905\n",
      "Epoch 00004: val_loss did not improve from 0.16354\n",
      "520/520 [==============================] - 3s 6ms/step - loss: 0.0692 - precision_2: 0.9777 - recall_2: 0.9906 - val_loss: 0.1675 - val_precision_2: 0.9372 - val_recall_2: 0.9309\n",
      "Epoch 5/50\n",
      "520/520 [==============================] - ETA: 0s - loss: 0.0526 - precision_2: 0.9870 - recall_2: 0.9930\n",
      "Epoch 00005: val_loss did not improve from 0.16354\n",
      "520/520 [==============================] - 3s 6ms/step - loss: 0.0526 - precision_2: 0.9870 - recall_2: 0.9930 - val_loss: 0.1717 - val_precision_2: 0.9190 - val_recall_2: 0.9582\n",
      "Epoch 6/50\n",
      "512/520 [============================>.] - ETA: 0s - loss: 0.0423 - precision_2: 0.9921 - recall_2: 0.9976\n",
      "Epoch 00006: val_loss did not improve from 0.16354\n",
      "520/520 [==============================] - 3s 6ms/step - loss: 0.0422 - precision_2: 0.9921 - recall_2: 0.9976 - val_loss: 0.1748 - val_precision_2: 0.9331 - val_recall_2: 0.9381\n",
      "Epoch 7/50\n",
      "518/520 [============================>.] - ETA: 0s - loss: 0.0328 - precision_2: 0.9960 - recall_2: 0.9984\n",
      "Epoch 00007: val_loss did not improve from 0.16354\n",
      "520/520 [==============================] - 3s 6ms/step - loss: 0.0329 - precision_2: 0.9959 - recall_2: 0.9984 - val_loss: 0.1798 - val_precision_2: 0.9296 - val_recall_2: 0.9448\n",
      "Epoch 8/50\n",
      "517/520 [============================>.] - ETA: 0s - loss: 0.0262 - precision_2: 0.9987 - recall_2: 0.9994\n",
      "Epoch 00008: val_loss did not improve from 0.16354\n",
      "520/520 [==============================] - 3s 6ms/step - loss: 0.0262 - precision_2: 0.9987 - recall_2: 0.9994 - val_loss: 0.1886 - val_precision_2: 0.9345 - val_recall_2: 0.9390\n",
      "Epoch 9/50\n",
      "514/520 [============================>.] - ETA: 0s - loss: 0.0212 - precision_2: 0.9989 - recall_2: 0.9996\n",
      "Epoch 00009: val_loss did not improve from 0.16354\n",
      "520/520 [==============================] - 3s 6ms/step - loss: 0.0213 - precision_2: 0.9989 - recall_2: 0.9996 - val_loss: 0.1935 - val_precision_2: 0.9325 - val_recall_2: 0.9414\n",
      "Epoch 10/50\n",
      "518/520 [============================>.] - ETA: 0s - loss: 0.0175 - precision_2: 0.9995 - recall_2: 1.0000\n",
      "Epoch 00010: val_loss did not improve from 0.16354\n",
      "520/520 [==============================] - 3s 6ms/step - loss: 0.0175 - precision_2: 0.9995 - recall_2: 1.0000 - val_loss: 0.2004 - val_precision_2: 0.9344 - val_recall_2: 0.9366\n",
      "Epoch 11/50\n",
      "514/520 [============================>.] - ETA: 0s - loss: 0.0145 - precision_2: 0.9998 - recall_2: 0.9999\n",
      "Epoch 00011: val_loss did not improve from 0.16354\n",
      "520/520 [==============================] - 3s 6ms/step - loss: 0.0145 - precision_2: 0.9998 - recall_2: 0.9999 - val_loss: 0.2067 - val_precision_2: 0.9306 - val_recall_2: 0.9462\n",
      "Epoch 12/50\n",
      "519/520 [============================>.] - ETA: 0s - loss: 0.0120 - precision_2: 0.9999 - recall_2: 1.0000\n",
      "Epoch 00012: val_loss did not improve from 0.16354\n",
      "520/520 [==============================] - 3s 6ms/step - loss: 0.0120 - precision_2: 0.9999 - recall_2: 1.0000 - val_loss: 0.2153 - val_precision_2: 0.9309 - val_recall_2: 0.9443\n",
      "Epoch 13/50\n",
      "517/520 [============================>.] - ETA: 0s - loss: 0.0098 - precision_2: 1.0000 - recall_2: 1.0000\n",
      "Epoch 00013: val_loss did not improve from 0.16354\n",
      "520/520 [==============================] - 3s 6ms/step - loss: 0.0098 - precision_2: 0.9999 - recall_2: 1.0000 - val_loss: 0.2243 - val_precision_2: 0.9262 - val_recall_2: 0.9525\n",
      "Epoch 14/50\n",
      "511/520 [============================>.] - ETA: 0s - loss: 0.0082 - precision_2: 1.0000 - recall_2: 1.0000\n",
      "Epoch 00014: val_loss did not improve from 0.16354\n",
      "520/520 [==============================] - 3s 6ms/step - loss: 0.0082 - precision_2: 1.0000 - recall_2: 1.0000 - val_loss: 0.2274 - val_precision_2: 0.9302 - val_recall_2: 0.9410\n",
      "Epoch 15/50\n",
      "516/520 [============================>.] - ETA: 0s - loss: 0.0069 - precision_2: 1.0000 - recall_2: 1.0000\n",
      "Epoch 00015: val_loss did not improve from 0.16354\n",
      "520/520 [==============================] - 3s 6ms/step - loss: 0.0069 - precision_2: 1.0000 - recall_2: 1.0000 - val_loss: 0.2372 - val_precision_2: 0.9301 - val_recall_2: 0.9395\n",
      "Epoch 16/50\n",
      "517/520 [============================>.] - ETA: 0s - loss: 0.0058 - precision_2: 1.0000 - recall_2: 1.0000\n",
      "Epoch 00016: val_loss did not improve from 0.16354\n",
      "520/520 [==============================] - 3s 6ms/step - loss: 0.0058 - precision_2: 1.0000 - recall_2: 1.0000 - val_loss: 0.2451 - val_precision_2: 0.9286 - val_recall_2: 0.9424\n",
      "Epoch 17/50\n",
      "514/520 [============================>.] - ETA: 0s - loss: 0.0048 - precision_2: 1.0000 - recall_2: 1.0000Restoring model weights from the end of the best epoch.\n",
      "\n",
      "Epoch 00017: val_loss did not improve from 0.16354\n",
      "520/520 [==============================] - 3s 7ms/step - loss: 0.0048 - precision_2: 1.0000 - recall_2: 1.0000 - val_loss: 0.2504 - val_precision_2: 0.9297 - val_recall_2: 0.9400\n",
      "Epoch 00017: early stopping\n"
     ]
    }
   ],
   "source": [
    "best_model_file_name = \"models/best_model_simple_with_GloVe.hdf5\"\n",
    "\n",
    "def get_simple_GloVe_model():\n",
    "    model = Sequential()\n",
    "    model.add(Embedding(vocab_size, \n",
    "                        300, \n",
    "                        weights=[embedding_matrix], \n",
    "                        input_length=max_length,\n",
    "                        trainable=False))\n",
    "    model.add(Flatten())\n",
    "    model.add(Dense(1, activation='sigmoid'))\n",
    "    return model\n",
    "\n",
    "callbacks=[\n",
    "    keras.callbacks.EarlyStopping(monitor=\"val_loss\", \n",
    "                                  patience=15, \n",
    "                                  verbose=1, \n",
    "                                  mode=\"min\", \n",
    "                                  restore_best_weights=True),\n",
    "    keras.callbacks.ModelCheckpoint(filepath=best_model_file_name, \n",
    "                                    verbose=1, \n",
    "                                    save_best_only=True)\n",
    "]\n",
    "\n",
    "model = get_simple_GloVe_model()\n",
    "print(model.summary())\n",
    "\n",
    "model.compile(loss='binary_crossentropy',\n",
    "              optimizer='adam', \n",
    "              metrics=[tf.keras.metrics.Precision(), tf.keras.metrics.Recall()])\n",
    "\n",
    "history = model.fit(X_train, \n",
    "                    y_train, \n",
    "                    epochs=50, \n",
    "                    validation_data=(X_test, y_test), \n",
    "                    callbacks=callbacks)"
   ]
  },
  {
   "cell_type": "code",
   "execution_count": 28,
   "metadata": {
    "colab": {
     "base_uri": "https://localhost:8080/",
     "height": 594
    },
    "id": "lxP4i8rZRt_d",
    "outputId": "98090ecf-2107-4984-cd05-9c3290a03fce"
   },
   "outputs": [
    {
     "data": {
      "image/png": "[encoded data removed]",
      "text/plain": [
       "<Figure size 720x720 with 1 Axes>"
      ]
     },
     "metadata": {},
     "output_type": "display_data"
    }
   ],
   "source": [
    "metric_to_plot = \"loss\"\n",
    "plt.plot(history.epoch, history.history[metric_to_plot], \".:\", label=\"loss\")\n",
    "plt.plot(history.epoch, history.history[\"val_\" + metric_to_plot], \".:\", label=\"val_loss\")\n",
    "plt.legend()\n",
    "plt.show()"
   ]
  },
  {
   "cell_type": "code",
   "execution_count": 29,
   "metadata": {
    "colab": {
     "base_uri": "https://localhost:8080/"
    },
    "id": "fHAihJ_bRwHV",
    "outputId": "4d92c8f9-332f-4daf-9511-ceccc4700480"
   },
   "outputs": [
    {
     "name": "stdout",
     "output_type": "stream",
     "text": [
      "Accuracy:  0.9370192307692308\n",
      "Precision:  0.9228982814677195\n",
      "Recall:  0.9539126260201632\n",
      "F1 Score:  0.9381491973559963\n"
     ]
    }
   ],
   "source": [
    "model = keras.models.load_model(best_model_file_name)\n",
    "y_pred = model.predict_classes(X_test)\n",
    "print('Accuracy: ', accuracy_score(y_test, y_pred))\n",
    "print('Precision: ', precision_score(y_test, y_pred))\n",
    "print('Recall: ', recall_score(y_test, y_pred))\n",
    "print('F1 Score: ', f1_score(y_test, y_pred))"
   ]
  },
  {
   "cell_type": "markdown",
   "metadata": {
    "id": "qCcTIjSRaUle"
   },
   "source": [
    "## LSTM model"
   ]
  },
  {
   "cell_type": "code",
   "execution_count": 30,
   "metadata": {
    "colab": {
     "base_uri": "https://localhost:8080/"
    },
    "id": "WDQsLxifaTaf",
    "outputId": "1c0ec49d-0722-442d-bc50-b5797673a34a",
    "scrolled": false
   },
   "outputs": [
    {
     "name": "stdout",
     "output_type": "stream",
     "text": [
      "Model: \"sequential_3\"\n",
      "_________________________________________________________________\n",
      "Layer (type)                 Output Shape              Param #   \n",
      "=================================================================\n",
      "embedding_3 (Embedding)      (None, 40, 300)           76332600  \n",
      "_________________________________________________________________\n",
      "lstm_1 (LSTM)                (None, 100)               160400    \n",
      "_________________________________________________________________\n",
      "dropout_3 (Dropout)          (None, 100)               0         \n",
      "_________________________________________________________________\n",
      "dense_4 (Dense)              (None, 64)                6464      \n",
      "_________________________________________________________________\n",
      "dropout_4 (Dropout)          (None, 64)                0         \n",
      "_________________________________________________________________\n",
      "flatten_2 (Flatten)          (None, 64)                0         \n",
      "_________________________________________________________________\n",
      "dense_5 (Dense)              (None, 1)                 65        \n",
      "=================================================================\n",
      "Total params: 76,499,529\n",
      "Trainable params: 166,929\n",
      "Non-trainable params: 76,332,600\n",
      "_________________________________________________________________\n",
      "None\n",
      "Epoch 1/50\n",
      "520/520 [==============================] - ETA: 0s - loss: 0.2067 - precision_3: 0.8926 - recall_3: 0.9544\n",
      "Epoch 00001: val_loss improved from inf to 0.13453, saving model to best_model_LSTM_with_GloVe.hdf5\n",
      "520/520 [==============================] - 34s 65ms/step - loss: 0.2067 - precision_3: 0.8926 - recall_3: 0.9544 - val_loss: 0.1345 - val_precision_3: 0.9206 - val_recall_3: 0.9794\n",
      "Epoch 2/50\n",
      "520/520 [==============================] - ETA: 0s - loss: 0.1081 - precision_3: 0.9453 - recall_3: 0.9725\n",
      "Epoch 00002: val_loss improved from 0.13453 to 0.10555, saving model to best_model_LSTM_with_GloVe.hdf5\n",
      "520/520 [==============================] - 30s 58ms/step - loss: 0.1081 - precision_3: 0.9453 - recall_3: 0.9725 - val_loss: 0.1055 - val_precision_3: 0.9384 - val_recall_3: 0.9866\n",
      "Epoch 3/50\n",
      "520/520 [==============================] - ETA: 0s - loss: 0.0817 - precision_3: 0.9614 - recall_3: 0.9782\n",
      "Epoch 00003: val_loss improved from 0.10555 to 0.09538, saving model to best_model_LSTM_with_GloVe.hdf5\n",
      "520/520 [==============================] - 33s 63ms/step - loss: 0.0817 - precision_3: 0.9614 - recall_3: 0.9782 - val_loss: 0.0954 - val_precision_3: 0.9571 - val_recall_3: 0.9741\n",
      "Epoch 4/50\n",
      "520/520 [==============================] - ETA: 0s - loss: 0.0611 - precision_3: 0.9737 - recall_3: 0.9819\n",
      "Epoch 00004: val_loss did not improve from 0.09538\n",
      "520/520 [==============================] - 30s 58ms/step - loss: 0.0611 - precision_3: 0.9737 - recall_3: 0.9819 - val_loss: 0.1063 - val_precision_3: 0.9673 - val_recall_3: 0.9530\n",
      "Epoch 5/50\n",
      "520/520 [==============================] - ETA: 0s - loss: 0.0465 - precision_3: 0.9807 - recall_3: 0.9858\n",
      "Epoch 00005: val_loss did not improve from 0.09538\n",
      "520/520 [==============================] - 30s 59ms/step - loss: 0.0465 - precision_3: 0.9807 - recall_3: 0.9858 - val_loss: 0.1045 - val_precision_3: 0.9658 - val_recall_3: 0.9630\n",
      "Epoch 6/50\n",
      "520/520 [==============================] - ETA: 0s - loss: 0.0329 - precision_3: 0.9865 - recall_3: 0.9894\n",
      "Epoch 00006: val_loss did not improve from 0.09538\n",
      "520/520 [==============================] - 29s 56ms/step - loss: 0.0329 - precision_3: 0.9865 - recall_3: 0.9894 - val_loss: 0.1297 - val_precision_3: 0.9671 - val_recall_3: 0.9582\n",
      "Epoch 7/50\n",
      "520/520 [==============================] - ETA: 0s - loss: 0.0243 - precision_3: 0.9916 - recall_3: 0.9924\n",
      "Epoch 00007: val_loss did not improve from 0.09538\n",
      "520/520 [==============================] - 29s 57ms/step - loss: 0.0243 - precision_3: 0.9916 - recall_3: 0.9924 - val_loss: 0.1479 - val_precision_3: 0.9574 - val_recall_3: 0.9722\n",
      "Epoch 8/50\n",
      "520/520 [==============================] - ETA: 0s - loss: 0.0173 - precision_3: 0.9930 - recall_3: 0.9928\n",
      "Epoch 00008: val_loss did not improve from 0.09538\n",
      "520/520 [==============================] - 29s 57ms/step - loss: 0.0173 - precision_3: 0.9930 - recall_3: 0.9928 - val_loss: 0.1385 - val_precision_3: 0.9630 - val_recall_3: 0.9621\n",
      "Epoch 9/50\n",
      "519/520 [============================>.] - ETA: 0s - loss: 0.0144 - precision_3: 0.9945 - recall_3: 0.9952\n",
      "Epoch 00009: val_loss did not improve from 0.09538\n",
      "520/520 [==============================] - 30s 57ms/step - loss: 0.0144 - precision_3: 0.9945 - recall_3: 0.9952 - val_loss: 0.1524 - val_precision_3: 0.9672 - val_recall_3: 0.9616\n",
      "Epoch 10/50\n",
      "520/520 [==============================] - ETA: 0s - loss: 0.0101 - precision_3: 0.9968 - recall_3: 0.9969\n",
      "Epoch 00010: val_loss did not improve from 0.09538\n",
      "520/520 [==============================] - 29s 56ms/step - loss: 0.0101 - precision_3: 0.9968 - recall_3: 0.9969 - val_loss: 0.1637 - val_precision_3: 0.9624 - val_recall_3: 0.9698\n",
      "Epoch 11/50\n",
      "520/520 [==============================] - ETA: 0s - loss: 0.0101 - precision_3: 0.9970 - recall_3: 0.9959\n",
      "Epoch 00011: val_loss did not improve from 0.09538\n",
      "520/520 [==============================] - 29s 57ms/step - loss: 0.0101 - precision_3: 0.9970 - recall_3: 0.9959 - val_loss: 0.1979 - val_precision_3: 0.9615 - val_recall_3: 0.9702\n",
      "Epoch 12/50\n",
      "520/520 [==============================] - ETA: 0s - loss: 0.0095 - precision_3: 0.9977 - recall_3: 0.9969\n",
      "Epoch 00012: val_loss did not improve from 0.09538\n",
      "520/520 [==============================] - 29s 57ms/step - loss: 0.0095 - precision_3: 0.9977 - recall_3: 0.9969 - val_loss: 0.2007 - val_precision_3: 0.9621 - val_recall_3: 0.9750\n",
      "Epoch 13/50\n",
      "520/520 [==============================] - ETA: 0s - loss: 0.0054 - precision_3: 0.9982 - recall_3: 0.9983\n",
      "Epoch 00013: val_loss did not improve from 0.09538\n",
      "520/520 [==============================] - 29s 57ms/step - loss: 0.0054 - precision_3: 0.9982 - recall_3: 0.9983 - val_loss: 0.2057 - val_precision_3: 0.9717 - val_recall_3: 0.9549\n",
      "Epoch 14/50\n",
      "520/520 [==============================] - ETA: 0s - loss: 0.0048 - precision_3: 0.9987 - recall_3: 0.9989\n",
      "Epoch 00014: val_loss did not improve from 0.09538\n",
      "520/520 [==============================] - 29s 57ms/step - loss: 0.0048 - precision_3: 0.9987 - recall_3: 0.9989 - val_loss: 0.1988 - val_precision_3: 0.9672 - val_recall_3: 0.9640\n",
      "Epoch 15/50\n",
      "520/520 [==============================] - ETA: 0s - loss: 0.0036 - precision_3: 0.9987 - recall_3: 0.9987\n",
      "Epoch 00015: val_loss did not improve from 0.09538\n",
      "520/520 [==============================] - 30s 57ms/step - loss: 0.0036 - precision_3: 0.9987 - recall_3: 0.9987 - val_loss: 0.2462 - val_precision_3: 0.9459 - val_recall_3: 0.9822\n",
      "Epoch 16/50\n",
      "520/520 [==============================] - ETA: 0s - loss: 0.0102 - precision_3: 0.9958 - recall_3: 0.9971\n",
      "Epoch 00016: val_loss did not improve from 0.09538\n",
      "520/520 [==============================] - 30s 57ms/step - loss: 0.0102 - precision_3: 0.9958 - recall_3: 0.9971 - val_loss: 0.1987 - val_precision_3: 0.9580 - val_recall_3: 0.9736\n",
      "Epoch 17/50\n",
      "519/520 [============================>.] - ETA: 0s - loss: 0.0017 - precision_3: 0.9994 - recall_3: 0.9993 ETA: 1s - loss: 0.001\n",
      "Epoch 00017: val_loss did not improve from 0.09538\n",
      "520/520 [==============================] - 30s 58ms/step - loss: 0.0017 - precision_3: 0.9994 - recall_3: 0.9993 - val_loss: 0.2645 - val_precision_3: 0.9541 - val_recall_3: 0.9784\n",
      "Epoch 18/50\n",
      "520/520 [==============================] - ETA: 0s - loss: 0.0044 - precision_3: 0.9988 - recall_3: 0.9990Restoring model weights from the end of the best epoch.\n",
      "\n",
      "Epoch 00018: val_loss did not improve from 0.09538\n",
      "520/520 [==============================] - 30s 58ms/step - loss: 0.0044 - precision_3: 0.9988 - recall_3: 0.9990 - val_loss: 0.2151 - val_precision_3: 0.9620 - val_recall_3: 0.9712\n",
      "Epoch 00018: early stopping\n"
     ]
    }
   ],
   "source": [
    "best_model_file_name = \"models/best_model_LSTM_with_GloVe.hdf5\"\n",
    "\n",
    "def get_simple_GloVe_model():\n",
    "    model = Sequential()\n",
    "    model.add(Embedding(vocab_size, \n",
    "                        300, \n",
    "                        weights=[embedding_matrix], \n",
    "                        input_length=max_length,\n",
    "                        trainable=False))\n",
    "    model.add(LSTM(100))\n",
    "    model.add(Dropout(0.3))\n",
    "    model.add(Dense(64, activation='relu'))\n",
    "    model.add(Dropout(0.3))\n",
    "    model.add(Flatten())\n",
    "    model.add(Dense(1, activation='sigmoid'))\n",
    "    return model\n",
    "\n",
    "callbacks=[\n",
    "    keras.callbacks.EarlyStopping(monitor=\"val_loss\", \n",
    "                                  patience=15, \n",
    "                                  verbose=1, \n",
    "                                  mode=\"min\", \n",
    "                                  restore_best_weights=True),\n",
    "    keras.callbacks.ModelCheckpoint(filepath=best_model_file_name, \n",
    "                                    verbose=1, \n",
    "                                    save_best_only=True)\n",
    "]\n",
    "\n",
    "model = get_simple_GloVe_model()\n",
    "print(model.summary())\n",
    "\n",
    "model.compile(loss='binary_crossentropy',\n",
    "              optimizer='adam', \n",
    "              metrics=[tf.keras.metrics.Precision(), tf.keras.metrics.Recall()])\n",
    "\n",
    "history = model.fit(X_train, \n",
    "                    y_train, \n",
    "                    epochs=50, \n",
    "                    validation_data=(X_test, y_test), \n",
    "                    callbacks=callbacks)"
   ]
  },
  {
   "cell_type": "code",
   "execution_count": 31,
   "metadata": {
    "colab": {
     "base_uri": "https://localhost:8080/",
     "height": 594
    },
    "id": "xabw9tFoaTag",
    "outputId": "63565f53-031c-452f-d055-d9448a7966e6"
   },
   "outputs": [
    {
     "data": {
      "image/png": "[encoded data removed]",
      "text/plain": [
       "<Figure size 720x720 with 1 Axes>"
      ]
     },
     "metadata": {},
     "output_type": "display_data"
    }
   ],
   "source": [
    "metric_to_plot = \"loss\"\n",
    "plt.plot(history.epoch, history.history[metric_to_plot], \".:\", label=\"loss\")\n",
    "plt.plot(history.epoch, history.history[\"val_\" + metric_to_plot], \".:\", label=\"val_loss\")\n",
    "plt.legend()\n",
    "plt.show()"
   ]
  },
  {
   "cell_type": "code",
   "execution_count": 32,
   "metadata": {
    "colab": {
     "base_uri": "https://localhost:8080/"
    },
    "id": "w_-95-tWaTai",
    "outputId": "d8d56376-3231-4012-90a8-a2d13767dde7"
   },
   "outputs": [
    {
     "name": "stdout",
     "output_type": "stream",
     "text": [
      "Accuracy:  0.9651442307692307\n",
      "Precision:  0.9570754716981132\n",
      "Recall:  0.9740758521363418\n",
      "F1 Score:  0.9655008327385202\n"
     ]
    }
   ],
   "source": [
    "model = keras.models.load_model(best_model_file_name)\n",
    "y_pred = model.predict_classes(X_test)\n",
    "print('Accuracy: ', accuracy_score(y_test, y_pred))\n",
    "print('Precision: ', precision_score(y_test, y_pred))\n",
    "print('Recall: ', recall_score(y_test, y_pred))\n",
    "print('F1 Score: ', f1_score(y_test, y_pred))"
   ]
  },
  {
   "cell_type": "markdown",
   "metadata": {
    "id": "QHuT2qw49p5I"
   },
   "source": [
    "# Make Final Kaggle Submission"
   ]
  },
  {
   "cell_type": "code",
   "execution_count": 33,
   "metadata": {
    "id": "cH_EGgmPbYbh"
   },
   "outputs": [],
   "source": [
    "y_pred_test = model.predict_classes(padded_test)"
   ]
  },
  {
   "cell_type": "code",
   "execution_count": 34,
   "metadata": {
    "id": "4Y5KG-GzadOb"
   },
   "outputs": [],
   "source": [
    "submit_predictions_df = pd.DataFrame()\n",
    "submit_predictions_df['id'] = test_df['id']\n",
    "submit_predictions_df['label'] = y_pred_test.astype(int)"
   ]
  },
  {
   "cell_type": "code",
   "execution_count": 35,
   "metadata": {
    "colab": {
     "base_uri": "https://localhost:8080/",
     "height": 627
    },
    "id": "mr7Q4WgHsnxi",
    "outputId": "7437201b-3388-4edb-9f37-3c5d593a3fbe"
   },
   "outputs": [
    {
     "data": {
      "image/png": "[encoded data removed]",
      "text/plain": [
       "<Figure size 720x720 with 1 Axes>"
      ]
     },
     "metadata": {},
     "output_type": "display_data"
    }
   ],
   "source": [
    "sns.countplot(submit_predictions_df['label'])\n",
    "plt.title(\"Count of Genuine and Fake News of the Test Data\")\n",
    "plt.show()"
   ]
  },
  {
   "cell_type": "code",
   "execution_count": 37,
   "metadata": {
    "id": "uBBySUC1bEJ1"
   },
   "outputs": [],
   "source": [
    "submit_predictions_df.to_csv('kaggle_submissions/submit_glove_lstm.csv',index=False)"
   ]
  },
  {
   "cell_type": "markdown",
   "metadata": {},
   "source": [
    "Finally, uploaded my submission on Kaggle and checked the result."
   ]
  },
  {
   "attachments": {
    "Kaggle%20Submission_2_DL.PNG": {
     "image/png": "[encoded data removed]"
    }
   },
   "cell_type": "markdown",
   "metadata": {
    "id": "M528nyP-4LDK"
   },
   "source": [
    "![Kaggle%20Submission_2_DL.PNG](attachment:Kaggle%20Submission_2_DL.PNG)"
   ]
  },
  {
   "cell_type": "markdown",
   "metadata": {},
   "source": [
    "Thanks for visiting!"
   ]
  }
 ],
 "metadata": {
  "accelerator": "GPU",
  "colab": {
   "collapsed_sections": [],
   "name": "Predicting_Fake_News_using_Keras.ipynb",
   "provenance": [],
   "toc_visible": true
  },
  "kernelspec": {
   "display_name": "Python 3",
   "language": "python",
   "name": "python3"
  },
  "language_info": {
   "codemirror_mode": {
    "name": "ipython",
    "version": 3
   },
   "file_extension": ".py",
   "mimetype": "text/x-python",
   "name": "python",
   "nbconvert_exporter": "python",
   "pygments_lexer": "ipython3",
   "version": "3.8.3"
  },
  "toc": {
   "base_numbering": 1,
   "nav_menu": {},
   "number_sections": true,
   "sideBar": true,
   "skip_h1_title": false,
   "title_cell": "Table of Contents",
   "title_sidebar": "Contents",
   "toc_cell": false,
   "toc_position": {},
   "toc_section_display": true,
   "toc_window_display": true
  },
  "varInspector": {
   "cols": {
    "lenName": 16,
    "lenType": 16,
    "lenVar": 40
   },
   "kernels_config": {
    "python": {
     "delete_cmd_postfix": "",
     "delete_cmd_prefix": "del ",
     "library": "var_list.py",
     "varRefreshCmd": "print(var_dic_list())"
    },
    "r": {
     "delete_cmd_postfix": ") ",
     "delete_cmd_prefix": "rm(",
     "library": "var_list.r",
     "varRefreshCmd": "cat(var_dic_list()) "
    }
   },
   "types_to_exclude": [
    "module",
    "function",
    "builtin_function_or_method",
    "instance",
    "_Feature"
   ],
   "window_display": false
  }
 },
 "nbformat": 4,
 "nbformat_minor": 1
}
