{
 "cells": [
  {
   "cell_type": "markdown",
   "metadata": {
    "id": "qrdloi0tf-UV"
   },
   "source": [
    "# Getting Started"
   ]
  },
  {
   "cell_type": "code",
   "execution_count": 1,
   "metadata": {
    "colab": {
     "base_uri": "https://localhost:8080/"
    },
    "id": "vgKBIqAWNc8u",
    "outputId": "c8f34397-f9e7-476a-d7c6-679c5cb66798"
   },
   "outputs": [],
   "source": [
    "# # Upload Kaggle json\n",
    "\n",
    "# !pip install -q kaggle\n",
    "# !pip install -q kaggle-cli\n",
    "# !mkdir -p ~/.kaggle\n",
    "# !cp \"/content/drive/My Drive/Kaggle/kaggle.json\" ~/.kaggle/ # Mount GDrive\n",
    "# !cat ~/.kaggle/kaggle.json \n",
    "# !chmod 600 ~/.kaggle/kaggle.json\n",
    "# !kaggle competitions download -c fake-news -p dataset\n",
    "# !unzip /content/dataset/train.csv.zip\n",
    "# !unzip /content/dataset/test.csv.zip"
   ]
  },
  {
   "cell_type": "code",
   "execution_count": 2,
   "metadata": {
    "colab": {
     "base_uri": "https://localhost:8080/"
    },
    "id": "CYBAcN3JOmkI",
    "outputId": "129a2f6a-0886-4f01-e5f0-e01b1eb2d3e2"
   },
   "outputs": [],
   "source": [
    "import pandas as pd\n",
    "import numpy as np\n",
    "import re\n",
    "\n",
    "import matplotlib.pyplot as plt\n",
    "from matplotlib import rcParams\n",
    "plt.rcParams['figure.figsize'] = [10,10]\n",
    "import seaborn as sns\n",
    "sns.set_theme(style=\"darkgrid\")\n",
    "from wordcloud import WordCloud\n",
    "\n",
    "import nltk\n",
    "from nltk import sent_tokenize\n",
    "# nltk.download('punkt')\n",
    "# nltk.download('averaged_perceptron_tagger')\n",
    "# nltk.download('stopwords')\n",
    "from nltk.corpus import stopwords\n",
    "stopwords = nltk.corpus.stopwords.words('english')\n",
    "from nltk.tokenize import word_tokenize\n",
    "import contractions\n",
    "import string\n",
    "\n",
    "import warnings\n",
    "warnings.filterwarnings('ignore')\n",
    "\n",
    "from sklearn.model_selection import train_test_split\n",
    "from sklearn.metrics import precision_score, recall_score, f1_score, accuracy_score\n",
    "\n",
    "import tensorflow as tf\n",
    "import tensorflow.keras as keras\n",
    "from tensorflow.keras.preprocessing.text import Tokenizer\n",
    "from tensorflow.keras.preprocessing.sequence import pad_sequences\n",
    "from tensorflow.keras.models import Sequential\n",
    "from tensorflow.keras.layers import LSTM\n",
    "from tensorflow.keras.layers import Dense\n",
    "from tensorflow.keras.layers import Dropout\n",
    "from tensorflow.keras.layers import Embedding"
   ]
  },
  {
   "cell_type": "code",
   "execution_count": 3,
   "metadata": {
    "id": "Thtim9SaOmpW"
   },
   "outputs": [],
   "source": [
    "# train_df = pd.read_csv('/content/train.csv', header=0)\n",
    "# test_df = pd.read_csv('/content/test.csv', header=0)\n",
    "\n",
    "train_df = pd.read_csv('fake-news/train.csv', header=0)\n",
    "test_df = pd.read_csv('fake-news/test.csv', header=0)"
   ]
  },
  {
   "cell_type": "code",
   "execution_count": 4,
   "metadata": {
    "colab": {
     "base_uri": "https://localhost:8080/"
    },
    "id": "QtlE2tgeK9TZ",
    "outputId": "64aa10f9-d3aa-4cb5-e41d-6fa89a8566c4"
   },
   "outputs": [
    {
     "name": "stdout",
     "output_type": "stream",
     "text": [
      "116\n"
     ]
    }
   ],
   "source": [
    "train_df = train_df.fillna(' ')\n",
    "test_df = test_df.fillna(' ')\n",
    "\n",
    "train_df['text'] = train_df['text'].str.strip()\n",
    "test_df['text'] = test_df['text'].str.strip()\n",
    "\n",
    "train_df['raw_text_length'] = train_df['text'].apply(lambda x: len(x))\n",
    "print(len(train_df[train_df['raw_text_length']==0]))"
   ]
  },
  {
   "cell_type": "code",
   "execution_count": 5,
   "metadata": {
    "colab": {
     "base_uri": "https://localhost:8080/"
    },
    "id": "1frVhmo8L0Lk",
    "outputId": "154cdd2f-7afa-410f-cb4a-fe9284bac7d4"
   },
   "outputs": [
    {
     "data": {
      "text/plain": [
       "(20684, 6)"
      ]
     },
     "execution_count": 5,
     "metadata": {},
     "output_type": "execute_result"
    }
   ],
   "source": [
    "train_df = train_df[train_df['raw_text_length'] > 0]\n",
    "train_df.shape"
   ]
  },
  {
   "cell_type": "code",
   "execution_count": 6,
   "metadata": {
    "id": "cZ0vgCArkSMr"
   },
   "outputs": [],
   "source": [
    "def preprocess_text(x):\n",
    "    try:\n",
    "        cleaned_text = re.sub(r'[^a-zA-Z\\d\\s\\']+', '', x)\n",
    "        word_list = []\n",
    "        for each_word in cleaned_text.split(' '):\n",
    "            word_list.append(contractions.fix(each_word).lower())\n",
    "    except:\n",
    "        print(x)\n",
    "    return \" \".join(word_list)"
   ]
  },
  {
   "cell_type": "code",
   "execution_count": 7,
   "metadata": {
    "id": "UzyElDkakeoE"
   },
   "outputs": [],
   "source": [
    "text_cols = ['text', 'title', 'author']"
   ]
  },
  {
   "cell_type": "code",
   "execution_count": 8,
   "metadata": {
    "colab": {
     "base_uri": "https://localhost:8080/"
    },
    "id": "h7tWp8Awl6LZ",
    "outputId": "151d87f2-5490-485a-ce54-d38e6c47c6a7"
   },
   "outputs": [
    {
     "name": "stdout",
     "output_type": "stream",
     "text": [
      "Processing column: text\n",
      "Processing train data... \n",
      "Processing test data... \n",
      "Processing column: title\n",
      "Processing train data... \n",
      "Processing test data... \n",
      "Processing column: author\n",
      "Processing train data... \n",
      "Processing test data... \n",
      "Wall time: 2min 12s\n"
     ]
    }
   ],
   "source": [
    "%%time\n",
    "for col in text_cols:\n",
    "    print(\"Processing column: {}\".format(col))\n",
    "    print(\"Processing train data... \")\n",
    "    train_df[col] = train_df[col].apply(lambda x: preprocess_text(x))\n",
    "    print(\"Processing test data... \")\n",
    "    test_df[col] = test_df[col].apply(lambda x: preprocess_text(x))"
   ]
  },
  {
   "cell_type": "code",
   "execution_count": 9,
   "metadata": {
    "colab": {
     "base_uri": "https://localhost:8080/"
    },
    "id": "0MFupIrYikkB",
    "outputId": "881ad563-33f9-40d3-bd21-91b8654e7cd7"
   },
   "outputs": [
    {
     "name": "stdout",
     "output_type": "stream",
     "text": [
      "Processing column: text\n",
      "Processing train data... \n",
      "Processing test data... \n",
      "Processing column: title\n",
      "Processing train data... \n",
      "Processing test data... \n",
      "Processing column: author\n",
      "Processing train data... \n",
      "Processing test data... \n",
      "Wall time: 2min 20s\n"
     ]
    }
   ],
   "source": [
    "%%time\n",
    "for col in text_cols:\n",
    "    print(\"Processing column: {}\".format(col))\n",
    "    print(\"Processing train data... \")\n",
    "    train_df[col] = train_df[col].apply(word_tokenize)\n",
    "    print(\"Processing test data... \")\n",
    "    test_df[col] = test_df[col].apply(word_tokenize)"
   ]
  },
  {
   "cell_type": "code",
   "execution_count": 10,
   "metadata": {
    "colab": {
     "base_uri": "https://localhost:8080/"
    },
    "id": "lpREdIrlikpT",
    "outputId": "9d59b3ec-b108-41a9-935e-dde979ed66ca"
   },
   "outputs": [
    {
     "name": "stdout",
     "output_type": "stream",
     "text": [
      "Processing column: text\n",
      "Processing train data... \n",
      "Processing test data... \n",
      "Processing column: title\n",
      "Processing train data... \n",
      "Processing test data... \n",
      "Processing column: author\n",
      "Processing train data... \n",
      "Processing test data... \n",
      "Wall time: 1min 3s\n"
     ]
    }
   ],
   "source": [
    "%%time\n",
    "for col in text_cols:\n",
    "  print(\"Processing column: {}\".format(col))\n",
    "  print(\"Processing train data... \")\n",
    "  train_df[col] = train_df[col].apply(lambda x: [each_word for each_word in x if each_word not in stopwords])\n",
    "  print(\"Processing test data... \")\n",
    "  test_df[col] = test_df[col].apply(lambda x: [each_word for each_word in x if each_word not in stopwords])"
   ]
  },
  {
   "cell_type": "code",
   "execution_count": 11,
   "metadata": {
    "colab": {
     "base_uri": "https://localhost:8080/"
    },
    "id": "x3smbWP0btIf",
    "outputId": "d4d03c6d-e742-46f1-876d-9f83916edeea"
   },
   "outputs": [
    {
     "name": "stdout",
     "output_type": "stream",
     "text": [
      "Processing train data... \n",
      "Processing test data... \n"
     ]
    }
   ],
   "source": [
    "print(\"Processing train data... \")\n",
    "train_df['all_info'] = train_df['text'] + train_df['title'] + train_df['author'] \n",
    "train_df['all_info'] = train_df['all_info'].apply(lambda x: \" \".join(x))\n",
    "print(\"Processing test data... \")\n",
    "test_df['all_info'] = test_df['text'] + test_df['title'] + test_df['author'] \n",
    "test_df['all_info'] = test_df['all_info'].apply(lambda x: \" \".join(x))"
   ]
  },
  {
   "cell_type": "code",
   "execution_count": 12,
   "metadata": {
    "id": "3LtCO-hxqAaz"
   },
   "outputs": [],
   "source": [
    "all_text_train = train_df[\"all_info\"].astype(str).tolist()\n",
    "all_text_test = test_df[\"all_info\"].astype(str).tolist()"
   ]
  },
  {
   "cell_type": "code",
   "execution_count": 13,
   "metadata": {
    "id": "IhIV-uCvCeBJ"
   },
   "outputs": [],
   "source": [
    "target = train_df['label'].values"
   ]
  },
  {
   "cell_type": "code",
   "execution_count": 14,
   "metadata": {
    "colab": {
     "base_uri": "https://localhost:8080/"
    },
    "id": "iw7qydwRiSML",
    "outputId": "c75006fc-b468-44df-8506-012dd1699cab"
   },
   "outputs": [
    {
     "data": {
      "text/plain": [
       "189820"
      ]
     },
     "execution_count": 14,
     "metadata": {},
     "output_type": "execute_result"
    }
   ],
   "source": [
    "tokenizer = Tokenizer(oov_token = \"<OOV>\", num_words=6000)\n",
    "tokenizer.fit_on_texts(all_text_train)\n",
    "word_index = tokenizer.word_index\n",
    "len(word_index)"
   ]
  },
  {
   "cell_type": "code",
   "execution_count": 15,
   "metadata": {
    "id": "wPrbUDumiSS6"
   },
   "outputs": [],
   "source": [
    "sequences_train = tokenizer.texts_to_sequences(all_text_train)\n",
    "padded_train = pad_sequences(sequences_train, padding = 'post', maxlen=6000)\n",
    "\n",
    "sequences_test = tokenizer.texts_to_sequences(all_text_test)\n",
    "padded_test = pad_sequences(sequences_test, padding = 'post', maxlen=6000)"
   ]
  },
  {
   "cell_type": "code",
   "execution_count": null,
   "metadata": {
    "colab": {
     "base_uri": "https://localhost:8080/"
    },
    "id": "lS6RnrrkiSXZ",
    "outputId": "84af4024-5123-486e-d5b7-ddb261760502"
   },
   "outputs": [
    {
     "name": "stdout",
     "output_type": "stream",
     "text": [
      "Model: \"sequential_2\"\n",
      "_________________________________________________________________\n",
      "Layer (type)                 Output Shape              Param #   \n",
      "=================================================================\n",
      "embedding_2 (Embedding)      (None, 6000, 300)         1800000   \n",
      "_________________________________________________________________\n",
      "dropout_6 (Dropout)          (None, 6000, 300)         0         \n",
      "_________________________________________________________________\n",
      "lstm_2 (LSTM)                (None, 200)               400800    \n",
      "_________________________________________________________________\n",
      "dropout_7 (Dropout)          (None, 200)               0         \n",
      "_________________________________________________________________\n",
      "dense_4 (Dense)              (None, 64)                12864     \n",
      "_________________________________________________________________\n",
      "dropout_8 (Dropout)          (None, 64)                0         \n",
      "_________________________________________________________________\n",
      "dense_5 (Dense)              (None, 1)                 65        \n",
      "=================================================================\n",
      "Total params: 2,213,729\n",
      "Trainable params: 2,213,729\n",
      "Non-trainable params: 0\n",
      "_________________________________________________________________\n"
     ]
    }
   ],
   "source": [
    "def get_model():\n",
    "  model=Sequential()\n",
    "  model.add(Embedding(6000, 300 ,input_length=6000))\n",
    "  model.add(Dropout(0.3))\n",
    "  model.add(LSTM(200))\n",
    "  model.add(Dropout(0.3))\n",
    "  model.add(Dense(64,activation='relu'))\n",
    "  model.add(Dropout(0.3))\n",
    "  model.add(Dense(1,activation='sigmoid'))\n",
    "  return model\n",
    "\n",
    "model = get_model()\n",
    "model.summary()"
   ]
  },
  {
   "cell_type": "code",
   "execution_count": null,
   "metadata": {
    "id": "HOMe15iMiSVk"
   },
   "outputs": [],
   "source": [
    "X_train, X_test, y_train, y_test = train_test_split(padded_train, target, test_size=0.2)"
   ]
  },
  {
   "cell_type": "code",
   "execution_count": null,
   "metadata": {
    "id": "M_rBhLiwiSRy"
   },
   "outputs": [],
   "source": [
    "callbacks=[\n",
    "    keras.callbacks.EarlyStopping(monitor=\"val_loss\", patience=15, \n",
    "                                  verbose=1, mode=\"min\", restore_best_weights=True),\n",
    "    keras.callbacks.ModelCheckpoint(filepath=\"best_model.hdf5\", verbose=1, save_best_only=True)\n",
    "]"
   ]
  },
  {
   "cell_type": "code",
   "execution_count": null,
   "metadata": {
    "id": "31ofUO6biSO4"
   },
   "outputs": [],
   "source": [
    "model = get_model()\n",
    "model.compile(loss='binary_crossentropy',optimizer='adam',metrics=['accuracy'])"
   ]
  },
  {
   "cell_type": "code",
   "execution_count": null,
   "metadata": {
    "colab": {
     "base_uri": "https://localhost:8080/"
    },
    "id": "AggtZp00soXb",
    "outputId": "1e3eb14c-2244-4d4e-ddec-459c7867aff7"
   },
   "outputs": [
    {
     "name": "stdout",
     "output_type": "stream",
     "text": [
      "Epoch 1/20\n",
      "259/259 [==============================] - 197s 754ms/step - loss: 0.6956 - accuracy: 0.4890 - val_loss: 0.6936 - val_accuracy: 0.4977\n",
      "\n",
      "Epoch 00001: val_loss improved from inf to 0.69358, saving model to best_model.hdf5\n",
      "Epoch 2/20\n",
      "259/259 [==============================] - 198s 764ms/step - loss: 0.6936 - accuracy: 0.5102 - val_loss: 0.6937 - val_accuracy: 0.4977\n",
      "\n",
      "Epoch 00002: val_loss did not improve from 0.69358\n",
      "Epoch 3/20\n",
      "259/259 [==============================] - 198s 766ms/step - loss: 0.6938 - accuracy: 0.4934 - val_loss: 0.6935 - val_accuracy: 0.5028\n",
      "\n",
      "Epoch 00003: val_loss improved from 0.69358 to 0.69353, saving model to best_model.hdf5\n",
      "Epoch 4/20\n",
      "259/259 [==============================] - 198s 766ms/step - loss: 0.6935 - accuracy: 0.4985 - val_loss: 0.6931 - val_accuracy: 0.5028\n",
      "\n",
      "Epoch 00004: val_loss improved from 0.69353 to 0.69313, saving model to best_model.hdf5\n",
      "Epoch 5/20\n",
      "259/259 [==============================] - 198s 766ms/step - loss: 0.6933 - accuracy: 0.4967 - val_loss: 0.6933 - val_accuracy: 0.5028\n",
      "\n",
      "Epoch 00005: val_loss did not improve from 0.69313\n",
      "Epoch 6/20\n",
      "259/259 [==============================] - 198s 765ms/step - loss: 0.6934 - accuracy: 0.4974 - val_loss: 0.6930 - val_accuracy: 0.5030\n",
      "\n",
      "Epoch 00006: val_loss improved from 0.69313 to 0.69301, saving model to best_model.hdf5\n",
      "Epoch 7/20\n",
      "259/259 [==============================] - 198s 766ms/step - loss: 0.6991 - accuracy: 0.4915 - val_loss: 0.6937 - val_accuracy: 0.5023\n",
      "\n",
      "Epoch 00007: val_loss did not improve from 0.69301\n",
      "Epoch 8/20\n",
      "259/259 [==============================] - 197s 762ms/step - loss: 0.6936 - accuracy: 0.5018 - val_loss: 0.6933 - val_accuracy: 0.5023\n",
      "\n",
      "Epoch 00008: val_loss did not improve from 0.69301\n",
      "Epoch 9/20\n",
      "259/259 [==============================] - 198s 764ms/step - loss: 0.6929 - accuracy: 0.5078 - val_loss: 0.6934 - val_accuracy: 0.5023\n",
      "\n",
      "Epoch 00009: val_loss did not improve from 0.69301\n",
      "Epoch 10/20\n",
      "259/259 [==============================] - 199s 769ms/step - loss: 0.6930 - accuracy: 0.5035 - val_loss: 0.6934 - val_accuracy: 0.5023\n",
      "\n",
      "Epoch 00010: val_loss did not improve from 0.69301\n",
      "Epoch 11/20\n",
      "259/259 [==============================] - 199s 768ms/step - loss: 0.6930 - accuracy: 0.5036 - val_loss: 0.6933 - val_accuracy: 0.5023\n",
      "\n",
      "Epoch 00011: val_loss did not improve from 0.69301\n",
      "Epoch 12/20\n",
      "259/259 [==============================] - 199s 768ms/step - loss: 0.6930 - accuracy: 0.5052 - val_loss: 0.6934 - val_accuracy: 0.5023\n",
      "\n",
      "Epoch 00012: val_loss did not improve from 0.69301\n",
      "Epoch 13/20\n",
      "259/259 [==============================] - 199s 769ms/step - loss: 0.6929 - accuracy: 0.5083 - val_loss: 0.6934 - val_accuracy: 0.5023\n",
      "\n",
      "Epoch 00013: val_loss did not improve from 0.69301\n",
      "Epoch 14/20\n",
      "259/259 [==============================] - 198s 765ms/step - loss: 0.6930 - accuracy: 0.4983 - val_loss: 0.6934 - val_accuracy: 0.5023\n",
      "\n",
      "Epoch 00014: val_loss did not improve from 0.69301\n",
      "Epoch 15/20\n",
      "259/259 [==============================] - 199s 769ms/step - loss: 0.6928 - accuracy: 0.5029 - val_loss: 0.6933 - val_accuracy: 0.5023\n",
      "\n",
      "Epoch 00015: val_loss did not improve from 0.69301\n",
      "Epoch 16/20\n",
      "259/259 [==============================] - 199s 770ms/step - loss: 0.6932 - accuracy: 0.5033 - val_loss: 0.6934 - val_accuracy: 0.5023\n",
      "\n",
      "Epoch 00016: val_loss did not improve from 0.69301\n",
      "Epoch 17/20\n",
      "259/259 [==============================] - 198s 765ms/step - loss: 0.6930 - accuracy: 0.5063 - val_loss: 0.6934 - val_accuracy: 0.5023\n",
      "\n",
      "Epoch 00017: val_loss did not improve from 0.69301\n",
      "Epoch 18/20\n",
      "259/259 [==============================] - 198s 763ms/step - loss: 0.6927 - accuracy: 0.5049 - val_loss: 0.6934 - val_accuracy: 0.5023\n",
      "\n",
      "Epoch 00018: val_loss did not improve from 0.69301\n",
      "Epoch 19/20\n",
      "259/259 [==============================] - 198s 763ms/step - loss: 0.6930 - accuracy: 0.4994 - val_loss: 0.6934 - val_accuracy: 0.5023\n",
      "\n",
      "Epoch 00019: val_loss did not improve from 0.69301\n",
      "Epoch 20/20\n",
      "259/259 [==============================] - 197s 760ms/step - loss: 0.6929 - accuracy: 0.5037 - val_loss: 0.6933 - val_accuracy: 0.5023\n",
      "\n",
      "Epoch 00020: val_loss did not improve from 0.69301\n",
      "CPU times: user 48min 6s, sys: 7min 38s, total: 55min 44s\n",
      "Wall time: 1h 6min 4s\n"
     ]
    }
   ],
   "source": [
    "%%time\n",
    "history = model.fit(X_train, \n",
    "                    y_train, \n",
    "                    epochs=20,\n",
    "                    batch_size=64, \n",
    "                    validation_data=(X_test, y_test), \n",
    "                    callbacks=callbacks)"
   ]
  },
  {
   "cell_type": "code",
   "execution_count": null,
   "metadata": {
    "colab": {
     "base_uri": "https://localhost:8080/",
     "height": 594
    },
    "id": "m0R_WwTSiSHX",
    "outputId": "4d69773c-f780-4dc8-b8d5-11988cfb320f"
   },
   "outputs": [
    {
     "data": {
      "image/png": "[encoded data removed]",
      "text/plain": [
       "<Figure size 720x720 with 1 Axes>"
      ]
     },
     "metadata": {
      "tags": []
     },
     "output_type": "display_data"
    }
   ],
   "source": [
    "metric_toplot = \"loss\"\n",
    "plt.plot(history.epoch, history.history[metric_toplot], \".:\", label=\"loss\")\n",
    "plt.plot(history.epoch, history.history[\"val_\"+metric_toplot], \".:\", label=\"val_loss\")\n",
    "plt.legend()\n",
    "plt.show()"
   ]
  },
  {
   "cell_type": "code",
   "execution_count": null,
   "metadata": {
    "id": "3IpYPyH-soI6"
   },
   "outputs": [],
   "source": [
    "model = keras.models.load_model('best_model.hdf5')"
   ]
  },
  {
   "cell_type": "code",
   "execution_count": null,
   "metadata": {
    "id": "TSDcImK4bw0v"
   },
   "outputs": [],
   "source": [
    "y_pred = model.predict_classes(X_test)"
   ]
  },
  {
   "cell_type": "code",
   "execution_count": null,
   "metadata": {
    "colab": {
     "base_uri": "https://localhost:8080/"
    },
    "id": "G93AtXOfSGFd",
    "outputId": "526b44a4-e9c7-436a-bc7a-d44b80c9cbad"
   },
   "outputs": [
    {
     "data": {
      "text/plain": [
       "((4137,), (4137, 1))"
      ]
     },
     "execution_count": 44,
     "metadata": {
      "tags": []
     },
     "output_type": "execute_result"
    }
   ],
   "source": [
    "y_test.shape, y_pred.shape"
   ]
  },
  {
   "cell_type": "code",
   "execution_count": null,
   "metadata": {
    "colab": {
     "base_uri": "https://localhost:8080/"
    },
    "id": "2_2Us8-DsoDt",
    "outputId": "41f545ae-f789-44fb-dd8c-c2f00cd175e4"
   },
   "outputs": [
    {
     "data": {
      "text/plain": [
       "1.0"
      ]
     },
     "execution_count": 45,
     "metadata": {
      "tags": []
     },
     "output_type": "execute_result"
    }
   ],
   "source": [
    "precision_score(y_test, y_pred)"
   ]
  },
  {
   "cell_type": "code",
   "execution_count": null,
   "metadata": {
    "colab": {
     "base_uri": "https://localhost:8080/"
    },
    "id": "usiMK0OJsn-i",
    "outputId": "fa11e4ad-b57b-4895-f5a4-a5ba019824d9"
   },
   "outputs": [
    {
     "data": {
      "text/plain": [
       "array([[2078,    0],\n",
       "       [2056,    3]])"
      ]
     },
     "execution_count": 46,
     "metadata": {
      "tags": []
     },
     "output_type": "execute_result"
    }
   ],
   "source": [
    "confusion_matrix(y_test, y_pred)"
   ]
  },
  {
   "cell_type": "code",
   "execution_count": null,
   "metadata": {
    "colab": {
     "base_uri": "https://localhost:8080/"
    },
    "id": "8BTKxitGsn7Z",
    "outputId": "8e08e964-a773-4c77-9dd1-0d2ac1af90d6"
   },
   "outputs": [
    {
     "data": {
      "text/plain": [
       "0.0014570179698882952"
      ]
     },
     "execution_count": 47,
     "metadata": {
      "tags": []
     },
     "output_type": "execute_result"
    }
   ],
   "source": [
    "recall_score(y_test, y_pred)"
   ]
  },
  {
   "cell_type": "code",
   "execution_count": null,
   "metadata": {
    "colab": {
     "base_uri": "https://localhost:8080/",
     "height": 589
    },
    "id": "tPe2fpCLLxaB",
    "outputId": "7e901337-c42f-4bcd-dd83-ae15482ded10"
   },
   "outputs": [
    {
     "data": {
      "text/html": [
       "<div>\n",
       "<style scoped>\n",
       "    .dataframe tbody tr th:only-of-type {\n",
       "        vertical-align: middle;\n",
       "    }\n",
       "\n",
       "    .dataframe tbody tr th {\n",
       "        vertical-align: top;\n",
       "    }\n",
       "\n",
       "    .dataframe thead th {\n",
       "        text-align: right;\n",
       "    }\n",
       "</style>\n",
       "<table border=\"1\" class=\"dataframe\">\n",
       "  <thead>\n",
       "    <tr style=\"text-align: right;\">\n",
       "      <th></th>\n",
       "      <th>id</th>\n",
       "      <th>title</th>\n",
       "      <th>author</th>\n",
       "      <th>text</th>\n",
       "      <th>all_info</th>\n",
       "    </tr>\n",
       "  </thead>\n",
       "  <tbody>\n",
       "    <tr>\n",
       "      <th>0</th>\n",
       "      <td>20800</td>\n",
       "      <td>[specter, trump, loosens, tongues, purse, stri...</td>\n",
       "      <td>[david, streitfeld]</td>\n",
       "      <td>[palo, alto, calif, years, scorning, political...</td>\n",
       "      <td>palo alto calif years scorning political proce...</td>\n",
       "    </tr>\n",
       "    <tr>\n",
       "      <th>1</th>\n",
       "      <td>20801</td>\n",
       "      <td>[russian, warships, ready, strike, terrorists,...</td>\n",
       "      <td>[]</td>\n",
       "      <td>[russian, warships, ready, strike, terrorists,...</td>\n",
       "      <td>russian warships ready strike terrorists near ...</td>\n",
       "    </tr>\n",
       "    <tr>\n",
       "      <th>2</th>\n",
       "      <td>20802</td>\n",
       "      <td>[nodapl, native, american, leaders, vow, stay,...</td>\n",
       "      <td>[common, dreams]</td>\n",
       "      <td>[videos, nodapl, native, american, leaders, vo...</td>\n",
       "      <td>videos nodapl native american leaders vow stay...</td>\n",
       "    </tr>\n",
       "    <tr>\n",
       "      <th>3</th>\n",
       "      <td>20803</td>\n",
       "      <td>[tim, tebow, attempt, another, comeback, time,...</td>\n",
       "      <td>[daniel, victor]</td>\n",
       "      <td>[first, succeed, try, different, sport, tim, t...</td>\n",
       "      <td>first succeed try different sport tim tebow he...</td>\n",
       "    </tr>\n",
       "    <tr>\n",
       "      <th>4</th>\n",
       "      <td>20804</td>\n",
       "      <td>[keiser, report, meme, wars, e995]</td>\n",
       "      <td>[truth, broadcast, network]</td>\n",
       "      <td>[42, mins, ago, 1, views, 0, comments, 0, like...</td>\n",
       "      <td>42 mins ago 1 views 0 comments 0 likes 'for fi...</td>\n",
       "    </tr>\n",
       "    <tr>\n",
       "      <th>...</th>\n",
       "      <td>...</td>\n",
       "      <td>...</td>\n",
       "      <td>...</td>\n",
       "      <td>...</td>\n",
       "      <td>...</td>\n",
       "    </tr>\n",
       "    <tr>\n",
       "      <th>5195</th>\n",
       "      <td>25995</td>\n",
       "      <td>[bangladeshi, traffic, jam, never, ends, new, ...</td>\n",
       "      <td>[jody, rosen]</td>\n",
       "      <td>[dysfunctions, plague, worlds, megacities, non...</td>\n",
       "      <td>dysfunctions plague worlds megacities none may...</td>\n",
       "    </tr>\n",
       "    <tr>\n",
       "      <th>5196</th>\n",
       "      <td>25996</td>\n",
       "      <td>[john, kasich, signs, one, abortion, bill, ohi...</td>\n",
       "      <td>[sheryl, gay, stolberg]</td>\n",
       "      <td>[washington, gov, john, kasich, ohio, tuesday,...</td>\n",
       "      <td>washington gov john kasich ohio tuesday signed...</td>\n",
       "    </tr>\n",
       "    <tr>\n",
       "      <th>5197</th>\n",
       "      <td>25997</td>\n",
       "      <td>[california, today, exactly, sushi, new, york,...</td>\n",
       "      <td>[mike, mcphate]</td>\n",
       "      <td>[good, morning, want, get, california, today, ...</td>\n",
       "      <td>good morning want get california today email j...</td>\n",
       "    </tr>\n",
       "    <tr>\n",
       "      <th>5198</th>\n",
       "      <td>25998</td>\n",
       "      <td>[300, us, marines, deployed, russian, border, ...</td>\n",
       "      <td>[]</td>\n",
       "      <td>[previous, next, 300, us, marines, deployed, r...</td>\n",
       "      <td>previous next 300 us marines deployed russian ...</td>\n",
       "    </tr>\n",
       "    <tr>\n",
       "      <th>5199</th>\n",
       "      <td>25999</td>\n",
       "      <td>[awkward, sex, onscreen, new, york, times]</td>\n",
       "      <td>[teddy, wayne]</td>\n",
       "      <td>[perhaps, seen, new, tv, series, whose, pilot,...</td>\n",
       "      <td>perhaps seen new tv series whose pilot episode...</td>\n",
       "    </tr>\n",
       "  </tbody>\n",
       "</table>\n",
       "<p>5200 rows × 5 columns</p>\n",
       "</div>"
      ],
      "text/plain": [
       "         id  ...                                           all_info\n",
       "0     20800  ...  palo alto calif years scorning political proce...\n",
       "1     20801  ...  russian warships ready strike terrorists near ...\n",
       "2     20802  ...  videos nodapl native american leaders vow stay...\n",
       "3     20803  ...  first succeed try different sport tim tebow he...\n",
       "4     20804  ...  42 mins ago 1 views 0 comments 0 likes 'for fi...\n",
       "...     ...  ...                                                ...\n",
       "5195  25995  ...  dysfunctions plague worlds megacities none may...\n",
       "5196  25996  ...  washington gov john kasich ohio tuesday signed...\n",
       "5197  25997  ...  good morning want get california today email j...\n",
       "5198  25998  ...  previous next 300 us marines deployed russian ...\n",
       "5199  25999  ...  perhaps seen new tv series whose pilot episode...\n",
       "\n",
       "[5200 rows x 5 columns]"
      ]
     },
     "execution_count": 48,
     "metadata": {
      "tags": []
     },
     "output_type": "execute_result"
    }
   ],
   "source": [
    "test_df"
   ]
  },
  {
   "cell_type": "code",
   "execution_count": null,
   "metadata": {
    "id": "cH_EGgmPbYbh"
   },
   "outputs": [],
   "source": [
    "y_pred_test = model.predict_classes(padded_test)"
   ]
  },
  {
   "cell_type": "code",
   "execution_count": null,
   "metadata": {
    "id": "4Y5KG-GzadOb"
   },
   "outputs": [],
   "source": [
    "submit_lstm_predictions_df = pd.DataFrame()\n",
    "submit_lstm_predictions_df['id'] = test_df['id']\n",
    "submit_lstm_predictions_df['label'] = y_pred_test.astype(int)"
   ]
  },
  {
   "cell_type": "code",
   "execution_count": null,
   "metadata": {
    "colab": {
     "base_uri": "https://localhost:8080/",
     "height": 415
    },
    "id": "QHpAxyxWaftg",
    "outputId": "bf3d00a6-aea6-4c2c-9039-efdc6e1e60cb"
   },
   "outputs": [
    {
     "data": {
      "text/html": [
       "<div>\n",
       "<style scoped>\n",
       "    .dataframe tbody tr th:only-of-type {\n",
       "        vertical-align: middle;\n",
       "    }\n",
       "\n",
       "    .dataframe tbody tr th {\n",
       "        vertical-align: top;\n",
       "    }\n",
       "\n",
       "    .dataframe thead th {\n",
       "        text-align: right;\n",
       "    }\n",
       "</style>\n",
       "<table border=\"1\" class=\"dataframe\">\n",
       "  <thead>\n",
       "    <tr style=\"text-align: right;\">\n",
       "      <th></th>\n",
       "      <th>id</th>\n",
       "      <th>label</th>\n",
       "    </tr>\n",
       "  </thead>\n",
       "  <tbody>\n",
       "    <tr>\n",
       "      <th>0</th>\n",
       "      <td>20800</td>\n",
       "      <td>0</td>\n",
       "    </tr>\n",
       "    <tr>\n",
       "      <th>1</th>\n",
       "      <td>20801</td>\n",
       "      <td>0</td>\n",
       "    </tr>\n",
       "    <tr>\n",
       "      <th>2</th>\n",
       "      <td>20802</td>\n",
       "      <td>0</td>\n",
       "    </tr>\n",
       "    <tr>\n",
       "      <th>3</th>\n",
       "      <td>20803</td>\n",
       "      <td>0</td>\n",
       "    </tr>\n",
       "    <tr>\n",
       "      <th>4</th>\n",
       "      <td>20804</td>\n",
       "      <td>0</td>\n",
       "    </tr>\n",
       "    <tr>\n",
       "      <th>...</th>\n",
       "      <td>...</td>\n",
       "      <td>...</td>\n",
       "    </tr>\n",
       "    <tr>\n",
       "      <th>5195</th>\n",
       "      <td>25995</td>\n",
       "      <td>0</td>\n",
       "    </tr>\n",
       "    <tr>\n",
       "      <th>5196</th>\n",
       "      <td>25996</td>\n",
       "      <td>0</td>\n",
       "    </tr>\n",
       "    <tr>\n",
       "      <th>5197</th>\n",
       "      <td>25997</td>\n",
       "      <td>0</td>\n",
       "    </tr>\n",
       "    <tr>\n",
       "      <th>5198</th>\n",
       "      <td>25998</td>\n",
       "      <td>0</td>\n",
       "    </tr>\n",
       "    <tr>\n",
       "      <th>5199</th>\n",
       "      <td>25999</td>\n",
       "      <td>0</td>\n",
       "    </tr>\n",
       "  </tbody>\n",
       "</table>\n",
       "<p>5200 rows × 2 columns</p>\n",
       "</div>"
      ],
      "text/plain": [
       "         id  label\n",
       "0     20800      0\n",
       "1     20801      0\n",
       "2     20802      0\n",
       "3     20803      0\n",
       "4     20804      0\n",
       "...     ...    ...\n",
       "5195  25995      0\n",
       "5196  25996      0\n",
       "5197  25997      0\n",
       "5198  25998      0\n",
       "5199  25999      0\n",
       "\n",
       "[5200 rows x 2 columns]"
      ]
     },
     "execution_count": 51,
     "metadata": {
      "tags": []
     },
     "output_type": "execute_result"
    }
   ],
   "source": [
    "submit_lstm_predictions_df"
   ]
  },
  {
   "cell_type": "code",
   "execution_count": null,
   "metadata": {
    "colab": {
     "base_uri": "https://localhost:8080/"
    },
    "id": "V9kMPl23JG-I",
    "outputId": "3d6d708e-e524-4b09-eb60-7aa25dd49cb1"
   },
   "outputs": [
    {
     "data": {
      "text/plain": [
       "0    5196\n",
       "1       4\n",
       "Name: label, dtype: int64"
      ]
     },
     "execution_count": 52,
     "metadata": {
      "tags": []
     },
     "output_type": "execute_result"
    }
   ],
   "source": [
    "submit_lstm_predictions_df['label'].value_counts()"
   ]
  },
  {
   "cell_type": "code",
   "execution_count": null,
   "metadata": {
    "colab": {
     "base_uri": "https://localhost:8080/",
     "height": 627
    },
    "id": "mr7Q4WgHsnxi",
    "outputId": "a8af2c1e-9b89-4cd0-c0ca-d633325eaea5"
   },
   "outputs": [
    {
     "data": {
      "image/png": "[encoded data removed]",
      "text/plain": [
       "<Figure size 720x720 with 1 Axes>"
      ]
     },
     "metadata": {
      "tags": []
     },
     "output_type": "display_data"
    }
   ],
   "source": [
    "sns.countplot(submit_lstm_predictions_df['label'])\n",
    "plt.title(\"Count of Genuine and Fake News of the Test Data\")\n",
    "plt.show()"
   ]
  },
  {
   "cell_type": "code",
   "execution_count": null,
   "metadata": {
    "colab": {
     "base_uri": "https://localhost:8080/",
     "height": 166
    },
    "id": "uBBySUC1bEJ1",
    "outputId": "52bab24a-17a0-41a8-a45f-2c6771670600"
   },
   "outputs": [
    {
     "ename": "NameError",
     "evalue": "ignored",
     "output_type": "error",
     "traceback": [
      "\u001b[0;31m---------------------------------------------------------------------------\u001b[0m",
      "\u001b[0;31mNameError\u001b[0m                                 Traceback (most recent call last)",
      "\u001b[0;32m<ipython-input-54-1acf01c2a479>\u001b[0m in \u001b[0;36m<module>\u001b[0;34m()\u001b[0m\n\u001b[0;32m----> 1\u001b[0;31m \u001b[0msubmit_predictions_df\u001b[0m\u001b[0;34m.\u001b[0m\u001b[0mto_csv\u001b[0m\u001b[0;34m(\u001b[0m\u001b[0;34m'submit.csv'\u001b[0m\u001b[0;34m,\u001b[0m\u001b[0mindex\u001b[0m\u001b[0;34m=\u001b[0m\u001b[0;32mFalse\u001b[0m\u001b[0;34m)\u001b[0m\u001b[0;34m\u001b[0m\u001b[0;34m\u001b[0m\u001b[0m\n\u001b[0m",
      "\u001b[0;31mNameError\u001b[0m: name 'submit_predictions_df' is not defined"
     ]
    }
   ],
   "source": [
    "submit_lstm_predictions_df.to_csv('submit.csv',index=False)"
   ]
  }
 ],
 "metadata": {
  "accelerator": "GPU",
  "colab": {
   "collapsed_sections": [],
   "name": "Predicting Fake News using Keras.ipynb",
   "provenance": [],
   "toc_visible": true
  },
  "kernelspec": {
   "display_name": "Python 3",
   "language": "python",
   "name": "python3"
  },
  "language_info": {
   "codemirror_mode": {
    "name": "ipython",
    "version": 3
   },
   "file_extension": ".py",
   "mimetype": "text/x-python",
   "name": "python",
   "nbconvert_exporter": "python",
   "pygments_lexer": "ipython3",
   "version": "3.8.3"
  },
  "toc": {
   "base_numbering": 1,
   "nav_menu": {},
   "number_sections": true,
   "sideBar": true,
   "skip_h1_title": false,
   "title_cell": "Table of Contents",
   "title_sidebar": "Contents",
   "toc_cell": false,
   "toc_position": {},
   "toc_section_display": true,
   "toc_window_display": false
  },
  "varInspector": {
   "cols": {
    "lenName": 16,
    "lenType": 16,
    "lenVar": 40
   },
   "kernels_config": {
    "python": {
     "delete_cmd_postfix": "",
     "delete_cmd_prefix": "del ",
     "library": "var_list.py",
     "varRefreshCmd": "print(var_dic_list())"
    },
    "r": {
     "delete_cmd_postfix": ") ",
     "delete_cmd_prefix": "rm(",
     "library": "var_list.r",
     "varRefreshCmd": "cat(var_dic_list()) "
    }
   },
   "types_to_exclude": [
    "module",
    "function",
    "builtin_function_or_method",
    "instance",
    "_Feature"
   ],
   "window_display": false
  }
 },
 "nbformat": 4,
 "nbformat_minor": 1
}
