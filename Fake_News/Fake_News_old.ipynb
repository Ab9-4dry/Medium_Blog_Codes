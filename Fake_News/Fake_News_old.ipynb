{
 "cells": [
  {
   "cell_type": "markdown",
   "metadata": {},
   "source": [
    "# Getting Started"
   ]
  },
  {
   "cell_type": "code",
   "execution_count": 2,
   "metadata": {
    "colab": {
     "base_uri": "https://localhost:8080/"
    },
    "id": "vgKBIqAWNc8u",
    "outputId": "b1b4dc3a-c401-4ed1-bfa0-9bcff384fd4f"
   },
   "outputs": [],
   "source": [
    "# Upload Kaggle json\n",
    "\n",
    "!pip install -q kaggle\n",
    "!pip install -q kaggle-cli\n",
    "!mkdir -p ~/.kaggle\n",
    "!cp \"C:/Users/nroy0/Documents/MyGitHub/Kaggle/kaggle.json\" ~/.kaggle/\n",
    "!cat ~/.kaggle/kaggle.json \n",
    "!chmod 600 ~/.kaggle/kaggle.json\n",
    "!kaggle competitions download -c fake-news -p dataset\n",
    "# !kaggle datasets download -c someone/some-data -p dataset"
   ]
  },
  {
   "cell_type": "code",
   "execution_count": 2,
   "metadata": {
    "colab": {
     "base_uri": "https://localhost:8080/"
    },
    "id": "tKY4vr7kPola",
    "outputId": "7b08213e-6cc1-47b2-fc6e-4232ad398f00"
   },
   "outputs": [
    {
     "name": "stdout",
     "output_type": "stream",
     "text": [
      "Archive:  /content/dataset/train.csv.zip\n",
      "  inflating: train.csv               \n"
     ]
    }
   ],
   "source": [
    "!unzip /content/dataset/train.csv.zip"
   ]
  },
  {
   "cell_type": "code",
   "execution_count": 3,
   "metadata": {
    "colab": {
     "base_uri": "https://localhost:8080/"
    },
    "id": "C4TGREaQQRJY",
    "outputId": "857ee90b-41e3-4d4e-f850-075efee0195b"
   },
   "outputs": [
    {
     "name": "stdout",
     "output_type": "stream",
     "text": [
      "Archive:  /content/dataset/test.csv.zip\n",
      "  inflating: test.csv                \n"
     ]
    }
   ],
   "source": [
    "!unzip /content/dataset/test.csv.zip"
   ]
  },
  {
   "cell_type": "markdown",
   "metadata": {},
   "source": [
    "# Imports"
   ]
  },
  {
   "cell_type": "code",
   "execution_count": 4,
   "metadata": {
    "colab": {
     "base_uri": "https://localhost:8080/"
    },
    "id": "CYBAcN3JOmkI",
    "outputId": "e0a868b7-e2bb-47fc-f5ed-0229ac297a13"
   },
   "outputs": [
    {
     "name": "stderr",
     "output_type": "stream",
     "text": [
      "[nltk_data] Downloading package punkt to\n",
      "[nltk_data]     C:\\Users\\nroy0\\AppData\\Roaming\\nltk_data...\n",
      "[nltk_data]   Unzipping tokenizers\\punkt.zip.\n",
      "[nltk_data] Downloading package averaged_perceptron_tagger to\n",
      "[nltk_data]     C:\\Users\\nroy0\\AppData\\Roaming\\nltk_data...\n",
      "[nltk_data]   Unzipping taggers\\averaged_perceptron_tagger.zip.\n",
      "[nltk_data] Downloading package stopwords to\n",
      "[nltk_data]     C:\\Users\\nroy0\\AppData\\Roaming\\nltk_data...\n",
      "[nltk_data]   Package stopwords is already up-to-date!\n"
     ]
    }
   ],
   "source": [
    "import pandas as pd\n",
    "import numpy as np\n",
    "import re\n",
    "\n",
    "import matplotlib.pyplot as plt\n",
    "from matplotlib import rcParams\n",
    "plt.rcParams['figure.figsize'] = [10, 10]\n",
    "import seaborn as sns\n",
    "sns.set_theme(style=\"darkgrid\")\n",
    "\n",
    "from wordcloud import WordCloud\n",
    "from PIL import Image\n",
    "import PIL.ImageOps\n",
    "from wordcloud import ImageColorGenerator\n",
    "\n",
    "import nltk\n",
    "nltk.download('punkt')\n",
    "nltk.download('averaged_perceptron_tagger')\n",
    "nltk.download('stopwords')\n",
    "from nltk.corpus import stopwords\n",
    "stopwords = nltk.corpus.stopwords.words('english')\n",
    "from nltk.tokenize import word_tokenize\n",
    "import contractions\n",
    "\n",
    "import time\n",
    "\n",
    "import warnings\n",
    "warnings.filterwarnings('ignore')\n",
    "\n",
    "from sklearn.feature_extraction.text import TfidfTransformer\n",
    "from sklearn.feature_extraction.text import CountVectorizer\n",
    "from sklearn.model_selection import train_test_split\n",
    "from sklearn.linear_model import LogisticRegression\n",
    "from sklearn.naive_bayes import MultinomialNB\n",
    "from sklearn.ensemble import RandomForestClassifier, ExtraTreesClassifier, AdaBoostClassifier\n",
    "from sklearn.tree import DecisionTreeClassifier\n",
    "from sklearn.metrics import confusion_matrix, precision_score, recall_score, f1_score, accuracy_score\n",
    "\n",
    "import tensorflow as tf\n",
    "import tensorflow.keras as keras\n",
    "from tensorflow.keras.preprocessing.text import Tokenizer\n",
    "from tensorflow.keras.preprocessing.sequence import pad_sequences\n",
    "from tensorflow.keras.models import Sequential\n",
    "from tensorflow.keras.layers import LSTM\n",
    "from tensorflow.keras.layers import Dense\n",
    "from tensorflow.keras.layers import Dropout\n",
    "from tensorflow.keras.layers import Embedding"
   ]
  },
  {
   "cell_type": "code",
   "execution_count": 5,
   "metadata": {
    "colab": {
     "base_uri": "https://localhost:8080/",
     "height": 202
    },
    "id": "Thtim9SaOmpW",
    "outputId": "d735a6be-d14e-43ff-c23c-675091e8ff69"
   },
   "outputs": [
    {
     "data": {
      "text/html": [
       "<div>\n",
       "<style scoped>\n",
       "    .dataframe tbody tr th:only-of-type {\n",
       "        vertical-align: middle;\n",
       "    }\n",
       "\n",
       "    .dataframe tbody tr th {\n",
       "        vertical-align: top;\n",
       "    }\n",
       "\n",
       "    .dataframe thead th {\n",
       "        text-align: right;\n",
       "    }\n",
       "</style>\n",
       "<table border=\"1\" class=\"dataframe\">\n",
       "  <thead>\n",
       "    <tr style=\"text-align: right;\">\n",
       "      <th></th>\n",
       "      <th>id</th>\n",
       "      <th>title</th>\n",
       "      <th>author</th>\n",
       "      <th>text</th>\n",
       "      <th>label</th>\n",
       "    </tr>\n",
       "  </thead>\n",
       "  <tbody>\n",
       "    <tr>\n",
       "      <th>0</th>\n",
       "      <td>0</td>\n",
       "      <td>House Dem Aide: We Didn’t Even See Comey’s Let...</td>\n",
       "      <td>Darrell Lucus</td>\n",
       "      <td>House Dem Aide: We Didn’t Even See Comey’s Let...</td>\n",
       "      <td>1</td>\n",
       "    </tr>\n",
       "    <tr>\n",
       "      <th>1</th>\n",
       "      <td>1</td>\n",
       "      <td>FLYNN: Hillary Clinton, Big Woman on Campus - ...</td>\n",
       "      <td>Daniel J. Flynn</td>\n",
       "      <td>Ever get the feeling your life circles the rou...</td>\n",
       "      <td>0</td>\n",
       "    </tr>\n",
       "    <tr>\n",
       "      <th>2</th>\n",
       "      <td>2</td>\n",
       "      <td>Why the Truth Might Get You Fired</td>\n",
       "      <td>Consortiumnews.com</td>\n",
       "      <td>Why the Truth Might Get You Fired October 29, ...</td>\n",
       "      <td>1</td>\n",
       "    </tr>\n",
       "    <tr>\n",
       "      <th>3</th>\n",
       "      <td>3</td>\n",
       "      <td>15 Civilians Killed In Single US Airstrike Hav...</td>\n",
       "      <td>Jessica Purkiss</td>\n",
       "      <td>Videos 15 Civilians Killed In Single US Airstr...</td>\n",
       "      <td>1</td>\n",
       "    </tr>\n",
       "    <tr>\n",
       "      <th>4</th>\n",
       "      <td>4</td>\n",
       "      <td>Iranian woman jailed for fictional unpublished...</td>\n",
       "      <td>Howard Portnoy</td>\n",
       "      <td>Print \\nAn Iranian woman has been sentenced to...</td>\n",
       "      <td>1</td>\n",
       "    </tr>\n",
       "  </tbody>\n",
       "</table>\n",
       "</div>"
      ],
      "text/plain": [
       "   id  ... label\n",
       "0   0  ...     1\n",
       "1   1  ...     0\n",
       "2   2  ...     1\n",
       "3   3  ...     1\n",
       "4   4  ...     1\n",
       "\n",
       "[5 rows x 5 columns]"
      ]
     },
     "execution_count": 5,
     "metadata": {
      "tags": []
     },
     "output_type": "execute_result"
    }
   ],
   "source": [
    "train_df = pd.read_csv('/content/train.csv', header=0)\n",
    "train_df.head()"
   ]
  },
  {
   "cell_type": "code",
   "execution_count": 6,
   "metadata": {
    "colab": {
     "base_uri": "https://localhost:8080/"
    },
    "id": "z1sUrw1LQ0x4",
    "outputId": "70dd51de-ce6f-41d8-a295-6cf1a28640d2"
   },
   "outputs": [
    {
     "data": {
      "text/plain": [
       "(20800, 5)"
      ]
     },
     "execution_count": 6,
     "metadata": {
      "tags": []
     },
     "output_type": "execute_result"
    }
   ],
   "source": [
    "train_df.shape"
   ]
  },
  {
   "cell_type": "code",
   "execution_count": 7,
   "metadata": {
    "colab": {
     "base_uri": "https://localhost:8080/"
    },
    "id": "9NTrHNS2Q00O",
    "outputId": "68480610-8356-4a13-e46e-e9496d5abe1d"
   },
   "outputs": [
    {
     "name": "stdout",
     "output_type": "stream",
     "text": [
      "<class 'pandas.core.frame.DataFrame'>\n",
      "RangeIndex: 20800 entries, 0 to 20799\n",
      "Data columns (total 5 columns):\n",
      " #   Column  Non-Null Count  Dtype \n",
      "---  ------  --------------  ----- \n",
      " 0   id      20800 non-null  int64 \n",
      " 1   title   20242 non-null  object\n",
      " 2   author  18843 non-null  object\n",
      " 3   text    20761 non-null  object\n",
      " 4   label   20800 non-null  int64 \n",
      "dtypes: int64(2), object(3)\n",
      "memory usage: 812.6+ KB\n"
     ]
    }
   ],
   "source": [
    "train_df.info()"
   ]
  },
  {
   "cell_type": "code",
   "execution_count": 8,
   "metadata": {
    "colab": {
     "base_uri": "https://localhost:8080/",
     "height": 629
    },
    "id": "_QkvVs-dYl90",
    "outputId": "3751a02c-9776-4288-ef2c-058ff9f6d738"
   },
   "outputs": [
    {
     "data": {
      "text/plain": [
       "<matplotlib.axes._subplots.AxesSubplot at 0x7f9393a93278>"
      ]
     },
     "execution_count": 8,
     "metadata": {
      "tags": []
     },
     "output_type": "execute_result"
    },
    {
     "data": {
      "image/png": "[encoded data removed]",
      "text/plain": [
       "<Figure size 720x720 with 1 Axes>"
      ]
     },
     "metadata": {
      "tags": []
     },
     "output_type": "display_data"
    }
   ],
   "source": [
    "sns.countplot(x='label', data=train_df, palette='Set3')"
   ]
  },
  {
   "cell_type": "code",
   "execution_count": 9,
   "metadata": {
    "colab": {
     "base_uri": "https://localhost:8080/",
     "height": 202
    },
    "id": "mXQv-08CQ02b",
    "outputId": "ce489e98-7bf0-4f84-df75-963480b8c40d"
   },
   "outputs": [
    {
     "data": {
      "text/html": [
       "<div>\n",
       "<style scoped>\n",
       "    .dataframe tbody tr th:only-of-type {\n",
       "        vertical-align: middle;\n",
       "    }\n",
       "\n",
       "    .dataframe tbody tr th {\n",
       "        vertical-align: top;\n",
       "    }\n",
       "\n",
       "    .dataframe thead th {\n",
       "        text-align: right;\n",
       "    }\n",
       "</style>\n",
       "<table border=\"1\" class=\"dataframe\">\n",
       "  <thead>\n",
       "    <tr style=\"text-align: right;\">\n",
       "      <th></th>\n",
       "      <th>id</th>\n",
       "      <th>title</th>\n",
       "      <th>author</th>\n",
       "      <th>text</th>\n",
       "    </tr>\n",
       "  </thead>\n",
       "  <tbody>\n",
       "    <tr>\n",
       "      <th>0</th>\n",
       "      <td>20800</td>\n",
       "      <td>Specter of Trump Loosens Tongues, if Not Purse...</td>\n",
       "      <td>David Streitfeld</td>\n",
       "      <td>PALO ALTO, Calif.  —   After years of scorning...</td>\n",
       "    </tr>\n",
       "    <tr>\n",
       "      <th>1</th>\n",
       "      <td>20801</td>\n",
       "      <td>Russian warships ready to strike terrorists ne...</td>\n",
       "      <td>NaN</td>\n",
       "      <td>Russian warships ready to strike terrorists ne...</td>\n",
       "    </tr>\n",
       "    <tr>\n",
       "      <th>2</th>\n",
       "      <td>20802</td>\n",
       "      <td>#NoDAPL: Native American Leaders Vow to Stay A...</td>\n",
       "      <td>Common Dreams</td>\n",
       "      <td>Videos #NoDAPL: Native American Leaders Vow to...</td>\n",
       "    </tr>\n",
       "    <tr>\n",
       "      <th>3</th>\n",
       "      <td>20803</td>\n",
       "      <td>Tim Tebow Will Attempt Another Comeback, This ...</td>\n",
       "      <td>Daniel Victor</td>\n",
       "      <td>If at first you don’t succeed, try a different...</td>\n",
       "    </tr>\n",
       "    <tr>\n",
       "      <th>4</th>\n",
       "      <td>20804</td>\n",
       "      <td>Keiser Report: Meme Wars (E995)</td>\n",
       "      <td>Truth Broadcast Network</td>\n",
       "      <td>42 mins ago 1 Views 0 Comments 0 Likes 'For th...</td>\n",
       "    </tr>\n",
       "  </tbody>\n",
       "</table>\n",
       "</div>"
      ],
      "text/plain": [
       "      id  ...                                               text\n",
       "0  20800  ...  PALO ALTO, Calif.  —   After years of scorning...\n",
       "1  20801  ...  Russian warships ready to strike terrorists ne...\n",
       "2  20802  ...  Videos #NoDAPL: Native American Leaders Vow to...\n",
       "3  20803  ...  If at first you don’t succeed, try a different...\n",
       "4  20804  ...  42 mins ago 1 Views 0 Comments 0 Likes 'For th...\n",
       "\n",
       "[5 rows x 4 columns]"
      ]
     },
     "execution_count": 9,
     "metadata": {
      "tags": []
     },
     "output_type": "execute_result"
    }
   ],
   "source": [
    "test_df = pd.read_csv('/content/test.csv', header=0)\n",
    "test_df.head()"
   ]
  },
  {
   "cell_type": "code",
   "execution_count": 10,
   "metadata": {
    "colab": {
     "base_uri": "https://localhost:8080/"
    },
    "id": "iwuokx6HQ081",
    "outputId": "e49854e8-26df-4a1d-b762-b0c3ec3ee148"
   },
   "outputs": [
    {
     "data": {
      "text/plain": [
       "(5200, 4)"
      ]
     },
     "execution_count": 10,
     "metadata": {
      "tags": []
     },
     "output_type": "execute_result"
    }
   ],
   "source": [
    "test_df.shape"
   ]
  },
  {
   "cell_type": "code",
   "execution_count": 11,
   "metadata": {
    "colab": {
     "base_uri": "https://localhost:8080/"
    },
    "id": "maqG-M4AQ1AY",
    "outputId": "c78e5079-6403-40c2-d9a0-2912f6888f9f"
   },
   "outputs": [
    {
     "name": "stdout",
     "output_type": "stream",
     "text": [
      "<class 'pandas.core.frame.DataFrame'>\n",
      "RangeIndex: 5200 entries, 0 to 5199\n",
      "Data columns (total 4 columns):\n",
      " #   Column  Non-Null Count  Dtype \n",
      "---  ------  --------------  ----- \n",
      " 0   id      5200 non-null   int64 \n",
      " 1   title   5078 non-null   object\n",
      " 2   author  4697 non-null   object\n",
      " 3   text    5193 non-null   object\n",
      "dtypes: int64(1), object(3)\n",
      "memory usage: 162.6+ KB\n"
     ]
    }
   ],
   "source": [
    "test_df.info()"
   ]
  },
  {
   "cell_type": "markdown",
   "metadata": {
    "id": "bQ7UfAS0Ridk"
   },
   "source": [
    "## Drop all instances which have atleast one column missing"
   ]
  },
  {
   "cell_type": "code",
   "execution_count": 12,
   "metadata": {
    "id": "J-nvKQr-RU-m"
   },
   "outputs": [],
   "source": [
    "train_df.dropna(axis=0, how='any',inplace=True)\n",
    "test_df.dropna(axis=0, how='any',inplace=True)"
   ]
  },
  {
   "cell_type": "code",
   "execution_count": 13,
   "metadata": {
    "colab": {
     "base_uri": "https://localhost:8080/"
    },
    "id": "T2y3gXOJRVEp",
    "outputId": "ba5b2b2b-28b4-404e-90aa-7e43b49ddce4"
   },
   "outputs": [
    {
     "data": {
      "text/plain": [
       "((18285, 5), (4575, 4))"
      ]
     },
     "execution_count": 13,
     "metadata": {
      "tags": []
     },
     "output_type": "execute_result"
    }
   ],
   "source": [
    "train_df.shape, test_df.shape"
   ]
  },
  {
   "cell_type": "code",
   "execution_count": 14,
   "metadata": {
    "colab": {
     "base_uri": "https://localhost:8080/"
    },
    "id": "ml_oUMHSOmsO",
    "outputId": "07d5235a-57c5-4906-97b7-c2906e9217f2"
   },
   "outputs": [
    {
     "name": "stdout",
     "output_type": "stream",
     "text": [
      "<class 'pandas.core.frame.DataFrame'>\n",
      "Int64Index: 18285 entries, 0 to 20799\n",
      "Data columns (total 5 columns):\n",
      " #   Column  Non-Null Count  Dtype \n",
      "---  ------  --------------  ----- \n",
      " 0   id      18285 non-null  int64 \n",
      " 1   title   18285 non-null  object\n",
      " 2   author  18285 non-null  object\n",
      " 3   text    18285 non-null  object\n",
      " 4   label   18285 non-null  int64 \n",
      "dtypes: int64(2), object(3)\n",
      "memory usage: 857.1+ KB\n"
     ]
    }
   ],
   "source": [
    "train_df.info()"
   ]
  },
  {
   "cell_type": "code",
   "execution_count": 15,
   "metadata": {
    "colab": {
     "base_uri": "https://localhost:8080/"
    },
    "id": "JQ4o1nn-Omut",
    "outputId": "66809fe8-eee6-441f-bd59-6a69ea93a42b"
   },
   "outputs": [
    {
     "name": "stdout",
     "output_type": "stream",
     "text": [
      "<class 'pandas.core.frame.DataFrame'>\n",
      "Int64Index: 4575 entries, 0 to 5199\n",
      "Data columns (total 4 columns):\n",
      " #   Column  Non-Null Count  Dtype \n",
      "---  ------  --------------  ----- \n",
      " 0   id      4575 non-null   int64 \n",
      " 1   title   4575 non-null   object\n",
      " 2   author  4575 non-null   object\n",
      " 3   text    4575 non-null   object\n",
      "dtypes: int64(1), object(3)\n",
      "memory usage: 178.7+ KB\n"
     ]
    }
   ],
   "source": [
    "test_df.info()"
   ]
  },
  {
   "cell_type": "markdown",
   "metadata": {},
   "source": [
    "During prediction time title, author and text, i.e. all the current input features will be present."
   ]
  },
  {
   "cell_type": "markdown",
   "metadata": {
    "id": "d4FEPO48UYGA"
   },
   "source": [
    "## Check length of Text"
   ]
  },
  {
   "cell_type": "code",
   "execution_count": 16,
   "metadata": {
    "id": "AlOlRR-9OmxB"
   },
   "outputs": [],
   "source": [
    "train_df['raw_text_length'] = train_df['text'].apply(lambda x: len(x))"
   ]
  },
  {
   "cell_type": "code",
   "execution_count": 17,
   "metadata": {
    "colab": {
     "base_uri": "https://localhost:8080/",
     "height": 202
    },
    "id": "RXlS0qyCOmzi",
    "outputId": "28b219b3-8763-4c7e-bb9c-91ea29884730"
   },
   "outputs": [
    {
     "data": {
      "text/html": [
       "<div>\n",
       "<style scoped>\n",
       "    .dataframe tbody tr th:only-of-type {\n",
       "        vertical-align: middle;\n",
       "    }\n",
       "\n",
       "    .dataframe tbody tr th {\n",
       "        vertical-align: top;\n",
       "    }\n",
       "\n",
       "    .dataframe thead th {\n",
       "        text-align: right;\n",
       "    }\n",
       "</style>\n",
       "<table border=\"1\" class=\"dataframe\">\n",
       "  <thead>\n",
       "    <tr style=\"text-align: right;\">\n",
       "      <th></th>\n",
       "      <th>id</th>\n",
       "      <th>title</th>\n",
       "      <th>author</th>\n",
       "      <th>text</th>\n",
       "      <th>label</th>\n",
       "      <th>raw_text_length</th>\n",
       "    </tr>\n",
       "  </thead>\n",
       "  <tbody>\n",
       "    <tr>\n",
       "      <th>0</th>\n",
       "      <td>0</td>\n",
       "      <td>House Dem Aide: We Didn’t Even See Comey’s Let...</td>\n",
       "      <td>Darrell Lucus</td>\n",
       "      <td>House Dem Aide: We Didn’t Even See Comey’s Let...</td>\n",
       "      <td>1</td>\n",
       "      <td>4930</td>\n",
       "    </tr>\n",
       "    <tr>\n",
       "      <th>1</th>\n",
       "      <td>1</td>\n",
       "      <td>FLYNN: Hillary Clinton, Big Woman on Campus - ...</td>\n",
       "      <td>Daniel J. Flynn</td>\n",
       "      <td>Ever get the feeling your life circles the rou...</td>\n",
       "      <td>0</td>\n",
       "      <td>4160</td>\n",
       "    </tr>\n",
       "    <tr>\n",
       "      <th>2</th>\n",
       "      <td>2</td>\n",
       "      <td>Why the Truth Might Get You Fired</td>\n",
       "      <td>Consortiumnews.com</td>\n",
       "      <td>Why the Truth Might Get You Fired October 29, ...</td>\n",
       "      <td>1</td>\n",
       "      <td>7692</td>\n",
       "    </tr>\n",
       "    <tr>\n",
       "      <th>3</th>\n",
       "      <td>3</td>\n",
       "      <td>15 Civilians Killed In Single US Airstrike Hav...</td>\n",
       "      <td>Jessica Purkiss</td>\n",
       "      <td>Videos 15 Civilians Killed In Single US Airstr...</td>\n",
       "      <td>1</td>\n",
       "      <td>3237</td>\n",
       "    </tr>\n",
       "    <tr>\n",
       "      <th>4</th>\n",
       "      <td>4</td>\n",
       "      <td>Iranian woman jailed for fictional unpublished...</td>\n",
       "      <td>Howard Portnoy</td>\n",
       "      <td>Print \\nAn Iranian woman has been sentenced to...</td>\n",
       "      <td>1</td>\n",
       "      <td>938</td>\n",
       "    </tr>\n",
       "  </tbody>\n",
       "</table>\n",
       "</div>"
      ],
      "text/plain": [
       "   id  ... raw_text_length\n",
       "0   0  ...            4930\n",
       "1   1  ...            4160\n",
       "2   2  ...            7692\n",
       "3   3  ...            3237\n",
       "4   4  ...             938\n",
       "\n",
       "[5 rows x 6 columns]"
      ]
     },
     "execution_count": 17,
     "metadata": {
      "tags": []
     },
     "output_type": "execute_result"
    }
   ],
   "source": [
    "train_df.head()"
   ]
  },
  {
   "cell_type": "code",
   "execution_count": 18,
   "metadata": {
    "colab": {
     "base_uri": "https://localhost:8080/",
     "height": 593
    },
    "id": "jzaG8TvcUORf",
    "outputId": "b85a403b-88c2-4317-a941-14091b55b56f"
   },
   "outputs": [
    {
     "data": {
      "text/plain": [
       "<matplotlib.axes._subplots.AxesSubplot at 0x7f93934a04a8>"
      ]
     },
     "execution_count": 18,
     "metadata": {
      "tags": []
     },
     "output_type": "execute_result"
    },
    {
     "data": {
      "image/png": "[encoded data removed]",
      "text/plain": [
       "<Figure size 720x720 with 1 Axes>"
      ]
     },
     "metadata": {
      "tags": []
     },
     "output_type": "display_data"
    }
   ],
   "source": [
    "sns.boxplot(y='raw_text_length', data=train_df, palette=\"Set3\")"
   ]
  },
  {
   "cell_type": "code",
   "execution_count": 19,
   "metadata": {
    "colab": {
     "base_uri": "https://localhost:8080/",
     "height": 629
    },
    "id": "tigythhqUOT1",
    "outputId": "6ff75275-872f-4785-9a0e-8d0353e50618"
   },
   "outputs": [
    {
     "data": {
      "text/plain": [
       "<matplotlib.axes._subplots.AxesSubplot at 0x7f93921b9780>"
      ]
     },
     "execution_count": 19,
     "metadata": {
      "tags": []
     },
     "output_type": "execute_result"
    },
    {
     "data": {
      "image/png": "[encoded data removed]",
      "text/plain": [
       "<Figure size 720x720 with 1 Axes>"
      ]
     },
     "metadata": {
      "tags": []
     },
     "output_type": "display_data"
    }
   ],
   "source": [
    "sns.boxplot(y='raw_text_length', x='label', data=train_df, palette=\"Set3\")"
   ]
  },
  {
   "cell_type": "code",
   "execution_count": 20,
   "metadata": {
    "colab": {
     "base_uri": "https://localhost:8080/"
    },
    "id": "oUhrMFhcXpuN",
    "outputId": "70c642c5-48a3-4fa8-c840-898a7955dedb"
   },
   "outputs": [
    {
     "data": {
      "text/plain": [
       "3838"
      ]
     },
     "execution_count": 20,
     "metadata": {
      "tags": []
     },
     "output_type": "execute_result"
    }
   ],
   "source": [
    "len(train_df['author'].unique())"
   ]
  },
  {
   "cell_type": "code",
   "execution_count": 21,
   "metadata": {
    "id": "xI9W3oFZX2e9"
   },
   "outputs": [],
   "source": [
    "gen_news_authors = set(list(train_df[train_df['label']==0]['author'].unique()))\n",
    "fake_news_authors = set(list(train_df[train_df['label']==1]['author'].unique()))"
   ]
  },
  {
   "cell_type": "code",
   "execution_count": 22,
   "metadata": {
    "id": "HjPrk7QNYHD3"
   },
   "outputs": [],
   "source": [
    "overlapped_authors = gen_news_authors.intersection(fake_news_authors)"
   ]
  },
  {
   "cell_type": "code",
   "execution_count": 23,
   "metadata": {
    "colab": {
     "base_uri": "https://localhost:8080/"
    },
    "id": "gTuu4HGdYY2P",
    "outputId": "eef46dfc-7a62-460f-e576-a92644e581ad"
   },
   "outputs": [
    {
     "data": {
      "text/plain": [
       "(2225, 1618, 5)"
      ]
     },
     "execution_count": 23,
     "metadata": {
      "tags": []
     },
     "output_type": "execute_result"
    }
   ],
   "source": [
    "len(gen_news_authors), len(fake_news_authors), len(overlapped_authors)"
   ]
  },
  {
   "cell_type": "markdown",
   "metadata": {
    "id": "B7V_E1O7a6GB"
   },
   "source": [
    "## Text Cleaning\n",
    "\n",
    "1. Remove special characters\n",
    "2. Expand contractions\n",
    "3. Convert to lower-case\n",
    "4. Word Tokenize\n",
    "5. Remove Stopwords"
   ]
  },
  {
   "cell_type": "code",
   "execution_count": 28,
   "metadata": {
    "id": "cZ0vgCArkSMr"
   },
   "outputs": [],
   "source": [
    "def preprocess_text(x):\n",
    "    cleaned_text = re.sub(r'[^a-zA-Z\\d\\s\\']+', '', x)\n",
    "    word_list = []\n",
    "    for each_word in cleaned_text.split(' '):\n",
    "        try:\n",
    "            word_list.append(contractions.fix(each_word).lower())\n",
    "        except:\n",
    "            print(x)\n",
    "    return \" \".join(word_list)"
   ]
  },
  {
   "cell_type": "markdown",
   "metadata": {
    "id": "S46w8RTQl68C"
   },
   "source": [
    "**Got Error because of some sort of Turkish/Slavic language**\n",
    "\n",
    "ABÇin ilişkilerinde ABD ve NATOnun etkisi yazan Manlio Dinucci Uluslararası bir forumda konuşan İtalyan coğrafyacı Manlio Dinucci ABDnin tüm dünyaya egemen olabilmek için sahip olduğu silahların analizini bireşimleştirdi Suriye Rusya ve Çinin bugün elde silah herkesin açıkça kabul ettiği bu üstünlüğü dünyanın bu tek kutuplu örgütlenişi tartışılır hale getirmesinden dolayı bu makale daha da önem kazanmaktadır\n",
    "\n",
    "Accordingly the preprocessing of the texts were executed."
   ]
  },
  {
   "cell_type": "code",
   "execution_count": 29,
   "metadata": {
    "id": "UzyElDkakeoE"
   },
   "outputs": [],
   "source": [
    "text_cols = ['text', 'title', 'author']"
   ]
  },
  {
   "cell_type": "code",
   "execution_count": 30,
   "metadata": {
    "colab": {
     "base_uri": "https://localhost:8080/"
    },
    "id": "h7tWp8Awl6LZ",
    "outputId": "feed4ba7-f30b-4927-c793-a4c49aa17e93"
   },
   "outputs": [
    {
     "name": "stdout",
     "output_type": "stream",
     "text": [
      "Processing column: text\n",
      "Processing column: title\n",
      "Processing column: author\n",
      "CPU times: user 50.6 s, sys: 296 ms, total: 50.9 s\n",
      "Wall time: 51 s\n"
     ]
    }
   ],
   "source": [
    "%%time\n",
    "for col in text_cols:\n",
    "    print(\"Processing column: {}\".format(col))\n",
    "    train_df[col] = train_df[col].apply(lambda x: preprocess_text(x))\n",
    "    test_df[col] = test_df[col].apply(lambda x: preprocess_text(x))"
   ]
  },
  {
   "cell_type": "code",
   "execution_count": 31,
   "metadata": {
    "colab": {
     "base_uri": "https://localhost:8080/"
    },
    "id": "0MFupIrYikkB",
    "outputId": "624ed2e2-aeac-42b8-fcef-b3c41dc9c9dd"
   },
   "outputs": [
    {
     "name": "stdout",
     "output_type": "stream",
     "text": [
      "Processing column: text\n",
      "Processing column: title\n",
      "Processing column: author\n",
      "CPU times: user 1min 10s, sys: 513 ms, total: 1min 10s\n",
      "Wall time: 1min 10s\n"
     ]
    }
   ],
   "source": [
    "%%time\n",
    "for col in text_cols:\n",
    "    print(\"Processing column: {}\".format(col))\n",
    "    train_df[col] = train_df[col].apply(word_tokenize)\n",
    "    test_df[col] = test_df[col].apply(word_tokenize)"
   ]
  },
  {
   "cell_type": "code",
   "execution_count": 32,
   "metadata": {
    "colab": {
     "base_uri": "https://localhost:8080/"
    },
    "id": "lpREdIrlikpT",
    "outputId": "ded22289-d88d-490c-ae8e-a955580b2dba"
   },
   "outputs": [
    {
     "name": "stdout",
     "output_type": "stream",
     "text": [
      "Processing column: text\n",
      "Processing column: title\n",
      "Processing column: author\n",
      "CPU times: user 28.6 s, sys: 43.7 ms, total: 28.6 s\n",
      "Wall time: 28.6 s\n"
     ]
    }
   ],
   "source": [
    "%%time\n",
    "for col in text_cols:\n",
    "    print(\"Processing column: {}\".format(col))\n",
    "    train_df[col] = train_df[col].apply(\n",
    "        lambda x: [each_word for each_word in x if each_word not in stopwords])\n",
    "    test_df[col] = test_df[col].apply(\n",
    "        lambda x: [each_word for each_word in x if each_word not in stopwords])"
   ]
  },
  {
   "cell_type": "code",
   "execution_count": 33,
   "metadata": {
    "colab": {
     "base_uri": "https://localhost:8080/",
     "height": 202
    },
    "id": "7Lb5tF7jiktZ",
    "outputId": "70f6a8b0-f457-4e58-8308-aa8571818588"
   },
   "outputs": [
    {
     "data": {
      "text/html": [
       "<div>\n",
       "<style scoped>\n",
       "    .dataframe tbody tr th:only-of-type {\n",
       "        vertical-align: middle;\n",
       "    }\n",
       "\n",
       "    .dataframe tbody tr th {\n",
       "        vertical-align: top;\n",
       "    }\n",
       "\n",
       "    .dataframe thead th {\n",
       "        text-align: right;\n",
       "    }\n",
       "</style>\n",
       "<table border=\"1\" class=\"dataframe\">\n",
       "  <thead>\n",
       "    <tr style=\"text-align: right;\">\n",
       "      <th></th>\n",
       "      <th>id</th>\n",
       "      <th>title</th>\n",
       "      <th>author</th>\n",
       "      <th>text</th>\n",
       "      <th>label</th>\n",
       "      <th>raw_text_length</th>\n",
       "    </tr>\n",
       "  </thead>\n",
       "  <tbody>\n",
       "    <tr>\n",
       "      <th>0</th>\n",
       "      <td>0</td>\n",
       "      <td>[house, dem, aide, even, see, comeys, letter, ...</td>\n",
       "      <td>[darrell, lucus]</td>\n",
       "      <td>[house, dem, aide, even, see, comeys, letter, ...</td>\n",
       "      <td>1</td>\n",
       "      <td>4930</td>\n",
       "    </tr>\n",
       "    <tr>\n",
       "      <th>1</th>\n",
       "      <td>1</td>\n",
       "      <td>[flynn, hillary, clinton, big, woman, campus, ...</td>\n",
       "      <td>[daniel, j, flynn]</td>\n",
       "      <td>[ever, get, feeling, life, circles, roundabout...</td>\n",
       "      <td>0</td>\n",
       "      <td>4160</td>\n",
       "    </tr>\n",
       "    <tr>\n",
       "      <th>2</th>\n",
       "      <td>2</td>\n",
       "      <td>[truth, might, get, fired]</td>\n",
       "      <td>[consortiumnewscom]</td>\n",
       "      <td>[truth, might, get, fired, october, 29, 2016, ...</td>\n",
       "      <td>1</td>\n",
       "      <td>7692</td>\n",
       "    </tr>\n",
       "    <tr>\n",
       "      <th>3</th>\n",
       "      <td>3</td>\n",
       "      <td>[15, civilians, killed, single, us, airstrike,...</td>\n",
       "      <td>[jessica, purkiss]</td>\n",
       "      <td>[videos, 15, civilians, killed, single, us, ai...</td>\n",
       "      <td>1</td>\n",
       "      <td>3237</td>\n",
       "    </tr>\n",
       "    <tr>\n",
       "      <th>4</th>\n",
       "      <td>4</td>\n",
       "      <td>[iranian, woman, jailed, fictional, unpublishe...</td>\n",
       "      <td>[howard, portnoy]</td>\n",
       "      <td>[print, iranian, woman, sentenced, six, years,...</td>\n",
       "      <td>1</td>\n",
       "      <td>938</td>\n",
       "    </tr>\n",
       "  </tbody>\n",
       "</table>\n",
       "</div>"
      ],
      "text/plain": [
       "   id  ... raw_text_length\n",
       "0   0  ...            4930\n",
       "1   1  ...            4160\n",
       "2   2  ...            7692\n",
       "3   3  ...            3237\n",
       "4   4  ...             938\n",
       "\n",
       "[5 rows x 6 columns]"
      ]
     },
     "execution_count": 33,
     "metadata": {
      "tags": []
     },
     "output_type": "execute_result"
    }
   ],
   "source": [
    "train_df.head()"
   ]
  },
  {
   "cell_type": "markdown",
   "metadata": {},
   "source": [
    "# Text Data Exploration"
   ]
  },
  {
   "cell_type": "markdown",
   "metadata": {},
   "source": [
    "## World Cloud Generation"
   ]
  },
  {
   "cell_type": "code",
   "execution_count": null,
   "metadata": {},
   "outputs": [],
   "source": []
  },
  {
   "cell_type": "code",
   "execution_count": null,
   "metadata": {},
   "outputs": [],
   "source": []
  },
  {
   "cell_type": "markdown",
   "metadata": {},
   "source": [
    "# TF-IDF Transformation"
   ]
  },
  {
   "cell_type": "code",
   "execution_count": 40,
   "metadata": {
    "colab": {
     "base_uri": "https://localhost:8080/",
     "height": 202
    },
    "id": "iyZn98pUFtnE",
    "outputId": "395f8f70-0cf6-448e-9480-5eba4ffc2b0e"
   },
   "outputs": [
    {
     "data": {
      "text/html": [
       "<div>\n",
       "<style scoped>\n",
       "    .dataframe tbody tr th:only-of-type {\n",
       "        vertical-align: middle;\n",
       "    }\n",
       "\n",
       "    .dataframe tbody tr th {\n",
       "        vertical-align: top;\n",
       "    }\n",
       "\n",
       "    .dataframe thead th {\n",
       "        text-align: right;\n",
       "    }\n",
       "</style>\n",
       "<table border=\"1\" class=\"dataframe\">\n",
       "  <thead>\n",
       "    <tr style=\"text-align: right;\">\n",
       "      <th></th>\n",
       "      <th>id</th>\n",
       "      <th>title</th>\n",
       "      <th>author</th>\n",
       "      <th>text</th>\n",
       "      <th>label</th>\n",
       "      <th>raw_text_length</th>\n",
       "    </tr>\n",
       "  </thead>\n",
       "  <tbody>\n",
       "    <tr>\n",
       "      <th>0</th>\n",
       "      <td>0</td>\n",
       "      <td>[house, dem, aide, even, see, comeys, letter, ...</td>\n",
       "      <td>[darrell, lucus]</td>\n",
       "      <td>[house, dem, aide, even, see, comeys, letter, ...</td>\n",
       "      <td>1</td>\n",
       "      <td>4930</td>\n",
       "    </tr>\n",
       "    <tr>\n",
       "      <th>1</th>\n",
       "      <td>1</td>\n",
       "      <td>[flynn, hillary, clinton, big, woman, campus, ...</td>\n",
       "      <td>[daniel, j, flynn]</td>\n",
       "      <td>[ever, get, feeling, life, circles, roundabout...</td>\n",
       "      <td>0</td>\n",
       "      <td>4160</td>\n",
       "    </tr>\n",
       "    <tr>\n",
       "      <th>2</th>\n",
       "      <td>2</td>\n",
       "      <td>[truth, might, get, fired]</td>\n",
       "      <td>[consortiumnewscom]</td>\n",
       "      <td>[truth, might, get, fired, october, 29, 2016, ...</td>\n",
       "      <td>1</td>\n",
       "      <td>7692</td>\n",
       "    </tr>\n",
       "    <tr>\n",
       "      <th>3</th>\n",
       "      <td>3</td>\n",
       "      <td>[15, civilians, killed, single, us, airstrike,...</td>\n",
       "      <td>[jessica, purkiss]</td>\n",
       "      <td>[videos, 15, civilians, killed, single, us, ai...</td>\n",
       "      <td>1</td>\n",
       "      <td>3237</td>\n",
       "    </tr>\n",
       "    <tr>\n",
       "      <th>4</th>\n",
       "      <td>4</td>\n",
       "      <td>[iranian, woman, jailed, fictional, unpublishe...</td>\n",
       "      <td>[howard, portnoy]</td>\n",
       "      <td>[print, iranian, woman, sentenced, six, years,...</td>\n",
       "      <td>1</td>\n",
       "      <td>938</td>\n",
       "    </tr>\n",
       "  </tbody>\n",
       "</table>\n",
       "</div>"
      ],
      "text/plain": [
       "   id  ... raw_text_length\n",
       "0   0  ...            4930\n",
       "1   1  ...            4160\n",
       "2   2  ...            7692\n",
       "3   3  ...            3237\n",
       "4   4  ...             938\n",
       "\n",
       "[5 rows x 6 columns]"
      ]
     },
     "execution_count": 40,
     "metadata": {
      "tags": []
     },
     "output_type": "execute_result"
    }
   ],
   "source": [
    "train_df.head()"
   ]
  },
  {
   "cell_type": "code",
   "execution_count": 41,
   "metadata": {
    "id": "mTkYlZrrFp8f"
   },
   "outputs": [],
   "source": [
    "train_df['text_joined'] = train_df['text'].apply(lambda x: \" \".join(x))\n",
    "test_df['text_joined'] = test_df['text'].apply(lambda x: \" \".join(x))"
   ]
  },
  {
   "cell_type": "code",
   "execution_count": 42,
   "metadata": {
    "colab": {
     "base_uri": "https://localhost:8080/",
     "height": 202
    },
    "id": "60Ee-vx0GH0q",
    "outputId": "a9731ab1-5113-4bf5-975e-4583a0992766"
   },
   "outputs": [
    {
     "data": {
      "text/html": [
       "<div>\n",
       "<style scoped>\n",
       "    .dataframe tbody tr th:only-of-type {\n",
       "        vertical-align: middle;\n",
       "    }\n",
       "\n",
       "    .dataframe tbody tr th {\n",
       "        vertical-align: top;\n",
       "    }\n",
       "\n",
       "    .dataframe thead th {\n",
       "        text-align: right;\n",
       "    }\n",
       "</style>\n",
       "<table border=\"1\" class=\"dataframe\">\n",
       "  <thead>\n",
       "    <tr style=\"text-align: right;\">\n",
       "      <th></th>\n",
       "      <th>id</th>\n",
       "      <th>title</th>\n",
       "      <th>author</th>\n",
       "      <th>text</th>\n",
       "      <th>label</th>\n",
       "      <th>raw_text_length</th>\n",
       "      <th>text_joined</th>\n",
       "    </tr>\n",
       "  </thead>\n",
       "  <tbody>\n",
       "    <tr>\n",
       "      <th>0</th>\n",
       "      <td>0</td>\n",
       "      <td>[house, dem, aide, even, see, comeys, letter, ...</td>\n",
       "      <td>[darrell, lucus]</td>\n",
       "      <td>[house, dem, aide, even, see, comeys, letter, ...</td>\n",
       "      <td>1</td>\n",
       "      <td>4930</td>\n",
       "      <td>house dem aide even see comeys letter jason ch...</td>\n",
       "    </tr>\n",
       "    <tr>\n",
       "      <th>1</th>\n",
       "      <td>1</td>\n",
       "      <td>[flynn, hillary, clinton, big, woman, campus, ...</td>\n",
       "      <td>[daniel, j, flynn]</td>\n",
       "      <td>[ever, get, feeling, life, circles, roundabout...</td>\n",
       "      <td>0</td>\n",
       "      <td>4160</td>\n",
       "      <td>ever get feeling life circles roundabout rathe...</td>\n",
       "    </tr>\n",
       "    <tr>\n",
       "      <th>2</th>\n",
       "      <td>2</td>\n",
       "      <td>[truth, might, get, fired]</td>\n",
       "      <td>[consortiumnewscom]</td>\n",
       "      <td>[truth, might, get, fired, october, 29, 2016, ...</td>\n",
       "      <td>1</td>\n",
       "      <td>7692</td>\n",
       "      <td>truth might get fired october 29 2016 tension ...</td>\n",
       "    </tr>\n",
       "    <tr>\n",
       "      <th>3</th>\n",
       "      <td>3</td>\n",
       "      <td>[15, civilians, killed, single, us, airstrike,...</td>\n",
       "      <td>[jessica, purkiss]</td>\n",
       "      <td>[videos, 15, civilians, killed, single, us, ai...</td>\n",
       "      <td>1</td>\n",
       "      <td>3237</td>\n",
       "      <td>videos 15 civilians killed single us airstrike...</td>\n",
       "    </tr>\n",
       "    <tr>\n",
       "      <th>4</th>\n",
       "      <td>4</td>\n",
       "      <td>[iranian, woman, jailed, fictional, unpublishe...</td>\n",
       "      <td>[howard, portnoy]</td>\n",
       "      <td>[print, iranian, woman, sentenced, six, years,...</td>\n",
       "      <td>1</td>\n",
       "      <td>938</td>\n",
       "      <td>print iranian woman sentenced six years prison...</td>\n",
       "    </tr>\n",
       "  </tbody>\n",
       "</table>\n",
       "</div>"
      ],
      "text/plain": [
       "   id  ...                                        text_joined\n",
       "0   0  ...  house dem aide even see comeys letter jason ch...\n",
       "1   1  ...  ever get feeling life circles roundabout rathe...\n",
       "2   2  ...  truth might get fired october 29 2016 tension ...\n",
       "3   3  ...  videos 15 civilians killed single us airstrike...\n",
       "4   4  ...  print iranian woman sentenced six years prison...\n",
       "\n",
       "[5 rows x 7 columns]"
      ]
     },
     "execution_count": 42,
     "metadata": {
      "tags": []
     },
     "output_type": "execute_result"
    }
   ],
   "source": [
    "train_df.head()"
   ]
  },
  {
   "cell_type": "code",
   "execution_count": 43,
   "metadata": {
    "id": "N14mC1ECA5hM"
   },
   "outputs": [],
   "source": [
    "tf_idf_transformer = TfidfTransformer(smooth_idf=False)\n",
    "count_vectorizer = CountVectorizer(ngram_range=(1, 2))\n",
    "\n",
    "# fit train data to the count vectorizer\n",
    "count_vect_train = count_vectorizer.fit_transform(train_df['text_joined'].values)\n",
    "\n",
    "#fit the ngrams count to the tfidf transformers\n",
    "tf_idf_train = tf_idf_transformer.fit_transform(count_vect_train)"
   ]
  },
  {
   "cell_type": "code",
   "execution_count": 44,
   "metadata": {
    "colab": {
     "base_uri": "https://localhost:8080/"
    },
    "id": "AAPFzDKuHZu0",
    "outputId": "17a51e21-60b7-4916-8448-71a1bba2833a"
   },
   "outputs": [
    {
     "data": {
      "text/plain": [
       "<18285x4457643 sparse matrix of type '<class 'numpy.int64'>'\n",
       "\twith 12940845 stored elements in Compressed Sparse Row format>"
      ]
     },
     "execution_count": 44,
     "metadata": {
      "tags": []
     },
     "output_type": "execute_result"
    }
   ],
   "source": [
    "count_vect_train"
   ]
  },
  {
   "cell_type": "code",
   "execution_count": 45,
   "metadata": {
    "colab": {
     "base_uri": "https://localhost:8080/"
    },
    "id": "eTuLJvmLHauY",
    "outputId": "93266a55-bd63-4244-b1d7-e64845651343"
   },
   "outputs": [
    {
     "data": {
      "text/plain": [
       "<18285x4457643 sparse matrix of type '<class 'numpy.float64'>'\n",
       "\twith 12940845 stored elements in Compressed Sparse Row format>"
      ]
     },
     "execution_count": 45,
     "metadata": {
      "tags": []
     },
     "output_type": "execute_result"
    }
   ],
   "source": [
    "tf_idf_train"
   ]
  },
  {
   "cell_type": "code",
   "execution_count": 46,
   "metadata": {
    "id": "Cx9CShWzHu4n"
   },
   "outputs": [],
   "source": [
    "target = train_df['label'].values"
   ]
  },
  {
   "cell_type": "markdown",
   "metadata": {
    "id": "p-jIz9LwUY1Y"
   },
   "source": [
    "# Train Test Split\n"
   ]
  },
  {
   "cell_type": "code",
   "execution_count": 47,
   "metadata": {
    "id": "1sJ8fiELA5iY"
   },
   "outputs": [],
   "source": [
    "X_train, X_test, y_train, y_test = train_test_split(tf_idf_train, target, random_state=0)"
   ]
  },
  {
   "cell_type": "code",
   "execution_count": 48,
   "metadata": {
    "id": "KynVMSoYO1dv"
   },
   "outputs": [],
   "source": [
    "df_perf_metrics = pd.DataFrame(columns  =['Model', 'Accuracy_Training_Set', 'Accuracy_Test_Set', 'Precision', 'Recall', 'f1_score'])"
   ]
  },
  {
   "cell_type": "markdown",
   "metadata": {
    "id": "ZQczEo5VUeGZ"
   },
   "source": [
    "# Logistic Regression"
   ]
  },
  {
   "cell_type": "code",
   "execution_count": 49,
   "metadata": {
    "id": "wUPSisJ-JC96"
   },
   "outputs": [],
   "source": [
    "log_reg_model = LogisticRegression(C=1e5)\n",
    "log_reg_model.fit(X_train, y_train)\n",
    "\n",
    "y_pred = log_reg_model.predict(X_test)"
   ]
  },
  {
   "cell_type": "code",
   "execution_count": 50,
   "metadata": {
    "id": "HZ7UAJRCSmHN"
   },
   "outputs": [],
   "source": [
    "df_perf_metrics.loc[0] = [\n",
    "    \"Logistic Regression\",\n",
    "    log_reg_model.score(X_train, y_train),\n",
    "    log_reg_model.score(X_test, y_test),\n",
    "    precision_score(y_test, y_pred),\n",
    "    recall_score(y_test, y_pred),\n",
    "    f1_score(y_test, y_pred)\n",
    "]"
   ]
  },
  {
   "cell_type": "code",
   "execution_count": 51,
   "metadata": {
    "colab": {
     "base_uri": "https://localhost:8080/",
     "height": 79
    },
    "id": "UAOhbQ-HSdyt",
    "outputId": "820520d4-e8a1-48dc-8f00-978fb1221502"
   },
   "outputs": [
    {
     "data": {
      "text/html": [
       "<div>\n",
       "<style scoped>\n",
       "    .dataframe tbody tr th:only-of-type {\n",
       "        vertical-align: middle;\n",
       "    }\n",
       "\n",
       "    .dataframe tbody tr th {\n",
       "        vertical-align: top;\n",
       "    }\n",
       "\n",
       "    .dataframe thead th {\n",
       "        text-align: right;\n",
       "    }\n",
       "</style>\n",
       "<table border=\"1\" class=\"dataframe\">\n",
       "  <thead>\n",
       "    <tr style=\"text-align: right;\">\n",
       "      <th></th>\n",
       "      <th>Model</th>\n",
       "      <th>Accuracy_Training_Set</th>\n",
       "      <th>Accuracy_Test_Set</th>\n",
       "      <th>Precision</th>\n",
       "      <th>Recall</th>\n",
       "      <th>f1_score</th>\n",
       "    </tr>\n",
       "  </thead>\n",
       "  <tbody>\n",
       "    <tr>\n",
       "      <th>0</th>\n",
       "      <td>Logistic Regression</td>\n",
       "      <td>0.999927</td>\n",
       "      <td>0.970472</td>\n",
       "      <td>0.969605</td>\n",
       "      <td>0.962293</td>\n",
       "      <td>0.965935</td>\n",
       "    </tr>\n",
       "  </tbody>\n",
       "</table>\n",
       "</div>"
      ],
      "text/plain": [
       "                 Model  Accuracy_Training_Set  ...    Recall  f1_score\n",
       "0  Logistic Regression               0.999927  ...  0.962293  0.965935\n",
       "\n",
       "[1 rows x 6 columns]"
      ]
     },
     "execution_count": 51,
     "metadata": {
      "tags": []
     },
     "output_type": "execute_result"
    }
   ],
   "source": [
    "df_perf_metrics"
   ]
  },
  {
   "cell_type": "code",
   "execution_count": 52,
   "metadata": {
    "id": "Z9VmkfWcTghU"
   },
   "outputs": [],
   "source": [
    "df_perf_metrics = pd.DataFrame(columns=[\n",
    "    'Model', 'Accuracy_Training_Set', 'Accuracy_Test_Set', 'Precision',\n",
    "    'Recall', 'f1_score', 'Training Time (secs'\n",
    "])\n",
    "\n",
    "\n",
    "def get_perf_metrics(model, i):\n",
    "    model_name = type(model).__name__\n",
    "    start_time = time.time()\n",
    "    print(\"Training {} model...\".format(model_name))\n",
    "    model.fit(X_train, y_train)\n",
    "    print(\"Completed {} model training.\".format(model_name))\n",
    "    elapsed_time = time.time() - start_time\n",
    "    print(\"Time elapsed: {:.2f} s.\".format(elapsed_time))\n",
    "    y_pred = model.predict(X_test)\n",
    "    df_perf_metrics.loc[i] = [\n",
    "        model_name,\n",
    "        model.score(X_train, y_train),\n",
    "        model.score(X_test, y_test),\n",
    "        precision_score(y_test, y_pred),\n",
    "        recall_score(y_test, y_pred),\n",
    "        f1_score(y_test, y_pred), \"{:.2f}\".format(elapsed_time)\n",
    "    ]\n",
    "    print(\"Completed {} model's performance assessment.\".format(model_name))"
   ]
  },
  {
   "cell_type": "code",
   "execution_count": 53,
   "metadata": {
    "id": "X-Znnm07A5kX"
   },
   "outputs": [],
   "source": [
    "models_list = [LogisticRegression(C=1e5),\n",
    "               RandomForestClassifier(n_estimators=5),\n",
    "               ExtraTreesClassifier(n_estimators=5,n_jobs=4),\n",
    "               AdaBoostClassifier(DecisionTreeClassifier(max_depth=3),n_estimators=5)]"
   ]
  },
  {
   "cell_type": "code",
   "execution_count": 54,
   "metadata": {
    "colab": {
     "base_uri": "https://localhost:8080/"
    },
    "id": "owanJAEeHBrC",
    "outputId": "08428d37-2f1b-4a06-8ae6-221cbbe108ee"
   },
   "outputs": [
    {
     "name": "stdout",
     "output_type": "stream",
     "text": [
      "Training LogisticRegression model...\n",
      "Completed LogisticRegression model training.\n",
      "Time elapsed: 86.78 s.\n",
      "Completed LogisticRegression model's performance assessment.\n",
      "Training RandomForestClassifier model...\n",
      "Completed RandomForestClassifier model training.\n",
      "Time elapsed: 29.26 s.\n",
      "Completed RandomForestClassifier model's performance assessment.\n",
      "Training ExtraTreesClassifier model...\n",
      "Completed ExtraTreesClassifier model training.\n",
      "Time elapsed: 45.40 s.\n",
      "Completed ExtraTreesClassifier model's performance assessment.\n",
      "Training AdaBoostClassifier model...\n",
      "Completed AdaBoostClassifier model training.\n",
      "Time elapsed: 276.41 s.\n",
      "Completed AdaBoostClassifier model's performance assessment.\n",
      "CPU times: user 8min 15s, sys: 40 s, total: 8min 55s\n",
      "Wall time: 7min 24s\n"
     ]
    }
   ],
   "source": [
    "%%time\n",
    "for n, model in enumerate(models_list):\n",
    "    get_perf_metrics(model, n)"
   ]
  },
  {
   "cell_type": "code",
   "execution_count": 55,
   "metadata": {
    "colab": {
     "base_uri": "https://localhost:8080/",
     "height": 171
    },
    "id": "vNuvvsKAbtAT",
    "outputId": "9bee1b5d-11e7-41e0-93b0-484ccf586ee8"
   },
   "outputs": [
    {
     "data": {
      "text/html": [
       "<div>\n",
       "<style scoped>\n",
       "    .dataframe tbody tr th:only-of-type {\n",
       "        vertical-align: middle;\n",
       "    }\n",
       "\n",
       "    .dataframe tbody tr th {\n",
       "        vertical-align: top;\n",
       "    }\n",
       "\n",
       "    .dataframe thead th {\n",
       "        text-align: right;\n",
       "    }\n",
       "</style>\n",
       "<table border=\"1\" class=\"dataframe\">\n",
       "  <thead>\n",
       "    <tr style=\"text-align: right;\">\n",
       "      <th></th>\n",
       "      <th>Model</th>\n",
       "      <th>Accuracy_Training_Set</th>\n",
       "      <th>Accuracy_Test_Set</th>\n",
       "      <th>Precision</th>\n",
       "      <th>Recall</th>\n",
       "      <th>f1_score</th>\n",
       "      <th>Training Time (secs</th>\n",
       "    </tr>\n",
       "  </thead>\n",
       "  <tbody>\n",
       "    <tr>\n",
       "      <th>0</th>\n",
       "      <td>LogisticRegression</td>\n",
       "      <td>0.999927</td>\n",
       "      <td>0.970472</td>\n",
       "      <td>0.969605</td>\n",
       "      <td>0.962293</td>\n",
       "      <td>0.965935</td>\n",
       "      <td>86.78</td>\n",
       "    </tr>\n",
       "    <tr>\n",
       "      <th>1</th>\n",
       "      <td>RandomForestClassifier</td>\n",
       "      <td>0.983082</td>\n",
       "      <td>0.807743</td>\n",
       "      <td>0.816781</td>\n",
       "      <td>0.719457</td>\n",
       "      <td>0.765036</td>\n",
       "      <td>29.26</td>\n",
       "    </tr>\n",
       "    <tr>\n",
       "      <th>2</th>\n",
       "      <td>ExtraTreesClassifier</td>\n",
       "      <td>0.999927</td>\n",
       "      <td>0.847113</td>\n",
       "      <td>0.878521</td>\n",
       "      <td>0.752640</td>\n",
       "      <td>0.810723</td>\n",
       "      <td>45.40</td>\n",
       "    </tr>\n",
       "    <tr>\n",
       "      <th>3</th>\n",
       "      <td>AdaBoostClassifier</td>\n",
       "      <td>0.904689</td>\n",
       "      <td>0.896763</td>\n",
       "      <td>0.872727</td>\n",
       "      <td>0.892911</td>\n",
       "      <td>0.882704</td>\n",
       "      <td>276.41</td>\n",
       "    </tr>\n",
       "  </tbody>\n",
       "</table>\n",
       "</div>"
      ],
      "text/plain": [
       "                    Model  Accuracy_Training_Set  ...  f1_score  Training Time (secs\n",
       "0      LogisticRegression               0.999927  ...  0.965935                86.78\n",
       "1  RandomForestClassifier               0.983082  ...  0.765036                29.26\n",
       "2    ExtraTreesClassifier               0.999927  ...  0.810723                45.40\n",
       "3      AdaBoostClassifier               0.904689  ...  0.882704               276.41\n",
       "\n",
       "[4 rows x 7 columns]"
      ]
     },
     "execution_count": 55,
     "metadata": {
      "tags": []
     },
     "output_type": "execute_result"
    }
   ],
   "source": [
    "df_perf_metrics"
   ]
  },
  {
   "cell_type": "markdown",
   "metadata": {
    "id": "GOHQ_6YdehGJ"
   },
   "source": [
    "# Adding Title and Author Information to the Text"
   ]
  },
  {
   "cell_type": "code",
   "execution_count": 56,
   "metadata": {
    "id": "x3smbWP0btIf"
   },
   "outputs": [],
   "source": [
    "train_df['all_info'] = train_df['text'] + train_df['title'] + train_df['author'] \n",
    "train_df['all_info'] = train_df['all_info'].apply(lambda x: \" \".join(x))\n",
    "\n",
    "test_df['all_info'] = test_df['text'] + test_df['title'] + test_df['author'] \n",
    "test_df['all_info'] = test_df['all_info'].apply(lambda x: \" \".join(x))"
   ]
  },
  {
   "cell_type": "code",
   "execution_count": 57,
   "metadata": {
    "id": "DrnVQr67HBwN"
   },
   "outputs": [],
   "source": [
    "tf_idf_transformer = TfidfTransformer(smooth_idf=False)\n",
    "count_vectorizer = CountVectorizer(ngram_range=(1, 2))\n",
    "\n",
    "# fit train data to the count vectorizer\n",
    "count_vect_train = count_vectorizer.fit_transform(train_df['all_info'].values)\n",
    "\n",
    "#fit the ngrams count to the tfidf transformers\n",
    "tf_idf_train = tf_idf_transformer.fit_transform(count_vect_train)\n",
    "\n",
    "X_train, X_test, y_train, y_test = train_test_split(tf_idf_train, target, random_state=0)"
   ]
  },
  {
   "cell_type": "code",
   "execution_count": 58,
   "metadata": {
    "colab": {
     "base_uri": "https://localhost:8080/"
    },
    "id": "nN0xDutyHBy2",
    "outputId": "0a5ecdd8-e304-4b06-c148-7074cb814dab"
   },
   "outputs": [
    {
     "name": "stdout",
     "output_type": "stream",
     "text": [
      "Training LogisticRegression model...\n",
      "Completed LogisticRegression model training.\n",
      "Time elapsed: 90.41 s.\n",
      "Completed LogisticRegression model's performance assessment.\n",
      "Training RandomForestClassifier model...\n",
      "Completed RandomForestClassifier model training.\n",
      "Time elapsed: 19.83 s.\n",
      "Completed RandomForestClassifier model's performance assessment.\n",
      "Training ExtraTreesClassifier model...\n",
      "Completed ExtraTreesClassifier model training.\n",
      "Time elapsed: 33.60 s.\n",
      "Completed ExtraTreesClassifier model's performance assessment.\n",
      "Training AdaBoostClassifier model...\n",
      "Completed AdaBoostClassifier model training.\n",
      "Time elapsed: 276.24 s.\n",
      "Completed AdaBoostClassifier model's performance assessment.\n",
      "CPU times: user 7min 49s, sys: 40.4 s, total: 8min 29s\n",
      "Wall time: 7min 6s\n"
     ]
    }
   ],
   "source": [
    "%%time\n",
    "for n, model in enumerate(models_list):\n",
    "    get_perf_metrics(model, n)"
   ]
  },
  {
   "cell_type": "code",
   "execution_count": 59,
   "metadata": {
    "colab": {
     "base_uri": "https://localhost:8080/",
     "height": 171
    },
    "id": "TGE3daICgE1i",
    "outputId": "7b92129e-3d4d-4683-80e6-ffedf18219e8"
   },
   "outputs": [
    {
     "data": {
      "text/html": [
       "<div>\n",
       "<style scoped>\n",
       "    .dataframe tbody tr th:only-of-type {\n",
       "        vertical-align: middle;\n",
       "    }\n",
       "\n",
       "    .dataframe tbody tr th {\n",
       "        vertical-align: top;\n",
       "    }\n",
       "\n",
       "    .dataframe thead th {\n",
       "        text-align: right;\n",
       "    }\n",
       "</style>\n",
       "<table border=\"1\" class=\"dataframe\">\n",
       "  <thead>\n",
       "    <tr style=\"text-align: right;\">\n",
       "      <th></th>\n",
       "      <th>Model</th>\n",
       "      <th>Accuracy_Training_Set</th>\n",
       "      <th>Accuracy_Test_Set</th>\n",
       "      <th>Precision</th>\n",
       "      <th>Recall</th>\n",
       "      <th>f1_score</th>\n",
       "      <th>Training Time (secs</th>\n",
       "    </tr>\n",
       "  </thead>\n",
       "  <tbody>\n",
       "    <tr>\n",
       "      <th>0</th>\n",
       "      <td>LogisticRegression</td>\n",
       "      <td>1.000000</td>\n",
       "      <td>0.979878</td>\n",
       "      <td>0.978316</td>\n",
       "      <td>0.975365</td>\n",
       "      <td>0.976838</td>\n",
       "      <td>90.41</td>\n",
       "    </tr>\n",
       "    <tr>\n",
       "      <th>1</th>\n",
       "      <td>RandomForestClassifier</td>\n",
       "      <td>0.987311</td>\n",
       "      <td>0.831802</td>\n",
       "      <td>0.837763</td>\n",
       "      <td>0.760684</td>\n",
       "      <td>0.797365</td>\n",
       "      <td>19.83</td>\n",
       "    </tr>\n",
       "    <tr>\n",
       "      <th>2</th>\n",
       "      <td>ExtraTreesClassifier</td>\n",
       "      <td>1.000000</td>\n",
       "      <td>0.861986</td>\n",
       "      <td>0.887557</td>\n",
       "      <td>0.781800</td>\n",
       "      <td>0.831329</td>\n",
       "      <td>33.60</td>\n",
       "    </tr>\n",
       "    <tr>\n",
       "      <th>3</th>\n",
       "      <td>AdaBoostClassifier</td>\n",
       "      <td>0.963976</td>\n",
       "      <td>0.956693</td>\n",
       "      <td>0.941350</td>\n",
       "      <td>0.960282</td>\n",
       "      <td>0.950722</td>\n",
       "      <td>276.24</td>\n",
       "    </tr>\n",
       "  </tbody>\n",
       "</table>\n",
       "</div>"
      ],
      "text/plain": [
       "                    Model  Accuracy_Training_Set  ...  f1_score  Training Time (secs\n",
       "0      LogisticRegression               1.000000  ...  0.976838                90.41\n",
       "1  RandomForestClassifier               0.987311  ...  0.797365                19.83\n",
       "2    ExtraTreesClassifier               1.000000  ...  0.831329                33.60\n",
       "3      AdaBoostClassifier               0.963976  ...  0.950722               276.24\n",
       "\n",
       "[4 rows x 7 columns]"
      ]
     },
     "execution_count": 59,
     "metadata": {
      "tags": []
     },
     "output_type": "execute_result"
    }
   ],
   "source": [
    "df_perf_metrics"
   ]
  },
  {
   "cell_type": "markdown",
   "metadata": {
    "id": "5-zPLOWMpVe2"
   },
   "source": [
    "# NLP using Deep Learning with Keras"
   ]
  },
  {
   "cell_type": "code",
   "execution_count": 60,
   "metadata": {
    "colab": {
     "base_uri": "https://localhost:8080/",
     "height": 122
    },
    "id": "3LtCO-hxqAaz",
    "outputId": "0cfdfd48-3b6e-434e-8b3e-e2a2901749e6"
   },
   "outputs": [
    {
     "data": {
      "application/vnd.google.colaboratory.intrinsic+json": {
       "type": "string"
      },
      "text/plain": [
       "\"house dem aide even see comeys letter jason chaffetz tweeted darrell lucus october 30 2016 subscribe jason chaffetz stump american fork utah image courtesy michael jolley available creative commonsby license apologies keith olbermann doubt worst person world weekfbi director james comey according house democratic aide looks like also know secondworst person well turns comey sent nowinfamous letter announcing fbi looking emails may related hillary clintons email server ranking democrats relevant committees hear comey found via tweet one republican committee chairmen know comey notified republican chairmen democratic ranking members house intelligence judiciary oversight committees agency reviewing emails recently discovered order see contained classified information long letter went oversight committee chairman jason chaffetz set political world ablaze tweet fbi dir informed fbi learned existence emails appear pertinent investigation case reopened jason chaffetz jasoninthehouse october 28 2016 course know case comey actually saying reviewing emails light unrelated casewhich know anthony weiners sexting teenager apparently little things facts matter chaffetz utah republican already vowed initiate raft investigations hillary winsat least two years worth possibly entire terms worth apparently chaffetz thought fbi already work himresulting tweet briefly roiled nation cooler heads realized dud according senior house democratic aide misreading letter may least chaffetz sins aide told shareblue boss democrats even know comeys letter timeand found checked twitter democratic ranking members relevant committees receive comeys letter republican chairmen fact democratic ranking members receive chairman oversight government reform committee jason chaffetz tweeted made public let us see got right fbi director tells chaffetz gop committee chairmen major development potentially politically explosive investigation neither chaffetz colleagues courtesy let democratic counterparts know instead according aide made find twitter already talk daily kos comey provided advance notice letter chaffetz republicans giving time turn spin machine may make good theater nothing far even suggests case nothing far suggests comey anything grossly incompetent tonedeaf suggest however chaffetz acting way makes dan burton darrell issa look like models responsibility bipartisanship even decency notify ranking member elijah cummings something explosive trample basic standards fairness know granted likely chaffetz answer sits ridiculously republican district anchored provo orem cook partisan voting index r25 gave mitt romney punishing 78 percent vote 2012 moreover republican house leadership given full support chaffetz planned fishing expedition mean turn hot lights textbook example house become republican control also second worst person world darrell lucus darrell 30something graduate university north carolina considers journalist old school attempt turn member religious right college succeeded turning religious right 's worst nightmarea charismatic christian unapologetic liberal desire stand scared silence increased survived abusive threeyear marriage may know daily kos christian dem nc follow twitter darrelllucus connect facebook click buy darrell mello yello connect house dem aide even see comeys letter jason chaffetz tweeted darrell lucus\""
      ]
     },
     "execution_count": 60,
     "metadata": {
      "tags": []
     },
     "output_type": "execute_result"
    }
   ],
   "source": [
    "all_text = train_df[\"all_info\"].astype(str).tolist()\n",
    "all_text[0]"
   ]
  },
  {
   "cell_type": "code",
   "execution_count": 61,
   "metadata": {
    "colab": {
     "base_uri": "https://localhost:8080/"
    },
    "id": "iw7qydwRiSML",
    "outputId": "7f63b440-c525-4561-b7f9-ad654fde27d0"
   },
   "outputs": [
    {
     "data": {
      "text/plain": [
       "177027"
      ]
     },
     "execution_count": 61,
     "metadata": {
      "tags": []
     },
     "output_type": "execute_result"
    }
   ],
   "source": [
    "tokenizer = Tokenizer(oov_token = \"<OOV>\", num_words=6000)\n",
    "tokenizer.fit_on_texts(all_text)\n",
    "word_index = tokenizer.word_index\n",
    "len(word_index)"
   ]
  },
  {
   "cell_type": "code",
   "execution_count": 62,
   "metadata": {
    "colab": {
     "base_uri": "https://localhost:8080/"
    },
    "id": "wPrbUDumiSS6",
    "outputId": "bb0597d7-24f9-4a09-fe53-a35dff734780"
   },
   "outputs": [
    {
     "data": {
      "text/plain": [
       "array([  40, 4881, 2085, ...,    0,    0,    0], dtype=int32)"
      ]
     },
     "execution_count": 62,
     "metadata": {
      "tags": []
     },
     "output_type": "execute_result"
    }
   ],
   "source": [
    "sequences = tokenizer.texts_to_sequences(all_text)\n",
    "padded = pad_sequences(sequences, padding = 'post', maxlen=6000)\n",
    "padded[0]"
   ]
  },
  {
   "cell_type": "code",
   "execution_count": 63,
   "metadata": {
    "colab": {
     "base_uri": "https://localhost:8080/"
    },
    "id": "1uuhRAIZjl2u",
    "outputId": "1222a5c7-764d-4fce-8fb4-1e8c15a8a689"
   },
   "outputs": [
    {
     "data": {
      "text/plain": [
       "(18285, 6000)"
      ]
     },
     "execution_count": 63,
     "metadata": {
      "tags": []
     },
     "output_type": "execute_result"
    }
   ],
   "source": [
    "padded.shape"
   ]
  },
  {
   "cell_type": "code",
   "execution_count": 110,
   "metadata": {
    "colab": {
     "base_uri": "https://localhost:8080/"
    },
    "id": "lS6RnrrkiSXZ",
    "outputId": "11b10640-f79d-43b8-cc8d-ca42acd9cbf5"
   },
   "outputs": [
    {
     "name": "stdout",
     "output_type": "stream",
     "text": [
      "Model: \"sequential_6\"\n",
      "_________________________________________________________________\n",
      "Layer (type)                 Output Shape              Param #   \n",
      "=================================================================\n",
      "embedding_4 (Embedding)      (None, 6000, 300)         1800000   \n",
      "_________________________________________________________________\n",
      "dropout_4 (Dropout)          (None, 6000, 300)         0         \n",
      "_________________________________________________________________\n",
      "lstm (LSTM)                  (None, 200)               400800    \n",
      "_________________________________________________________________\n",
      "dropout_5 (Dropout)          (None, 200)               0         \n",
      "_________________________________________________________________\n",
      "dense_12 (Dense)             (None, 1)                 201       \n",
      "=================================================================\n",
      "Total params: 2,201,001\n",
      "Trainable params: 2,201,001\n",
      "Non-trainable params: 0\n",
      "_________________________________________________________________\n"
     ]
    }
   ],
   "source": [
    "def get_model():\n",
    "    model=Sequential()\n",
    "    model.add(Embedding(6000, 300 ,input_length=6000))\n",
    "    model.add(Dropout(0.3))\n",
    "    model.add(LSTM(200))\n",
    "    model.add(Dropout(0.3))\n",
    "    model.add(Dense(1,activation='sigmoid'))\n",
    "    return model\n",
    "\n",
    "model = get_model()\n",
    "model.summary()"
   ]
  },
  {
   "cell_type": "code",
   "execution_count": 111,
   "metadata": {
    "id": "HOMe15iMiSVk"
   },
   "outputs": [],
   "source": [
    "X_train, X_test, y_train, y_test = train_test_split(padded, target, test_size=0.2)"
   ]
  },
  {
   "cell_type": "code",
   "execution_count": 112,
   "metadata": {
    "id": "M_rBhLiwiSRy"
   },
   "outputs": [],
   "source": [
    "callbacks=[\n",
    "    keras.callbacks.EarlyStopping(monitor=\"val_loss\", patience=15, \n",
    "                                  verbose=1, mode=\"min\", restore_best_weights=True),\n",
    "    keras.callbacks.ModelCheckpoint(filepath=\"best_model.hdf5\", verbose=1, save_best_only=True)\n",
    "]"
   ]
  },
  {
   "cell_type": "code",
   "execution_count": 114,
   "metadata": {
    "id": "31ofUO6biSO4"
   },
   "outputs": [],
   "source": [
    "model = get_model()\n",
    "model.compile(loss='binary_crossentropy',optimizer='adam',metrics=['accuracy'])"
   ]
  },
  {
   "cell_type": "code",
   "execution_count": 116,
   "metadata": {
    "colab": {
     "base_uri": "https://localhost:8080/"
    },
    "id": "AggtZp00soXb",
    "outputId": "57383f89-a404-47b3-f0ea-10df54727bd0"
   },
   "outputs": [
    {
     "name": "stdout",
     "output_type": "stream",
     "text": [
      "Epoch 1/10\n",
      "229/229 [==============================] - ETA: 0s - loss: 0.6853 - accuracy: 0.5669\n",
      "Epoch 00001: val_loss improved from inf to 0.68412, saving model to best_model.hdf5\n",
      "229/229 [==============================] - 179s 783ms/step - loss: 0.6853 - accuracy: 0.5669 - val_loss: 0.6841 - val_accuracy: 0.5663\n",
      "Epoch 2/10\n",
      "229/229 [==============================] - ETA: 0s - loss: 0.6853 - accuracy: 0.5668\n",
      "Epoch 00002: val_loss did not improve from 0.68412\n",
      "229/229 [==============================] - 181s 791ms/step - loss: 0.6853 - accuracy: 0.5668 - val_loss: 0.6842 - val_accuracy: 0.5669\n",
      "Epoch 3/10\n",
      "229/229 [==============================] - ETA: 0s - loss: 0.6848 - accuracy: 0.5669\n",
      "Epoch 00003: val_loss did not improve from 0.68412\n",
      "229/229 [==============================] - 181s 792ms/step - loss: 0.6848 - accuracy: 0.5669 - val_loss: 0.6852 - val_accuracy: 0.5671\n",
      "Epoch 4/10\n",
      "229/229 [==============================] - ETA: 0s - loss: 0.6849 - accuracy: 0.5669\n",
      "Epoch 00004: val_loss did not improve from 0.68412\n",
      "229/229 [==============================] - 181s 792ms/step - loss: 0.6849 - accuracy: 0.5669 - val_loss: 0.6849 - val_accuracy: 0.5669\n",
      "Epoch 5/10\n",
      "229/229 [==============================] - ETA: 0s - loss: 0.6846 - accuracy: 0.5669\n",
      "Epoch 00005: val_loss did not improve from 0.68412\n",
      "229/229 [==============================] - 181s 792ms/step - loss: 0.6846 - accuracy: 0.5669 - val_loss: 0.6888 - val_accuracy: 0.5671\n",
      "Epoch 6/10\n",
      "229/229 [==============================] - ETA: 0s - loss: 0.6848 - accuracy: 0.5669\n",
      "Epoch 00006: val_loss did not improve from 0.68412\n",
      "229/229 [==============================] - 181s 791ms/step - loss: 0.6848 - accuracy: 0.5669 - val_loss: 0.6846 - val_accuracy: 0.5674\n",
      "Epoch 7/10\n",
      "229/229 [==============================] - ETA: 0s - loss: 0.6879 - accuracy: 0.5655\n",
      "Epoch 00007: val_loss did not improve from 0.68412\n",
      "229/229 [==============================] - 181s 792ms/step - loss: 0.6879 - accuracy: 0.5655 - val_loss: 0.6848 - val_accuracy: 0.5669\n",
      "Epoch 8/10\n",
      "229/229 [==============================] - ETA: 0s - loss: 0.6850 - accuracy: 0.5667\n",
      "Epoch 00008: val_loss did not improve from 0.68412\n",
      "229/229 [==============================] - 188s 821ms/step - loss: 0.6850 - accuracy: 0.5667 - val_loss: 0.6846 - val_accuracy: 0.5666\n",
      "Epoch 9/10\n",
      "229/229 [==============================] - ETA: 0s - loss: 0.6845 - accuracy: 0.5669\n",
      "Epoch 00009: val_loss did not improve from 0.68412\n",
      "229/229 [==============================] - 183s 798ms/step - loss: 0.6845 - accuracy: 0.5669 - val_loss: 0.6842 - val_accuracy: 0.5669\n",
      "Epoch 10/10\n",
      "229/229 [==============================] - ETA: 0s - loss: 0.6844 - accuracy: 0.5669\n",
      "Epoch 00010: val_loss did not improve from 0.68412\n",
      "229/229 [==============================] - 183s 797ms/step - loss: 0.6844 - accuracy: 0.5669 - val_loss: 0.6844 - val_accuracy: 0.5669\n",
      "CPU times: user 22min 6s, sys: 3min 47s, total: 25min 53s\n",
      "Wall time: 30min 27s\n"
     ]
    }
   ],
   "source": [
    "%%time\n",
    "history = model.fit([X_train], \n",
    "                    y_train, \n",
    "                    epochs=10,\n",
    "                    batch_size=64, \n",
    "                    validation_data=([X_test], y_test), \n",
    "                    callbacks=callbacks)"
   ]
  },
  {
   "cell_type": "code",
   "execution_count": 117,
   "metadata": {
    "colab": {
     "base_uri": "https://localhost:8080/",
     "height": 615
    },
    "id": "m0R_WwTSiSHX",
    "outputId": "1dca1085-9988-4b77-df00-4591d454771e"
   },
   "outputs": [
    {
     "data": {
      "text/plain": [
       "<matplotlib.legend.Legend at 0x7f9355c92b00>"
      ]
     },
     "execution_count": 117,
     "metadata": {
      "tags": []
     },
     "output_type": "execute_result"
    },
    {
     "data": {
      "image/png": "[encoded data removed]",
      "text/plain": [
       "<Figure size 720x720 with 1 Axes>"
      ]
     },
     "metadata": {
      "tags": []
     },
     "output_type": "display_data"
    }
   ],
   "source": [
    "metric_toplot = \"loss\"\n",
    "plt.plot(history.epoch, history.history[metric_toplot], \".:\", label=\"loss\")\n",
    "plt.plot(history.epoch,\n",
    "         history.history[\"val_\" + metric_toplot],\n",
    "         \".:\",\n",
    "         label=\"val_loss\")\n",
    "plt.legend()"
   ]
  },
  {
   "cell_type": "code",
   "execution_count": 100,
   "metadata": {
    "id": "3IpYPyH-soI6"
   },
   "outputs": [],
   "source": [
    "model = keras.models.load_model('best_model.hdf5')"
   ]
  },
  {
   "cell_type": "code",
   "execution_count": 118,
   "metadata": {
    "colab": {
     "base_uri": "https://localhost:8080/"
    },
    "id": "TSDcImK4bw0v",
    "outputId": "56006790-8f54-43c9-df5d-98bedebd49f8"
   },
   "outputs": [
    {
     "name": "stdout",
     "output_type": "stream",
     "text": [
      "WARNING:tensorflow:From <ipython-input-118-fdaaf2360398>:1: Sequential.predict_classes (from tensorflow.python.keras.engine.sequential) is deprecated and will be removed after 2021-01-01.\n",
      "Instructions for updating:\n",
      "Please use instead:* `np.argmax(model.predict(x), axis=-1)`,   if your model does multi-class classification   (e.g. if it uses a `softmax` last-layer activation).* `(model.predict(x) > 0.5).astype(\"int32\")`,   if your model does binary classification   (e.g. if it uses a `sigmoid` last-layer activation).\n"
     ]
    }
   ],
   "source": [
    "y_pred = model.predict_classes(X_test)"
   ]
  },
  {
   "cell_type": "code",
   "execution_count": 119,
   "metadata": {
    "colab": {
     "base_uri": "https://localhost:8080/"
    },
    "id": "G93AtXOfSGFd",
    "outputId": "9544734c-7bd7-4519-8fa3-fd1dc4fb00eb"
   },
   "outputs": [
    {
     "data": {
      "text/plain": [
       "((3657,), (3657, 1))"
      ]
     },
     "execution_count": 119,
     "metadata": {
      "tags": []
     },
     "output_type": "execute_result"
    }
   ],
   "source": [
    "y_test.shape, y_pred.shape"
   ]
  },
  {
   "cell_type": "code",
   "execution_count": 120,
   "metadata": {
    "colab": {
     "base_uri": "https://localhost:8080/"
    },
    "id": "2_2Us8-DsoDt",
    "outputId": "f381d7da-ce99-4ef1-ed43-9e57dcd70608"
   },
   "outputs": [
    {
     "data": {
      "text/plain": [
       "1.0"
      ]
     },
     "execution_count": 120,
     "metadata": {
      "tags": []
     },
     "output_type": "execute_result"
    }
   ],
   "source": [
    "precision_score(y_test, y_pred)"
   ]
  },
  {
   "cell_type": "code",
   "execution_count": 121,
   "metadata": {
    "colab": {
     "base_uri": "https://localhost:8080/"
    },
    "id": "usiMK0OJsn-i",
    "outputId": "9d5a7670-1583-4ee9-e49b-ebd33caa29db"
   },
   "outputs": [
    {
     "data": {
      "text/plain": [
       "array([[2071,    0],\n",
       "       [1584,    2]])"
      ]
     },
     "execution_count": 121,
     "metadata": {
      "tags": []
     },
     "output_type": "execute_result"
    }
   ],
   "source": [
    "confusion_matrix(y_test, y_pred)"
   ]
  },
  {
   "cell_type": "code",
   "execution_count": 122,
   "metadata": {
    "colab": {
     "base_uri": "https://localhost:8080/"
    },
    "id": "8BTKxitGsn7Z",
    "outputId": "f0b07c4f-4b31-4d08-c1c2-6e9162d9d886"
   },
   "outputs": [
    {
     "data": {
      "text/plain": [
       "0.0012610340479192938"
      ]
     },
     "execution_count": 122,
     "metadata": {
      "tags": []
     },
     "output_type": "execute_result"
    }
   ],
   "source": [
    "recall_score(y_test, y_pred)"
   ]
  },
  {
   "cell_type": "code",
   "execution_count": null,
   "metadata": {
    "id": "XOI71xx_sn0V"
   },
   "outputs": [],
   "source": [
    "    "
   ]
  },
  {
   "cell_type": "code",
   "execution_count": null,
   "metadata": {
    "id": "mr7Q4WgHsnxi"
   },
   "outputs": [],
   "source": []
  }
 ],
 "metadata": {
  "accelerator": "GPU",
  "colab": {
   "authorship_tag": "ABX9TyPyfY96WAv4dffdc99GLvYI",
   "collapsed_sections": [],
   "mount_file_id": "1K38ZOYiYkrnxiyEPw_JlJqFdkefvjJG_",
   "name": "Fake News.ipynb",
   "provenance": []
  },
  "kernelspec": {
   "display_name": "Python 3",
   "language": "python",
   "name": "python3"
  },
  "language_info": {
   "codemirror_mode": {
    "name": "ipython",
    "version": 3
   },
   "file_extension": ".py",
   "mimetype": "text/x-python",
   "name": "python",
   "nbconvert_exporter": "python",
   "pygments_lexer": "ipython3",
   "version": "3.8.3"
  },
  "toc": {
   "base_numbering": 1,
   "nav_menu": {},
   "number_sections": true,
   "sideBar": true,
   "skip_h1_title": false,
   "title_cell": "Table of Contents",
   "title_sidebar": "Contents",
   "toc_cell": false,
   "toc_position": {},
   "toc_section_display": true,
   "toc_window_display": true
  },
  "varInspector": {
   "cols": {
    "lenName": 16,
    "lenType": 16,
    "lenVar": 40
   },
   "kernels_config": {
    "python": {
     "delete_cmd_postfix": "",
     "delete_cmd_prefix": "del ",
     "library": "var_list.py",
     "varRefreshCmd": "print(var_dic_list())"
    },
    "r": {
     "delete_cmd_postfix": ") ",
     "delete_cmd_prefix": "rm(",
     "library": "var_list.r",
     "varRefreshCmd": "cat(var_dic_list()) "
    }
   },
   "types_to_exclude": [
    "module",
    "function",
    "builtin_function_or_method",
    "instance",
    "_Feature"
   ],
   "window_display": false
  }
 },
 "nbformat": 4,
 "nbformat_minor": 1
}
