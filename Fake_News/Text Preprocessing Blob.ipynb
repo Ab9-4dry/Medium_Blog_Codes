{
 "cells": [
  {
   "cell_type": "markdown",
   "metadata": {},
   "source": [
    "# Text Preprocessing Exploration"
   ]
  },
  {
   "cell_type": "code",
   "execution_count": 25,
   "metadata": {
    "colab": {
     "base_uri": "https://localhost:8080/"
    },
    "id": "_s-_p1Jka2Hx",
    "outputId": "fd6490e6-80c8-48cb-dfe4-41ef2ed74315"
   },
   "outputs": [
    {
     "name": "stdout",
     "output_type": "stream",
     "text": [
      "I have\n",
      "he is\n"
     ]
    }
   ],
   "source": [
    "import contractions\n",
    "print(contractions.fix(\"i've\"))\n",
    "print(contractions.fix(\"he's\"))"
   ]
  },
  {
   "cell_type": "code",
   "execution_count": 26,
   "metadata": {
    "colab": {
     "base_uri": "https://localhost:8080/",
     "height": 35
    },
    "id": "PZN81fq8a2KY",
    "outputId": "a3e8b823-e4cd-4ada-cb87-1d0ab6c8920e"
   },
   "outputs": [
    {
     "data": {
      "application/vnd.google.colaboratory.intrinsic+json": {
       "type": "string"
      },
      "text/plain": [
       "'I have 500 and I love that I said WHAT eitmeye'"
      ]
     },
     "execution_count": 26,
     "metadata": {
      "tags": []
     },
     "output_type": "execute_result"
    }
   ],
   "source": [
    "# re.sub(r'[^\\w\\d\\s\\']+', '', 'I have $500 and I love that! I said \"WHAT\" eğitmeye')\n",
    "re.sub(r'[^a-zA-Z\\d\\s\\']+', '', 'I have $500 and I love that! I said \"WHAT\" eğitmeye')"
   ]
  },
  {
   "cell_type": "code",
   "execution_count": 27,
   "metadata": {
    "colab": {
     "base_uri": "https://localhost:8080/"
    },
    "id": "3-I0YKYoa2MZ",
    "outputId": "1aea3dd5-5312-4c05-854d-72cef22dc0b2"
   },
   "outputs": [
    {
     "data": {
      "text/plain": [
       "(1, 'z')"
      ]
     },
     "execution_count": 27,
     "metadata": {
      "tags": []
     },
     "output_type": "execute_result"
    }
   ],
   "source": [
    "len('z'), 'Z'.lower()"
   ]
  },
  {
   "cell_type": "code",
   "execution_count": null,
   "metadata": {},
   "outputs": [],
   "source": [
    "# TF IDF Exploration"
   ]
  },
  {
   "cell_type": "code",
   "execution_count": 34,
   "metadata": {
    "id": "i4LYNGVVUOfJ"
   },
   "outputs": [],
   "source": [
    "transformer = TfidfTransformer(smooth_idf=False)\n",
    "count_vectorizer = CountVectorizer(ngram_range=(1, 2))"
   ]
  },
  {
   "cell_type": "code",
   "execution_count": 35,
   "metadata": {
    "id": "K9OU3-RpUOhP"
   },
   "outputs": [],
   "source": [
    "sentence = [\"an apple a day keeps the doctor away\"]\n",
    "v = CountVectorizer(ngram_range=(1,2))"
   ]
  },
  {
   "cell_type": "code",
   "execution_count": 36,
   "metadata": {
    "colab": {
     "base_uri": "https://localhost:8080/"
    },
    "id": "uoKkcdBNUOkC",
    "outputId": "af57ebf7-0392-43c4-bda6-bca70da6d54c"
   },
   "outputs": [
    {
     "name": "stdout",
     "output_type": "stream",
     "text": [
      "CountVectorizer(analyzer='word', binary=False, decode_error='strict',\n",
      "                dtype=<class 'numpy.int64'>, encoding='utf-8', input='content',\n",
      "                lowercase=True, max_df=1.0, max_features=None, min_df=1,\n",
      "                ngram_range=(1, 2), preprocessor=None, stop_words=None,\n",
      "                strip_accents=None, token_pattern='(?u)\\\\b\\\\w\\\\w+\\\\b',\n",
      "                tokenizer=None, vocabulary=None)\n"
     ]
    }
   ],
   "source": [
    "print(v.fit(sentence))"
   ]
  },
  {
   "cell_type": "code",
   "execution_count": 37,
   "metadata": {
    "colab": {
     "base_uri": "https://localhost:8080/"
    },
    "id": "bKK-jKYiA5SR",
    "outputId": "30e8f66d-7a0d-44db-8b7b-f98a521fd37f"
   },
   "outputs": [
    {
     "data": {
      "text/plain": [
       "['an',\n",
       " 'an apple',\n",
       " 'apple',\n",
       " 'apple day',\n",
       " 'away',\n",
       " 'day',\n",
       " 'day keeps',\n",
       " 'doctor',\n",
       " 'doctor away',\n",
       " 'keeps',\n",
       " 'keeps the',\n",
       " 'the',\n",
       " 'the doctor']"
      ]
     },
     "execution_count": 37,
     "metadata": {
      "tags": []
     },
     "output_type": "execute_result"
    }
   ],
   "source": [
    "v.get_feature_names()"
   ]
  },
  {
   "cell_type": "code",
   "execution_count": 38,
   "metadata": {
    "colab": {
     "base_uri": "https://localhost:8080/"
    },
    "id": "g_kb2D2hA5aO",
    "outputId": "883a0e05-830f-4005-8d04-2b1e3e478261"
   },
   "outputs": [
    {
     "data": {
      "text/plain": [
       "<1x13 sparse matrix of type '<class 'numpy.int64'>'\n",
       "\twith 13 stored elements in Compressed Sparse Row format>"
      ]
     },
     "execution_count": 38,
     "metadata": {
      "tags": []
     },
     "output_type": "execute_result"
    }
   ],
   "source": [
    "v.transform(sentence)"
   ]
  },
  {
   "cell_type": "code",
   "execution_count": 39,
   "metadata": {
    "colab": {
     "base_uri": "https://localhost:8080/"
    },
    "id": "8GaHC8WTA5cY",
    "outputId": "e6bdfd2b-df78-4319-eabf-087a4e424eef"
   },
   "outputs": [
    {
     "data": {
      "text/plain": [
       "{'an': 0,\n",
       " 'an apple': 1,\n",
       " 'apple': 2,\n",
       " 'apple day': 3,\n",
       " 'away': 4,\n",
       " 'day': 5,\n",
       " 'day keeps': 6,\n",
       " 'doctor': 7,\n",
       " 'doctor away': 8,\n",
       " 'keeps': 9,\n",
       " 'keeps the': 10,\n",
       " 'the': 11,\n",
       " 'the doctor': 12}"
      ]
     },
     "execution_count": 39,
     "metadata": {
      "tags": []
     },
     "output_type": "execute_result"
    }
   ],
   "source": [
    "v.vocabulary_"
   ]
  },
  {
   "cell_type": "code",
   "execution_count": null,
   "metadata": {},
   "outputs": [],
   "source": []
  }
 ],
 "metadata": {
  "kernelspec": {
   "display_name": "Python 3",
   "language": "python",
   "name": "python3"
  },
  "language_info": {
   "codemirror_mode": {
    "name": "ipython",
    "version": 3
   },
   "file_extension": ".py",
   "mimetype": "text/x-python",
   "name": "python",
   "nbconvert_exporter": "python",
   "pygments_lexer": "ipython3",
   "version": "3.8.3"
  },
  "toc": {
   "base_numbering": 1,
   "nav_menu": {},
   "number_sections": true,
   "sideBar": true,
   "skip_h1_title": false,
   "title_cell": "Table of Contents",
   "title_sidebar": "Contents",
   "toc_cell": false,
   "toc_position": {},
   "toc_section_display": true,
   "toc_window_display": false
  },
  "varInspector": {
   "cols": {
    "lenName": 16,
    "lenType": 16,
    "lenVar": 40
   },
   "kernels_config": {
    "python": {
     "delete_cmd_postfix": "",
     "delete_cmd_prefix": "del ",
     "library": "var_list.py",
     "varRefreshCmd": "print(var_dic_list())"
    },
    "r": {
     "delete_cmd_postfix": ") ",
     "delete_cmd_prefix": "rm(",
     "library": "var_list.r",
     "varRefreshCmd": "cat(var_dic_list()) "
    }
   },
   "types_to_exclude": [
    "module",
    "function",
    "builtin_function_or_method",
    "instance",
    "_Feature"
   ],
   "window_display": false
  }
 },
 "nbformat": 4,
 "nbformat_minor": 4
}
