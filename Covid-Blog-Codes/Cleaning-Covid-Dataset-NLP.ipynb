{
 "cells": [
  {
   "cell_type": "code",
   "execution_count": 1,
   "metadata": {},
   "outputs": [
    {
     "name": "stderr",
     "output_type": "stream",
     "text": [
      "/anaconda3/lib/python3.7/site-packages/ipykernel_launcher.py:2: FutureWarning: Passing a negative integer is deprecated in version 1.0 and will not be supported in future version. Instead, use None to not limit the column width.\n",
      "  \n"
     ]
    }
   ],
   "source": [
    "import pandas as pd\n",
    "pd.set_option('display.max_colwidth', -1)\n",
    "\n",
    "from nltk import sent_tokenize, word_tokenize\n",
    "from nltk.corpus import stopwords\n",
    "import string\n",
    "import numpy as np\n",
    "\n",
    "STOPWORDS = set(stopwords.words('english'))"
   ]
  },
  {
   "cell_type": "code",
   "execution_count": 2,
   "metadata": {},
   "outputs": [],
   "source": [
    "file_name_raw_data_pkl = '/Users/f75k8bx/Documents/MyGitHub/NLP_using_News_API/test.pkl'\n",
    "df = pd.read_pickle(file_name_raw_data_pkl)"
   ]
  },
  {
   "cell_type": "code",
   "execution_count": 3,
   "metadata": {},
   "outputs": [],
   "source": [
    "df_Ind = df[df.country == 'India']"
   ]
  },
  {
   "cell_type": "code",
   "execution_count": 4,
   "metadata": {},
   "outputs": [
    {
     "data": {
      "text/plain": [
       "(9289, 9)"
      ]
     },
     "execution_count": 4,
     "metadata": {},
     "output_type": "execute_result"
    }
   ],
   "source": [
    "df_Ind.shape"
   ]
  },
  {
   "cell_type": "code",
   "execution_count": 5,
   "metadata": {
    "scrolled": true
   },
   "outputs": [
    {
     "data": {
      "text/html": [
       "<div>\n",
       "<style scoped>\n",
       "    .dataframe tbody tr th:only-of-type {\n",
       "        vertical-align: middle;\n",
       "    }\n",
       "\n",
       "    .dataframe tbody tr th {\n",
       "        vertical-align: top;\n",
       "    }\n",
       "\n",
       "    .dataframe thead th {\n",
       "        text-align: right;\n",
       "    }\n",
       "</style>\n",
       "<table border=\"1\" class=\"dataframe\">\n",
       "  <thead>\n",
       "    <tr style=\"text-align: right;\">\n",
       "      <th></th>\n",
       "      <th>author</th>\n",
       "      <th>content</th>\n",
       "      <th>description</th>\n",
       "      <th>publishedAt</th>\n",
       "      <th>source.name</th>\n",
       "      <th>title</th>\n",
       "      <th>url</th>\n",
       "      <th>urlToImage</th>\n",
       "      <th>country</th>\n",
       "    </tr>\n",
       "  </thead>\n",
       "  <tbody>\n",
       "    <tr>\n",
       "      <th>0</th>\n",
       "      <td>Jacob Koshy</td>\n",
       "      <td>The spectre of COVID-19 has made its appearance in one of Indias most storied tiger reserves. The death of a 10-year-old ailing male tiger, in the Pench Tiger Reserve (PTR) the countrys most munificent reserve that succumbed to a respiratory illness last Satu… [+3272 chars]</td>\n",
       "      <td>NTCA mulls test after a big cat tested positive for the virus in a U.S. zoo</td>\n",
       "      <td>2020-04-06T18:36:02Z</td>\n",
       "      <td>The Hindu</td>\n",
       "      <td>Pench tiger death raises COVID-19 fears</td>\n",
       "      <td>https://www.thehindu.com/news/national/pench-tiger-death-raises-covid-19-fears/article31275062.ece</td>\n",
       "      <td>https://www.thehindu.com/news/national/kfposq/article31275061.ece/ALTERNATES/LANDSCAPE_615/T03</td>\n",
       "      <td>India</td>\n",
       "    </tr>\n",
       "    <tr>\n",
       "      <th>1</th>\n",
       "      <td>Serena Josephine M</td>\n",
       "      <td>Every time a person tests positive for coronavirus disease (COVID-19), a process for tracing his/her contacts is activated. Exclusive teams at the State and district-level trace the path that the patient took, tracking persons with whom he/she came into conta… [+3342 chars]</td>\n",
       "      <td>As of now, officials have tracked approximately 7,000 close contacts of patients who have tested positive for COVID-19, in Tamil Nadu.</td>\n",
       "      <td>2020-04-06T11:40:08Z</td>\n",
       "      <td>The Hindu</td>\n",
       "      <td>COVID-19: Contact tracing, a crucial exercise</td>\n",
       "      <td>https://www.thehindu.com/news/national/tamil-nadu/covid-19-contact-tracing-a-crucial-exercise/article31270966.ece</td>\n",
       "      <td>https://www.thehindu.com/news/national/tamil-nadu/bun7j2/article31270965.ece/ALTERNATES/LANDSCAPE_615/06APRTH--HOME</td>\n",
       "      <td>India</td>\n",
       "    </tr>\n",
       "    <tr>\n",
       "      <th>2</th>\n",
       "      <td>Shoumojit Banerjee</td>\n",
       "      <td>The number of COVID-19 cases continued to rise in Maharashtra on April 6, with 33 new cases being reported in the State over a 12-hour span, taking the tally of positive cases to 781.\\r\\nOf these, Pune witnessed 19 fresh cases and 11 more have been reported fro… [+2552 chars]</td>\n",
       "      <td>33 fresh cases reported over 12-hour span</td>\n",
       "      <td>2020-04-06T09:00:34Z</td>\n",
       "      <td>The Hindu</td>\n",
       "      <td>COVID-19 | Cases in Maharashtra touch 781</td>\n",
       "      <td>https://www.thehindu.com/news/national/other-states/covid-19-cases-in-maharashtra-touch-781/article31268863.ece</td>\n",
       "      <td>https://www.thehindu.com/news/national/f3k8s8/article31160237.ece/ALTERNATES/LANDSCAPE_615/TH25MAHARASHTRATALLY</td>\n",
       "      <td>India</td>\n",
       "    </tr>\n",
       "    <tr>\n",
       "      <th>3</th>\n",
       "      <td>PTI</td>\n",
       "      <td>Telangana Chief Minister K. Chandrasekhar Rao on Monday appealed to Prime Minister Narendra Modi to extend the 21-day national lockdown to check COVID-19 beyond April 14, saying it was essential to save lives.\\r\\nThe Telangana Rashtra Samithi supremo said it wo… [+667 chars]</td>\n",
       "      <td>It would be difficult to contain the spread of the virus in view of the country’s “poor health infrastructure”, he said.</td>\n",
       "      <td>2020-04-06T19:33:20Z</td>\n",
       "      <td>The Hindu</td>\n",
       "      <td>COVID-19 | Telangana CM favours extension of national lockdown</td>\n",
       "      <td>https://www.thehindu.com/news/national/telangana-cm-favours-extension-of-national-lockdown/article31275179.ece</td>\n",
       "      <td>https://www.thehindu.com/news/national/o7tdk5/article31275178.ece/ALTERNATES/LANDSCAPE_615/07THKCR</td>\n",
       "      <td>India</td>\n",
       "    </tr>\n",
       "    <tr>\n",
       "      <th>4</th>\n",
       "      <td>GUWAHATI</td>\n",
       "      <td>Rights activists and NGOs in Manipur have written to the National Human Rights Commission (NHRC) seeking its intervention to end the alleged harassment, arbitrary arrest and detention of rights defenders.\\r\\nThere had been a spree of such action against these p… [+2932 chars]</td>\n",
       "      <td>Rights activists and NGOs in Manipur have written to the National Human Rights Commission (NHRC) seeking its intervention to end the alleged harassment, arbitrary arrest and detention of rights defend</td>\n",
       "      <td>2020-04-06T10:53:49Z</td>\n",
       "      <td>The Hindu</td>\n",
       "      <td>COVID-19: NHRC sounded on Manipur rights defenders’ detention</td>\n",
       "      <td>https://www.thehindu.com/news/national/other-states/covid-19-nhrc-sounded-on-manipur-rights-defenders-detention/article31270069.ece</td>\n",
       "      <td>https://www.thehindu.com/static/theme/default/base/img/og-image.jpg</td>\n",
       "      <td>India</td>\n",
       "    </tr>\n",
       "  </tbody>\n",
       "</table>\n",
       "</div>"
      ],
      "text/plain": [
       "               author  \\\n",
       "0  Jacob Koshy          \n",
       "1  Serena Josephine M   \n",
       "2  Shoumojit Banerjee   \n",
       "3  PTI                  \n",
       "4  GUWAHATI             \n",
       "\n",
       "                                                                                                                                                                                                                                                                                content  \\\n",
       "0  The spectre of COVID-19 has made its appearance in one of Indias most storied tiger reserves. The death of a 10-year-old ailing male tiger, in the Pench Tiger Reserve (PTR) the countrys most munificent reserve that succumbed to a respiratory illness last Satu… [+3272 chars]     \n",
       "1  Every time a person tests positive for coronavirus disease (COVID-19), a process for tracing his/her contacts is activated. Exclusive teams at the State and district-level trace the path that the patient took, tracking persons with whom he/she came into conta… [+3342 chars]     \n",
       "2  The number of COVID-19 cases continued to rise in Maharashtra on April 6, with 33 new cases being reported in the State over a 12-hour span, taking the tally of positive cases to 781.\\r\\nOf these, Pune witnessed 19 fresh cases and 11 more have been reported fro… [+2552 chars]   \n",
       "3  Telangana Chief Minister K. Chandrasekhar Rao on Monday appealed to Prime Minister Narendra Modi to extend the 21-day national lockdown to check COVID-19 beyond April 14, saying it was essential to save lives.\\r\\nThe Telangana Rashtra Samithi supremo said it wo… [+667 chars]    \n",
       "4  Rights activists and NGOs in Manipur have written to the National Human Rights Commission (NHRC) seeking its intervention to end the alleged harassment, arbitrary arrest and detention of rights defenders.\\r\\nThere had been a spree of such action against these p… [+2932 chars]   \n",
       "\n",
       "                                                                                                                                                                                                description  \\\n",
       "0  NTCA mulls test after a big cat tested positive for the virus in a U.S. zoo                                                                                                                                \n",
       "1  As of now, officials have tracked approximately 7,000 close contacts of patients who have tested positive for COVID-19, in Tamil Nadu.                                                                     \n",
       "2  33 fresh cases reported over 12-hour span                                                                                                                                                                  \n",
       "3  It would be difficult to contain the spread of the virus in view of the country’s “poor health infrastructure”, he said.                                                                                   \n",
       "4  Rights activists and NGOs in Manipur have written to the National Human Rights Commission (NHRC) seeking its intervention to end the alleged harassment, arbitrary arrest and detention of rights defend   \n",
       "\n",
       "            publishedAt source.name  \\\n",
       "0  2020-04-06T18:36:02Z  The Hindu    \n",
       "1  2020-04-06T11:40:08Z  The Hindu    \n",
       "2  2020-04-06T09:00:34Z  The Hindu    \n",
       "3  2020-04-06T19:33:20Z  The Hindu    \n",
       "4  2020-04-06T10:53:49Z  The Hindu    \n",
       "\n",
       "                                                            title  \\\n",
       "0  Pench tiger death raises COVID-19 fears                          \n",
       "1  COVID-19: Contact tracing, a crucial exercise                    \n",
       "2  COVID-19 | Cases in Maharashtra touch 781                        \n",
       "3  COVID-19 | Telangana CM favours extension of national lockdown   \n",
       "4  COVID-19: NHRC sounded on Manipur rights defenders’ detention    \n",
       "\n",
       "                                                                                                                                   url  \\\n",
       "0  https://www.thehindu.com/news/national/pench-tiger-death-raises-covid-19-fears/article31275062.ece                                    \n",
       "1  https://www.thehindu.com/news/national/tamil-nadu/covid-19-contact-tracing-a-crucial-exercise/article31270966.ece                     \n",
       "2  https://www.thehindu.com/news/national/other-states/covid-19-cases-in-maharashtra-touch-781/article31268863.ece                       \n",
       "3  https://www.thehindu.com/news/national/telangana-cm-favours-extension-of-national-lockdown/article31275179.ece                        \n",
       "4  https://www.thehindu.com/news/national/other-states/covid-19-nhrc-sounded-on-manipur-rights-defenders-detention/article31270069.ece   \n",
       "\n",
       "                                                                                                            urlToImage  \\\n",
       "0  https://www.thehindu.com/news/national/kfposq/article31275061.ece/ALTERNATES/LANDSCAPE_615/T03                        \n",
       "1  https://www.thehindu.com/news/national/tamil-nadu/bun7j2/article31270965.ece/ALTERNATES/LANDSCAPE_615/06APRTH--HOME   \n",
       "2  https://www.thehindu.com/news/national/f3k8s8/article31160237.ece/ALTERNATES/LANDSCAPE_615/TH25MAHARASHTRATALLY       \n",
       "3  https://www.thehindu.com/news/national/o7tdk5/article31275178.ece/ALTERNATES/LANDSCAPE_615/07THKCR                    \n",
       "4  https://www.thehindu.com/static/theme/default/base/img/og-image.jpg                                                   \n",
       "\n",
       "  country  \n",
       "0  India   \n",
       "1  India   \n",
       "2  India   \n",
       "3  India   \n",
       "4  India   "
      ]
     },
     "execution_count": 5,
     "metadata": {},
     "output_type": "execute_result"
    }
   ],
   "source": [
    "df_Ind.head()"
   ]
  },
  {
   "cell_type": "code",
   "execution_count": 6,
   "metadata": {},
   "outputs": [
    {
     "name": "stdout",
     "output_type": "stream",
     "text": [
      "<class 'pandas.core.frame.DataFrame'>\n",
      "Int64Index: 9289 entries, 0 to 99\n",
      "Data columns (total 9 columns):\n",
      " #   Column       Non-Null Count  Dtype \n",
      "---  ------       --------------  ----- \n",
      " 0   author       8881 non-null   object\n",
      " 1   content      8813 non-null   object\n",
      " 2   description  9288 non-null   object\n",
      " 3   publishedAt  9289 non-null   object\n",
      " 4   source.name  9289 non-null   object\n",
      " 5   title        9289 non-null   object\n",
      " 6   url          9289 non-null   object\n",
      " 7   urlToImage   9229 non-null   object\n",
      " 8   country      9289 non-null   object\n",
      "dtypes: object(9)\n",
      "memory usage: 725.7+ KB\n"
     ]
    }
   ],
   "source": [
    "df_Ind.info(verbose=True, null_counts=True)"
   ]
  },
  {
   "cell_type": "markdown",
   "metadata": {},
   "source": [
    "## Format Date Time "
   ]
  },
  {
   "cell_type": "code",
   "execution_count": 7,
   "metadata": {},
   "outputs": [
    {
     "data": {
      "text/plain": [
       "0    2020-04-06T18:36:02Z\n",
       "1    2020-04-06T11:40:08Z\n",
       "2    2020-04-06T09:00:34Z\n",
       "3    2020-04-06T19:33:20Z\n",
       "4    2020-04-06T10:53:49Z\n",
       "Name: publishedAt, dtype: object"
      ]
     },
     "execution_count": 7,
     "metadata": {},
     "output_type": "execute_result"
    }
   ],
   "source": [
    "df_Ind['publishedAt'][:5]"
   ]
  },
  {
   "cell_type": "code",
   "execution_count": 8,
   "metadata": {},
   "outputs": [
    {
     "name": "stderr",
     "output_type": "stream",
     "text": [
      "/anaconda3/lib/python3.7/site-packages/ipykernel_launcher.py:1: SettingWithCopyWarning: \n",
      "A value is trying to be set on a copy of a slice from a DataFrame.\n",
      "Try using .loc[row_indexer,col_indexer] = value instead\n",
      "\n",
      "See the caveats in the documentation: https://pandas.pydata.org/pandas-docs/stable/user_guide/indexing.html#returning-a-view-versus-a-copy\n",
      "  \"\"\"Entry point for launching an IPython kernel.\n"
     ]
    },
    {
     "data": {
      "text/plain": [
       "0    2020-04-06\n",
       "1    2020-04-06\n",
       "2    2020-04-06\n",
       "3    2020-04-06\n",
       "4    2020-04-06\n",
       "Name: published_at, dtype: object"
      ]
     },
     "execution_count": 8,
     "metadata": {},
     "output_type": "execute_result"
    }
   ],
   "source": [
    "df_Ind['published_at'] =  pd.to_datetime(df_Ind['publishedAt'], format='%Y-%m-%dT%H:%M:%SZ').dt.date\n",
    "df_Ind['published_at'][:5]"
   ]
  },
  {
   "cell_type": "markdown",
   "metadata": {},
   "source": [
    "### There are - on an average - 1.5 to 2 sentences apart from the first line available."
   ]
  },
  {
   "cell_type": "markdown",
   "metadata": {},
   "source": [
    "## NLP FUNCTIONS"
   ]
  },
  {
   "cell_type": "markdown",
   "metadata": {},
   "source": [
    "### Tokenizer"
   ]
  },
  {
   "cell_type": "code",
   "execution_count": 21,
   "metadata": {},
   "outputs": [],
   "source": [
    "from nltk import sent_tokenize, word_tokenize\n",
    "from nltk.corpus import stopwords\n",
    "import string\n",
    "\n",
    "STOPWORDS = set(stopwords.words('english'))\n",
    "\n",
    "def text_tokenizer(text):\n",
    "    try:\n",
    "        if text:\n",
    "            sequences = sent_tokenize(text.split('…')[0])\n",
    "            seq_tokens = [word_tokenize(seq) for seq in sequences]\n",
    "            no_punct_seq_tokens = []\n",
    "            for seq_token in seq_tokens:\n",
    "                no_punct_seq_tokens.append([token for token in seq_token if token not in string.punctuation and token.lower() not in STOPWORDS])\n",
    "            return no_punct_seq_tokens\n",
    "        else:\n",
    "            return None\n",
    "    except:\n",
    "        print(text)\n",
    "        return None"
   ]
  },
  {
   "cell_type": "markdown",
   "metadata": {},
   "source": [
    "### Intializing POS tagger"
   ]
  },
  {
   "cell_type": "code",
   "execution_count": 10,
   "metadata": {},
   "outputs": [],
   "source": [
    "import os\n",
    "from nltk.tag import StanfordPOSTagger\n",
    "\n",
    "path = os.getcwd()\n",
    "path_to_stnfrd_core_nlp = path + '/stanford-postagger/'\n",
    "\n",
    "jar = path_to_stnfrd_core_nlp + 'stanford-postagger.jar'\n",
    "model = path_to_stnfrd_core_nlp + 'models/english-bidirectional-distsim.tagger'\n",
    "\n",
    "st = StanfordPOSTagger(model, jar, encoding='utf8')"
   ]
  },
  {
   "cell_type": "markdown",
   "metadata": {},
   "source": [
    "### Lemmatization"
   ]
  },
  {
   "cell_type": "code",
   "execution_count": 11,
   "metadata": {},
   "outputs": [],
   "source": [
    "from nltk.corpus.reader.wordnet import VERB, NOUN, ADJ, ADV\n",
    "from nltk.stem.wordnet import WordNetLemmatizer\n",
    "from nltk.corpus import wordnet\n",
    "\n",
    "lm = WordNetLemmatizer()\n",
    "\n",
    "dict_pos_map = {\n",
    "    # Look for NN in the POS tag because all nouns begin with NN\n",
    "    'NN': NOUN,\n",
    "    # Look for VB in the POS tag because all nouns begin with VB\n",
    "    'VB':VERB,\n",
    "    # Look for JJ in the POS tag because all nouns begin with JJ\n",
    "    'JJ' : ADJ,\n",
    "    # Look for RB in the POS tag because all nouns begin with RB\n",
    "    'RB':ADV  \n",
    "}\n",
    "\n",
    "def get_lemma(no_punct_seq_tokens):\n",
    "    try:\n",
    "        if no_punct_seq_tokens:\n",
    "            normalized_sequence = []\n",
    "            for each_seq in st.tag_sents(sentences=no_punct_seq_tokens):\n",
    "                normalized_tokens = []\n",
    "                for tuples in each_seq:\n",
    "                    temp = tuples[0]\n",
    "                    if tuples[1] == \"NNP\" or tuples[1] == \"NNPS\":\n",
    "                        continue\n",
    "                    if tuples[1][:2] in dict_pos_map.keys():\n",
    "                        temp = lm.lemmatize(tuples[0].lower(), \n",
    "                                            pos=dict_pos_map[tuples[1][:2]])\n",
    "                    normalized_tokens.append(temp)\n",
    "                normalized_sequence.append(normalized_tokens)\n",
    "            return normalized_sequence\n",
    "        else:\n",
    "            return None\n",
    "    except:\n",
    "        print(no_punct_seq_tokens)\n",
    "        return None"
   ]
  },
  {
   "cell_type": "code",
   "execution_count": 12,
   "metadata": {},
   "outputs": [],
   "source": [
    "def pre_process(df, col_list):\n",
    "    for col in col_list:\n",
    "        print('Being: ' + col)\n",
    "        col_tokenized = col + '_tokenized'\n",
    "        col_normalised = col + '_normalized'\n",
    "        # tokenizer removes punctuations and stopwords\n",
    "        df[col_tokenized] = df[col].apply(lambda x : text_tokenizer(x))\n",
    "        df[col_normalised] = df[col_tokenized].apply(lambda x: get_lemma(x))\n",
    "        print('End: ' + col)"
   ]
  },
  {
   "cell_type": "markdown",
   "metadata": {},
   "source": [
    "# Execution"
   ]
  },
  {
   "cell_type": "code",
   "execution_count": 22,
   "metadata": {
    "scrolled": true
   },
   "outputs": [
    {
     "name": "stdout",
     "output_type": "stream",
     "text": [
      "Start: 2020-05-13 21:01:29.816704\n",
      "Being: content\n"
     ]
    },
    {
     "name": "stderr",
     "output_type": "stream",
     "text": [
      "/anaconda3/lib/python3.7/site-packages/ipykernel_launcher.py:7: SettingWithCopyWarning: \n",
      "A value is trying to be set on a copy of a slice from a DataFrame.\n",
      "Try using .loc[row_indexer,col_indexer] = value instead\n",
      "\n",
      "See the caveats in the documentation: https://pandas.pydata.org/pandas-docs/stable/user_guide/indexing.html#returning-a-view-versus-a-copy\n",
      "  import sys\n",
      "/anaconda3/lib/python3.7/site-packages/ipykernel_launcher.py:8: SettingWithCopyWarning: \n",
      "A value is trying to be set on a copy of a slice from a DataFrame.\n",
      "Try using .loc[row_indexer,col_indexer] = value instead\n",
      "\n",
      "See the caveats in the documentation: https://pandas.pydata.org/pandas-docs/stable/user_guide/indexing.html#returning-a-view-versus-a-copy\n",
      "  \n",
      "/anaconda3/lib/python3.7/site-packages/ipykernel_launcher.py:7: SettingWithCopyWarning: \n",
      "A value is trying to be set on a copy of a slice from a DataFrame.\n",
      "Try using .loc[row_indexer,col_indexer] = value instead\n",
      "\n",
      "See the caveats in the documentation: https://pandas.pydata.org/pandas-docs/stable/user_guide/indexing.html#returning-a-view-versus-a-copy\n",
      "  import sys\n"
     ]
    },
    {
     "name": "stdout",
     "output_type": "stream",
     "text": [
      "End: content\n",
      "Being: title\n"
     ]
    },
    {
     "name": "stderr",
     "output_type": "stream",
     "text": [
      "/anaconda3/lib/python3.7/site-packages/ipykernel_launcher.py:8: SettingWithCopyWarning: \n",
      "A value is trying to be set on a copy of a slice from a DataFrame.\n",
      "Try using .loc[row_indexer,col_indexer] = value instead\n",
      "\n",
      "See the caveats in the documentation: https://pandas.pydata.org/pandas-docs/stable/user_guide/indexing.html#returning-a-view-versus-a-copy\n",
      "  \n",
      "/anaconda3/lib/python3.7/site-packages/ipykernel_launcher.py:7: SettingWithCopyWarning: \n",
      "A value is trying to be set on a copy of a slice from a DataFrame.\n",
      "Try using .loc[row_indexer,col_indexer] = value instead\n",
      "\n",
      "See the caveats in the documentation: https://pandas.pydata.org/pandas-docs/stable/user_guide/indexing.html#returning-a-view-versus-a-copy\n",
      "  import sys\n"
     ]
    },
    {
     "name": "stdout",
     "output_type": "stream",
     "text": [
      "End: title\n",
      "Being: description\n",
      "End: description\n",
      "End: 2020-05-13 21:01:46.463811\n"
     ]
    },
    {
     "name": "stderr",
     "output_type": "stream",
     "text": [
      "/anaconda3/lib/python3.7/site-packages/ipykernel_launcher.py:8: SettingWithCopyWarning: \n",
      "A value is trying to be set on a copy of a slice from a DataFrame.\n",
      "Try using .loc[row_indexer,col_indexer] = value instead\n",
      "\n",
      "See the caveats in the documentation: https://pandas.pydata.org/pandas-docs/stable/user_guide/indexing.html#returning-a-view-versus-a-copy\n",
      "  \n"
     ]
    }
   ],
   "source": [
    "# for demo\n",
    "df_demo = df_Ind[:5]\n",
    "from datetime import datetime\n",
    "\n",
    "print(\"Start: \" + str(datetime.now()))\n",
    "\n",
    "pre_process(df_demo, ['content', 'title', 'description'])\n",
    "\n",
    "print(\"End: \" + str(datetime.now()))"
   ]
  },
  {
   "cell_type": "code",
   "execution_count": 23,
   "metadata": {},
   "outputs": [
    {
     "data": {
      "text/html": [
       "<div>\n",
       "<style scoped>\n",
       "    .dataframe tbody tr th:only-of-type {\n",
       "        vertical-align: middle;\n",
       "    }\n",
       "\n",
       "    .dataframe tbody tr th {\n",
       "        vertical-align: top;\n",
       "    }\n",
       "\n",
       "    .dataframe thead th {\n",
       "        text-align: right;\n",
       "    }\n",
       "</style>\n",
       "<table border=\"1\" class=\"dataframe\">\n",
       "  <thead>\n",
       "    <tr style=\"text-align: right;\">\n",
       "      <th></th>\n",
       "      <th>author</th>\n",
       "      <th>content</th>\n",
       "      <th>description</th>\n",
       "      <th>publishedAt</th>\n",
       "      <th>source.name</th>\n",
       "      <th>title</th>\n",
       "      <th>url</th>\n",
       "      <th>urlToImage</th>\n",
       "      <th>country</th>\n",
       "      <th>published_at</th>\n",
       "      <th>content_tokenized</th>\n",
       "      <th>content_normalized</th>\n",
       "      <th>title_tokenized</th>\n",
       "      <th>title_normalized</th>\n",
       "      <th>description_tokenized</th>\n",
       "      <th>description_normalized</th>\n",
       "    </tr>\n",
       "  </thead>\n",
       "  <tbody>\n",
       "    <tr>\n",
       "      <th>0</th>\n",
       "      <td>Jacob Koshy</td>\n",
       "      <td>The spectre of COVID-19 has made its appearance in one of Indias most storied tiger reserves. The death of a 10-year-old ailing male tiger, in the Pench Tiger Reserve (PTR) the countrys most munificent reserve that succumbed to a respiratory illness last Satu… [+3272 chars]</td>\n",
       "      <td>NTCA mulls test after a big cat tested positive for the virus in a U.S. zoo</td>\n",
       "      <td>2020-04-06T18:36:02Z</td>\n",
       "      <td>The Hindu</td>\n",
       "      <td>Pench tiger death raises COVID-19 fears</td>\n",
       "      <td>https://www.thehindu.com/news/national/pench-tiger-death-raises-covid-19-fears/article31275062.ece</td>\n",
       "      <td>https://www.thehindu.com/news/national/kfposq/article31275061.ece/ALTERNATES/LANDSCAPE_615/T03</td>\n",
       "      <td>India</td>\n",
       "      <td>2020-04-06</td>\n",
       "      <td>[[spectre, COVID-19, made, appearance, one, Indias, storied, tiger, reserves], [death, 10-year-old, ailing, male, tiger, Pench, Tiger, Reserve, PTR, countrys, munificent, reserve, succumbed, respiratory, illness, last, Satu]]</td>\n",
       "      <td>[[spectre, covid-19, make, appearance, one, storied, tiger, reserve], [death, 10-year-old, ail, male, tiger, countrys, munificent, reserve, succumb, respiratory, illness, last]]</td>\n",
       "      <td>[[Pench, tiger, death, raises, COVID-19, fears]]</td>\n",
       "      <td>[[pench, tiger, death, raise, covid-19, fear]]</td>\n",
       "      <td>[[NTCA, mulls, test, big, cat, tested, positive, virus, U.S., zoo]]</td>\n",
       "      <td>[[ntca, mull, test, big, cat, test, positive, virus, zoo]]</td>\n",
       "    </tr>\n",
       "    <tr>\n",
       "      <th>1</th>\n",
       "      <td>Serena Josephine M</td>\n",
       "      <td>Every time a person tests positive for coronavirus disease (COVID-19), a process for tracing his/her contacts is activated. Exclusive teams at the State and district-level trace the path that the patient took, tracking persons with whom he/she came into conta… [+3342 chars]</td>\n",
       "      <td>As of now, officials have tracked approximately 7,000 close contacts of patients who have tested positive for COVID-19, in Tamil Nadu.</td>\n",
       "      <td>2020-04-06T11:40:08Z</td>\n",
       "      <td>The Hindu</td>\n",
       "      <td>COVID-19: Contact tracing, a crucial exercise</td>\n",
       "      <td>https://www.thehindu.com/news/national/tamil-nadu/covid-19-contact-tracing-a-crucial-exercise/article31270966.ece</td>\n",
       "      <td>https://www.thehindu.com/news/national/tamil-nadu/bun7j2/article31270965.ece/ALTERNATES/LANDSCAPE_615/06APRTH--HOME</td>\n",
       "      <td>India</td>\n",
       "      <td>2020-04-06</td>\n",
       "      <td>[[Every, time, person, tests, positive, coronavirus, disease, COVID-19, process, tracing, his/her, contacts, activated], [Exclusive, teams, State, district-level, trace, path, patient, took, tracking, persons, he/she, came, conta]]</td>\n",
       "      <td>[[Every, time, person, test, positive, coronavirus, disease, covid-19, process, trace, his/her, contact, activate], [exclusive, team, district-level, trace, path, patient, take, tracking, person, he/she, come, conta]]</td>\n",
       "      <td>[[COVID-19, Contact, tracing, crucial, exercise]]</td>\n",
       "      <td>[[covid-19, contact, trace, crucial, exercise]]</td>\n",
       "      <td>[[officials, tracked, approximately, 7,000, close, contacts, patients, tested, positive, COVID-19, Tamil, Nadu]]</td>\n",
       "      <td>[[official, track, approximately, 7,000, close, contact, patient, test, positive, covid-19]]</td>\n",
       "    </tr>\n",
       "    <tr>\n",
       "      <th>2</th>\n",
       "      <td>Shoumojit Banerjee</td>\n",
       "      <td>The number of COVID-19 cases continued to rise in Maharashtra on April 6, with 33 new cases being reported in the State over a 12-hour span, taking the tally of positive cases to 781.\\r\\nOf these, Pune witnessed 19 fresh cases and 11 more have been reported fro… [+2552 chars]</td>\n",
       "      <td>33 fresh cases reported over 12-hour span</td>\n",
       "      <td>2020-04-06T09:00:34Z</td>\n",
       "      <td>The Hindu</td>\n",
       "      <td>COVID-19 | Cases in Maharashtra touch 781</td>\n",
       "      <td>https://www.thehindu.com/news/national/other-states/covid-19-cases-in-maharashtra-touch-781/article31268863.ece</td>\n",
       "      <td>https://www.thehindu.com/news/national/f3k8s8/article31160237.ece/ALTERNATES/LANDSCAPE_615/TH25MAHARASHTRATALLY</td>\n",
       "      <td>India</td>\n",
       "      <td>2020-04-06</td>\n",
       "      <td>[[number, COVID-19, cases, continued, rise, Maharashtra, April, 6, 33, new, cases, reported, State, 12-hour, span, taking, tally, positive, cases, 781], [Pune, witnessed, 19, fresh, cases, 11, reported, fro]]</td>\n",
       "      <td>[[number, covid-19, case, continue, rise, 6, 33, new, case, report, 12-hour, span, take, tally, positive, case, 781], [witness, 19, fresh, case, 11, report, fro]]</td>\n",
       "      <td>[[COVID-19, Cases, Maharashtra, touch, 781]]</td>\n",
       "      <td>[[covid-19, case, touch, 781]]</td>\n",
       "      <td>[[33, fresh, cases, reported, 12-hour, span]]</td>\n",
       "      <td>[[33, fresh, case, report, 12-hour, span]]</td>\n",
       "    </tr>\n",
       "    <tr>\n",
       "      <th>3</th>\n",
       "      <td>PTI</td>\n",
       "      <td>Telangana Chief Minister K. Chandrasekhar Rao on Monday appealed to Prime Minister Narendra Modi to extend the 21-day national lockdown to check COVID-19 beyond April 14, saying it was essential to save lives.\\r\\nThe Telangana Rashtra Samithi supremo said it wo… [+667 chars]</td>\n",
       "      <td>It would be difficult to contain the spread of the virus in view of the country’s “poor health infrastructure”, he said.</td>\n",
       "      <td>2020-04-06T19:33:20Z</td>\n",
       "      <td>The Hindu</td>\n",
       "      <td>COVID-19 | Telangana CM favours extension of national lockdown</td>\n",
       "      <td>https://www.thehindu.com/news/national/telangana-cm-favours-extension-of-national-lockdown/article31275179.ece</td>\n",
       "      <td>https://www.thehindu.com/news/national/o7tdk5/article31275178.ece/ALTERNATES/LANDSCAPE_615/07THKCR</td>\n",
       "      <td>India</td>\n",
       "      <td>2020-04-06</td>\n",
       "      <td>[[Telangana, Chief, Minister, K., Chandrasekhar, Rao, Monday, appealed, Prime, Minister, Narendra, Modi, extend, 21-day, national, lockdown, check, COVID-19, beyond, April, 14, saying, essential, save, lives], [Telangana, Rashtra, Samithi, supremo, said, wo]]</td>\n",
       "      <td>[[appeal, extend, 21-day, national, lockdown, check, covid-19, beyond, 14, say, essential, save, life], [supremo, say, wo]]</td>\n",
       "      <td>[[COVID-19, Telangana, CM, favours, extension, national, lockdown]]</td>\n",
       "      <td>[[covid-19, telangana, cm, favour, extension, national, lockdown]]</td>\n",
       "      <td>[[would, difficult, contain, spread, virus, view, country, ’, “, poor, health, infrastructure, ”, said]]</td>\n",
       "      <td>[[would, difficult, contain, spread, virus, view, country, ’, “, poor, health, infrastructure, ”, say]]</td>\n",
       "    </tr>\n",
       "    <tr>\n",
       "      <th>4</th>\n",
       "      <td>GUWAHATI</td>\n",
       "      <td>Rights activists and NGOs in Manipur have written to the National Human Rights Commission (NHRC) seeking its intervention to end the alleged harassment, arbitrary arrest and detention of rights defenders.\\r\\nThere had been a spree of such action against these p… [+2932 chars]</td>\n",
       "      <td>Rights activists and NGOs in Manipur have written to the National Human Rights Commission (NHRC) seeking its intervention to end the alleged harassment, arbitrary arrest and detention of rights defend</td>\n",
       "      <td>2020-04-06T10:53:49Z</td>\n",
       "      <td>The Hindu</td>\n",
       "      <td>COVID-19: NHRC sounded on Manipur rights defenders’ detention</td>\n",
       "      <td>https://www.thehindu.com/news/national/other-states/covid-19-nhrc-sounded-on-manipur-rights-defenders-detention/article31270069.ece</td>\n",
       "      <td>https://www.thehindu.com/static/theme/default/base/img/og-image.jpg</td>\n",
       "      <td>India</td>\n",
       "      <td>2020-04-06</td>\n",
       "      <td>[[Rights, activists, NGOs, Manipur, written, National, Human, Rights, Commission, NHRC, seeking, intervention, end, alleged, harassment, arbitrary, arrest, detention, rights, defenders], [spree, action, p]]</td>\n",
       "      <td>[[right, activist, ngo, manipur, write, seek, intervention, end, allege, harassment, arbitrary, arrest, detention, right, defender], [spree, action, p]]</td>\n",
       "      <td>[[COVID-19, NHRC, sounded, Manipur, rights, defenders, ’, detention]]</td>\n",
       "      <td>[[sound, right, defender, ’, detention]]</td>\n",
       "      <td>[[Rights, activists, NGOs, Manipur, written, National, Human, Rights, Commission, NHRC, seeking, intervention, end, alleged, harassment, arbitrary, arrest, detention, rights, defend]]</td>\n",
       "      <td>[[right, activist, ngo, manipur, write, seek, intervention, end, allege, harassment, arbitrary, arrest, detention, right, defend]]</td>\n",
       "    </tr>\n",
       "  </tbody>\n",
       "</table>\n",
       "</div>"
      ],
      "text/plain": [
       "               author  \\\n",
       "0  Jacob Koshy          \n",
       "1  Serena Josephine M   \n",
       "2  Shoumojit Banerjee   \n",
       "3  PTI                  \n",
       "4  GUWAHATI             \n",
       "\n",
       "                                                                                                                                                                                                                                                                                content  \\\n",
       "0  The spectre of COVID-19 has made its appearance in one of Indias most storied tiger reserves. The death of a 10-year-old ailing male tiger, in the Pench Tiger Reserve (PTR) the countrys most munificent reserve that succumbed to a respiratory illness last Satu… [+3272 chars]     \n",
       "1  Every time a person tests positive for coronavirus disease (COVID-19), a process for tracing his/her contacts is activated. Exclusive teams at the State and district-level trace the path that the patient took, tracking persons with whom he/she came into conta… [+3342 chars]     \n",
       "2  The number of COVID-19 cases continued to rise in Maharashtra on April 6, with 33 new cases being reported in the State over a 12-hour span, taking the tally of positive cases to 781.\\r\\nOf these, Pune witnessed 19 fresh cases and 11 more have been reported fro… [+2552 chars]   \n",
       "3  Telangana Chief Minister K. Chandrasekhar Rao on Monday appealed to Prime Minister Narendra Modi to extend the 21-day national lockdown to check COVID-19 beyond April 14, saying it was essential to save lives.\\r\\nThe Telangana Rashtra Samithi supremo said it wo… [+667 chars]    \n",
       "4  Rights activists and NGOs in Manipur have written to the National Human Rights Commission (NHRC) seeking its intervention to end the alleged harassment, arbitrary arrest and detention of rights defenders.\\r\\nThere had been a spree of such action against these p… [+2932 chars]   \n",
       "\n",
       "                                                                                                                                                                                                description  \\\n",
       "0  NTCA mulls test after a big cat tested positive for the virus in a U.S. zoo                                                                                                                                \n",
       "1  As of now, officials have tracked approximately 7,000 close contacts of patients who have tested positive for COVID-19, in Tamil Nadu.                                                                     \n",
       "2  33 fresh cases reported over 12-hour span                                                                                                                                                                  \n",
       "3  It would be difficult to contain the spread of the virus in view of the country’s “poor health infrastructure”, he said.                                                                                   \n",
       "4  Rights activists and NGOs in Manipur have written to the National Human Rights Commission (NHRC) seeking its intervention to end the alleged harassment, arbitrary arrest and detention of rights defend   \n",
       "\n",
       "            publishedAt source.name  \\\n",
       "0  2020-04-06T18:36:02Z  The Hindu    \n",
       "1  2020-04-06T11:40:08Z  The Hindu    \n",
       "2  2020-04-06T09:00:34Z  The Hindu    \n",
       "3  2020-04-06T19:33:20Z  The Hindu    \n",
       "4  2020-04-06T10:53:49Z  The Hindu    \n",
       "\n",
       "                                                            title  \\\n",
       "0  Pench tiger death raises COVID-19 fears                          \n",
       "1  COVID-19: Contact tracing, a crucial exercise                    \n",
       "2  COVID-19 | Cases in Maharashtra touch 781                        \n",
       "3  COVID-19 | Telangana CM favours extension of national lockdown   \n",
       "4  COVID-19: NHRC sounded on Manipur rights defenders’ detention    \n",
       "\n",
       "                                                                                                                                   url  \\\n",
       "0  https://www.thehindu.com/news/national/pench-tiger-death-raises-covid-19-fears/article31275062.ece                                    \n",
       "1  https://www.thehindu.com/news/national/tamil-nadu/covid-19-contact-tracing-a-crucial-exercise/article31270966.ece                     \n",
       "2  https://www.thehindu.com/news/national/other-states/covid-19-cases-in-maharashtra-touch-781/article31268863.ece                       \n",
       "3  https://www.thehindu.com/news/national/telangana-cm-favours-extension-of-national-lockdown/article31275179.ece                        \n",
       "4  https://www.thehindu.com/news/national/other-states/covid-19-nhrc-sounded-on-manipur-rights-defenders-detention/article31270069.ece   \n",
       "\n",
       "                                                                                                            urlToImage  \\\n",
       "0  https://www.thehindu.com/news/national/kfposq/article31275061.ece/ALTERNATES/LANDSCAPE_615/T03                        \n",
       "1  https://www.thehindu.com/news/national/tamil-nadu/bun7j2/article31270965.ece/ALTERNATES/LANDSCAPE_615/06APRTH--HOME   \n",
       "2  https://www.thehindu.com/news/national/f3k8s8/article31160237.ece/ALTERNATES/LANDSCAPE_615/TH25MAHARASHTRATALLY       \n",
       "3  https://www.thehindu.com/news/national/o7tdk5/article31275178.ece/ALTERNATES/LANDSCAPE_615/07THKCR                    \n",
       "4  https://www.thehindu.com/static/theme/default/base/img/og-image.jpg                                                   \n",
       "\n",
       "  country published_at  \\\n",
       "0  India   2020-04-06    \n",
       "1  India   2020-04-06    \n",
       "2  India   2020-04-06    \n",
       "3  India   2020-04-06    \n",
       "4  India   2020-04-06    \n",
       "\n",
       "                                                                                                                                                                                                                                                     content_tokenized  \\\n",
       "0  [[spectre, COVID-19, made, appearance, one, Indias, storied, tiger, reserves], [death, 10-year-old, ailing, male, tiger, Pench, Tiger, Reserve, PTR, countrys, munificent, reserve, succumbed, respiratory, illness, last, Satu]]                                     \n",
       "1  [[Every, time, person, tests, positive, coronavirus, disease, COVID-19, process, tracing, his/her, contacts, activated], [Exclusive, teams, State, district-level, trace, path, patient, took, tracking, persons, he/she, came, conta]]                               \n",
       "2  [[number, COVID-19, cases, continued, rise, Maharashtra, April, 6, 33, new, cases, reported, State, 12-hour, span, taking, tally, positive, cases, 781], [Pune, witnessed, 19, fresh, cases, 11, reported, fro]]                                                      \n",
       "3  [[Telangana, Chief, Minister, K., Chandrasekhar, Rao, Monday, appealed, Prime, Minister, Narendra, Modi, extend, 21-day, national, lockdown, check, COVID-19, beyond, April, 14, saying, essential, save, lives], [Telangana, Rashtra, Samithi, supremo, said, wo]]   \n",
       "4  [[Rights, activists, NGOs, Manipur, written, National, Human, Rights, Commission, NHRC, seeking, intervention, end, alleged, harassment, arbitrary, arrest, detention, rights, defenders], [spree, action, p]]                                                        \n",
       "\n",
       "                                                                                                                                                                                                          content_normalized  \\\n",
       "0  [[spectre, covid-19, make, appearance, one, storied, tiger, reserve], [death, 10-year-old, ail, male, tiger, countrys, munificent, reserve, succumb, respiratory, illness, last]]                                           \n",
       "1  [[Every, time, person, test, positive, coronavirus, disease, covid-19, process, trace, his/her, contact, activate], [exclusive, team, district-level, trace, path, patient, take, tracking, person, he/she, come, conta]]   \n",
       "2  [[number, covid-19, case, continue, rise, 6, 33, new, case, report, 12-hour, span, take, tally, positive, case, 781], [witness, 19, fresh, case, 11, report, fro]]                                                          \n",
       "3  [[appeal, extend, 21-day, national, lockdown, check, covid-19, beyond, 14, say, essential, save, life], [supremo, say, wo]]                                                                                                 \n",
       "4  [[right, activist, ngo, manipur, write, seek, intervention, end, allege, harassment, arbitrary, arrest, detention, right, defender], [spree, action, p]]                                                                    \n",
       "\n",
       "                                                         title_tokenized  \\\n",
       "0  [[Pench, tiger, death, raises, COVID-19, fears]]                        \n",
       "1  [[COVID-19, Contact, tracing, crucial, exercise]]                       \n",
       "2  [[COVID-19, Cases, Maharashtra, touch, 781]]                            \n",
       "3  [[COVID-19, Telangana, CM, favours, extension, national, lockdown]]     \n",
       "4  [[COVID-19, NHRC, sounded, Manipur, rights, defenders, ’, detention]]   \n",
       "\n",
       "                                                     title_normalized  \\\n",
       "0  [[pench, tiger, death, raise, covid-19, fear]]                       \n",
       "1  [[covid-19, contact, trace, crucial, exercise]]                      \n",
       "2  [[covid-19, case, touch, 781]]                                       \n",
       "3  [[covid-19, telangana, cm, favour, extension, national, lockdown]]   \n",
       "4  [[sound, right, defender, ’, detention]]                             \n",
       "\n",
       "                                                                                                                                                                     description_tokenized  \\\n",
       "0  [[NTCA, mulls, test, big, cat, tested, positive, virus, U.S., zoo]]                                                                                                                       \n",
       "1  [[officials, tracked, approximately, 7,000, close, contacts, patients, tested, positive, COVID-19, Tamil, Nadu]]                                                                          \n",
       "2  [[33, fresh, cases, reported, 12-hour, span]]                                                                                                                                             \n",
       "3  [[would, difficult, contain, spread, virus, view, country, ’, “, poor, health, infrastructure, ”, said]]                                                                                  \n",
       "4  [[Rights, activists, NGOs, Manipur, written, National, Human, Rights, Commission, NHRC, seeking, intervention, end, alleged, harassment, arbitrary, arrest, detention, rights, defend]]   \n",
       "\n",
       "                                                                                                               description_normalized  \n",
       "0  [[ntca, mull, test, big, cat, test, positive, virus, zoo]]                                                                          \n",
       "1  [[official, track, approximately, 7,000, close, contact, patient, test, positive, covid-19]]                                        \n",
       "2  [[33, fresh, case, report, 12-hour, span]]                                                                                          \n",
       "3  [[would, difficult, contain, spread, virus, view, country, ’, “, poor, health, infrastructure, ”, say]]                             \n",
       "4  [[right, activist, ngo, manipur, write, seek, intervention, end, allege, harassment, arbitrary, arrest, detention, right, defend]]  "
      ]
     },
     "execution_count": 23,
     "metadata": {},
     "output_type": "execute_result"
    }
   ],
   "source": [
    "df_demo.head()"
   ]
  },
  {
   "cell_type": "markdown",
   "metadata": {},
   "source": [
    "### Checkpoint - Save the DF to save time"
   ]
  },
  {
   "cell_type": "code",
   "execution_count": 24,
   "metadata": {},
   "outputs": [],
   "source": [
    "file_name = 'demo.pkl'\n",
    "df_Ind.to_pickle(file_name)"
   ]
  },
  {
   "cell_type": "code",
   "execution_count": null,
   "metadata": {},
   "outputs": [],
   "source": [
    "#df = pd.read_pickle('demo.pkl')"
   ]
  },
  {
   "cell_type": "markdown",
   "metadata": {},
   "source": [
    "# Thanks for visiting!"
   ]
  }
 ],
 "metadata": {
  "kernelspec": {
   "display_name": "Python 3",
   "language": "python",
   "name": "python3"
  },
  "language_info": {
   "codemirror_mode": {
    "name": "ipython",
    "version": 3
   },
   "file_extension": ".py",
   "mimetype": "text/x-python",
   "name": "python",
   "nbconvert_exporter": "python",
   "pygments_lexer": "ipython3",
   "version": "3.7.2"
  }
 },
 "nbformat": 4,
 "nbformat_minor": 2
}
