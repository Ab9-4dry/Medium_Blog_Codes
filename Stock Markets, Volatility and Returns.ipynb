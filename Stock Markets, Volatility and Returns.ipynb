{
 "cells": [
  {
   "cell_type": "markdown",
   "metadata": {},
   "source": [
    "# Stock Market Prices & Returns, Volatility and Predictions\n",
    "\n",
    "### What is Asset Price?\n",
    "\n",
    "Asset price is the price of assigned by the market to an asset which is regulated by the Supply and Demand model or the government. Asset can be a house, a land, capital, stocks, bonds or securities. Asset Prices are closely monitored by investors to assess or predict the future asset prices in order to estimate future cash-flows, interest rates, risk of investing and other macroeconomic variables. Asset price should not be confused with the actual price of that item, or the price at which you have bought the item. Asset price is the maket-clearing price of an item. Market-clearing price is the monetary value of an asset at which there is neither excess supply nor excess demand for that asset.\n",
    "\n",
    "Estimating asset price behaviour requires price data. Stocks, bonds and currencies are the most commonly used proxies for analyzing asset price dynamic. In this blog, I will look at BSE Sensex 50 and Standard and Poor (S & P) 500 data primarily using [Yahoo! Finance](https://pypi.org/project/yahoo-finance/).\n",
    "\n",
    "### Stocks Market Price \n",
    "Stock market prices are typically daily time-series datac which consists of open, closing, highest and lowest prices or indices.\n",
    "\n",
    "### Stock Indices\n",
    "Stock index is a weighted-average of the share prices of all the companies. Each company's stock is weighted by its price per share and then averaged to find the Stock Index.\n",
    "\n",
    "**We will be using Stock Index data for the Indian Stock Market ([S&P BSE SENSEX 50](https://www.bseindia.com/sensex/code/98/)) and US Stock Market ([S&P 500](https://us.spindices.com/indices/equity/sp-500)) to demonstate the basic theories governing stock markets. We will also look at Google and Moicrosoft's Stock Data for the past 10 years.**\n",
    "\n",
    "### Stock indices are dynamic in nature. Let's take a look.."
   ]
  },
  {
   "cell_type": "code",
   "execution_count": 3,
   "metadata": {},
   "outputs": [],
   "source": [
    "from yahoo_finance import Share"
   ]
  },
  {
   "cell_type": "code",
   "execution_count": null,
   "metadata": {},
   "outputs": [],
   "source": [
    "## The time series for BSE SENSEXand S&P"
   ]
  },
  {
   "cell_type": "markdown",
   "metadata": {},
   "source": [
    "### Market Prices are Volatile in Nature\n",
    "\n",
    "Market prices ae dynamic in nature and they change over time. Stable days exhibits slow changes while times of uncertainty and consequent high trading volumes exhibit rapid changes in market price data. There are several events that researchers assoiciate these changes with like *(inclusive not exhaustive)*\n",
    "* financial/macroeconomic news\n",
    "* investor sentiment\n",
    "* political events"
   ]
  },
  {
   "cell_type": "markdown",
   "metadata": {},
   "source": [
    "### Stock Market Prices are Autocorrelated\n",
    "\n",
    "Stock market prices are strongly correlated through time. The correlation coefficient is used to estimate the degree and direction as well as to predict stock market behaviour based on historical records.\n",
    "\n",
    "### What is autocorrelation?\n",
    "Autocorrelation is a mathematical representation of the degree of similarity between a given time series and a lagged version of itself over successive time intervals. It is the same as calculating the correlation between two different time series, except autocorrelation uses the same time series twice: once in its original form and once lagged one or more time periods. \n",
    "\n",
    "[Ref: Autocorrelation](https://www.investopedia.com/terms/a/autocorrelation.asp#:~:text=An%20autocorrelation%20of%20%2B1%20represents%20a%20perfect%20positive%20correlation%2C%20while,have%20on%20its%20future%20price.)\n",
    "\n",
    "### Interpreting autocorrelation:\n",
    "Same as Pearson's correlation coefficient, perfect positive correlation is +! while perfect negative correlation is -1. "
   ]
  },
  {
   "cell_type": "code",
   "execution_count": null,
   "metadata": {},
   "outputs": [],
   "source": [
    "# Show Autocorrelation"
   ]
  },
  {
   "cell_type": "markdown",
   "metadata": {},
   "source": [
    "### Stock Index Returns\n",
    "\n",
    "A Stock Price/Index Returns, Financial Returns or simply Returns is the money made or lost over a period of time. Daily returns indicate money gained or lost on consecutive days. \n",
    "\n",
    "### Why analyze Returns?\n",
    "\n",
    "Analyzing stock pricess as time-series data is tedious as they consecutive prices are highly correlated (as we see above). In contrast to prices, the consecutive difference between consecutive stock prices have very little correlation. This makes stock market analysis easier and is also the preferred way of analyzing stock market fluctuations."
   ]
  },
  {
   "cell_type": "markdown",
   "metadata": {},
   "source": [
    "### A note on autocorrelation in Stock Price Returns\n",
    "Autocorrelation in stock returns indicate predictability. It is well-documented in finance\n",
    "literature that returns from indexes exhibit positive autocorrelation. Such phenomenon exists\n",
    "even for different data frequencies. However, this goes against the concept of market efficiency\n",
    "which predicts that stock returns are unpredictable and serially uncorrelated. "
   ]
  },
  {
   "cell_type": "code",
   "execution_count": 4,
   "metadata": {},
   "outputs": [],
   "source": [
    "# Returns plot and correlation"
   ]
  },
  {
   "cell_type": "markdown",
   "metadata": {},
   "source": []
  }
 ],
 "metadata": {
  "kernelspec": {
   "display_name": "Python 3",
   "language": "python",
   "name": "python3"
  },
  "language_info": {
   "codemirror_mode": {
    "name": "ipython",
    "version": 3
   },
   "file_extension": ".py",
   "mimetype": "text/x-python",
   "name": "python",
   "nbconvert_exporter": "python",
   "pygments_lexer": "ipython3",
   "version": "3.7.2"
  }
 },
 "nbformat": 4,
 "nbformat_minor": 2
}
