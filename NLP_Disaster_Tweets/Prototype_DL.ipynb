{
 "cells": [
  {
   "cell_type": "code",
   "execution_count": 23,
   "metadata": {
    "ExecuteTime": {
     "end_time": "2021-07-28T14:39:19.374135Z",
     "start_time": "2021-07-28T14:39:19.298430Z"
    }
   },
   "outputs": [
    {
     "ename": "ModuleNotFoundError",
     "evalue": "No module named 'gensim'",
     "output_type": "error",
     "traceback": [
      "\u001b[1;31m---------------------------------------------------------------------------\u001b[0m",
      "\u001b[1;31mModuleNotFoundError\u001b[0m                       Traceback (most recent call last)",
      "\u001b[1;32m<ipython-input-23-11ddb6310109>\u001b[0m in \u001b[0;36m<module>\u001b[1;34m\u001b[0m\n\u001b[0;32m     36\u001b[0m \u001b[1;32mimport\u001b[0m \u001b[0mspacy\u001b[0m\u001b[1;33m\u001b[0m\u001b[1;33m\u001b[0m\u001b[0m\n\u001b[0;32m     37\u001b[0m \u001b[1;33m\u001b[0m\u001b[0m\n\u001b[1;32m---> 38\u001b[1;33m \u001b[1;32mfrom\u001b[0m \u001b[0mgensim\u001b[0m\u001b[1;33m.\u001b[0m\u001b[0mmodels\u001b[0m \u001b[1;32mimport\u001b[0m \u001b[0mWord2Vec\u001b[0m\u001b[1;33m\u001b[0m\u001b[1;33m\u001b[0m\u001b[0m\n\u001b[0m",
      "\u001b[1;31mModuleNotFoundError\u001b[0m: No module named 'gensim'"
     ]
    }
   ],
   "source": [
    "import re\n",
    "import time\n",
    "import numpy as np\n",
    "import pandas as pd\n",
    "import matplotlib.pyplot as plt\n",
    "import seaborn as sns\n",
    "plt.style.use('ggplot')\n",
    "plt.rcParams['font.size'] = 15\n",
    "\n",
    "from wordcloud import WordCloud\n",
    "from nltk import sent_tokenize, word_tokenize\n",
    "from nltk.corpus import stopwords\n",
    "import string\n",
    "from PIL import Image\n",
    "import PIL.ImageOps\n",
    "from wordcloud import ImageColorGenerator\n",
    "\n",
    "STOPWORDS = set(stopwords.words('english'))\n",
    "\n",
    "from sklearn.model_selection import train_test_split\n",
    "from sklearn.metrics import precision_score, recall_score, f1_score, accuracy_score\n",
    "\n",
    "import tensorflow as tf\n",
    "import tensorflow.keras as keras\n",
    "from tensorflow.keras.preprocessing.text import Tokenizer\n",
    "from tensorflow.keras.preprocessing.sequence import pad_sequences\n",
    "from tensorflow.keras.models import Sequential\n",
    "from tensorflow.keras.layers import LSTM\n",
    "from keras.layers import Bidirectional\n",
    "from tensorflow.keras.layers import Dense\n",
    "from tensorflow.keras.layers import Dropout\n",
    "from tensorflow.keras.layers import Embedding\n",
    "from keras.layers import Flatten\n",
    "from tensorflow.keras import regularizers\n",
    "\n",
    "import spacy\n",
    "\n",
    "from gensim.models import Word2Vec"
   ]
  },
  {
   "cell_type": "markdown",
   "metadata": {},
   "source": [
    "# Prep Train Data"
   ]
  },
  {
   "cell_type": "code",
   "execution_count": 2,
   "metadata": {
    "ExecuteTime": {
     "end_time": "2021-07-28T14:20:03.268234Z",
     "start_time": "2021-07-28T14:20:03.158687Z"
    }
   },
   "outputs": [],
   "source": [
    "df_train = pd.read_csv('data/train.csv')\n",
    "df_test = pd.read_csv('data/test.csv')"
   ]
  },
  {
   "cell_type": "code",
   "execution_count": 3,
   "metadata": {
    "ExecuteTime": {
     "end_time": "2021-07-28T14:20:03.301569Z",
     "start_time": "2021-07-28T14:20:03.275130Z"
    }
   },
   "outputs": [],
   "source": [
    "df_train = df_train.fillna(' ')\n",
    "df_train = df_train.fillna(' ')"
   ]
  },
  {
   "cell_type": "code",
   "execution_count": 4,
   "metadata": {
    "ExecuteTime": {
     "end_time": "2021-07-28T14:20:03.372185Z",
     "start_time": "2021-07-28T14:20:03.301569Z"
    }
   },
   "outputs": [],
   "source": [
    "KEYWORD = 'keyword'\n",
    "ID = 'id'\n",
    "LOCATION = 'location'\n",
    "TEXT = 'text'\n",
    "TARGET = 'target'\n",
    "_TEXT_SPACY_OBJ_ = '_TEXT_SPACY_OBJ_'\n",
    "SENTIMENT = 'sentiment score'\n",
    "SENTIMENT_ROUND = 'sentiment (rounded off)'\n",
    "_LOCATION_ = '_location_'\n",
    "_LOC_POINT = '_loc_point'\n",
    "_WORDS_PER_TWEET_ = 'words per tweet'\n",
    "_CHAR_PER_TWEET_ = 'characters per tweet'\n",
    "_LOC_SPACY_OBJ_ = '_LOC_SPACY_OBJ_'\n",
    "ALL_TEXT = 'all_text'\n",
    "ALL_TEXT_JOINED = 'all_text_joined'"
   ]
  },
  {
   "cell_type": "code",
   "execution_count": 5,
   "metadata": {
    "ExecuteTime": {
     "end_time": "2021-07-28T14:20:03.415114Z",
     "start_time": "2021-07-28T14:20:03.377265Z"
    }
   },
   "outputs": [],
   "source": [
    "def remove_urls(text):\n",
    "    ''' This method takes in text to remove urls and website links, if any'''\n",
    "    url_pattern = r'(www.|http[s]?://)(?:[a-zA-Z]|[0-9]|[$-_@.&+]|[!*\\(\\),]|(?:%[0-9a-fA-F][0-9a-fA-F]))+'\n",
    "    text = re.sub(url_pattern, '', text)\n",
    "    return text\n",
    "\n",
    "def remove_html_entities(text):\n",
    "    ''' This method removes html tags'''\n",
    "    html_entities = r'<.*?>|&([a-z0-9]+|#[0-9]{1,6}|#x[0-9a-f]{1,6});'\n",
    "    text = re.sub(html_entities, '', text)\n",
    "    return text\n",
    "\n",
    "def remove_social_media_tags(text):\n",
    "    ''' This method removes @ and # tags'''\n",
    "    tag_pattern = r'@([a-z0-9]+)|#'\n",
    "    text = re.sub(tag_pattern, '', text)\n",
    "    return text"
   ]
  },
  {
   "cell_type": "code",
   "execution_count": 6,
   "metadata": {
    "ExecuteTime": {
     "end_time": "2021-07-28T14:20:03.615965Z",
     "start_time": "2021-07-28T14:20:03.423050Z"
    }
   },
   "outputs": [],
   "source": [
    "df_train[TEXT] = df_train[TEXT].apply(lambda x : remove_urls(x))\n",
    "df_train[TEXT] = df_train[TEXT].apply(lambda x : remove_html_entities(x))\n",
    "df_train[TEXT] = df_train[TEXT].apply(lambda x : remove_social_media_tags(x))"
   ]
  },
  {
   "cell_type": "code",
   "execution_count": 7,
   "metadata": {
    "ExecuteTime": {
     "end_time": "2021-07-28T14:21:45.134685Z",
     "start_time": "2021-07-28T14:20:03.615965Z"
    }
   },
   "outputs": [],
   "source": [
    "nlp = spacy.load('en_core_web_sm')\n",
    "\n",
    "def check_location(spacy_loc):\n",
    "    ''' This method checks if the tweet location has any actual location \n",
    "    and saves them as as space-separated value if more than one.\n",
    "    If no location is found, then save blank'''\n",
    "    num_loc_in_tweet = len([ent.label_ for ent in spacy_loc.ents if ent.label_ == 'GPE'])\n",
    "    if num_loc_in_tweet:\n",
    "        locs_in_tweet = [ent.text for ent in spacy_loc.ents if ent.label_ == 'GPE']\n",
    "    else:\n",
    "        return ''\n",
    "    return ' '.join(locs_in_tweet)\n",
    "\n",
    "df_train[LOCATION].fillna('', inplace=True)\n",
    "df_train[_LOC_SPACY_OBJ_] = df_train[LOCATION].apply(nlp)\n",
    "df_train[_LOC_SPACY_OBJ_] = df_train[_LOC_SPACY_OBJ_].apply(check_location)"
   ]
  },
  {
   "cell_type": "code",
   "execution_count": 8,
   "metadata": {
    "ExecuteTime": {
     "end_time": "2021-07-28T14:21:45.191036Z",
     "start_time": "2021-07-28T14:21:45.136199Z"
    }
   },
   "outputs": [
    {
     "data": {
      "text/html": [
       "<div>\n",
       "<style scoped>\n",
       "    .dataframe tbody tr th:only-of-type {\n",
       "        vertical-align: middle;\n",
       "    }\n",
       "\n",
       "    .dataframe tbody tr th {\n",
       "        vertical-align: top;\n",
       "    }\n",
       "\n",
       "    .dataframe thead th {\n",
       "        text-align: right;\n",
       "    }\n",
       "</style>\n",
       "<table border=\"1\" class=\"dataframe\">\n",
       "  <thead>\n",
       "    <tr style=\"text-align: right;\">\n",
       "      <th></th>\n",
       "      <th>id</th>\n",
       "      <th>keyword</th>\n",
       "      <th>location</th>\n",
       "      <th>text</th>\n",
       "      <th>target</th>\n",
       "      <th>_LOC_SPACY_OBJ_</th>\n",
       "    </tr>\n",
       "  </thead>\n",
       "  <tbody>\n",
       "    <tr>\n",
       "      <th>0</th>\n",
       "      <td>1</td>\n",
       "      <td></td>\n",
       "      <td></td>\n",
       "      <td>Our Deeds are the Reason of this earthquake Ma...</td>\n",
       "      <td>1</td>\n",
       "      <td></td>\n",
       "    </tr>\n",
       "    <tr>\n",
       "      <th>1</th>\n",
       "      <td>4</td>\n",
       "      <td></td>\n",
       "      <td></td>\n",
       "      <td>Forest fire near La Ronge Sask. Canada</td>\n",
       "      <td>1</td>\n",
       "      <td></td>\n",
       "    </tr>\n",
       "    <tr>\n",
       "      <th>2</th>\n",
       "      <td>5</td>\n",
       "      <td></td>\n",
       "      <td></td>\n",
       "      <td>All residents asked to 'shelter in place' are ...</td>\n",
       "      <td>1</td>\n",
       "      <td></td>\n",
       "    </tr>\n",
       "    <tr>\n",
       "      <th>3</th>\n",
       "      <td>6</td>\n",
       "      <td></td>\n",
       "      <td></td>\n",
       "      <td>13,000 people receive wildfires evacuation ord...</td>\n",
       "      <td>1</td>\n",
       "      <td></td>\n",
       "    </tr>\n",
       "    <tr>\n",
       "      <th>4</th>\n",
       "      <td>7</td>\n",
       "      <td></td>\n",
       "      <td></td>\n",
       "      <td>Just got sent this photo from Ruby Alaska as s...</td>\n",
       "      <td>1</td>\n",
       "      <td></td>\n",
       "    </tr>\n",
       "  </tbody>\n",
       "</table>\n",
       "</div>"
      ],
      "text/plain": [
       "   id keyword location                                               text  \\\n",
       "0   1                   Our Deeds are the Reason of this earthquake Ma...   \n",
       "1   4                              Forest fire near La Ronge Sask. Canada   \n",
       "2   5                   All residents asked to 'shelter in place' are ...   \n",
       "3   6                   13,000 people receive wildfires evacuation ord...   \n",
       "4   7                   Just got sent this photo from Ruby Alaska as s...   \n",
       "\n",
       "   target _LOC_SPACY_OBJ_  \n",
       "0       1                  \n",
       "1       1                  \n",
       "2       1                  \n",
       "3       1                  \n",
       "4       1                  "
      ]
     },
     "execution_count": 8,
     "metadata": {},
     "output_type": "execute_result"
    }
   ],
   "source": [
    "df_train.head()"
   ]
  },
  {
   "cell_type": "code",
   "execution_count": 9,
   "metadata": {
    "ExecuteTime": {
     "end_time": "2021-07-28T14:21:45.285920Z",
     "start_time": "2021-07-28T14:21:45.196096Z"
    }
   },
   "outputs": [
    {
     "data": {
      "text/html": [
       "<div>\n",
       "<style scoped>\n",
       "    .dataframe tbody tr th:only-of-type {\n",
       "        vertical-align: middle;\n",
       "    }\n",
       "\n",
       "    .dataframe tbody tr th {\n",
       "        vertical-align: top;\n",
       "    }\n",
       "\n",
       "    .dataframe thead th {\n",
       "        text-align: right;\n",
       "    }\n",
       "</style>\n",
       "<table border=\"1\" class=\"dataframe\">\n",
       "  <thead>\n",
       "    <tr style=\"text-align: right;\">\n",
       "      <th></th>\n",
       "      <th>id</th>\n",
       "      <th>keyword</th>\n",
       "      <th>location</th>\n",
       "      <th>text</th>\n",
       "      <th>target</th>\n",
       "      <th>_LOC_SPACY_OBJ_</th>\n",
       "      <th>all_text</th>\n",
       "    </tr>\n",
       "  </thead>\n",
       "  <tbody>\n",
       "    <tr>\n",
       "      <th>0</th>\n",
       "      <td>1</td>\n",
       "      <td></td>\n",
       "      <td></td>\n",
       "      <td>Our Deeds are the Reason of this earthquake Ma...</td>\n",
       "      <td>1</td>\n",
       "      <td></td>\n",
       "      <td>Our Deeds are the Reason of this earthquake Ma...</td>\n",
       "    </tr>\n",
       "    <tr>\n",
       "      <th>1</th>\n",
       "      <td>4</td>\n",
       "      <td></td>\n",
       "      <td></td>\n",
       "      <td>Forest fire near La Ronge Sask. Canada</td>\n",
       "      <td>1</td>\n",
       "      <td></td>\n",
       "      <td>Forest fire near La Ronge Sask. Canada</td>\n",
       "    </tr>\n",
       "    <tr>\n",
       "      <th>2</th>\n",
       "      <td>5</td>\n",
       "      <td></td>\n",
       "      <td></td>\n",
       "      <td>All residents asked to 'shelter in place' are ...</td>\n",
       "      <td>1</td>\n",
       "      <td></td>\n",
       "      <td>All residents asked to 'shelter in place' are ...</td>\n",
       "    </tr>\n",
       "    <tr>\n",
       "      <th>3</th>\n",
       "      <td>6</td>\n",
       "      <td></td>\n",
       "      <td></td>\n",
       "      <td>13,000 people receive wildfires evacuation ord...</td>\n",
       "      <td>1</td>\n",
       "      <td></td>\n",
       "      <td>13,000 people receive wildfires evacuation ord...</td>\n",
       "    </tr>\n",
       "    <tr>\n",
       "      <th>4</th>\n",
       "      <td>7</td>\n",
       "      <td></td>\n",
       "      <td></td>\n",
       "      <td>Just got sent this photo from Ruby Alaska as s...</td>\n",
       "      <td>1</td>\n",
       "      <td></td>\n",
       "      <td>Just got sent this photo from Ruby Alaska as s...</td>\n",
       "    </tr>\n",
       "  </tbody>\n",
       "</table>\n",
       "</div>"
      ],
      "text/plain": [
       "   id keyword location                                               text  \\\n",
       "0   1                   Our Deeds are the Reason of this earthquake Ma...   \n",
       "1   4                              Forest fire near La Ronge Sask. Canada   \n",
       "2   5                   All residents asked to 'shelter in place' are ...   \n",
       "3   6                   13,000 people receive wildfires evacuation ord...   \n",
       "4   7                   Just got sent this photo from Ruby Alaska as s...   \n",
       "\n",
       "   target _LOC_SPACY_OBJ_                                           all_text  \n",
       "0       1                  Our Deeds are the Reason of this earthquake Ma...  \n",
       "1       1                             Forest fire near La Ronge Sask. Canada  \n",
       "2       1                  All residents asked to 'shelter in place' are ...  \n",
       "3       1                  13,000 people receive wildfires evacuation ord...  \n",
       "4       1                  Just got sent this photo from Ruby Alaska as s...  "
      ]
     },
     "execution_count": 9,
     "metadata": {},
     "output_type": "execute_result"
    }
   ],
   "source": [
    "df_train[ALL_TEXT] = df_train[_LOC_SPACY_OBJ_] + df_train[TEXT]\n",
    "df_train.head()"
   ]
  },
  {
   "cell_type": "code",
   "execution_count": 10,
   "metadata": {
    "ExecuteTime": {
     "end_time": "2021-07-28T14:21:45.326049Z",
     "start_time": "2021-07-28T14:21:45.285920Z"
    }
   },
   "outputs": [
    {
     "data": {
      "text/html": [
       "<div>\n",
       "<style scoped>\n",
       "    .dataframe tbody tr th:only-of-type {\n",
       "        vertical-align: middle;\n",
       "    }\n",
       "\n",
       "    .dataframe tbody tr th {\n",
       "        vertical-align: top;\n",
       "    }\n",
       "\n",
       "    .dataframe thead th {\n",
       "        text-align: right;\n",
       "    }\n",
       "</style>\n",
       "<table border=\"1\" class=\"dataframe\">\n",
       "  <thead>\n",
       "    <tr style=\"text-align: right;\">\n",
       "      <th></th>\n",
       "      <th>id</th>\n",
       "      <th>keyword</th>\n",
       "      <th>location</th>\n",
       "      <th>text</th>\n",
       "      <th>target</th>\n",
       "      <th>_LOC_SPACY_OBJ_</th>\n",
       "      <th>all_text</th>\n",
       "    </tr>\n",
       "  </thead>\n",
       "  <tbody>\n",
       "    <tr>\n",
       "      <th>31</th>\n",
       "      <td>48</td>\n",
       "      <td>ablaze</td>\n",
       "      <td>Birmingham</td>\n",
       "      <td>Wholesale Markets ablaze</td>\n",
       "      <td>1</td>\n",
       "      <td>Birmingham</td>\n",
       "      <td>Birmingham Wholesale Markets ablaze</td>\n",
       "    </tr>\n",
       "  </tbody>\n",
       "</table>\n",
       "</div>"
      ],
      "text/plain": [
       "    id keyword    location                        text  target  \\\n",
       "31  48  ablaze  Birmingham   Wholesale Markets ablaze        1   \n",
       "\n",
       "   _LOC_SPACY_OBJ_                              all_text  \n",
       "31      Birmingham  Birmingham Wholesale Markets ablaze   "
      ]
     },
     "execution_count": 10,
     "metadata": {},
     "output_type": "execute_result"
    }
   ],
   "source": [
    "df_train[df_train[ID] == 48]"
   ]
  },
  {
   "cell_type": "code",
   "execution_count": 11,
   "metadata": {
    "ExecuteTime": {
     "end_time": "2021-07-28T14:21:45.862015Z",
     "start_time": "2021-07-28T14:21:45.330351Z"
    }
   },
   "outputs": [],
   "source": [
    "tokenizer = Tokenizer(oov_token = \"<OOV>\", num_words=6000)\n",
    "tokenizer.fit_on_texts(df_train[ALL_TEXT])\n",
    "target = df_train[TARGET].values"
   ]
  },
  {
   "cell_type": "code",
   "execution_count": 12,
   "metadata": {
    "ExecuteTime": {
     "end_time": "2021-07-28T14:21:46.363202Z",
     "start_time": "2021-07-28T14:21:45.867601Z"
    }
   },
   "outputs": [],
   "source": [
    "MAX_LEN = 20\n",
    "VOCAB_SIZE = 6000\n",
    "\n",
    "sequences_train = tokenizer.texts_to_sequences(df_train[ALL_TEXT])\n",
    "\n",
    "padded_train = pad_sequences(sequences_train, padding = 'post', maxlen=MAX_LEN)"
   ]
  },
  {
   "cell_type": "code",
   "execution_count": 13,
   "metadata": {
    "ExecuteTime": {
     "end_time": "2021-07-28T14:21:46.397946Z",
     "start_time": "2021-07-28T14:21:46.368777Z"
    }
   },
   "outputs": [],
   "source": [
    "X_train, X_test, y_train, y_test = train_test_split(padded_train, target, test_size=0.2)"
   ]
  },
  {
   "cell_type": "markdown",
   "metadata": {},
   "source": [
    "# Keras Model"
   ]
  },
  {
   "cell_type": "code",
   "execution_count": 20,
   "metadata": {
    "ExecuteTime": {
     "end_time": "2021-07-28T14:32:50.723943Z",
     "start_time": "2021-07-28T14:31:55.109007Z"
    }
   },
   "outputs": [
    {
     "name": "stdout",
     "output_type": "stream",
     "text": [
      "Model: \"sequential_1\"\n",
      "_________________________________________________________________\n",
      "Layer (type)                 Output Shape              Param #   \n",
      "=================================================================\n",
      "embedding_1 (Embedding)      (None, 20, 10)            60000     \n",
      "_________________________________________________________________\n",
      "dropout_3 (Dropout)          (None, 20, 10)            0         \n",
      "_________________________________________________________________\n",
      "lstm_1 (LSTM)                (None, 100)               44400     \n",
      "_________________________________________________________________\n",
      "dropout_4 (Dropout)          (None, 100)               0         \n",
      "_________________________________________________________________\n",
      "dense_2 (Dense)              (None, 64)                6464      \n",
      "_________________________________________________________________\n",
      "dropout_5 (Dropout)          (None, 64)                0         \n",
      "_________________________________________________________________\n",
      "dense_3 (Dense)              (None, 1)                 65        \n",
      "=================================================================\n",
      "Total params: 110,929\n",
      "Trainable params: 110,929\n",
      "Non-trainable params: 0\n",
      "_________________________________________________________________\n",
      "None\n",
      "Epoch 1/10\n",
      "191/191 [==============================] - 16s 46ms/step - loss: 0.6509 - precision_1: 0.6088 - recall_1: 0.1674 - val_loss: 0.4852 - val_precision_1: 0.8668 - val_recall_1: 0.5988\n",
      "\n",
      "Epoch 00001: val_loss improved from inf to 0.48522, saving model to models\\best_model_simple_LSTM.hdf5\n",
      "Epoch 2/10\n",
      "191/191 [==============================] - 6s 33ms/step - loss: 0.3974 - precision_1: 0.8801 - recall_1: 0.7061 - val_loss: 0.4685 - val_precision_1: 0.8066 - val_recall_1: 0.6983\n",
      "\n",
      "Epoch 00002: val_loss improved from 0.48522 to 0.46850, saving model to models\\best_model_simple_LSTM.hdf5\n",
      "Epoch 3/10\n",
      "191/191 [==============================] - 6s 33ms/step - loss: 0.3194 - precision_1: 0.9005 - recall_1: 0.8021 - val_loss: 0.4761 - val_precision_1: 0.7958 - val_recall_1: 0.6938\n",
      "\n",
      "Epoch 00003: val_loss did not improve from 0.46850\n",
      "Epoch 4/10\n",
      "191/191 [==============================] - 7s 34ms/step - loss: 0.2654 - precision_1: 0.9133 - recall_1: 0.8476 - val_loss: 0.5105 - val_precision_1: 0.7804 - val_recall_1: 0.7074\n",
      "\n",
      "Epoch 00004: val_loss did not improve from 0.46850\n",
      "Epoch 5/10\n",
      "191/191 [==============================] - 7s 34ms/step - loss: 0.2234 - precision_1: 0.9311 - recall_1: 0.8657 - val_loss: 0.6145 - val_precision_1: 0.7659 - val_recall_1: 0.6908\n",
      "\n",
      "Epoch 00005: val_loss did not improve from 0.46850\n",
      "Epoch 6/10\n",
      "191/191 [==============================] - 7s 35ms/step - loss: 0.1888 - precision_1: 0.9317 - recall_1: 0.8991 - val_loss: 0.6170 - val_precision_1: 0.7768 - val_recall_1: 0.6983\n",
      "\n",
      "Epoch 00006: val_loss did not improve from 0.46850\n",
      "Epoch 7/10\n",
      "191/191 [==============================] - 6s 30ms/step - loss: 0.1733 - precision_1: 0.9491 - recall_1: 0.9084 - val_loss: 0.6546 - val_precision_1: 0.7656 - val_recall_1: 0.6848\n",
      "Restoring model weights from the end of the best epoch.\n",
      "\n",
      "Epoch 00007: val_loss did not improve from 0.46850\n",
      "Epoch 00007: early stopping\n"
     ]
    }
   ],
   "source": [
    "best_model_file_name = \"models/best_model_simple_LSTM.hdf5\"\n",
    "def get_simple_LSTM_model():\n",
    "    model = Sequential()\n",
    "    model.add(Embedding(VOCAB_SIZE, 10, input_length=MAX_LEN))\n",
    "    model.add(Dropout(0.3))\n",
    "    model.add(LSTM(100))\n",
    "    model.add(Dropout(0.3))\n",
    "    model.add(Dense(64, activation='relu'))\n",
    "    model.add(Dropout(0.3))\n",
    "    model.add(Dense(1, activation='sigmoid'))\n",
    "    return model\n",
    "\n",
    "callbacks=[\n",
    "    keras.callbacks.EarlyStopping(monitor=\"val_loss\", \n",
    "                                  patience=5, \n",
    "                                  verbose=1, \n",
    "                                  mode=\"min\", \n",
    "                                  restore_best_weights=True),\n",
    "    keras.callbacks.ModelCheckpoint(filepath=best_model_file_name, \n",
    "                                    verbose=1, \n",
    "                                    save_best_only=True)\n",
    "]\n",
    "\n",
    "model = get_simple_LSTM_model()\n",
    "print(model.summary())\n",
    "\n",
    "model.compile(loss='binary_crossentropy',optimizer='adam', metrics=[tf.keras.metrics.Precision(), tf.keras.metrics.Recall()])\n",
    "\n",
    "history = model.fit(X_train, \n",
    "                    y_train, \n",
    "                    epochs=10, \n",
    "                    validation_data=(X_test, y_test), \n",
    "                    callbacks=callbacks)"
   ]
  },
  {
   "cell_type": "code",
   "execution_count": 21,
   "metadata": {
    "ExecuteTime": {
     "end_time": "2021-07-28T14:32:51.726757Z",
     "start_time": "2021-07-28T14:32:51.293856Z"
    }
   },
   "outputs": [
    {
     "data": {
      "image/png": "[encoded data removed]",
      "text/plain": [
       "<Figure size 432x288 with 1 Axes>"
      ]
     },
     "metadata": {},
     "output_type": "display_data"
    }
   ],
   "source": [
    "metric_to_plot = \"loss\"\n",
    "plt.plot(range(1, max(history.epoch) + 2), history.history[metric_to_plot], \".:\", label=\"Training loss\")\n",
    "plt.plot(range(1, max(history.epoch) + 2), history.history[\"val_\" + metric_to_plot], \".:\", label=\"Validation loss\")\n",
    "plt.title('Training and Validation Loss')\n",
    "plt.xlim([1,max(history.epoch) + 2])\n",
    "plt.xticks(range(1, max(history.epoch) + 2))\n",
    "plt.legend()\n",
    "plt.show()"
   ]
  },
  {
   "cell_type": "code",
   "execution_count": 22,
   "metadata": {
    "ExecuteTime": {
     "end_time": "2021-07-28T14:32:53.856416Z",
     "start_time": "2021-07-28T14:32:52.250252Z"
    }
   },
   "outputs": [
    {
     "name": "stdout",
     "output_type": "stream",
     "text": [
      "Accuracy:  0.7957977675640184\n",
      "Precision:  0.8066202090592335\n",
      "Recall:  0.698340874811463\n",
      "F1 Score:  0.7485852869846403\n"
     ]
    }
   ],
   "source": [
    "# model = keras.models.load_model(best_model_file_name)\n",
    "y_pred = (model.predict(X_test) > 0.5).astype(\"int32\")\n",
    "print('Accuracy: ', accuracy_score(y_test, y_pred))\n",
    "print('Precision: ', precision_score(y_test, y_pred))\n",
    "print('Recall: ', recall_score(y_test, y_pred))\n",
    "print('F1 Score: ', f1_score(y_test, y_pred))"
   ]
  },
  {
   "cell_type": "markdown",
   "metadata": {},
   "source": [
    "# Prep Test Data"
   ]
  },
  {
   "cell_type": "code",
   "execution_count": 17,
   "metadata": {
    "ExecuteTime": {
     "end_time": "2021-07-28T14:23:31.426639Z",
     "start_time": "2021-07-28T14:23:00.697025Z"
    }
   },
   "outputs": [],
   "source": [
    "df_test[TEXT] = df_test[TEXT].apply(lambda x : remove_urls(x))\n",
    "df_test[TEXT] = df_test[TEXT].apply(lambda x : remove_html_entities(x))\n",
    "df_test[TEXT] = df_test[TEXT].apply(lambda x : remove_social_media_tags(x))\n",
    "\n",
    "df_test[LOCATION].fillna('', inplace=True)\n",
    "df_test[_LOC_SPACY_OBJ_] = df_test[LOCATION].apply(nlp)\n",
    "df_test[_LOC_SPACY_OBJ_] = df_test[_LOC_SPACY_OBJ_].apply(check_location)\n",
    "\n",
    "df_test[ALL_TEXT] = df_test[_LOC_SPACY_OBJ_] + df_test[TEXT]\n",
    "\n",
    "sequences_test = tokenizer.texts_to_sequences(df_test[ALL_TEXT])\n",
    "padded_test = pad_sequences(sequences_test, padding = 'post', maxlen=MAX_LEN)"
   ]
  },
  {
   "cell_type": "code",
   "execution_count": null,
   "metadata": {},
   "outputs": [],
   "source": []
  },
  {
   "cell_type": "code",
   "execution_count": null,
   "metadata": {},
   "outputs": [],
   "source": []
  }
 ],
 "metadata": {
  "kernelspec": {
   "display_name": "Python 3",
   "language": "python",
   "name": "python3"
  },
  "language_info": {
   "codemirror_mode": {
    "name": "ipython",
    "version": 3
   },
   "file_extension": ".py",
   "mimetype": "text/x-python",
   "name": "python",
   "nbconvert_exporter": "python",
   "pygments_lexer": "ipython3",
   "version": "3.8.5"
  },
  "toc": {
   "base_numbering": 1,
   "nav_menu": {},
   "number_sections": true,
   "sideBar": true,
   "skip_h1_title": false,
   "title_cell": "Table of Contents",
   "title_sidebar": "Contents",
   "toc_cell": false,
   "toc_position": {},
   "toc_section_display": true,
   "toc_window_display": true
  },
  "varInspector": {
   "cols": {
    "lenName": 16,
    "lenType": 16,
    "lenVar": 40
   },
   "kernels_config": {
    "python": {
     "delete_cmd_postfix": "",
     "delete_cmd_prefix": "del ",
     "library": "var_list.py",
     "varRefreshCmd": "print(var_dic_list())"
    },
    "r": {
     "delete_cmd_postfix": ") ",
     "delete_cmd_prefix": "rm(",
     "library": "var_list.r",
     "varRefreshCmd": "cat(var_dic_list()) "
    }
   },
   "types_to_exclude": [
    "module",
    "function",
    "builtin_function_or_method",
    "instance",
    "_Feature"
   ],
   "window_display": false
  }
 },
 "nbformat": 4,
 "nbformat_minor": 4
}
