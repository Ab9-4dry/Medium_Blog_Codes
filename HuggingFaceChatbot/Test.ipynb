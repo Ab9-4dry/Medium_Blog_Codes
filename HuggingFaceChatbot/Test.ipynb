{
 "cells": [
  {
   "cell_type": "code",
   "execution_count": 1,
   "metadata": {
    "ExecuteTime": {
     "end_time": "2021-08-09T21:53:10.067425Z",
     "start_time": "2021-08-09T21:52:53.884430Z"
    }
   },
   "outputs": [],
   "source": [
    "import warnings\n",
    "warnings.filterwarnings('ignore')\n",
    "\n",
    "from transformers import pipeline"
   ]
  },
  {
   "cell_type": "code",
   "execution_count": 3,
   "metadata": {
    "ExecuteTime": {
     "end_time": "2021-08-09T22:01:10.142538Z",
     "start_time": "2021-08-09T22:01:03.271406Z"
    }
   },
   "outputs": [
    {
     "data": {
      "text/plain": [
       "{'score': 0.9938259720802307, 'start': 11, 'end': 19, 'answer': 'Nabanita'}"
      ]
     },
     "execution_count": 3,
     "metadata": {},
     "output_type": "execute_result"
    }
   ],
   "source": [
    "nlp = pipeline('question-answering')\n",
    "nlp({\n",
    "    'question': 'What is my name ?',\n",
    "    'context': 'My name is Nabanita. I work in ACI Worldwide. I have total 5.5+ years of industrial experience.'\n",
    "})"
   ]
  },
  {
   "cell_type": "code",
   "execution_count": 32,
   "metadata": {
    "ExecuteTime": {
     "end_time": "2021-08-09T22:13:08.210452Z",
     "start_time": "2021-08-09T22:13:08.190121Z"
    }
   },
   "outputs": [],
   "source": [
    "context_buildup = '''My name is Nabanita. I work in ACI Worldwide. \n",
    "I have total 5.5+ years of industrial experience. I am born on 1st October. I am 29 years old.\n",
    "I have a Masters degree in Computer Science from Trinity College Dublin in 2018. I got 2:1 honors in my Masters.\n",
    "I did my Bachelor's degree from West Bengal Universoty of Technology, India. My GPA was 8.2 in my Bachelors. \n",
    "I finished my Bachelor's degree in 2014. I used to work at Infosys. I never worked before Infosys. It was my first job. \n",
    "I started working in Infosys in July 2014.\n",
    "I also worked at Smartbox for three months in 2019. It was a part-time contract job.\n",
    "After masters I joined Fiserv as a Data Scientist. I worked in Fiserv for 2.5 years. Then, I joined ACI Worldwide. \n",
    "Yes, I have stamp 4. I am currently residing in Nenagh.\n",
    "'''"
   ]
  },
  {
   "cell_type": "code",
   "execution_count": 7,
   "metadata": {
    "ExecuteTime": {
     "end_time": "2021-08-09T22:04:16.805272Z",
     "start_time": "2021-08-09T22:04:16.560449Z"
    }
   },
   "outputs": [
    {
     "data": {
      "text/plain": [
       "{'score': 0.8699966073036194, 'start': 128, 'end': 130, 'answer': '29'}"
      ]
     },
     "execution_count": 7,
     "metadata": {},
     "output_type": "execute_result"
    }
   ],
   "source": [
    "nlp({\n",
    "    'question': 'What is my age ?',\n",
    "    'context': context_buildup\n",
    "})"
   ]
  },
  {
   "cell_type": "code",
   "execution_count": 8,
   "metadata": {
    "ExecuteTime": {
     "end_time": "2021-08-09T22:04:34.756621Z",
     "start_time": "2021-08-09T22:04:34.517739Z"
    }
   },
   "outputs": [
    {
     "data": {
      "text/plain": [
       "{'score': 0.9536899328231812,\n",
       " 'start': 191,\n",
       " 'end': 213,\n",
       " 'answer': 'Trinity College Dublin'}"
      ]
     },
     "execution_count": 8,
     "metadata": {},
     "output_type": "execute_result"
    }
   ],
   "source": [
    "nlp({\n",
    "    'question': 'Where did you get masters from ?',\n",
    "    'context': context_buildup\n",
    "})"
   ]
  },
  {
   "cell_type": "code",
   "execution_count": 9,
   "metadata": {
    "ExecuteTime": {
     "end_time": "2021-08-09T22:04:44.867008Z",
     "start_time": "2021-08-09T22:04:44.626679Z"
    }
   },
   "outputs": [
    {
     "data": {
      "text/plain": [
       "{'score': 0.8781497478485107,\n",
       " 'start': 279,\n",
       " 'end': 322,\n",
       " 'answer': 'West Bengal Universoty of Technology, India'}"
      ]
     },
     "execution_count": 9,
     "metadata": {},
     "output_type": "execute_result"
    }
   ],
   "source": [
    "nlp({\n",
    "    'question': 'Where did you get bachelors from ?',\n",
    "    'context': context_buildup\n",
    "})"
   ]
  },
  {
   "cell_type": "code",
   "execution_count": 11,
   "metadata": {
    "ExecuteTime": {
     "end_time": "2021-08-09T22:06:34.548225Z",
     "start_time": "2021-08-09T22:06:34.241294Z"
    }
   },
   "outputs": [
    {
     "data": {
      "text/plain": [
       "{'score': 0.9317452311515808, 'start': 424, 'end': 431, 'answer': 'Infosys'}"
      ]
     },
     "execution_count": 11,
     "metadata": {},
     "output_type": "execute_result"
    }
   ],
   "source": [
    "nlp({\n",
    "    'question': 'Where was my first job ?',\n",
    "    'context': context_buildup\n",
    "})"
   ]
  },
  {
   "cell_type": "code",
   "execution_count": 17,
   "metadata": {
    "ExecuteTime": {
     "end_time": "2021-08-09T22:08:32.904635Z",
     "start_time": "2021-08-09T22:08:32.530990Z"
    }
   },
   "outputs": [
    {
     "data": {
      "text/plain": [
       "{'score': 0.040448352694511414,\n",
       " 'start': 573,\n",
       " 'end': 595,\n",
       " 'answer': 'Trinity College Dublin'}"
      ]
     },
     "execution_count": 17,
     "metadata": {},
     "output_type": "execute_result"
    }
   ],
   "source": [
    "# problematic\n",
    "\n",
    "nlp({\n",
    "    'question': 'Did you work while studying in Trinity?',\n",
    "    'context': context_buildup\n",
    "})"
   ]
  },
  {
   "cell_type": "code",
   "execution_count": 20,
   "metadata": {
    "ExecuteTime": {
     "end_time": "2021-08-09T22:09:33.223748Z",
     "start_time": "2021-08-09T22:09:32.872252Z"
    }
   },
   "outputs": [
    {
     "data": {
      "text/plain": [
       "{'score': 0.7242363095283508,\n",
       " 'start': 559,\n",
       " 'end': 581,\n",
       " 'answer': 'part-time contract job'}"
      ]
     },
     "execution_count": 20,
     "metadata": {},
     "output_type": "execute_result"
    }
   ],
   "source": [
    "nlp({\n",
    "    'question': 'What job did you do in Smartbox?',\n",
    "    'context': context_buildup\n",
    "})"
   ]
  },
  {
   "cell_type": "code",
   "execution_count": 24,
   "metadata": {
    "ExecuteTime": {
     "end_time": "2021-08-09T22:10:45.332385Z",
     "start_time": "2021-08-09T22:10:44.928600Z"
    }
   },
   "outputs": [
    {
     "data": {
      "text/plain": [
       "{'score': 0.6251972913742065, 'start': 668, 'end': 671, 'answer': 'Yes'}"
      ]
     },
     "execution_count": 24,
     "metadata": {},
     "output_type": "execute_result"
    }
   ],
   "source": [
    "nlp({\n",
    "    'question': 'Do you have stamp 4?',\n",
    "    'context': context_buildup\n",
    "})"
   ]
  },
  {
   "cell_type": "code",
   "execution_count": 28,
   "metadata": {
    "ExecuteTime": {
     "end_time": "2021-08-09T22:12:10.252867Z",
     "start_time": "2021-08-09T22:12:09.800518Z"
    }
   },
   "outputs": [
    {
     "data": {
      "text/plain": [
       "{'score': 0.08340089023113251, 'start': 646, 'end': 652, 'answer': 'Fiserv'}"
      ]
     },
     "execution_count": 28,
     "metadata": {},
     "output_type": "execute_result"
    }
   ],
   "source": [
    "nlp({\n",
    "    'question': 'Where did you work before ACI?',\n",
    "    'context': context_buildup\n",
    "})"
   ]
  },
  {
   "cell_type": "code",
   "execution_count": 31,
   "metadata": {
    "ExecuteTime": {
     "end_time": "2021-08-09T22:12:37.168455Z",
     "start_time": "2021-08-09T22:12:36.706293Z"
    }
   },
   "outputs": [
    {
     "data": {
      "text/plain": [
       "{'score': 0.7275036573410034, 'start': 476, 'end': 483, 'answer': 'Infosys'}"
      ]
     },
     "execution_count": 31,
     "metadata": {},
     "output_type": "execute_result"
    }
   ],
   "source": [
    "nlp({\n",
    "    'question': 'Where did you work before Smartbox?',\n",
    "    'context': context_buildup\n",
    "})"
   ]
  },
  {
   "cell_type": "code",
   "execution_count": 36,
   "metadata": {
    "ExecuteTime": {
     "end_time": "2021-08-09T22:13:57.131697Z",
     "start_time": "2021-08-09T22:13:56.642938Z"
    }
   },
   "outputs": [
    {
     "data": {
      "text/plain": [
       "{'score': 0.9758806228637695,\n",
       " 'start': 649,\n",
       " 'end': 663,\n",
       " 'answer': 'Data Scientist'}"
      ]
     },
     "execution_count": 36,
     "metadata": {},
     "output_type": "execute_result"
    }
   ],
   "source": [
    "# problematic\n",
    "\n",
    "nlp({\n",
    "    'question': 'Where did you work after Fiserv?',\n",
    "    'context': context_buildup\n",
    "})"
   ]
  },
  {
   "cell_type": "code",
   "execution_count": 29,
   "metadata": {
    "ExecuteTime": {
     "end_time": "2021-08-09T22:12:19.722251Z",
     "start_time": "2021-08-09T22:12:19.269157Z"
    }
   },
   "outputs": [
    {
     "data": {
      "text/plain": [
       "{'score': 0.9181751012802124, 'start': 747, 'end': 753, 'answer': 'Nenagh'}"
      ]
     },
     "execution_count": 29,
     "metadata": {},
     "output_type": "execute_result"
    }
   ],
   "source": [
    "nlp({\n",
    "    'question': 'Where do you stay?',\n",
    "    'context': context_buildup\n",
    "})"
   ]
  },
  {
   "cell_type": "code",
   "execution_count": null,
   "metadata": {},
   "outputs": [],
   "source": []
  },
  {
   "cell_type": "code",
   "execution_count": null,
   "metadata": {},
   "outputs": [],
   "source": []
  },
  {
   "cell_type": "code",
   "execution_count": null,
   "metadata": {},
   "outputs": [],
   "source": []
  },
  {
   "cell_type": "code",
   "execution_count": null,
   "metadata": {},
   "outputs": [],
   "source": []
  },
  {
   "cell_type": "code",
   "execution_count": null,
   "metadata": {},
   "outputs": [],
   "source": []
  },
  {
   "cell_type": "code",
   "execution_count": null,
   "metadata": {},
   "outputs": [],
   "source": []
  },
  {
   "cell_type": "code",
   "execution_count": null,
   "metadata": {},
   "outputs": [],
   "source": []
  }
 ],
 "metadata": {
  "kernelspec": {
   "display_name": "Python 3",
   "language": "python",
   "name": "python3"
  },
  "language_info": {
   "codemirror_mode": {
    "name": "ipython",
    "version": 3
   },
   "file_extension": ".py",
   "mimetype": "text/x-python",
   "name": "python",
   "nbconvert_exporter": "python",
   "pygments_lexer": "ipython3",
   "version": "3.8.5"
  },
  "toc": {
   "base_numbering": 1,
   "nav_menu": {},
   "number_sections": true,
   "sideBar": true,
   "skip_h1_title": false,
   "title_cell": "Table of Contents",
   "title_sidebar": "Contents",
   "toc_cell": false,
   "toc_position": {},
   "toc_section_display": true,
   "toc_window_display": false
  },
  "varInspector": {
   "cols": {
    "lenName": 16,
    "lenType": 16,
    "lenVar": 40
   },
   "kernels_config": {
    "python": {
     "delete_cmd_postfix": "",
     "delete_cmd_prefix": "del ",
     "library": "var_list.py",
     "varRefreshCmd": "print(var_dic_list())"
    },
    "r": {
     "delete_cmd_postfix": ") ",
     "delete_cmd_prefix": "rm(",
     "library": "var_list.r",
     "varRefreshCmd": "cat(var_dic_list()) "
    }
   },
   "types_to_exclude": [
    "module",
    "function",
    "builtin_function_or_method",
    "instance",
    "_Feature"
   ],
   "window_display": false
  }
 },
 "nbformat": 4,
 "nbformat_minor": 4
}
